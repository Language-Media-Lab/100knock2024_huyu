{
 "cells": [
  {
   "cell_type": "markdown",
   "metadata": {
    "id": "lRSb9EuuJt_V"
   },
   "source": [
    "**00. 文字列の逆順**\\\n",
    "文字列”stressed”の文字を逆に（末尾から先頭に向かって）並べた文字列を得よ．\n",
    "tes"
   ]
  },
  {
   "cell_type": "markdown",
   "metadata": {
    "id": "gQF4PPfZP77B"
   },
   "source": [
    "スライス処理\\\n",
    "[start:stop:step]"
   ]
  },
  {
   "cell_type": "code",
   "execution_count": null,
   "metadata": {
    "colab": {
     "base_uri": "https://localhost:8080/"
    },
    "id": "gyWUDgGFJs9r",
    "outputId": "797dcbaf-261d-48e1-dd00-b6a1beedc411"
   },
   "outputs": [
    {
     "name": "stdout",
     "output_type": "stream",
     "text": [
      "desserts\n"
     ]
    }
   ],
   "source": [
    "text00 = 'stressed'\n",
    "print(text00[::-1])"
   ]
  },
  {
   "cell_type": "markdown",
   "metadata": {
    "id": "6ymACSE_PmbZ"
   },
   "source": [
    "**01. 「パタトクカシーー」**\\\n",
    "「パタトクカシーー」という文字列の1,3,5,7文字目を取り出して連結した文字列を得よ．"
   ]
  },
  {
   "cell_type": "code",
   "execution_count": null,
   "metadata": {
    "colab": {
     "base_uri": "https://localhost:8080/"
    },
    "id": "Jauwl5AePsjR",
    "outputId": "18aa2a4c-0ca2-42c3-8b72-eb37eb3d6c9a"
   },
   "outputs": [
    {
     "name": "stdout",
     "output_type": "stream",
     "text": [
      "パトカー\n"
     ]
    }
   ],
   "source": [
    "text01 = 'パタトクカシー'\n",
    "print(text01[::2])"
   ]
  },
  {
   "cell_type": "markdown",
   "metadata": {
    "id": "dWNgoYUqT_gz"
   },
   "source": []
  },
  {
   "cell_type": "markdown",
   "metadata": {
    "id": "M4Z2QyVnPX8k"
   },
   "source": [
    "**02. 「パトカー」＋「タクシー」＝「パタトクカシーー」**\\\n",
    "「パトカー」＋「タクシー」の文字を先頭から交互に連結して文字列「パタトクカシーー」を得よ．"
   ]
  },
  {
   "cell_type": "markdown",
   "metadata": {
    "id": "7uF69KPNRewp"
   },
   "source": [
    "zip\\\n",
    "forループの中で複数のイテラブルオブジェクト（リストやタプルなど）の要素を同時に取得して使いたい場合は、zip()関数の引数にそれらを指定する。\\\n",
    "例\n",
    "\n",
    "    names = ['Alice', 'Bob', 'Charlie', 'Dave']\n",
    "    ages = [24, 50, 18]\n",
    "    for name, age in zip(names, ages):\n",
    "        print(name, age)\n",
    "\n",
    "    #Alice 24\n",
    "    #Bob 50\n",
    "    #Charlie 18\n",
    "\n",
    "join\\\n",
    "リストの要素(str)を連結・結合する際はjoinを使います。\\\n",
    "要素はstr型でなければいけません。\\\n",
    "任意の文字列で連結可能です。\\\n",
    "例\n",
    "\n",
    "    v = [\"Hello\", \"Python\"]\n",
    "    print(\"\".join(v))\n",
    "    \n",
    "    #'HelloPython'"
   ]
  },
  {
   "cell_type": "code",
   "execution_count": 3,
   "metadata": {
    "colab": {
     "base_uri": "https://localhost:8080/"
    },
    "id": "hSLpAsklPZXQ",
    "outputId": "8c9b68f3-ce9f-4249-dcba-feb66c2553f4"
   },
   "outputs": [
    {
     "name": "stdout",
     "output_type": "stream",
     "text": [
      "パタトクカシーー\n"
     ]
    }
   ],
   "source": [
    "text02_1 = 'パトカー'\n",
    "text02_2 = 'タクシー'\n",
    "list03 = []\n",
    "for i, j in zip(text02_1, text02_2):\n",
    "    list03.append(i)\n",
    "    list03.append(j)\n",
    "\n",
    "print(\"\".join(list03))"
   ]
  },
  {
   "cell_type": "markdown",
   "metadata": {
    "id": "WyVEoHXhWGn0"
   },
   "source": [
    "**03. 円周率**\\\n",
    "“Now I need a drink, alcoholic of course, after the heavy lectures involving quantum mechanics.”\\\n",
    "という文を単語に分解し，各単語の（アルファベットの）文字数を先頭から出現順に並べたリストを作成せよ．"
   ]
  },
  {
   "cell_type": "markdown",
   "metadata": {
    "id": "3dRZHqE2Z3RS"
   },
   "source": [
    "replace：文字の置換\\\n",
    "replace('置換前', '置換後')\\\n",
    "例\n",
    "\n",
    "    s1 = 'this is a sample string'\n",
    "    print(s1.replace('this', 'that'))  \n",
    "    \n",
    "    #that is a sample string\n",
    "他\\\n",
    "tanslate(str.maketrans())：複数の置換、および消去可能\n",
    "\n",
    "    s = 'one two one two one'\n",
    "\n",
    "    print(s.translate(str.maketrans({'o': 'O', 't': 'T'})))\n",
    "    \n",
    "    # One TwO One TwO One\n",
    "\n",
    "re.sub：正規表現で指定可能\n",
    "\n",
    "    import re\n",
    "\n",
    "    s = 'aaa@xxx.com bbb@yyy.net ccc@zzz.org'\n",
    "\n",
    "    print(re.sub('[a-z]+@', 'ABC@', s))\n",
    "    # ABC@xxx.com ABC@yyy.net ABC@zzz.org\n",
    "\n",
    "split：文字列からリストを作成\\\n",
    "split('区切り文字', 最大分割回数)\n",
    "デフォルトだと空白文字で分割\n",
    "例\n",
    "\n",
    "    s_comma = 'one,two,three,four,five'\n",
    "    print(s_comma.split(',', 2))\n",
    "    \n",
    "    ['one', 'two', 'three,four,five']"
   ]
  },
  {
   "cell_type": "code",
   "execution_count": null,
   "metadata": {
    "colab": {
     "base_uri": "https://localhost:8080/"
    },
    "id": "V5x59uYiWUtx",
    "outputId": "78ae6f6b-9f46-43c4-8a3c-69f8939a95e5"
   },
   "outputs": [
    {
     "name": "stdout",
     "output_type": "stream",
     "text": [
      "[3, 1, 4, 1, 5, 9, 2, 6, 5, 3, 5, 8, 9, 7, 9]\n"
     ]
    }
   ],
   "source": [
    "text03 = 'Now I need a drink, alcoholic of course, after the heavy lectures involving quantum mechanics.'\n",
    "text03 = text03.replace(',', '').replace('.', '')\n",
    "\n",
    "list03 = text03.split()\n",
    "list03_n = [len(i) for i in list03]\n",
    "print(list03_n)"
   ]
  },
  {
   "cell_type": "markdown",
   "metadata": {
    "id": "acGRxb3OeXVr"
   },
   "source": [
    "**04. 元素記号**\\\n",
    "“Hi He Lied Because Boron Could Not Oxidize Fluorine. New Nations Might Also Sign Peace Security Clause. Arthur King Can.”\\\n",
    "という文を単語に分解し，1, 5, 6, 7, 8, 9, 15, 16, 19番目の単語は先頭の1文字，それ以外の単語は先頭の2文字を取り出し，取り出した文字列から単語の位置（先頭から何番目の単語か）への連想配列（辞書型もしくはマップ型）を作成せよ．"
   ]
  },
  {
   "cell_type": "markdown",
   "metadata": {
    "id": "7fq8fYdQiQou"
   },
   "source": [
    "enumerate():forループの中でリストやタプルなどのイテラブルオブジェクトの要素と同時にインデックス番号（カウント、順番）を取得できる\\\n",
    "例\n",
    "\n",
    "    l = ['Alice', 'Bob', 'Charlie']\n",
    "    for i, name in enumerate(l):\n",
    "        print(i, name)\n",
    "    # 0 Alice\n",
    "    # 1 Bob\n",
    "    # 2 Charlie"
   ]
  },
  {
   "cell_type": "code",
   "execution_count": null,
   "metadata": {
    "colab": {
     "base_uri": "https://localhost:8080/"
    },
    "id": "pqFFA2QwgyNP",
    "outputId": "5c51b376-aefd-45d1-a7bf-ce8239fbe7a0"
   },
   "outputs": [
    {
     "name": "stdout",
     "output_type": "stream",
     "text": [
      "{'H': 1, 'He': 2, 'Li': 3, 'Be': 4, 'B': 5, 'C': 6, 'No': 7, 'O': 8, 'F': 9, 'Ne': 10, 'Na': 11, 'Mi': 12, 'Al': 13, 'Si': 14, 'P': 15, 'S': 16, 'Cl': 17, 'Ar': 18, 'K': 19, 'Ca': 20}\n"
     ]
    }
   ],
   "source": [
    "text04 = 'Hi He Lied Because Boron Could Not Oxidize Fluorine. New Nations Might Also Sign Peace Security Clause. Arthur King Can.'\n",
    "num = [1, 5, 6, 6, 8, 9, 15, 16, 19]\n",
    "dic = {}\n",
    "\n",
    "text04_r = text04.translate(str.maketrans('.', ' '))\n",
    "list04_s = text04_r.split() \n",
    "for i, genso in enumerate(list04_s):\n",
    "  if i+1 in num:\n",
    "    dic[genso[:1]] = i + 1\n",
    "  else:\n",
    "    dic[genso[:2]] = i + 1\n",
    "\n",
    "print(dic)\n"
   ]
  },
  {
   "cell_type": "markdown",
   "metadata": {
    "id": "xPULGaJNj8EH"
   },
   "source": [
    "**05. n-gram**\\\n",
    "与えられたシーケンス（文字列やリストなど）からn-gramを作る関数を作成せよ．この関数を用い，”I am an NLPer”という文から単語bi-gram，文字bi-gramを得よ．"
   ]
  },
  {
   "cell_type": "code",
   "execution_count": null,
   "metadata": {
    "colab": {
     "base_uri": "https://localhost:8080/"
    },
    "id": "XV85uOpnkUIu",
    "outputId": "c73edebb-1620-4524-e26a-017f89e66dcb"
   },
   "outputs": [
    {
     "name": "stdout",
     "output_type": "stream",
     "text": [
      "単語bi-gram: [['I', 'am'], ['am', 'an'], ['an', 'NLPer']]\n",
      "文字bi-gram: ['I ', ' a', 'am', 'm ', ' a', 'an', 'n ', ' N', 'NL', 'LP', 'Pe', 'er']\n"
     ]
    }
   ],
   "source": [
    "def ngram(n, word):\n",
    "  list05 = []\n",
    "  for i in range(len(word) - n + 1):\n",
    "    list05.append(word[i:i+n])\n",
    "  \n",
    "  return list05\n",
    "\n",
    "text05 = 'I am an NLPer'\n",
    "\n",
    "print('単語bi-gram:',ngram(2, text05.split()))\n",
    "print('文字bi-gram:',ngram(2, text05))"
   ]
  },
  {
   "cell_type": "markdown",
   "metadata": {
    "id": "d4zhYVqXnnVO"
   },
   "source": [
    "**06. 集合**\\\n",
    "“paraparaparadise”と”paragraph”に含まれる文字bi-gramの集合を，それぞれ, XとYとして求め，XとYの和集合，積集合，差集合を求めよ．さらに，’se’というbi-gramがXおよびYに含まれるかどうかを調べよ．"
   ]
  },
  {
   "cell_type": "markdown",
   "metadata": {
    "id": "NON24ArWoNnN"
   },
   "source": [
    "set():重複しない要素（同じ値ではない要素、ユニークな要素）のコレクションで、和集合、積集合、差集合などの集合演算を行うことができる。\\\n"
   ]
  },
  {
   "cell_type": "code",
   "execution_count": null,
   "metadata": {
    "colab": {
     "base_uri": "https://localhost:8080/"
    },
    "id": "bTRI0p4mn4D0",
    "outputId": "6c8efb2c-b4e0-492a-cf2b-49918d804976"
   },
   "outputs": [
    {
     "name": "stdout",
     "output_type": "stream",
     "text": [
      "和集合: {'is', 'di', 'ra', 'pa', 'gr', 'ar', 'se', 'ap', 'ph', 'ag', 'ad'}\n",
      "積集合: {'pa', 'ap', 'ar', 'ra'}\n",
      "差集合: {'ad', 'is', 'di', 'se'}\n",
      "se in X ?: True\n",
      "se in Y ?: False\n"
     ]
    }
   ],
   "source": [
    "text06_1 = 'paraparaparadise'\n",
    "text06_2 = 'paragraph'\n",
    "\n",
    "X = set(ngram(2, text06_1))\n",
    "Y = set(ngram(2, text06_2))\n",
    "\n",
    "def sehantei(word):\n",
    "  if 'se' in word:\n",
    "    return True\n",
    "  else:\n",
    "    return False\n",
    "\n",
    "print('和集合:',X | Y)\n",
    "print('積集合:',X & Y)\n",
    "print('差集合:',X - Y)\n",
    "print('se in X ?:',sehantei(X))\n",
    "print('se in Y ?:',sehantei(Y))\n"
   ]
  },
  {
   "cell_type": "markdown",
   "metadata": {
    "id": "LffTT0pKrRXf"
   },
   "source": [
    "**07. テンプレートによる文生成**\\\n",
    "引数x, y, zを受け取り「x時のyはz」という文字列を返す関数を実装せよ．さらに，x=12, y=”気温”, z=22.4として，実行結果を確認せよ．"
   ]
  },
  {
   "cell_type": "markdown",
   "metadata": {
    "id": "sOmS_f64rzmy"
   },
   "source": [
    "fstrings:順番に引数を指定したり名前を決めてキーワード引数で指定したりして置換フィールド{}に値を挿入できる。\\\n",
    "例\n",
    "\n",
    "    a = 123\n",
    "\n",
    "    b = 'abc'\n",
    "\n",
    "    print('{} and {}'.format(a, b))\n",
    "    print(f'{a} and {b}')\n",
    "    # 123 and abc\n",
    "\n",
    "    print('{first} and {second}'.format(first=a, second=b))\n",
    "    # 123 and abc"
   ]
  },
  {
   "cell_type": "code",
   "execution_count": 5,
   "metadata": {
    "colab": {
     "base_uri": "https://localhost:8080/"
    },
    "id": "dpK0n2P6rzJy",
    "outputId": "c5e2f0e1-3e07-47b7-924e-480d73f0f80e"
   },
   "outputs": [
    {
     "name": "stdout",
     "output_type": "stream",
     "text": [
      "12時の気温は22.4\n"
     ]
    }
   ],
   "source": [
    "def fun(x, y, z):\n",
    "  return f'{x}時の{y}は{z}'\n",
    "\n",
    "print (fun(12, '気温', 22.4))"
   ]
  },
  {
   "cell_type": "markdown",
   "metadata": {
    "id": "5DHOn6A1tlka"
   },
   "source": [
    "**08. 暗号文**\\\n",
    "与えられた文字列の各文字を，以下の仕様で変換する関数cipherを実装せよ．\n",
    "\n",
    "英小文字ならば(219 - 文字コード)の文字に置換\n",
    "その他の文字はそのまま出力\n",
    "この関数を用い，英語のメッセージを暗号化・復号化せよ．"
   ]
  },
  {
   "cell_type": "markdown",
   "metadata": {
    "id": "rAgZDHvFtsTM"
   },
   "source": [
    "ord():文字列を文字コードに変換する。\\\n",
    "chr():文字コードを文字列に変換する。\\\n",
    "str.islower()メソッド：小文字判定を行う。つまり、文字列が全て小文字であれば、Trueを返す。"
   ]
  },
  {
   "cell_type": "code",
   "execution_count": 8,
   "metadata": {
    "colab": {
     "base_uri": "https://localhost:8080/"
    },
    "id": "CLSE0BXIts6K",
    "outputId": "054e550a-c265-4bb4-ea1f-bbd35911e16a"
   },
   "outputs": [
    {
     "name": "stdout",
     "output_type": "stream",
     "text": [
      "暗号化;AyxwEuGsrJp\n",
      "復号化;AbcdEfGhiJk\n"
     ]
    }
   ],
   "source": [
    "def cipher(word):\n",
    "  list08 =[]\n",
    "  for i in word:\n",
    "      if i.islower():\n",
    "          i = chr(219 - ord(i))\n",
    "      else:pass\n",
    "      list08.append(i)\n",
    "  return ''.join(list08)\n",
    "\n",
    "text08 = 'AbcdEfGhiJk'\n",
    "print(f'暗号化;{cipher(text08)}')\n",
    "print(f'復号化;{cipher(cipher(text08))}')"
   ]
  },
  {
   "cell_type": "markdown",
   "metadata": {
    "id": "-ICW8oAl1gjp"
   },
   "source": [
    "**09. Typoglycemia**\\\n",
    "スペースで区切られた単語列に対して，各単語の先頭と末尾の文字は残し，それ以外の文字の順序をランダムに並び替えるプログラムを作成せよ．ただし，長さが４以下の単語は並び替えないこととする．適当な英語の文（例えば”I couldn’t believe that I could actually understand what I was reading : the phenomenal power of the human mind .”）を与え，その実行結果を確認せよ．"
   ]
  },
  {
   "cell_type": "markdown",
   "metadata": {
    "id": "pMo27j7a25rl"
   },
   "source": [
    "random.shuffle():元のリストをランダムに並び替えられる。\\\n",
    "例\n",
    "\n",
    "    import random\n",
    "\n",
    "    l = list(range(5))\n",
    "    print(l)\n",
    "    # [0, 1, 2, 3, 4]\n",
    "\n",
    "    random.shuffle(l)\n",
    "    print(l)\n",
    "    # [1, 0, 4, 3, 2]\n",
    "\n",
    "random.sample():元のリストは変更せず、ランダムに並び替えられた新たなリストを作成できる。第一引数にリスト、第二引数に取得したい要素の個数を指定する。\\\n",
    "\n",
    "例\n",
    "\n",
    "    l = list(range(5))\n",
    "    print(l)\n",
    "    # [0, 1, 2, 3, 4]\n",
    "\n",
    "    lr = random.sample(l, len(l))\n",
    "    print(lr)\n",
    "    # [0, 3, 1, 4, 2]\n",
    "\n",
    "    print(l)\n",
    "    # [0, 1, 2, 3, 4]"
   ]
  },
  {
   "cell_type": "code",
   "execution_count": null,
   "metadata": {
    "colab": {
     "base_uri": "https://localhost:8080/"
    },
    "id": "8JpiL_U-1rbh",
    "outputId": "8510cbbe-5ff6-45f2-dae7-5991daeeadd0"
   },
   "outputs": [
    {
     "name": "stdout",
     "output_type": "stream",
     "text": [
      "I cludno't bileeve that I cluod atlualcy utrnnsedad what I was rednaig : the pmonhneeal peowr of the hmaun mdin.\n"
     ]
    }
   ],
   "source": [
    "import random\n",
    "\n",
    "text09 = \"I couldn't believe that I could actually understand what I was reading : the phenomenal power of the human mind.\"\n",
    "\n",
    "list09 =[]\n",
    "for i in text09.split():\n",
    "  if len(i) > 4:\n",
    "    i = i[0] + ''.join(random.sample(i[1:-1], len(i) - 2)) + i[-1]\n",
    "  list09.append(i)\n",
    "\n",
    "print(' '.join(list09))"
   ]
  }
 ],
 "metadata": {
  "colab": {
   "provenance": []
  },
  "kernelspec": {
   "display_name": "Python 3",
   "name": "python3"
  },
  "language_info": {
   "name": "python"
  }
 },
 "nbformat": 4,
 "nbformat_minor": 0
}
