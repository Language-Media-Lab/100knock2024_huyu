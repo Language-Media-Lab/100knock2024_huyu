{
  "nbformat": 4,
  "nbformat_minor": 0,
  "metadata": {
    "colab": {
      "provenance": []
    },
    "kernelspec": {
      "name": "python3",
      "display_name": "Python 3"
    },
    "language_info": {
      "name": "python"
    }
  },
  "cells": [
    {
      "cell_type": "code",
      "execution_count": 13,
      "metadata": {
        "colab": {
          "base_uri": "https://localhost:8080/"
        },
        "id": "Xie7zeZ4ciZ5",
        "outputId": "e37b4e57-9023-4c24-e051-8bac474fb3a9"
      },
      "outputs": [
        {
          "output_type": "stream",
          "name": "stdout",
          "text": [
            "desserts\n"
          ]
        }
      ],
      "source": [
        "#0\n",
        "s = \"stressed\"\n",
        "str0 =s [::-1]\n",
        "print(str0)"
      ]
    },
    {
      "cell_type": "code",
      "source": [
        "#1\n",
        "s=\"パタトクカシーー\"\n",
        "str1=s[0]+s[2]+s[4]+s[6]\n",
        "print(str1)"
      ],
      "metadata": {
        "colab": {
          "base_uri": "https://localhost:8080/"
        },
        "id": "0ydhdtZrdOFQ",
        "outputId": "37923d0c-c98d-4507-fe6f-e20179da3e23"
      },
      "execution_count": 14,
      "outputs": [
        {
          "output_type": "stream",
          "name": "stdout",
          "text": [
            "パトカー\n"
          ]
        }
      ]
    },
    {
      "cell_type": "code",
      "source": [
        "#2\n",
        "s=\"パトカー\"\n",
        "st=\"タクシー\"\n",
        "str2=\"\"\n",
        "for n in range(4):\n",
        "  str2+=s[n]+st[n]\n",
        "print(str2)"
      ],
      "metadata": {
        "colab": {
          "base_uri": "https://localhost:8080/"
        },
        "id": "EPkkE_Xgf-fE",
        "outputId": "f82b43de-04a7-45ca-a9df-9f0f38481368"
      },
      "execution_count": 15,
      "outputs": [
        {
          "output_type": "stream",
          "name": "stdout",
          "text": [
            "パタトクカシーー\n"
          ]
        }
      ]
    },
    {
      "cell_type": "code",
      "source": [
        "#3\n",
        "st=\"Now I need a drink, alcoholic of course, after the heavy lectures involving quantum mechanics.\"\n",
        "str3=[]\n",
        "st=st.replace(',','').replace('.','')\n",
        "st=st.split()\n",
        "str3=[len(s) for s in st]\n",
        "print(str3)"
      ],
      "metadata": {
        "colab": {
          "base_uri": "https://localhost:8080/"
        },
        "id": "Z0G2ZZoPWyFE",
        "outputId": "4865211b-b0e7-4299-9bb2-e8b4c36d9b60"
      },
      "execution_count": 1,
      "outputs": [
        {
          "output_type": "stream",
          "name": "stdout",
          "text": [
            "[3, 1, 4, 1, 5, 9, 2, 6, 5, 3, 5, 8, 9, 7, 9]\n"
          ]
        }
      ]
    },
    {
      "cell_type": "code",
      "source": [
        "#4\n",
        "st=\"Hi He Lied Because Boron Could Not Oxidize Fluorine. New Nations Might Also Sign Peace Security Clause. Arthur King Can.\"\n",
        "key=[]\n",
        "val=[]\n",
        "st=st.split()\n",
        "for i in range(len(st)):\n",
        "  s=i+1\n",
        "  key.append(s)\n",
        "  if s in{1,5,6,7,8,9,15,16,19}:\n",
        "    val.append(st[i][:1])\n",
        "  else:\n",
        "    val.append(st[i][:2])\n",
        "str4=dict(zip(key,val))\n",
        "print(str4)"
      ],
      "metadata": {
        "colab": {
          "base_uri": "https://localhost:8080/"
        },
        "id": "M_YgntwmaLLd",
        "outputId": "2d3e0652-d038-4b23-91de-ee90f1840731"
      },
      "execution_count": 17,
      "outputs": [
        {
          "output_type": "stream",
          "name": "stdout",
          "text": [
            "{1: 'H', 2: 'He', 3: 'Li', 4: 'Be', 5: 'B', 6: 'C', 7: 'N', 8: 'O', 9: 'F', 10: 'Ne', 11: 'Na', 12: 'Mi', 13: 'Al', 14: 'Si', 15: 'P', 16: 'S', 17: 'Cl', 18: 'Ar', 19: 'K', 20: 'Ca'}\n"
          ]
        }
      ]
    },
    {
      "cell_type": "code",
      "source": [
        "#5\n",
        "def n_gram(str,num):\n",
        "  return([str[s:s+num] for s in range(len(str)-num+1)])\n",
        "\n",
        "st=\"I am an NLPer\"\n",
        "st1=st.split()\n",
        "print(\"単語bi-gram:\",n_gram(st1,2))\n",
        "print(\"文字bi-gram:\",n_gram(st,2))\n"
      ],
      "metadata": {
        "colab": {
          "base_uri": "https://localhost:8080/"
        },
        "id": "yKuS-4fSv2Wq",
        "outputId": "ee2766fc-671d-4ffc-824e-b91660d8c5a8"
      },
      "execution_count": 18,
      "outputs": [
        {
          "output_type": "stream",
          "name": "stdout",
          "text": [
            "単語bi-gram: [['I', 'am'], ['am', 'an'], ['an', 'NLPer']]\n",
            "文字bi-gram: ['I ', ' a', 'am', 'm ', ' a', 'an', 'n ', ' N', 'NL', 'LP', 'Pe', 'er']\n"
          ]
        }
      ]
    },
    {
      "cell_type": "code",
      "source": [
        "#6\n",
        "def n_gram(str,num):\n",
        "  return([str[s:s+num] for s in range(len(str)-num+1)])\n",
        "\n",
        "x=\"paraparaparadise\"\n",
        "y=\"paragraph\"\n",
        "X=set(n_gram(x,2))\n",
        "Y=set(n_gram(y,2))\n",
        "\n",
        "print(\"X　　　　　　　　　：\",X)\n",
        "print(\"Y　　　　　　　　　：\",Y)\n",
        "print(\"和集合　　　　　　 ：\",X|Y)\n",
        "print(\"積集合　　　　　　 ：\",X&Y)\n",
        "print(\"差集合(X-Y)　　　　：\",X-Y)\n",
        "print(\"差集合(Y-X)　　　　：\",Y-X)\n",
        "print(\"'se'がXに含まれるか：\",'se' in X)\n",
        "print(\"'se'がYに含まれるか：\",'se' in Y)"
      ],
      "metadata": {
        "colab": {
          "base_uri": "https://localhost:8080/"
        },
        "id": "P9rMGiuy1aeK",
        "outputId": "531f855b-5287-406a-b82e-e6521834e7db"
      },
      "execution_count": 20,
      "outputs": [
        {
          "output_type": "stream",
          "name": "stdout",
          "text": [
            "X　　　　　　　　　： {'ad', 'pa', 'ra', 'di', 'se', 'ap', 'ar', 'is'}\n",
            "Y　　　　　　　　　： {'pa', 'ra', 'ap', 'ph', 'ag', 'ar', 'gr'}\n",
            "和集合　　　　　　 ： {'ad', 'pa', 'ra', 'di', 'se', 'ap', 'ph', 'ag', 'ar', 'gr', 'is'}\n",
            "積集合　　　　　　 ： {'ar', 'pa', 'ra', 'ap'}\n",
            "差集合(X-Y)　　　　： {'ad', 'di', 'se', 'is'}\n",
            "差集合(Y-X)　　　　： {'gr', 'ph', 'ag'}\n",
            "'se'がXに含まれるか： True\n",
            "'se'がYに含まれるか： False\n"
          ]
        }
      ]
    },
    {
      "cell_type": "code",
      "source": [
        "#7\n",
        "def  sentence(x,y,z):\n",
        "  sent=f'{x}時の{y}は{z}'\n",
        "  #str(x)+\"時の\"+str(y)+\"は\"+str(z)\n",
        "  return(sent)\n",
        "\n",
        "print(sentence(\"12\",\"気温\",\"22.4\"))"
      ],
      "metadata": {
        "colab": {
          "base_uri": "https://localhost:8080/"
        },
        "id": "sYAQq4QC8YHo",
        "outputId": "5b36a4cf-ddae-49b3-8a7c-866628f1b159"
      },
      "execution_count": 21,
      "outputs": [
        {
          "output_type": "stream",
          "name": "stdout",
          "text": [
            "12時の気温は22.4\n"
          ]
        }
      ]
    },
    {
      "cell_type": "code",
      "source": [
        "#8\n",
        "def cipher(sent):\n",
        "  sentence=\"\"\n",
        "  for s in range(len(sent)):\n",
        "    if sent[s].islower():\n",
        "      sentence+=chr(219-ord(sent[s]))\n",
        "    else:\n",
        "      sentence+=sent[s]\n",
        "  return(sentence)\n",
        "\n",
        "sentence=\"Now I need a drink, alcoholic of course, after the heavy lectures involving quantum mechanics.\"\n",
        "print(\"原文　　：\",sentence)\n",
        "print(\"暗号化文：\",cipher(sentence))"
      ],
      "metadata": {
        "colab": {
          "base_uri": "https://localhost:8080/"
        },
        "id": "b1g1Fb8O_Dbp",
        "outputId": "b6f0579c-19bc-4c12-d142-f49b8c2083ea"
      },
      "execution_count": 23,
      "outputs": [
        {
          "output_type": "stream",
          "name": "stdout",
          "text": [
            "原文　　： Now I need a drink, alcoholic of course, after the heavy lectures involving quantum mechanics.\n",
            "暗号化文： Nld I mvvw z wirmp, zoxlslorx lu xlfihv, zugvi gsv svzeb ovxgfivh rmeloermt jfzmgfn nvxszmrxh.\n"
          ]
        }
      ]
    },
    {
      "cell_type": "code",
      "source": [
        "#9\n",
        "import random\n",
        "\n",
        "st=\"I couldn’t believe that I could actually understand what I was reading : the phenomenal power of the human mind .\"\n",
        "str9=st.split()\n",
        "sentence=\"\"\n",
        "\n",
        "def shuffle(word):\n",
        "  if len(word)<=4:\n",
        "    return(word)\n",
        "  str9=\"\"\n",
        "  first=word[0]\n",
        "  end=word[-1]\n",
        "  s=list(word[1:-1])\n",
        "  random.shuffle(s)\n",
        "  message=first + ''.join(s) +end\n",
        "  return(message)\n",
        "\n",
        "\n",
        "for s in str9:\n",
        "  s=shuffle(s)\n",
        "  sentence+=s+\" \"\n",
        "print(\"原文　　　：\",st)\n",
        "print(\"並び替え文：\",sentence)\n"
      ],
      "metadata": {
        "colab": {
          "base_uri": "https://localhost:8080/"
        },
        "id": "UlNOUQklCjSt",
        "outputId": "14797d4a-dc63-4843-f897-634922fe2fbe"
      },
      "execution_count": 24,
      "outputs": [
        {
          "output_type": "stream",
          "name": "stdout",
          "text": [
            "原文　　　： I couldn’t believe that I could actually understand what I was reading : the phenomenal power of the human mind .\n",
            "並び替え文： I clodn’ut bielvee that I culod acaultly uatdnnersd what I was rdeanig : the penoahmenl peowr of the hamun mind . \n"
          ]
        }
      ]
    },
    {
      "cell_type": "markdown",
      "source": [],
      "metadata": {
        "id": "qyXpLuRgCCqI"
      }
    }
  ]
}