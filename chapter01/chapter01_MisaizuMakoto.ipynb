{
 "cells": [
  {
   "cell_type": "markdown",
   "metadata": {},
   "source": [
    "## 0"
   ]
  },
  {
   "cell_type": "code",
   "execution_count": null,
   "metadata": {},
   "outputs": [],
   "source": [
    "s = 'stressed'\n",
    "print(s[::-1])\n"
   ]
  },
  {
   "cell_type": "markdown",
   "metadata": {},
   "source": [
    "## 1"
   ]
  },
  {
   "cell_type": "code",
   "execution_count": null,
   "metadata": {},
   "outputs": [],
   "source": [
    "s = 'パタトクカシーー'\n",
    "print(s[1::2])\n"
   ]
  },
  {
   "cell_type": "markdown",
   "metadata": {},
   "source": [
    "## 2"
   ]
  },
  {
   "cell_type": "code",
   "execution_count": null,
   "metadata": {},
   "outputs": [],
   "source": [
    "s = 'パトカー'\n",
    "t = 'タクシー'\n",
    "ans = ['']*(len(s)+len(t))\n",
    "ans[::2] = s\n",
    "ans[1::2] = t\n",
    "print(*ans, sep='')\n"
   ]
  },
  {
   "cell_type": "markdown",
   "metadata": {},
   "source": [
    "## 3"
   ]
  },
  {
   "cell_type": "code",
   "execution_count": null,
   "metadata": {},
   "outputs": [],
   "source": [
    "s = 'Now I need a drink, alcoholic of course, after the heavy lectures involving quantum mechanics.'\n",
    "s = s.replace(',', '').replace('.', '')\n",
    "s = s.split()\n",
    "s = [len(i) for i in s]\n",
    "print(s)\n"
   ]
  },
  {
   "cell_type": "markdown",
   "metadata": {},
   "source": [
    "## 4"
   ]
  },
  {
   "cell_type": "code",
   "execution_count": null,
   "metadata": {},
   "outputs": [],
   "source": [
    "s = 'Hi He Lied Because Boron Could Not Oxidize Fluorine. New Nations Might Also Sign Peace Security Clause. Arthur King Can.'\n",
    "s = s.replace('.', '').split()\n",
    "single = set([1, 5, 6, 7, 8, 9, 15, 16, 19])\n",
    "\n",
    "d = dict()\n",
    "for i in range(len(s)):\n",
    "  if i+1 in single:\n",
    "    d[s[i][0]] = i+1\n",
    "  else:\n",
    "    d[s[i][:2]] = i+1\n",
    "\n",
    "print(d)\n"
   ]
  },
  {
   "cell_type": "markdown",
   "metadata": {},
   "source": [
    "## 5"
   ]
  },
  {
   "cell_type": "code",
   "execution_count": null,
   "metadata": {},
   "outputs": [],
   "source": [
    "def ngram(n, s):\n",
    "  res = set()\n",
    "  for i in range(len(s)-n+1):\n",
    "    res.add(tuple(s[i:i+n]))\n",
    "\n",
    "  return res\n",
    "\n",
    "s = 'I am an NLPer'\n",
    "print(ngram(2, s))\n",
    "print(ngram(2, s.split()))\n"
   ]
  },
  {
   "cell_type": "markdown",
   "metadata": {},
   "source": [
    "## 6"
   ]
  },
  {
   "cell_type": "code",
   "execution_count": null,
   "metadata": {},
   "outputs": [],
   "source": [
    "def ngram(n, s):\n",
    "  res = set()\n",
    "  for i in range(len(s)-n+1):\n",
    "    res.add(tuple(s[i:i+n]))\n",
    "\n",
    "  return res\n",
    "\n",
    "s = 'paraparaparadise'\n",
    "t = 'paragraph'\n",
    "X = ngram(2, s)\n",
    "Y = ngram(2, t)\n",
    "print(X|Y)\n",
    "print(X&Y)\n",
    "print(X-Y)\n",
    "print(Y-X)\n",
    "print(('s', 'e') in X or ('s', 'e') in Y)\n"
   ]
  },
  {
   "cell_type": "markdown",
   "metadata": {},
   "source": [
    "## 7"
   ]
  },
  {
   "cell_type": "code",
   "execution_count": null,
   "metadata": {},
   "outputs": [],
   "source": [
    "def template(x, y, z):\n",
    "  return f'{x}時の{y}は{z}'\n",
    "\n",
    "print(template(12, '気温', '22.4'))\n"
   ]
  },
  {
   "cell_type": "markdown",
   "metadata": {},
   "source": [
    "## 8"
   ]
  },
  {
   "cell_type": "code",
   "execution_count": null,
   "metadata": {},
   "outputs": [],
   "source": [
    "from string import ascii_letters as alu # ascii_lowercase + ascii_uppercase\n",
    "from string import ascii_lowercase as al # abcdefghijklmnopqrstuvwxyz\n",
    "from string import ascii_uppercase as au # ABCDEFGHIJKLMNOPQRSTUVWXYZ\n",
    "from string import digits # '0123456789'\n",
    "from string import hexdigits # '0123456789abcdefABCDEF'\n",
    "from string import octdigits # '01234567'\n",
    "from string import punctuation # !\"#$%&'()*+,-./:;<=>?@[\\]^_`{|}~.\n",
    "\n",
    "al = set(list(al))\n",
    "def cipher(s: str):\n",
    "  s = list(s)\n",
    "  for i in range(len(s)):\n",
    "    if s[i] in al:\n",
    "      s[i] = chr(219-ord(s[i]))\n",
    "\n",
    "  return ''.join(s)\n",
    "\n",
    "s = 'To be dominated by me is not as bad for human pride as to be dominated by others of your species.'\n",
    "s = cipher(s)\n",
    "print(s)\n",
    "s = cipher(s)\n",
    "print(s)\n"
   ]
  },
  {
   "cell_type": "markdown",
   "metadata": {},
   "source": [
    "## 9"
   ]
  },
  {
   "cell_type": "code",
   "execution_count": null,
   "metadata": {},
   "outputs": [],
   "source": [
    "from random import shuffle\n",
    "\n",
    "\n",
    "s = \"I couldn't believe that I could actually understand what I was reading : the phenomenal power of the human mind .\"\n",
    "s = s.split()\n",
    "for i in range(len(s)):\n",
    "  if len(s[i]) <= 4:\n",
    "    continue\n",
    "\n",
    "  t = s[i]\n",
    "  front = t[0]\n",
    "  end = t[-1]\n",
    "  t = list(t[1:-1])\n",
    "  shuffle(t)\n",
    "  s[i] = ''.join([front, *t, end])\n",
    "\n",
    "print(*s, sep=' ')\n"
   ]
  }
 ],
 "metadata": {
  "kernelspec": {
   "display_name": ".venv",
   "language": "python",
   "name": "python3"
  },
  "language_info": {
   "name": "python",
   "version": "3.11.4"
  }
 },
 "nbformat": 4,
 "nbformat_minor": 2
}
