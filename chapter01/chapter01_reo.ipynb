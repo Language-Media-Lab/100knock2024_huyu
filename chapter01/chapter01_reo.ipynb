{
 "cells": [
  {
   "cell_type": "markdown",
   "metadata": {},
   "source": [
    "## 1章"
   ]
  },
  {
   "cell_type": "markdown",
   "metadata": {},
   "source": [
    "**00.文字列の逆順**"
   ]
  },
  {
   "cell_type": "code",
   "execution_count": 1,
   "metadata": {},
   "outputs": [
    {
     "name": "stdout",
     "output_type": "stream",
     "text": [
      "desserts\n"
     ]
    }
   ],
   "source": [
    "text = \"stressed\"\n",
    "print(text[::-1])"
   ]
  },
  {
   "cell_type": "markdown",
   "metadata": {},
   "source": [
    "**01. 「パタトクカシーー」**"
   ]
  },
  {
   "cell_type": "code",
   "execution_count": 2,
   "metadata": {},
   "outputs": [
    {
     "name": "stdout",
     "output_type": "stream",
     "text": [
      "パトカー\n"
     ]
    }
   ],
   "source": [
    "text = \"パタトクカシーー\" \n",
    "print(text[::2])"
   ]
  },
  {
   "cell_type": "markdown",
   "metadata": {},
   "source": [
    "**02. 「パトカー」＋「タクシー」＝「パタトクカシーー」**"
   ]
  },
  {
   "cell_type": "code",
   "execution_count": 3,
   "metadata": {},
   "outputs": [
    {
     "name": "stdout",
     "output_type": "stream",
     "text": [
      "パタトクカシーー\n"
     ]
    }
   ],
   "source": [
    "text1 = \"パトカー\"\n",
    "text2 = \"タクシー\"\n",
    "print(\"\".join([text1[i] + text2[i] for i in range(4)]))"
   ]
  },
  {
   "cell_type": "markdown",
   "metadata": {},
   "source": [
    "**03. 円周率**"
   ]
  },
  {
   "cell_type": "code",
   "execution_count": 4,
   "metadata": {},
   "outputs": [
    {
     "name": "stdout",
     "output_type": "stream",
     "text": [
      "[3, 1, 4, 1, 5, 9, 2, 6, 5, 3, 5, 8, 9, 7, 9]\n"
     ]
    }
   ],
   "source": [
    "text = \"Now I need a drink, alcoholic of course, after the heavy lectures involving quantum mechanics.\"\n",
    "\n",
    "words = [x.strip('. ,') for x in text.split()]\n",
    "print([len(word) for word in words])"
   ]
  },
  {
   "cell_type": "markdown",
   "metadata": {},
   "source": [
    "**04. 元素記号**"
   ]
  },
  {
   "cell_type": "code",
   "execution_count": 5,
   "metadata": {},
   "outputs": [
    {
     "name": "stdout",
     "output_type": "stream",
     "text": [
      "{'H': 1, 'He': 2, 'Li': 3, 'Be': 4, 'B': 5, 'C': 6, 'N': 7, 'O': 8, 'F': 9, 'Ne': 10, 'Na': 11, 'Mi': 12, 'Al': 13, 'Si': 14, 'P': 15, 'S': 16, 'Cl': 17, 'Ar': 18, 'K': 19, 'Ca': 20}\n"
     ]
    }
   ],
   "source": [
    "text = \"Hi He Lied Because Boron Could Not Oxidize Fluorine. New Nations Might Also Sign Peace Security Clause. Arthur King Can.\"\n",
    "one_letter = [1, 5, 6, 7, 8, 9, 15, 16, 19]\n",
    "\n",
    "words = [x.strip('. ,') for x in text.split()]\n",
    "elem = [x[0] if i + 1 in one_letter else x[:2] for i, x in enumerate(words)]\n",
    "print({e: i + 1 for i, e in enumerate(elem)})"
   ]
  },
  {
   "cell_type": "markdown",
   "metadata": {},
   "source": [
    "**05. n-gram**"
   ]
  },
  {
   "cell_type": "code",
   "execution_count": 6,
   "metadata": {},
   "outputs": [
    {
     "name": "stdout",
     "output_type": "stream",
     "text": [
      "['I ', ' a', 'am', 'm ', ' a', 'an', 'n ', ' N', 'NL', 'LP', 'Pe', 'er']\n",
      "[['I', 'am'], ['am', 'an'], ['an', 'NLPer']]\n"
     ]
    }
   ],
   "source": [
    "def n_gram(text, n):\n",
    "    return [text[i:i + n] for i in range(len(text) - n + 1)]\n",
    "\n",
    "text = \"I am an NLPer\"\n",
    "print(n_gram(text, 2))\n",
    "\n",
    "words = text.split()\n",
    "print(n_gram(words, 2))"
   ]
  },
  {
   "cell_type": "markdown",
   "metadata": {},
   "source": [
    "**06. 集合**"
   ]
  },
  {
   "cell_type": "code",
   "execution_count": 11,
   "metadata": {},
   "outputs": [
    {
     "name": "stdout",
     "output_type": "stream",
     "text": [
      "X: {'is', 'di', 'ra', 'ar', 'ap', 'pa', 'ad', 'se'}\n",
      "Y: {'gr', 'ra', 'ar', 'ph', 'ap', 'pa', 'ag'}\n",
      "和集合: {'gr', 'is', 'di', 'ra', 'ag', 'ar', 'ph', 'ap', 'pa', 'ad', 'se'}\n",
      "積集合: {'pa', 'ar', 'ap', 'ra'}\n",
      "差集合: {'is', 'ad', 'di', 'se'}\n",
      "'se'という文字列は\n",
      "  Xに含まれる\n",
      "  Yに含まれない\n"
     ]
    }
   ],
   "source": [
    "def n_gram(text, n):\n",
    "    return [text[i:i + n] for i in range(len(text) - n + 1)]\n",
    "\n",
    "text1 = \"paraparaparadise\"\n",
    "text2 = \"paragraph\"\n",
    "\n",
    "X = set(n_gram(text1, 2))\n",
    "Y = set(n_gram(text2, 2))\n",
    "\n",
    "print(f\"X: {X}\")\n",
    "print(f\"Y: {Y}\")\n",
    "\n",
    "print(f\"和集合: {X | Y}\")\n",
    "print(f\"積集合: {X & Y}\")\n",
    "print(f\"差集合: {X - Y}\")\n",
    "\n",
    "print(\"'se'という文字列は\")\n",
    "print(f\"  Xに{'含まれる' if 'se' in X else '含まれない'}\")\n",
    "print(f\"  Yに{'含まれる' if 'se' in Y else '含まれない'}\")"
   ]
  },
  {
   "cell_type": "markdown",
   "metadata": {},
   "source": [
    "**07. テンプレートによる文生成**"
   ]
  },
  {
   "cell_type": "code",
   "execution_count": 12,
   "metadata": {},
   "outputs": [
    {
     "name": "stdout",
     "output_type": "stream",
     "text": [
      "12時の気温は22.4\n"
     ]
    }
   ],
   "source": [
    "def template(x, y, z):\n",
    "    return f\"{x}時の{y}は{z}\"\n",
    "\n",
    "x = input()\n",
    "y = input()\n",
    "z = input()\n",
    "\n",
    "print(template(x, y, z))"
   ]
  },
  {
   "cell_type": "markdown",
   "metadata": {},
   "source": [
    "**08. 暗号文**"
   ]
  },
  {
   "cell_type": "code",
   "execution_count": 9,
   "metadata": {},
   "outputs": [
    {
     "name": "stdout",
     "output_type": "stream",
     "text": [
      "Original text:\n",
      "  Now I need a drink, alcoholic of course, after the heavy lectures involving quantum mechanics.\n",
      "Ciphered text:\n",
      "  Nld I mvvw z wirmp, zoxlslorx lu xlfihv, zugvi gsv svzeb ovxgfivh rmeloermt jfzmgfn nvxszmrxh.\n",
      "Deciphered text:\n",
      "  Now I need a drink, alcoholic of course, after the heavy lectures involving quantum mechanics.\n"
     ]
    }
   ],
   "source": [
    "def cipher(text):\n",
    "    words = [chr(219 - ord(s)) if ord(s) in range(97, 123) else s for s in text]\n",
    "    return \"\".join(words)\n",
    "\n",
    "text = \"Now I need a drink, alcoholic of course, after the heavy lectures involving quantum mechanics.\"\n",
    "ciphered_text = cipher(text)\n",
    "deciphered_text = cipher(ciphered_text)\n",
    "\n",
    "print(f\"Original text:\\n  {text}\")\n",
    "print(f\"Ciphered text:\\n  {ciphered_text}\")\n",
    "print(f\"Deciphered text:\\n  {deciphered_text}\")\n"
   ]
  },
  {
   "cell_type": "markdown",
   "metadata": {},
   "source": [
    "**09. Typoglycemia**"
   ]
  },
  {
   "cell_type": "code",
   "execution_count": 10,
   "metadata": {},
   "outputs": [
    {
     "name": "stdout",
     "output_type": "stream",
     "text": [
      "I c'nodlut belviee that I colud altuclay utnrnasded what I was rdeanig : the peaohennml pwoer of the haumn mind .\n"
     ]
    }
   ],
   "source": [
    "import random\n",
    "\n",
    "text = \"I couldn't believe that I could actually understand what I was reading : the phenomenal power of the human mind .\"\n",
    "\n",
    "words = text.split()\n",
    "for i, word in enumerate(words):\n",
    "    if len(word) > 4:\n",
    "        shuffled = []\n",
    "        shuffled += word[0]\n",
    "        shuffled += random.sample(word[1:-1], len(word) - 2)\n",
    "        shuffled += word[-1]\n",
    "        words[i] = \"\".join(shuffled)\n",
    "\n",
    "print(\" \".join(words))"
   ]
  }
 ],
 "metadata": {
  "kernelspec": {
   "display_name": "Python 3",
   "language": "python",
   "name": "python3"
  },
  "language_info": {
   "codemirror_mode": {
    "name": "ipython",
    "version": 3
   },
   "file_extension": ".py",
   "mimetype": "text/x-python",
   "name": "python",
   "nbconvert_exporter": "python",
   "pygments_lexer": "ipython3",
   "version": "3.11.1"
  }
 },
 "nbformat": 4,
 "nbformat_minor": 2
}
