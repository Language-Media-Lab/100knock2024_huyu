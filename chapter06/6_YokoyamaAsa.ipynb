{
 "cells": [
  {
   "cell_type": "code",
   "execution_count": 1,
   "metadata": {
    "colab": {
     "base_uri": "https://localhost:8080/"
    },
    "executionInfo": {
     "elapsed": 2055,
     "status": "ok",
     "timestamp": 1733880983562,
     "user": {
      "displayName": "横山明咲",
      "userId": "08422176585056864265"
     },
     "user_tz": -540
    },
    "id": "Tx-ATwzaSer1",
    "outputId": "38d1e919-11f6-49ee-9764-7b72e22a9db0"
   },
   "outputs": [
    {
     "name": "stdout",
     "output_type": "stream",
     "text": [
      "Archive:  /content/news+aggregator.zip\n",
      "  inflating: 2pageSessions.csv       \n",
      "   creating: __MACOSX/\n",
      "  inflating: __MACOSX/._2pageSessions.csv  \n",
      "  inflating: newsCorpora.csv         \n",
      "  inflating: __MACOSX/._newsCorpora.csv  \n",
      "  inflating: readme.txt              \n",
      "  inflating: __MACOSX/._readme.txt   \n"
     ]
    }
   ],
   "source": [
    "!unzip /content/news+aggregator.zip"
   ]
  },
  {
   "cell_type": "code",
   "execution_count": 2,
   "metadata": {
    "colab": {
     "base_uri": "https://localhost:8080/"
    },
    "executionInfo": {
     "elapsed": 6979,
     "status": "ok",
     "timestamp": 1733880996560,
     "user": {
      "displayName": "横山明咲",
      "userId": "08422176585056864265"
     },
     "user_tz": -540
    },
    "id": "BvEh4AkYS3ON",
    "outputId": "b6072814-92f7-4891-f81e-1d254c22b6dc"
   },
   "outputs": [
    {
     "name": "stdout",
     "output_type": "stream",
     "text": [
      "<class 'pandas.core.frame.DataFrame'>\n",
      "RangeIndex: 422419 entries, 0 to 422418\n",
      "Data columns (total 8 columns):\n",
      " #   Column     Non-Null Count   Dtype \n",
      "---  ------     --------------   ----- \n",
      " 0   ID         422419 non-null  int64 \n",
      " 1   TITLE      422419 non-null  object\n",
      " 2   URL        422419 non-null  object\n",
      " 3   PUBLISHER  422417 non-null  object\n",
      " 4   CATEGORY   422419 non-null  object\n",
      " 5   STORY      422419 non-null  object\n",
      " 6   HOSTNAME   422419 non-null  object\n",
      " 7   TIMESTAMP  422419 non-null  int64 \n",
      "dtypes: int64(2), object(6)\n",
      "memory usage: 25.8+ MB\n",
      "\n",
      "【CATEGORYの事例数】\n",
      "学習データ\n",
      " -------------------------------------------------- \n",
      " CATEGORY\n",
      "b    4481\n",
      "e    4262\n",
      "t    1190\n",
      "m     739\n",
      "Name: count, dtype: int64\n",
      "\n",
      "検証データ\n",
      " -------------------------------------------------- \n",
      " CATEGORY\n",
      "b    568\n",
      "e    513\n",
      "t    164\n",
      "m     89\n",
      "Name: count, dtype: int64\n",
      "\n",
      "評価データ\n",
      " -------------------------------------------------- \n",
      " CATEGORY\n",
      "b    578\n",
      "e    504\n",
      "t    170\n",
      "m     82\n",
      "Name: count, dtype: int64\n"
     ]
    }
   ],
   "source": [
    "#50\n",
    "import pandas as pd\n",
    "from sklearn.model_selection import train_test_split\n",
    "\n",
    "#ファイルを読み込む\n",
    "df = pd.read_csv(\"newsCorpora.csv\", sep=\"\\t\", header=None,\n",
    "                 names=[\"ID\", \"TITLE\", \"URL\", \"PUBLISHER\", \"CATEGORY\", \"STORY\", \"HOSTNAME\", \"TIMESTAMP\"])\n",
    "\n",
    "#各カラムのデータ数、欠損値、オブジェクトを確認する\n",
    "df.info()\n",
    "\n",
    "#情報源（publisher）が”Reuters”, “Huffington Post”, “Businessweek”, “Contactmusic.com”, “Daily Mail”の事例（記事）のみを抽出する\n",
    "df = df[df[\"PUBLISHER\"].isin([\"Reuters\", \"Huffington Post\", \"Businessweek\", \"Contactmusic.com\", \"Daily Mail\"])]\n",
    "df = df[[\"TITLE\", \"CATEGORY\"]]\n",
    "\n",
    "#学習、検証、評価データに分割する\n",
    "train, valid_test = train_test_split(df, test_size=0.2, shuffle=True, random_state=123)  # 80%:20%\n",
    "valid, test = train_test_split(valid_test, test_size=0.5, shuffle=True, random_state=123)  # 10%:10%\n",
    "\n",
    "#学習、検証、評価データをファイルに保存する\n",
    "train.to_csv(\"train.txt\", sep=\"\\t\", index=False, header=None)\n",
    "valid.to_csv(\"valid.txt\", sep=\"\\t\", index=False, header=None)\n",
    "test.to_csv(\"test.txt\", sep=\"\\t\", index=False, header=None)\n",
    "\n",
    "print(\"\\n【CATEGORYの事例数】\")\n",
    "print(\"学習データ\\n\", \"-\"*50,\"\\n\", train[\"CATEGORY\"].value_counts())\n",
    "print()\n",
    "print(\"検証データ\\n\", \"-\"*50,\"\\n\", valid[\"CATEGORY\"].value_counts())\n",
    "print()\n",
    "print(\"評価データ\\n\", \"-\"*50,\"\\n\", test[\"CATEGORY\"].value_counts())\n",
    "\n"
   ]
  },
  {
   "cell_type": "code",
   "execution_count": 3,
   "metadata": {
    "colab": {
     "base_uri": "https://localhost:8080/"
    },
    "executionInfo": {
     "elapsed": 170341,
     "status": "ok",
     "timestamp": 1733881166890,
     "user": {
      "displayName": "横山明咲",
      "userId": "08422176585056864265"
     },
     "user_tz": -540
    },
    "id": "dGHIKpcaw9VW",
    "outputId": "1a17eed6-c09c-43a6-fcab-50bd51212499"
   },
   "outputs": [
    {
     "name": "stdout",
     "output_type": "stream",
     "text": [
      "特徴量の抽出と保存が完了しました。\n"
     ]
    }
   ],
   "source": [
    "#51\n",
    "import pandas as pd\n",
    "import string\n",
    "import re\n",
    "from sklearn.feature_extraction.text import TfidfVectorizer\n",
    "\n",
    "# 前処理（関数\n",
    "def preprocessing(text):\n",
    "  text = \"\".join([i for i in text if i not in string.punctuation])\n",
    "  text = text.lower()\n",
    "  text = re.sub(\"[0-9]+\", \"\", text)\n",
    "  return text\n",
    "\n",
    "# ファイルの読み込み\n",
    "train = pd.read_csv(\"train.txt\", sep=\"\\t\", header=None, names=[\"TITLE\", \"CATEGORY\"])\n",
    "valid = pd.read_csv(\"valid.txt\", sep=\"\\t\", header=None, names=[\"TITLE\", \"CATEGORY\"])\n",
    "test = pd.read_csv(\"test.txt\", sep=\"\\t\", header=None, names=[\"TITLE\", \"CATEGORY\"])\n",
    "\n",
    "\n",
    "# 各データに前処理を適用\n",
    "train[\"TITLE\"] = train[\"TITLE\"].map(lambda x: preprocessing(x))\n",
    "valid[\"TITLE\"] = valid[\"TITLE\"].map(lambda x: preprocessing(x))\n",
    "test[\"TITLE\"] = test[\"TITLE\"].map(lambda x: preprocessing(x))\n",
    "\n",
    "# TF-IDFベクトル化（stop_words=None）\n",
    "vec_tfidf = TfidfVectorizer(stop_words=None)\n",
    "\n",
    "# 学習データ、検証データ、評価データに対してTF-IDFを計算\n",
    "x_train_tfidf = vec_tfidf.fit_transform(train[\"TITLE\"])\n",
    "x_valid_tfidf = vec_tfidf.transform(valid[\"TITLE\"])\n",
    "x_test_tfidf = vec_tfidf.transform(test[\"TITLE\"])\n",
    "\n",
    "# DataFrameに変換\n",
    "x_train = pd.DataFrame(x_train_tfidf.toarray(), columns=vec_tfidf.get_feature_names_out())\n",
    "x_valid = pd.DataFrame(x_valid_tfidf.toarray(), columns=vec_tfidf.get_feature_names_out())\n",
    "x_test = pd.DataFrame(x_test_tfidf.toarray(), columns=vec_tfidf.get_feature_names_out())\n",
    "\n",
    "# 特徴量をファイルに保存\n",
    "x_train.to_csv('train.feature.txt', sep='\\t', index=False)\n",
    "x_valid.to_csv('valid.feature.txt', sep='\\t', index=False)\n",
    "x_test.to_csv('test.feature.txt', sep='\\t', index=False)\n",
    "\n",
    "print(\"特徴量の抽出と保存が完了しました。\")\n"
   ]
  },
  {
   "cell_type": "code",
   "execution_count": 4,
   "metadata": {
    "colab": {
     "base_uri": "https://localhost:8080/"
    },
    "executionInfo": {
     "elapsed": 92770,
     "status": "ok",
     "timestamp": 1733881277986,
     "user": {
      "displayName": "横山明咲",
      "userId": "08422176585056864265"
     },
     "user_tz": -540
    },
    "id": "mfbxo98TUjQ7",
    "outputId": "41aaf7d1-b849-4d6b-9b97-4067ee25c0f5"
   },
   "outputs": [
    {
     "name": "stdout",
     "output_type": "stream",
     "text": [
      "学習が終了\n"
     ]
    }
   ],
   "source": [
    "#52\n",
    "import pandas as pd\n",
    "from sklearn.linear_model import LogisticRegression\n",
    "from sklearn.model_selection import train_test_split\n",
    "from sklearn.metrics import accuracy_score\n",
    "\n",
    "# 特徴量ファイルとラベルファイルの読み込み\n",
    "x_train = pd.read_csv(\"train.feature.txt\", sep='\\t')\n",
    "y_train = pd.read_csv(\"train.txt\", sep=\"\\t\", header=None, names=[\"CATEGORY\"])[\"CATEGORY\"]\n",
    "\n",
    "# モデルの作成\n",
    "model = LogisticRegression(max_iter=1000)  # max_iterは収束までの最大反復回数\n",
    "\n",
    "# モデルの学習\n",
    "model.fit(x_train, y_train)\n",
    "print(\"学習が終了\")"
   ]
  },
  {
   "cell_type": "code",
   "execution_count": 5,
   "metadata": {
    "colab": {
     "base_uri": "https://localhost:8080/"
    },
    "executionInfo": {
     "elapsed": 4496,
     "status": "ok",
     "timestamp": 1733881397124,
     "user": {
      "displayName": "横山明咲",
      "userId": "08422176585056864265"
     },
     "user_tz": -540
    },
    "id": "ZX_IkYr64KXu",
    "outputId": "d2555496-a69c-4414-d52a-566c864331fc"
   },
   "outputs": [
    {
     "name": "stdout",
     "output_type": "stream",
     "text": [
      "カテゴリ順：['b' 'e' 'm' 't']\n",
      "\n",
      "各記事のカテゴリ（ラベル）：\n",
      "['e' 'm' 't' 'b' 'b']\n",
      "各記事のカテゴリ予測：\n",
      "['e' 'm' 't' 'b' 'b']\n",
      "\n",
      "カテゴリの予測確率（最初の5つの記事）：\n",
      "[[0.16209162 0.72284964 0.04768133 0.06737741]\n",
      " [0.3540311  0.1157078  0.47093252 0.05932858]\n",
      " [0.17075477 0.0904447  0.04596087 0.69283966]\n",
      " [0.81462807 0.10256929 0.02786575 0.05493689]\n",
      " [0.76329074 0.08654439 0.03845946 0.11170541]]\n"
     ]
    }
   ],
   "source": [
    "#53\n",
    "import pandas as pd\n",
    "from sklearn.linear_model import LogisticRegression\n",
    "x_valid = pd.read_csv(\"valid.feature.txt\", sep='\\t')\n",
    "\n",
    "# 検証データのカテゴリ（実際のカテゴリラベルを読み込む）\n",
    "y_valid = pd.read_csv(\"valid.txt\", sep=\"\\t\", header=None, names=[\"CATEGORY\"])[\"CATEGORY\"]\n",
    "\n",
    "# ロジスティック回帰モデルを使用して予測\n",
    "print(f\"カテゴリ順：{model.classes_}\\n\")\n",
    "\n",
    "# カテゴリの予測（ラベル）\n",
    "Y_pred = model.predict(x_valid)\n",
    "print(f\"各記事のカテゴリ（ラベル）：\\n{y_valid.values[:5]}\")  # 実際のカテゴリラベル（最初の5つ）\n",
    "print(f\"各記事のカテゴリ予測：\\n{Y_pred[:5]}\\n\")  # モデルによる予測カテゴリ（最初の5つ）\n",
    "\n",
    "# カテゴリの予測確率\n",
    "Y_pred_prob = model.predict_proba(x_valid)\n",
    "print(f\"カテゴリの予測確率（最初の5つの記事）：\\n{Y_pred_prob[:5]}\")\n"
   ]
  },
  {
   "cell_type": "code",
   "execution_count": 6,
   "metadata": {
    "colab": {
     "base_uri": "https://localhost:8080/"
    },
    "executionInfo": {
     "elapsed": 1129,
     "status": "ok",
     "timestamp": 1733881398248,
     "user": {
      "displayName": "横山明咲",
      "userId": "08422176585056864265"
     },
     "user_tz": -540
    },
    "id": "jEpd-mwqVxW9",
    "outputId": "4d064175-a6a4-4d3d-a9d3-5f5e24697c5c"
   },
   "outputs": [
    {
     "name": "stdout",
     "output_type": "stream",
     "text": [
      "学習データの正解率: 0.9421\n",
      "評価データの正解率: 0.8853\n"
     ]
    }
   ],
   "source": [
    "#54\n",
    "from sklearn.metrics import accuracy_score\n",
    "\n",
    "# 評価データのカテゴリ（実際のカテゴリラベルを読み込む）\n",
    "y_test = pd.read_csv(\"test.txt\", sep=\"\\t\", header=None, names=[\"TITLE\", \"CATEGORY\"])[\"CATEGORY\"]\n",
    "\n",
    "# 学習データに対する予測と正解率\n",
    "y_train_pred = model.predict(x_train)  # 学習データに対する予測\n",
    "train_accuracy = accuracy_score(y_train, y_train_pred)  # 正解率の計算\n",
    "print(f\"学習データの正解率: {train_accuracy:.4f}\")\n",
    "\n",
    "# 評価データに対する予測と正解率\n",
    "y_test_pred = model.predict(x_test)  # 評価データに対する予測\n",
    "test_accuracy = accuracy_score(y_test, y_test_pred)  # 正解率の計算\n",
    "print(f\"評価データの正解率: {test_accuracy:.4f}\")\n"
   ]
  },
  {
   "cell_type": "code",
   "execution_count": 7,
   "metadata": {
    "colab": {
     "base_uri": "https://localhost:8080/"
    },
    "executionInfo": {
     "elapsed": 556,
     "status": "ok",
     "timestamp": 1733881398792,
     "user": {
      "displayName": "横山明咲",
      "userId": "08422176585056864265"
     },
     "user_tz": -540
    },
    "id": "znvDx6YRV90n",
    "outputId": "773079f5-a3b7-4480-9457-8d653fa78060"
   },
   "outputs": [
    {
     "name": "stdout",
     "output_type": "stream",
     "text": [
      "学習データの混同行列：\n",
      "[[4403   52    2   24]\n",
      " [  23 4237    0    2]\n",
      " [  92  126  519    2]\n",
      " [ 169  125    1  895]]\n",
      "\n",
      "評価データの混同行列：\n",
      "[[549  19   1   9]\n",
      " [ 11 491   0   2]\n",
      " [ 20  18  41   3]\n",
      " [ 39  29   2 100]]\n"
     ]
    }
   ],
   "source": [
    "#55\n",
    "from sklearn.metrics import confusion_matrix\n",
    "\n",
    "# 学習データに対する予測と混同行列\n",
    "y_train_pred = model.predict(x_train)  # 学習データに対する予測\n",
    "train_conf_matrix = confusion_matrix(y_train, y_train_pred)  # 学習データの混同行列\n",
    "print(f\"学習データの混同行列：\\n{train_conf_matrix}\\n\")\n",
    "\n",
    "# 評価データに対する予測と混同行列\n",
    "y_test_pred = model.predict(x_test)  # 評価データに対する予測\n",
    "test_conf_matrix = confusion_matrix(y_test, y_test_pred)  # 評価データの混同行列\n",
    "print(f\"評価データの混同行列：\\n{test_conf_matrix}\")"
   ]
  },
  {
   "cell_type": "code",
   "execution_count": 8,
   "metadata": {
    "colab": {
     "base_uri": "https://localhost:8080/"
    },
    "executionInfo": {
     "elapsed": 401,
     "status": "ok",
     "timestamp": 1733881400031,
     "user": {
      "displayName": "横山明咲",
      "userId": "08422176585056864265"
     },
     "user_tz": -540
    },
    "id": "yc1kB6de77MK",
    "outputId": "22cf987e-8d7e-4e8f-af0a-ccdddcd9175d"
   },
   "outputs": [
    {
     "name": "stdout",
     "output_type": "stream",
     "text": [
      "カテゴリごとの適合率、再現率、F1スコア:\n",
      "カテゴリ b:\n",
      "  適合率: 0.8869\n",
      "  再現率: 0.9498\n",
      "  F1スコア: 0.9173\n",
      "\n",
      "カテゴリ e:\n",
      "  適合率: 0.8815\n",
      "  再現率: 0.9742\n",
      "  F1スコア: 0.9255\n",
      "\n",
      "カテゴリ m:\n",
      "  適合率: 0.9318\n",
      "  再現率: 0.5000\n",
      "  F1スコア: 0.6508\n",
      "\n",
      "カテゴリ t:\n",
      "  適合率: 0.8772\n",
      "  再現率: 0.5882\n",
      "  F1スコア: 0.7042\n",
      "\n",
      "マイクロ平均（micro-average）:\n",
      "  適合率: 0.8853\n",
      "  再現率: 0.8853\n",
      "  F1スコア: 0.8853\n",
      "マクロ平均（macro-average）:\n",
      "  適合率: 0.8944\n",
      "  再現率: 0.7531\n",
      "  F1スコア: 0.7995\n"
     ]
    }
   ],
   "source": [
    "#56\n",
    "from sklearn.metrics import precision_score, recall_score, f1_score\n",
    "\n",
    "# 評価データに対する予測\n",
    "y_test_pred = model.predict(x_test)\n",
    "\n",
    "# 各カテゴリごとの適合率、再現率、F1スコアを計算（カテゴリごとにスコアを表示）\n",
    "print(\"カテゴリごとの適合率、再現率、F1スコア:\")\n",
    "for category in model.classes_:\n",
    "    precision = precision_score(y_test, y_test_pred, labels=[category], average=None)  # 各カテゴリごとのスコア\n",
    "    recall = recall_score(y_test, y_test_pred, labels=[category], average=None)\n",
    "    f1 = f1_score(y_test, y_test_pred, labels=[category], average=None)\n",
    "    print(f\"カテゴリ {category}:\")\n",
    "    print(f\"  適合率: {precision[0]:.4f}\")  # 配列の最初の要素を取り出して表示\n",
    "    print(f\"  再現率: {recall[0]:.4f}\")     # 配列の最初の要素を取り出して表示\n",
    "    print(f\"  F1スコア: {f1[0]:.4f}\")      # 配列の最初の要素を取り出して表示\n",
    "    print()\n",
    "\n",
    "# マイクロ平均（micro-average）とマクロ平均（macro-average）で統合した適合率、再現率、F1スコアを計算\n",
    "micro_precision = precision_score(y_test, y_test_pred, average='micro')\n",
    "micro_recall = recall_score(y_test, y_test_pred, average='micro')\n",
    "micro_f1 = f1_score(y_test, y_test_pred, average='micro')\n",
    "\n",
    "macro_precision = precision_score(y_test, y_test_pred, average='macro')\n",
    "macro_recall = recall_score(y_test, y_test_pred, average='macro')\n",
    "macro_f1 = f1_score(y_test, y_test_pred, average='macro')\n",
    "\n",
    "# 結果の表示\n",
    "print(f\"マイクロ平均（micro-average）:\")\n",
    "print(f\"  適合率: {micro_precision:.4f}\")\n",
    "print(f\"  再現率: {micro_recall:.4f}\")\n",
    "print(f\"  F1スコア: {micro_f1:.4f}\")\n",
    "\n",
    "print(f\"マクロ平均（macro-average）:\")\n",
    "print(f\"  適合率: {macro_precision:.4f}\")\n",
    "print(f\"  再現率: {macro_recall:.4f}\")\n",
    "print(f\"  F1スコア: {macro_f1:.4f}\")\n",
    "\n"
   ]
  },
  {
   "cell_type": "code",
   "execution_count": 9,
   "metadata": {
    "colab": {
     "base_uri": "https://localhost:8080/"
    },
    "executionInfo": {
     "elapsed": 420,
     "status": "ok",
     "timestamp": 1733881405154,
     "user": {
      "displayName": "横山明咲",
      "userId": "08422176585056864265"
     },
     "user_tz": -540
    },
    "id": "pmStZ9YQXjkW",
    "outputId": "f90e1e38-69f3-4eb9-95bf-af8acfc9e03c"
   },
   "outputs": [
    {
     "name": "stdout",
     "output_type": "stream",
     "text": [
      "重みの高い特徴量トップ10:\n",
      "bank: 3.3320\n",
      "fed: 3.1046\n",
      "ecb: 2.9448\n",
      "china: 2.7929\n",
      "oil: 2.6773\n",
      "ukraine: 2.5897\n",
      "update: 2.5883\n",
      "euro: 2.5537\n",
      "profit: 2.4612\n",
      "stocks: 2.4075\n",
      "\n",
      "重みの低い特徴量トップ10:\n",
      "and: -2.3393\n",
      "ebola: -1.9525\n",
      "her: -1.9310\n",
      "the: -1.9232\n",
      "video: -1.8212\n",
      "she: -1.7644\n",
      "study: -1.7078\n",
      "facebook: -1.6443\n",
      "apple: -1.6245\n",
      "kardashian: -1.6110\n"
     ]
    }
   ],
   "source": [
    "#57\n",
    "import numpy as np\n",
    "import pandas as pd\n",
    "\n",
    "# モデルの重み（係数）を取得\n",
    "coefficients = model.coef_[0]  # 二項分類の場合、[0] で最初のクラスの係数を取得\n",
    "\n",
    "# 特徴量名を取得（これはTF-IDFで学習した特徴量名）\n",
    "feature_names = np.array(vec_tfidf.get_feature_names_out())\n",
    "\n",
    "# 重みの高いトップ10特徴量\n",
    "top_10_positive_idx = coefficients.argsort()[-10:][::-1]  # 高い順に並べ替え\n",
    "top_10_negative_idx = coefficients.argsort()[:10]  # 低い順に並べ替え\n",
    "\n",
    "top_10_positive = [(feature_names[i], coefficients[i]) for i in top_10_positive_idx]\n",
    "top_10_negative = [(feature_names[i], coefficients[i]) for i in top_10_negative_idx]\n",
    "\n",
    "# 結果を表示\n",
    "print(\"重みの高い特徴量トップ10:\")\n",
    "for feature, weight in top_10_positive:\n",
    "    print(f\"{feature}: {weight:.4f}\")\n",
    "\n",
    "print(\"\\n重みの低い特徴量トップ10:\")\n",
    "for feature, weight in top_10_negative:\n",
    "    print(f\"{feature}: {weight:.4f}\")\n"
   ]
  },
  {
   "cell_type": "code",
   "execution_count": null,
   "metadata": {
    "id": "Pd0EEQFr0-c6"
   },
   "outputs": [],
   "source": [
    "import pandas as pd\n",
    "x_train = pd.read_csv(\"train.feature.txt\", sep='\\t')\n",
    "y_train = pd.read_csv(\"train.txt\", sep=\"\\t\", header=None, names=[\"CATEGORY\"])[\"CATEGORY\"]\n",
    "\n",
    "x_valid = pd.read_csv(\"valid.feature.txt\", sep='\\t')\n",
    "y_valid = pd.read_csv(\"valid.txt\", sep=\"\\t\", header=None, names=[\"CATEGORY\"])[\"CATEGORY\"]\n",
    "\n",
    "x_test = pd.read_csv(\"test.feature.txt\", sep='\\t')\n",
    "y_test = pd.read_csv(\"test.txt\", sep=\"\\t\", header=None, names=[\"CATEGORY\"])[\"CATEGORY\"]\n"
   ]
  },
  {
   "cell_type": "code",
   "execution_count": 10,
   "metadata": {
    "colab": {
     "base_uri": "https://localhost:8080/",
     "height": 1000
    },
    "executionInfo": {
     "elapsed": 41066,
     "status": "ok",
     "timestamp": 1733881454341,
     "user": {
      "displayName": "横山明咲",
      "userId": "08422176585056864265"
     },
     "user_tz": -540
    },
    "id": "gA7Na3kk3yDb",
    "outputId": "992199a5-2e14-4413-f3f7-a978efc90ac0"
   },
   "outputs": [
    {
     "name": "stdout",
     "output_type": "stream",
     "text": [
      "【正則化パラメータ：0.0010】\n",
      "train_accuracy：0.4303\n",
      "valid_accuracy：0.4378\n",
      "test_accuracy：0.4475\n",
      "\n",
      "【正則化パラメータ：0.0046】\n",
      "train_accuracy：0.6490\n",
      "valid_accuracy：0.6544\n",
      "test_accuracy：0.6364\n",
      "\n",
      "【正則化パラメータ：0.0215】\n",
      "train_accuracy：0.7660\n",
      "valid_accuracy：0.7639\n",
      "test_accuracy：0.7519\n",
      "\n",
      "【正則化パラメータ：0.1000】\n",
      "train_accuracy：0.7797\n",
      "valid_accuracy：0.7706\n",
      "test_accuracy：0.7676\n",
      "\n",
      "【正則化パラメータ：0.4642】\n",
      "train_accuracy：0.8607\n",
      "valid_accuracy：0.8388\n",
      "test_accuracy：0.8306\n",
      "\n",
      "【正則化パラメータ：2.1544】\n",
      "train_accuracy：0.9601\n",
      "valid_accuracy：0.8913\n",
      "test_accuracy：0.8936\n",
      "\n",
      "【正則化パラメータ：10.0000】\n",
      "train_accuracy：0.9964\n",
      "valid_accuracy：0.9168\n",
      "test_accuracy：0.9153\n",
      "\n",
      "【正則化パラメータ：46.4159】\n",
      "train_accuracy：0.9992\n",
      "valid_accuracy：0.9190\n",
      "test_accuracy：0.9145\n",
      "\n",
      "【正則化パラメータ：215.4435】\n",
      "train_accuracy：0.9993\n",
      "valid_accuracy：0.9213\n",
      "test_accuracy：0.9160\n",
      "\n",
      "【正則化パラメータ：1000.0000】\n",
      "train_accuracy：0.9993\n",
      "valid_accuracy：0.9205\n",
      "test_accuracy：0.9160\n",
      "\n"
     ]
    },
    {
     "data": {
      "image/png": "[encoded data removed]",
      "text/plain": [
       "<Figure size 640x480 with 1 Axes>"
      ]
     },
     "metadata": {},
     "output_type": "display_data"
    }
   ],
   "source": [
    "#58\n",
    "import numpy as np\n",
    "import matplotlib.pyplot as plt\n",
    "from sklearn.linear_model import LogisticRegression\n",
    "from sklearn.metrics import accuracy_score\n",
    "\n",
    "# モデル構築・学習関数\n",
    "def LR_model_fit(x_data, y_data, c):\n",
    "    model = LogisticRegression(C=c, max_iter=1000, solver='liblinear')\n",
    "    model.fit(x_data, y_data)\n",
    "    return model\n",
    "\n",
    "# 予測・精度計算関数\n",
    "def LR_pred(x_data, y_data, model):\n",
    "    Y_pred_data = model.predict(x_data)\n",
    "    accuracy = accuracy_score(y_data, Y_pred_data)\n",
    "    return accuracy\n",
    "\n",
    "train_acc = []\n",
    "valid_acc = []\n",
    "test_acc = []\n",
    "\n",
    "# 正則化パラメータ\n",
    "c_list = np.logspace(-3, 3, 10)\n",
    "\n",
    "for c in c_list:\n",
    "    model = LR_model_fit(x_train, y_train, c)\n",
    "    pre_train = LR_pred(x_train, y_train, model)\n",
    "    pre_valid = LR_pred(x_valid, y_valid, model)\n",
    "    pre_test = LR_pred(x_test, y_test, model)\n",
    "\n",
    "    train_acc.append(pre_train)\n",
    "    valid_acc.append(pre_valid)\n",
    "    test_acc.append(pre_test)\n",
    "\n",
    "    print(f\"【正則化パラメータ：{c:.4f}】\")\n",
    "    print(f\"train_accuracy：{pre_train:.4f}\")\n",
    "    print(f\"valid_accuracy：{pre_valid:.4f}\")\n",
    "    print(f\"test_accuracy：{pre_test:.4f}\\n\")\n",
    "\n",
    "# 可視化\n",
    "plt.plot(c_list, train_acc, label=\"train\", marker=\"o\")\n",
    "plt.plot(c_list, valid_acc, label=\"valid\", marker=\"o\")\n",
    "plt.plot(c_list, test_acc, label=\"test\", marker=\"o\")\n",
    "plt.xscale('log')  # 対数スケール\n",
    "plt.legend()\n",
    "plt.grid(True)\n",
    "plt.xlabel(\"Regularization Parameter (C)\")\n",
    "plt.ylabel(\"Accuracy\")\n",
    "plt.title(\"Effect of Regularization on Logistic Regression\")\n",
    "plt.show()\n",
    "\n"
   ]
  },
  {
   "cell_type": "code",
   "execution_count": 12,
   "metadata": {
    "colab": {
     "base_uri": "https://localhost:8080/"
    },
    "executionInfo": {
     "elapsed": 278119,
     "status": "ok",
     "timestamp": 1733882622273,
     "user": {
      "displayName": "横山明咲",
      "userId": "08422176585056864265"
     },
     "user_tz": -540
    },
    "id": "An7NUTygvRWm",
    "outputId": "f47b83ff-6747-4fbd-f404-b8d250977ac0"
   },
   "outputs": [
    {
     "name": "stdout",
     "output_type": "stream",
     "text": [
      "最良モデル: LogisticRegression\n",
      "最良パラメータ: {'C': 10}\n",
      "検証データ上の正解率: 91.30%\n",
      "評価データ上の正解率: 91.15%\n"
     ]
    }
   ],
   "source": [
    "#59\n",
    "from sklearn.linear_model import LogisticRegression\n",
    "from sklearn.ensemble import RandomForestClassifier\n",
    "from sklearn.metrics import accuracy_score\n",
    "from sklearn.model_selection import ParameterGrid\n",
    "\n",
    "# 学習アルゴリズムとパラメータ設定\n",
    "algorithms = [\n",
    "    {\n",
    "        \"name\": \"LogisticRegression\",\n",
    "        \"model\": LogisticRegression(max_iter=500),\n",
    "        \"params\": {\"C\": [0.1, 1, 10]}\n",
    "    },\n",
    "    {\n",
    "        \"name\": \"RandomForest\",\n",
    "        \"model\": RandomForestClassifier(),\n",
    "        \"params\": {\"n_estimators\": [10, 50, 100]}\n",
    "    }\n",
    "]\n",
    "\n",
    "best_model = None\n",
    "best_algorithm = None\n",
    "best_params = None\n",
    "best_accuracy = 0\n",
    "\n",
    "# 学習と評価\n",
    "for algo in algorithms:\n",
    "    name = algo[\"name\"]\n",
    "    model = algo[\"model\"]\n",
    "    param_grid = ParameterGrid(algo[\"params\"])\n",
    "\n",
    "    for params in param_grid:\n",
    "        # パラメータを設定\n",
    "        model.set_params(**params)\n",
    "\n",
    "        # モデルを学習\n",
    "        model.fit(x_train, y_train)\n",
    "\n",
    "        # 検証データで性能を評価\n",
    "        y_valid_pred = model.predict(x_valid)\n",
    "        valid_accuracy = accuracy_score(y_valid, y_valid_pred)\n",
    "\n",
    "        # 最良モデルの更新\n",
    "        if valid_accuracy > best_accuracy:\n",
    "            best_model = model\n",
    "            best_algorithm = name\n",
    "            best_params = params\n",
    "            best_accuracy = valid_accuracy\n",
    "\n",
    "# 最良モデルを評価データで評価\n",
    "y_test_pred = best_model.predict(x_test)\n",
    "test_accuracy = accuracy_score(y_test, y_test_pred)\n",
    "\n",
    "# 結果表示\n",
    "print(f\"最良モデル: {best_algorithm}\")\n",
    "print(f\"最良パラメータ: {best_params}\")\n",
    "print(f\"検証データ上の正解率: {best_accuracy:.2%}\")\n",
    "print(f\"評価データ上の正解率: {test_accuracy:.2%}\")\n",
    "\n"
   ]
  }
 ],
 "metadata": {
  "colab": {
   "authorship_tag": "ABX9TyM2LyRpiRq48JySkpIw8Gfh",
   "provenance": []
  },
  "kernelspec": {
   "display_name": "Python 3",
   "name": "python3"
  },
  "language_info": {
   "name": "python",
   "version": "3.11.7"
  }
 },
 "nbformat": 4,
 "nbformat_minor": 0
}
