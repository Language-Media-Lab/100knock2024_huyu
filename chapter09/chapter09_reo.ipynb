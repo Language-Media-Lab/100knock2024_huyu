{
  "cells": [
    {
      "cell_type": "markdown",
      "metadata": {
        "id": "2e-5vGkhtAzk"
      },
      "source": [
        "# 第9章: RNN, CNN"
      ]
    },
    {
      "cell_type": "code",
      "execution_count": 2,
      "metadata": {},
      "outputs": [],
      "source": [
        "PATH = \"./app\""
      ]
    },
    {
      "cell_type": "code",
      "execution_count": 3,
      "metadata": {
        "colab": {
          "base_uri": "https://localhost:8080/"
        },
        "id": "ymi6kai1tv-9",
        "outputId": "86ba7c19-1a67-4f29-bc34-473ed7f40b78"
      },
      "outputs": [
        {
          "name": "stdout",
          "output_type": "stream",
          "text": [
            "--2025-01-15 14:58:29--  https://archive.ics.uci.edu/static/public/359/news+aggregator.zip\n",
            "Resolving archive.ics.uci.edu (archive.ics.uci.edu)... 128.195.10.252\n",
            "Connecting to archive.ics.uci.edu (archive.ics.uci.edu)|128.195.10.252|:443... connected.\n",
            "HTTP request sent, awaiting response... 200 OK\n",
            "Length: unspecified\n",
            "Saving to: ‘./app/news+aggregator.zip.1’\n",
            "\n",
            "news+aggregator.zip     [<=>                 ]       0  --.-KB/s               ^C\n"
          ]
        }
      ],
      "source": [
        "!sudo wget -P {PATH} https://archive.ics.uci.edu/static/public/359/news+aggregator.zip"
      ]
    },
    {
      "cell_type": "code",
      "execution_count": null,
      "metadata": {
        "colab": {
          "base_uri": "https://localhost:8080/"
        },
        "id": "AKoauWX8uPQs",
        "outputId": "641523a1-4d81-449c-d330-afed0ef79f53"
      },
      "outputs": [
        {
          "name": "stdout",
          "output_type": "stream",
          "text": [
            "Archive:  ./app/news+aggregator.zip\n",
            "  inflating: ./app/2pageSessions.csv  \n",
            "   creating: ./app/__MACOSX/\n",
            "  inflating: ./app/__MACOSX/._2pageSessions.csv  \n",
            "  inflating: ./app/newsCorpora.csv   \n",
            "  inflating: ./app/__MACOSX/._newsCorpora.csv  \n",
            "  inflating: ./app/readme.txt        \n",
            "  inflating: ./app/__MACOSX/._readme.txt  \n"
          ]
        }
      ],
      "source": [
        "!unzip {PATH}/news+aggregator.zip -d {PATH}"
      ]
    },
    {
      "cell_type": "code",
      "execution_count": 25,
      "metadata": {},
      "outputs": [],
      "source": [
        "import pandas as pd\n",
        "import numpy as np\n",
        "import matplotlib.pyplot as plt\n",
        "import re\n",
        "from sklearn.model_selection import train_test_split\n",
        "from sklearn.feature_extraction.text import TfidfVectorizer\n",
        "from collections import Counter\n",
        "import torch\n",
        "from torch import nn\n",
        "from torch.nn import functional as F\n",
        "from torch.utils.data import DataLoader\n",
        "import torch.optim as optim\n",
        "from tqdm import tqdm\n",
        "import numpy as np\n",
        "from gensim.models import KeyedVectors\n",
        "from transformers import BertTokenizer, BertModel"
      ]
    },
    {
      "cell_type": "markdown",
      "metadata": {
        "id": "xnfE4XtlyZDV"
      },
      "source": [
        "## 80. ID番号への変換"
      ]
    },
    {
      "cell_type": "code",
      "execution_count": null,
      "metadata": {
        "colab": {
          "base_uri": "https://localhost:8080/"
        },
        "id": "5TfYH_CHuWg4",
        "outputId": "04d435cb-6f55-4768-bf6d-356267202991"
      },
      "outputs": [
        {
          "name": "stdout",
          "output_type": "stream",
          "text": [
            "train:\n",
            "CATEGORY\n",
            "b    4502\n",
            "e    4223\n",
            "t    1219\n",
            "m     728\n",
            "Name: count, dtype: int64\n",
            "\n",
            "test:\n",
            "CATEGORY\n",
            "b    563\n",
            "e    528\n",
            "t    152\n",
            "m     91\n",
            "Name: count, dtype: int64\n",
            "\n",
            "valid:\n",
            "CATEGORY\n",
            "b    562\n",
            "e    528\n",
            "t    153\n",
            "m     91\n",
            "Name: count, dtype: int64\n"
          ]
        }
      ],
      "source": [
        "def prosess(text):\n",
        "    text = re.sub(r\"\\s-*?\\s\", \" \", text)\n",
        "    text = re.sub(r\"-\", \" \", text)\n",
        "    text = re.sub(r\"[\\\"\\'.,:;\\(\\)#\\|\\*\\+\\!\\?#$%&/\\]\\[\\{\\}]\", \"\", text)\n",
        "\n",
        "    return text\n",
        "\n",
        "data = pd.read_csv(f\"{PATH}/newsCorpora.csv\", sep=\"\\t\", header=None)\n",
        "data.columns = [\"ID\", \"TITLE\", \"URL\", \"PUBLISHER\", \"CATEGORY\", \"STORY\", \"HOSTNAME\", \"TIMESTAMP\"]\n",
        "\n",
        "publishers = [\"Reuters\", \"Huffington Post\", \"Businessweek\", \"Contactmusic.com\", \"Daily Mail\"]\n",
        "data = data[data[\"PUBLISHER\"].isin(publishers)]\n",
        "\n",
        "data = data.loc[:, [\"CATEGORY\", \"TITLE\"]]\n",
        "\n",
        "data[\"TITLE\"] = data[\"TITLE\"].map(prosess)\n",
        "\n",
        "vectorizer = TfidfVectorizer(min_df=0.001)\n",
        "X = vectorizer.fit_transform(data[\"TITLE\"])\n",
        "X_df = pd.DataFrame(X.toarray(), columns=vectorizer.get_feature_names_out())\n",
        "X_df = pd.concat([data[\"CATEGORY\"], X_df], axis=1)\n",
        "\n",
        "data = data.sample(frac=1, random_state=42)\n",
        "\n",
        "train, test_valid = train_test_split(data, test_size=0.2, random_state=1, stratify=data[\"CATEGORY\"])\n",
        "test, valid = train_test_split(test_valid, test_size=0.5, random_state=1, stratify=test_valid[\"CATEGORY\"])\n",
        "\n",
        "train.to_csv(f\"{PATH}/train.txt\", sep=\"\\t\", index=False)\n",
        "test.to_csv(f\"{PATH}/test.txt\", sep=\"\\t\", index=False)\n",
        "valid.to_csv(f\"{PATH}/valid.txt\", sep=\"\\t\", index=False)\n",
        "\n",
        "print(\"train:\")\n",
        "print(train[\"CATEGORY\"].value_counts())\n",
        "print(\"\\ntest:\")\n",
        "print(test[\"CATEGORY\"].value_counts())\n",
        "print(\"\\nvalid:\")\n",
        "print(valid[\"CATEGORY\"].value_counts())"
      ]
    },
    {
      "cell_type": "code",
      "execution_count": null,
      "metadata": {
        "colab": {
          "base_uri": "https://localhost:8080/"
        },
        "id": "YRu24TrlukPa",
        "outputId": "a8175e23-91a9-4dad-b9cd-92cc89607c7c"
      },
      "outputs": [
        {
          "name": "stdout",
          "output_type": "stream",
          "text": [
            "to 1\n",
            "in 2\n",
            "UPDATE 3\n",
            "on 4\n",
            "US 5\n",
            "as 6\n",
            "for 7\n",
            "The 8\n",
            "of 9\n",
            "1 10\n",
            "CORRECTED IMF still sees advantage for too important to fail banks\n",
            "[123, 548, 447, 267, 5220, 7, 1046, 0, 1, 5221, 381]\n"
          ]
        }
      ],
      "source": [
        "words = []\n",
        "for text in train['TITLE']:\n",
        "    for word in text.rstrip().split():\n",
        "        words.append(word)\n",
        "c = Counter(words)\n",
        "word2id = {}\n",
        "for i, cnt in enumerate(c.most_common()):\n",
        "    if cnt[1] > 1:\n",
        "        word2id[cnt[0]] = i + 1\n",
        "for i, cnt in enumerate(word2id.items()):\n",
        "    if i >= 10:\n",
        "        break\n",
        "    print(cnt[0], cnt[1])\n",
        "\n",
        "def tokenizer(text):\n",
        "    words = text.rstrip().split()\n",
        "    return [word2id.get(word, 0) for word in words]\n",
        "\n",
        "sample = train.iloc[0, 1]\n",
        "print(sample)\n",
        "print(tokenizer(sample))"
      ]
    },
    {
      "cell_type": "markdown",
      "metadata": {
        "id": "-pNiflr0yfk0"
      },
      "source": [
        "## 81. RNNによる予測"
      ]
    },
    {
      "cell_type": "code",
      "execution_count": null,
      "metadata": {
        "id": "Ginl0pLuyh-b"
      },
      "outputs": [
        {
          "name": "stdout",
          "output_type": "stream",
          "text": [
            "RNN(\n",
            "  (emb): Embedding(9609, 300, padding_idx=9608)\n",
            "  (rnn): RNN(300, 50, batch_first=True)\n",
            "  (fc): Linear(in_features=50, out_features=4, bias=True)\n",
            ")\n"
          ]
        }
      ],
      "source": [
        "class RNN(nn.Module):\n",
        "\tdef __init__(self, vocab_size, emb_size, padding_idx, hidden_size, output_size, num_layers=1):\n",
        "\t\tsuper().__init__()\n",
        "\t\tself.emb = nn.Embedding(vocab_size, emb_size, padding_idx=padding_idx)\n",
        "\t\tself.rnn = nn.RNN(emb_size, hidden_size, batch_first=True)\n",
        "\t\tself.fc = nn.Linear(hidden_size, output_size)\n",
        "\n",
        "\tdef forward(self, x, h0=None):\n",
        "\t\tx = self.emb(x)\n",
        "\t\ty, h = self.rnn(x, h0)\n",
        "\t\ty = y[:, -1, :]\n",
        "\t\ty = self.fc(y)\n",
        "\t\treturn y\n",
        "\n",
        "VOCAB_SIZE = len(set(word2id.values())) + 2\n",
        "EMB_SIZE = 300\n",
        "PADDING_IDX = len(set(word2id.values())) + 1\n",
        "OUTPUT_SIZE = 4\n",
        "HIDDEN_SIZE = 50\n",
        "NUM_LAYERS = 1\n",
        "\n",
        "model = RNN(VOCAB_SIZE, EMB_SIZE, PADDING_IDX, HIDDEN_SIZE, OUTPUT_SIZE, NUM_LAYERS)\n",
        "print(model)"
      ]
    },
    {
      "cell_type": "code",
      "execution_count": 7,
      "metadata": {},
      "outputs": [],
      "source": [
        "def EncoderNN(sign):\n",
        "    category_dict = {'b': 0, 't': 1, 'e':2, 'm':3}\n",
        "    try:\n",
        "        code = category_dict[sign]\n",
        "        return code\n",
        "    except:\n",
        "        raise ValueError(\"Invalid sign: {}\".format(sign))\n",
        "\n",
        "def TorchData(data):\n",
        "\tdf = pd.read_table(f\"{PATH}/{data}.txt\")\n",
        "\n",
        "\tdf[\"CATEGORY\"] = df[\"CATEGORY\"].map(EncoderNN)\n",
        "\n",
        "\treturn Dataset(df, df[\"CATEGORY\"])\n",
        "\n",
        "class Dataset(torch.utils.data.Dataset):\n",
        "    def __init__(self, X, y):\n",
        "        self.X = X['TITLE']\n",
        "        self.y = y\n",
        "    \n",
        "    def __len__(self):\n",
        "        \"\"\"全データサイズを返す\"\"\"\n",
        "        return len(self.y)\n",
        "    \n",
        "    def __getitem__(self, idx):\n",
        "        \"\"\"idxに対応するテンソル形式のデータとラベルを取得\"\"\"\n",
        "        inputs = torch.tensor(tokenizer(self.X[idx]))\n",
        "        return inputs, self.y[idx]\n",
        "\n",
        "train_dataset = TorchData(\"train\")\n",
        "test_dataset = TorchData(\"test\")\n",
        "valid_dataset = TorchData(\"valid\")"
      ]
    },
    {
      "cell_type": "markdown",
      "metadata": {},
      "source": [
        "## 82. 確率的勾配降下法による学習"
      ]
    },
    {
      "cell_type": "code",
      "execution_count": 42,
      "metadata": {},
      "outputs": [
        {
          "name": "stdout",
          "output_type": "stream",
          "text": [
            "epoch: 1 / 10\n"
          ]
        },
        {
          "name": "stderr",
          "output_type": "stream",
          "text": [
            "100%|██████████| 10672/10672 [00:59<00:00, 179.91it/s]\n"
          ]
        },
        {
          "name": "stdout",
          "output_type": "stream",
          "text": [
            "train Loss: 1.0949 Acc: 0.5674\n"
          ]
        },
        {
          "name": "stderr",
          "output_type": "stream",
          "text": [
            "100%|██████████| 1334/1334 [00:01<00:00, 759.23it/s]\n"
          ]
        },
        {
          "name": "stdout",
          "output_type": "stream",
          "text": [
            "valid Loss: 0.9172 Acc: 0.6949\n",
            "--------------------------------------------------\n",
            "epoch: 2 / 10\n"
          ]
        },
        {
          "name": "stderr",
          "output_type": "stream",
          "text": [
            "100%|██████████| 10672/10672 [00:59<00:00, 178.41it/s]\n"
          ]
        },
        {
          "name": "stdout",
          "output_type": "stream",
          "text": [
            "train Loss: 0.8530 Acc: 0.7034\n"
          ]
        },
        {
          "name": "stderr",
          "output_type": "stream",
          "text": [
            "100%|██████████| 1334/1334 [00:01<00:00, 825.33it/s]\n"
          ]
        },
        {
          "name": "stdout",
          "output_type": "stream",
          "text": [
            "valid Loss: 0.8715 Acc: 0.6927\n",
            "--------------------------------------------------\n",
            "epoch: 3 / 10\n"
          ]
        },
        {
          "name": "stderr",
          "output_type": "stream",
          "text": [
            "100%|██████████| 10672/10672 [00:59<00:00, 177.93it/s]\n"
          ]
        },
        {
          "name": "stdout",
          "output_type": "stream",
          "text": [
            "train Loss: 0.7299 Acc: 0.7468\n"
          ]
        },
        {
          "name": "stderr",
          "output_type": "stream",
          "text": [
            "100%|██████████| 1334/1334 [00:01<00:00, 778.11it/s]\n"
          ]
        },
        {
          "name": "stdout",
          "output_type": "stream",
          "text": [
            "valid Loss: 0.7984 Acc: 0.7301\n",
            "--------------------------------------------------\n",
            "epoch: 4 / 10\n"
          ]
        },
        {
          "name": "stderr",
          "output_type": "stream",
          "text": [
            "100%|██████████| 10672/10672 [00:59<00:00, 179.50it/s]\n"
          ]
        },
        {
          "name": "stdout",
          "output_type": "stream",
          "text": [
            "train Loss: 0.6255 Acc: 0.7793\n"
          ]
        },
        {
          "name": "stderr",
          "output_type": "stream",
          "text": [
            "100%|██████████| 1334/1334 [00:01<00:00, 768.22it/s]\n"
          ]
        },
        {
          "name": "stdout",
          "output_type": "stream",
          "text": [
            "valid Loss: 0.8262 Acc: 0.7256\n",
            "--------------------------------------------------\n",
            "epoch: 5 / 10\n"
          ]
        },
        {
          "name": "stderr",
          "output_type": "stream",
          "text": [
            "100%|██████████| 10672/10672 [01:00<00:00, 175.54it/s]\n"
          ]
        },
        {
          "name": "stdout",
          "output_type": "stream",
          "text": [
            "train Loss: 0.5206 Acc: 0.8132\n"
          ]
        },
        {
          "name": "stderr",
          "output_type": "stream",
          "text": [
            "100%|██████████| 1334/1334 [00:01<00:00, 770.50it/s]\n"
          ]
        },
        {
          "name": "stdout",
          "output_type": "stream",
          "text": [
            "valid Loss: 0.8026 Acc: 0.7369\n",
            "--------------------------------------------------\n",
            "epoch: 6 / 10\n"
          ]
        },
        {
          "name": "stderr",
          "output_type": "stream",
          "text": [
            "100%|██████████| 10672/10672 [01:02<00:00, 171.97it/s]\n"
          ]
        },
        {
          "name": "stdout",
          "output_type": "stream",
          "text": [
            "train Loss: 0.4639 Acc: 0.8331\n"
          ]
        },
        {
          "name": "stderr",
          "output_type": "stream",
          "text": [
            "100%|██████████| 1334/1334 [00:01<00:00, 755.83it/s]\n"
          ]
        },
        {
          "name": "stdout",
          "output_type": "stream",
          "text": [
            "valid Loss: 1.0695 Acc: 0.6807\n",
            "--------------------------------------------------\n",
            "epoch: 7 / 10\n"
          ]
        },
        {
          "name": "stderr",
          "output_type": "stream",
          "text": [
            "100%|██████████| 10672/10672 [01:01<00:00, 173.33it/s]\n"
          ]
        },
        {
          "name": "stdout",
          "output_type": "stream",
          "text": [
            "train Loss: 0.4540 Acc: 0.8370\n"
          ]
        },
        {
          "name": "stderr",
          "output_type": "stream",
          "text": [
            "100%|██████████| 1334/1334 [00:01<00:00, 708.72it/s]\n"
          ]
        },
        {
          "name": "stdout",
          "output_type": "stream",
          "text": [
            "valid Loss: 0.9262 Acc: 0.6777\n",
            "--------------------------------------------------\n",
            "epoch: 8 / 10\n"
          ]
        },
        {
          "name": "stderr",
          "output_type": "stream",
          "text": [
            "100%|██████████| 10672/10672 [01:01<00:00, 172.31it/s]\n"
          ]
        },
        {
          "name": "stdout",
          "output_type": "stream",
          "text": [
            "train Loss: 0.4026 Acc: 0.8519\n"
          ]
        },
        {
          "name": "stderr",
          "output_type": "stream",
          "text": [
            "100%|██████████| 1334/1334 [00:01<00:00, 746.15it/s]\n"
          ]
        },
        {
          "name": "stdout",
          "output_type": "stream",
          "text": [
            "valid Loss: 0.8956 Acc: 0.7001\n",
            "--------------------------------------------------\n",
            "epoch: 9 / 10\n"
          ]
        },
        {
          "name": "stderr",
          "output_type": "stream",
          "text": [
            "100%|██████████| 10672/10672 [01:01<00:00, 172.74it/s]\n"
          ]
        },
        {
          "name": "stdout",
          "output_type": "stream",
          "text": [
            "train Loss: 0.3471 Acc: 0.8710\n"
          ]
        },
        {
          "name": "stderr",
          "output_type": "stream",
          "text": [
            "100%|██████████| 1334/1334 [00:01<00:00, 764.79it/s]\n"
          ]
        },
        {
          "name": "stdout",
          "output_type": "stream",
          "text": [
            "valid Loss: 0.9307 Acc: 0.7354\n",
            "--------------------------------------------------\n",
            "epoch: 10 / 10\n"
          ]
        },
        {
          "name": "stderr",
          "output_type": "stream",
          "text": [
            "100%|██████████| 10672/10672 [01:02<00:00, 171.54it/s]\n"
          ]
        },
        {
          "name": "stdout",
          "output_type": "stream",
          "text": [
            "train Loss: 0.3399 Acc: 0.8756\n"
          ]
        },
        {
          "name": "stderr",
          "output_type": "stream",
          "text": [
            "100%|██████████| 1334/1334 [00:01<00:00, 702.29it/s]\n"
          ]
        },
        {
          "name": "stdout",
          "output_type": "stream",
          "text": [
            "valid Loss: 0.9302 Acc: 0.7211\n",
            "--------------------------------------------------\n"
          ]
        },
        {
          "data": {
            "image/png": "[encoded data removed]",
            "text/plain": [
              "<Figure size 864x360 with 2 Axes>"
            ]
          },
          "metadata": {
            "needs_background": "light"
          },
          "output_type": "display_data"
        }
      ],
      "source": [
        "model = RNN(VOCAB_SIZE, EMB_SIZE, PADDING_IDX, HIDDEN_SIZE, OUTPUT_SIZE, NUM_LAYERS)\n",
        "\n",
        "loss = nn.CrossEntropyLoss(reduction=\"mean\")\n",
        "optimizer = optim.SGD(params=model.parameters(), lr=0.01)\n",
        "\n",
        "DL_train = DataLoader(train_dataset, batch_size=1, shuffle=True)\n",
        "DL_test = DataLoader(test_dataset, batch_size=1, shuffle=False)\n",
        "DL_valid = DataLoader(valid_dataset, batch_size=1, shuffle=False)\n",
        "DL_dict = {\"train\": DL_train, \"test\": DL_test, \"valid\": DL_valid}\n",
        "\n",
        "train_loss = []\n",
        "train_acc = []\n",
        "valid_loss = []\n",
        "valid_acc = []\n",
        "\n",
        "epoch = 10\n",
        "for ep in range(epoch):\n",
        "\tprint(f\"epoch: {ep+1} / {epoch}\")\n",
        "\tfor phase in [\"train\", \"valid\"]:\n",
        "\t\tepoch_loss = 0.0\n",
        "\t\tepoch_corrects = 0\n",
        "\n",
        "\t\tfor X, Y in tqdm(DL_dict[phase]):\n",
        "\t\t\toptimizer.zero_grad()\n",
        "\t\t\tY_pred = model(X)\n",
        "\t\t\tCEloss = loss(Y_pred, Y)\n",
        "\t\t\t_, preds = torch.max(Y_pred, 1)\n",
        "\t\t\t\n",
        "\t\t\tif phase == \"train\":\n",
        "\t\t\t\tCEloss.backward()\n",
        "\t\t\t\toptimizer.step()\n",
        "\n",
        "\t\t\tepoch_loss += CEloss.item() * X.size(0)\n",
        "\t\t\tepoch_corrects += torch.sum(preds == Y.data)\n",
        "\n",
        "\t\tepoch_loss = epoch_loss / len(DL_dict[phase].dataset)\n",
        "\t\tepoch_acc = epoch_corrects.double() / len(DL_dict[phase].dataset)\n",
        "\t\tif phase == 'train':\n",
        "\t\t\ttrain_loss.append(epoch_loss)\n",
        "\t\t\ttrain_acc.append(epoch_acc)\n",
        "\t\telse:\n",
        "\t\t\tvalid_loss.append(epoch_loss)\n",
        "\t\t\tvalid_acc.append(epoch_acc)\n",
        "\t\tprint(f\"{phase} Loss: {epoch_loss:.4f} Acc: {epoch_acc:.4f}\")\n",
        "\t\t\n",
        "\tprint(\"-\"*50)\n",
        "\t\t\n",
        "ax, fig = plt.subplots(1, 2, figsize=(12, 5))\n",
        "fig[0].plot(range(epoch), train_loss, label=\"train\")\n",
        "fig[0].plot(range(epoch), valid_loss, label=\"valid\")\n",
        "fig[0].legend()\n",
        "fig[0].set_title(\"loss\")\n",
        "fig[1].plot(range(epoch), train_acc, label=\"train\")\n",
        "fig[1].plot(range(epoch), valid_acc, label=\"valid\")\n",
        "fig[1].legend()\n",
        "fig[1].set_title(\"accuracy\")\n",
        "plt.show()"
      ]
    },
    {
      "cell_type": "markdown",
      "metadata": {},
      "source": [
        "## 83. ミニバッチ化・GPU上での学習"
      ]
    },
    {
      "cell_type": "code",
      "execution_count": 8,
      "metadata": {},
      "outputs": [],
      "source": [
        "def train_model(model, DL_dict, loss, optimizer, epoch):\n",
        "\n",
        "\tdevice = torch.device(\"cuda:0\" if torch.cuda.is_available() else \"cpu\")\n",
        "\tprint(torch.cuda.get_device_name())\n",
        "\tprint(\"使用デバイス:\", device)\n",
        "\n",
        "\tmodel.to(device)\n",
        "\n",
        "\ttrain_loss = []\n",
        "\ttrain_acc = []\n",
        "\tvalid_loss = []\n",
        "\tvalid_acc = []\n",
        "\n",
        "\tfor ep in range(epoch):\n",
        "\t\tprint(f\"epoch: {ep+1} / {epoch}\")\n",
        "\t\tfor phase in [\"train\", \"valid\"]:\n",
        "\t\t\tepoch_loss = 0.0\n",
        "\t\t\tepoch_corrects = 0\n",
        "\n",
        "\t\t\tfor X, Y in DL_dict[phase]:\n",
        "\t\t\t\tX = X.to(device)\n",
        "\t\t\t\tY = Y.to(device)\n",
        "\t\t\t\toptimizer.zero_grad()\n",
        "\t\t\t\tY_pred = model(X)\n",
        "\t\t\t\tCEloss = loss(Y_pred, Y)\n",
        "\t\t\t\t_, preds = torch.max(Y_pred, 1)\n",
        "\t\t\t\t\n",
        "\t\t\t\tif phase == \"train\":\n",
        "\t\t\t\t\tCEloss.backward()\n",
        "\t\t\t\t\toptimizer.step()\n",
        "\n",
        "\t\t\t\tepoch_loss += CEloss.item() * X.size(0)\n",
        "\t\t\t\tepoch_corrects += torch.sum(preds == Y.data)\n",
        "\n",
        "\t\t\tepoch_loss = epoch_loss / len(DL_dict[phase].dataset)\n",
        "\t\t\tepoch_acc = epoch_corrects.double() / len(DL_dict[phase].dataset)\n",
        "\t\t\tif phase == 'train':\n",
        "\t\t\t\ttrain_loss.append(epoch_loss)\n",
        "\t\t\t\ttrain_acc.append(epoch_acc.cpu())\n",
        "\t\t\telse:\n",
        "\t\t\t\tvalid_loss.append(epoch_loss)\n",
        "\t\t\t\tvalid_acc.append(epoch_acc.cpu())\n",
        "\t\t\tprint(f\"{phase} Loss: {epoch_loss:.4f} Acc: {epoch_acc:.4f}\")\n",
        "\t\t\t\n",
        "\t\tprint(\"-\"*50)\n",
        "\n",
        "\treturn train_loss, train_acc, valid_loss, valid_acc"
      ]
    },
    {
      "cell_type": "code",
      "execution_count": 43,
      "metadata": {},
      "outputs": [
        {
          "name": "stdout",
          "output_type": "stream",
          "text": [
            "NVIDIA GeForce RTX 2070\n",
            "使用デバイス: cuda:0\n",
            "epoch: 1 / 30\n",
            "train Loss: 1.2016 Acc: 0.4371\n",
            "valid Loss: 1.1668 Acc: 0.4318\n",
            "--------------------------------------------------\n",
            "epoch: 2 / 30\n",
            "train Loss: 1.1613 Acc: 0.4519\n",
            "valid Loss: 1.1634 Acc: 0.4400\n",
            "--------------------------------------------------\n",
            "epoch: 3 / 30\n",
            "train Loss: 1.1588 Acc: 0.4592\n",
            "valid Loss: 1.1605 Acc: 0.4483\n",
            "--------------------------------------------------\n",
            "epoch: 4 / 30\n",
            "train Loss: 1.1495 Acc: 0.4726\n",
            "valid Loss: 1.1581 Acc: 0.4528\n",
            "--------------------------------------------------\n",
            "epoch: 5 / 30\n",
            "train Loss: 1.1448 Acc: 0.4813\n",
            "valid Loss: 1.1556 Acc: 0.4595\n",
            "--------------------------------------------------\n",
            "epoch: 6 / 30\n",
            "train Loss: 1.1335 Acc: 0.5000\n",
            "valid Loss: 1.1509 Acc: 0.4760\n",
            "--------------------------------------------------\n",
            "epoch: 7 / 30\n",
            "train Loss: 1.1171 Acc: 0.5194\n",
            "valid Loss: 1.1348 Acc: 0.5015\n",
            "--------------------------------------------------\n",
            "epoch: 8 / 30\n",
            "train Loss: 1.0925 Acc: 0.5486\n",
            "valid Loss: 1.1105 Acc: 0.5390\n",
            "--------------------------------------------------\n",
            "epoch: 9 / 30\n",
            "train Loss: 1.0610 Acc: 0.5841\n",
            "valid Loss: 1.0805 Acc: 0.5705\n",
            "--------------------------------------------------\n",
            "epoch: 10 / 30\n",
            "train Loss: 1.0261 Acc: 0.6160\n",
            "valid Loss: 1.0602 Acc: 0.6034\n",
            "--------------------------------------------------\n",
            "epoch: 11 / 30\n",
            "train Loss: 0.9854 Acc: 0.6466\n",
            "valid Loss: 1.0169 Acc: 0.6447\n",
            "--------------------------------------------------\n",
            "epoch: 12 / 30\n",
            "train Loss: 0.9386 Acc: 0.6772\n",
            "valid Loss: 0.9823 Acc: 0.6612\n",
            "--------------------------------------------------\n",
            "epoch: 13 / 30\n",
            "train Loss: 0.8904 Acc: 0.7020\n",
            "valid Loss: 0.9548 Acc: 0.6702\n",
            "--------------------------------------------------\n",
            "epoch: 14 / 30\n",
            "train Loss: 0.8299 Acc: 0.7255\n",
            "valid Loss: 0.8952 Acc: 0.6979\n",
            "--------------------------------------------------\n",
            "epoch: 15 / 30\n",
            "train Loss: 0.7850 Acc: 0.7387\n",
            "valid Loss: 0.8662 Acc: 0.7129\n",
            "--------------------------------------------------\n",
            "epoch: 16 / 30\n",
            "train Loss: 0.7379 Acc: 0.7527\n",
            "valid Loss: 0.8220 Acc: 0.7279\n",
            "--------------------------------------------------\n",
            "epoch: 17 / 30\n",
            "train Loss: 0.6969 Acc: 0.7649\n",
            "valid Loss: 0.7952 Acc: 0.7249\n",
            "--------------------------------------------------\n",
            "epoch: 18 / 30\n",
            "train Loss: 0.6599 Acc: 0.7701\n",
            "valid Loss: 0.8048 Acc: 0.7301\n",
            "--------------------------------------------------\n",
            "epoch: 19 / 30\n",
            "train Loss: 0.6232 Acc: 0.7817\n",
            "valid Loss: 0.7705 Acc: 0.7399\n",
            "--------------------------------------------------\n",
            "epoch: 20 / 30\n",
            "train Loss: 0.5905 Acc: 0.7921\n",
            "valid Loss: 0.8011 Acc: 0.7196\n",
            "--------------------------------------------------\n",
            "epoch: 21 / 30\n",
            "train Loss: 0.5567 Acc: 0.8034\n",
            "valid Loss: 0.7533 Acc: 0.7406\n",
            "--------------------------------------------------\n",
            "epoch: 22 / 30\n",
            "train Loss: 0.5326 Acc: 0.8124\n",
            "valid Loss: 0.7247 Acc: 0.7489\n",
            "--------------------------------------------------\n",
            "epoch: 23 / 30\n",
            "train Loss: 0.5074 Acc: 0.8188\n",
            "valid Loss: 0.7339 Acc: 0.7369\n",
            "--------------------------------------------------\n",
            "epoch: 24 / 30\n",
            "train Loss: 0.4944 Acc: 0.8215\n",
            "valid Loss: 0.7766 Acc: 0.7421\n",
            "--------------------------------------------------\n",
            "epoch: 25 / 30\n",
            "train Loss: 0.4669 Acc: 0.8295\n",
            "valid Loss: 0.8288 Acc: 0.7279\n",
            "--------------------------------------------------\n",
            "epoch: 26 / 30\n",
            "train Loss: 0.4482 Acc: 0.8400\n",
            "valid Loss: 0.8536 Acc: 0.7286\n",
            "--------------------------------------------------\n",
            "epoch: 27 / 30\n",
            "train Loss: 0.4356 Acc: 0.8414\n",
            "valid Loss: 0.7307 Acc: 0.7534\n",
            "--------------------------------------------------\n",
            "epoch: 28 / 30\n",
            "train Loss: 0.4090 Acc: 0.8490\n",
            "valid Loss: 0.8679 Acc: 0.7211\n",
            "--------------------------------------------------\n",
            "epoch: 29 / 30\n",
            "train Loss: 0.3839 Acc: 0.8575\n",
            "valid Loss: 1.0041 Acc: 0.6897\n",
            "--------------------------------------------------\n",
            "epoch: 30 / 30\n",
            "train Loss: 0.3800 Acc: 0.8609\n",
            "valid Loss: 1.0068 Acc: 0.7069\n",
            "--------------------------------------------------\n"
          ]
        },
        {
          "data": {
            "image/png": "[encoded data removed]",
            "text/plain": [
              "<Figure size 864x360 with 2 Axes>"
            ]
          },
          "metadata": {
            "needs_background": "light"
          },
          "output_type": "display_data"
        }
      ],
      "source": [
        "def collate_fn(batch):\n",
        "    sequences = [x[0] for x in batch]\n",
        "    labels = torch.LongTensor([x[1] for x in batch])\n",
        "    x = torch.nn.utils.rnn.pad_sequence(sequences, batch_first=True, padding_value=PADDING_IDX)\n",
        "    return x, labels\n",
        "\n",
        "model = RNN(VOCAB_SIZE, EMB_SIZE, PADDING_IDX, HIDDEN_SIZE, OUTPUT_SIZE, NUM_LAYERS)\n",
        "\n",
        "batch_size = 32\n",
        "DL_train = DataLoader(train_dataset, collate_fn=collate_fn, batch_size=batch_size, shuffle=True)\n",
        "DL_test = DataLoader(test_dataset, collate_fn=collate_fn, batch_size=batch_size, shuffle=False)\n",
        "DL_valid = DataLoader(valid_dataset, collate_fn=collate_fn, batch_size=batch_size, shuffle=False)\n",
        "DL_dict = {\"train\": DL_train, \"test\": DL_test, \"valid\": DL_valid}\n",
        "\n",
        "loss = nn.CrossEntropyLoss(reduction=\"mean\")\n",
        "optimizer = optim.SGD(params=model.parameters(), lr=0.01)\n",
        "\n",
        "epoch = 30\n",
        "train_loss, train_acc, valid_loss, valid_acc = train_model(model, DL_dict, loss, optimizer, epoch)\n",
        "\n",
        "ax, fig = plt.subplots(1, 2, figsize=(12, 5))\n",
        "fig[0].plot(range(epoch), train_loss, label=\"train\")\n",
        "fig[0].plot(range(epoch), valid_loss, label=\"valid\")\n",
        "fig[0].legend()\n",
        "fig[0].set_title(\"loss\")\n",
        "fig[1].plot(range(epoch), train_acc, label=\"train\")\n",
        "fig[1].plot(range(epoch), valid_acc, label=\"valid\")\n",
        "fig[1].legend()\n",
        "fig[1].set_title(\"accuracy\")\n",
        "plt.show()"
      ]
    },
    {
      "cell_type": "markdown",
      "metadata": {},
      "source": [
        "## 84. 単語ベクトルの導入"
      ]
    },
    {
      "cell_type": "code",
      "execution_count": null,
      "metadata": {},
      "outputs": [
        {
          "name": "stdout",
          "output_type": "stream",
          "text": [
            "学習済みベクトル利用単語数: 9267 / 9609\n",
            "torch.Size([9609, 300])\n"
          ]
        }
      ],
      "source": [
        "file = f'{PATH}/GoogleNews-vectors-negative300.bin.gz'\n",
        "model = KeyedVectors.load_word2vec_format(file, binary=True)\n",
        "\n",
        "weights = np.zeros((VOCAB_SIZE, EMB_SIZE))\n",
        "words_in_pretrained = 0\n",
        "for i, word in enumerate(word2id.keys()):\n",
        "    try:\n",
        "        weights[i] = model[word]\n",
        "        words_in_pretrained += 1\n",
        "    except KeyError:\n",
        "        weights[i] = np.random.normal(scale=0.1, size=(EMB_SIZE,))\n",
        "weights = torch.from_numpy(weights.astype((np.float32)))\n",
        "\n",
        "print(f'学習済みベクトル利用単語数: {words_in_pretrained} / {VOCAB_SIZE}')\n",
        "print(weights.size())"
      ]
    },
    {
      "cell_type": "code",
      "execution_count": null,
      "metadata": {},
      "outputs": [
        {
          "name": "stdout",
          "output_type": "stream",
          "text": [
            "NVIDIA GeForce RTX 2070\n",
            "使用デバイス: cuda:0\n",
            "epoch: 1 / 30\n",
            "train Loss: 1.2042 Acc: 0.4269\n",
            "valid Loss: 1.1622 Acc: 0.4415\n",
            "--------------------------------------------------\n",
            "epoch: 2 / 30\n",
            "train Loss: 1.1620 Acc: 0.4463\n",
            "valid Loss: 1.1633 Acc: 0.4438\n",
            "--------------------------------------------------\n",
            "epoch: 3 / 30\n",
            "train Loss: 1.1583 Acc: 0.4500\n",
            "valid Loss: 1.1595 Acc: 0.4490\n",
            "--------------------------------------------------\n",
            "epoch: 4 / 30\n",
            "train Loss: 1.1570 Acc: 0.4540\n",
            "valid Loss: 1.1580 Acc: 0.4483\n",
            "--------------------------------------------------\n",
            "epoch: 5 / 30\n",
            "train Loss: 1.1510 Acc: 0.4643\n",
            "valid Loss: 1.1578 Acc: 0.4543\n",
            "--------------------------------------------------\n",
            "epoch: 6 / 30\n",
            "train Loss: 1.1481 Acc: 0.4707\n",
            "valid Loss: 1.1571 Acc: 0.4543\n",
            "--------------------------------------------------\n",
            "epoch: 7 / 30\n",
            "train Loss: 1.1455 Acc: 0.4784\n",
            "valid Loss: 1.1546 Acc: 0.4625\n",
            "--------------------------------------------------\n",
            "epoch: 8 / 30\n",
            "train Loss: 1.1426 Acc: 0.4833\n",
            "valid Loss: 1.1523 Acc: 0.4648\n",
            "--------------------------------------------------\n",
            "epoch: 9 / 30\n",
            "train Loss: 1.1321 Acc: 0.4985\n",
            "valid Loss: 1.1457 Acc: 0.4775\n",
            "--------------------------------------------------\n",
            "epoch: 10 / 30\n",
            "train Loss: 1.1139 Acc: 0.5214\n",
            "valid Loss: 1.1311 Acc: 0.5052\n",
            "--------------------------------------------------\n",
            "epoch: 11 / 30\n",
            "train Loss: 1.0833 Acc: 0.5544\n",
            "valid Loss: 1.1106 Acc: 0.5390\n",
            "--------------------------------------------------\n",
            "epoch: 12 / 30\n",
            "train Loss: 1.0499 Acc: 0.5873\n",
            "valid Loss: 1.0881 Acc: 0.5675\n",
            "--------------------------------------------------\n",
            "epoch: 13 / 30\n",
            "train Loss: 1.0174 Acc: 0.6215\n",
            "valid Loss: 1.0524 Acc: 0.5967\n",
            "--------------------------------------------------\n",
            "epoch: 14 / 30\n",
            "train Loss: 0.9709 Acc: 0.6523\n",
            "valid Loss: 1.0194 Acc: 0.6304\n",
            "--------------------------------------------------\n",
            "epoch: 15 / 30\n",
            "train Loss: 0.9191 Acc: 0.6854\n",
            "valid Loss: 0.9596 Acc: 0.6679\n",
            "--------------------------------------------------\n",
            "epoch: 16 / 30\n",
            "train Loss: 0.8696 Acc: 0.7091\n",
            "valid Loss: 0.9404 Acc: 0.6912\n",
            "--------------------------------------------------\n",
            "epoch: 17 / 30\n",
            "train Loss: 0.8205 Acc: 0.7298\n",
            "valid Loss: 0.9124 Acc: 0.6874\n",
            "--------------------------------------------------\n",
            "epoch: 18 / 30\n",
            "train Loss: 0.7792 Acc: 0.7416\n",
            "valid Loss: 0.9616 Acc: 0.6867\n",
            "--------------------------------------------------\n",
            "epoch: 19 / 30\n",
            "train Loss: 0.7401 Acc: 0.7537\n",
            "valid Loss: 0.9235 Acc: 0.6994\n",
            "--------------------------------------------------\n",
            "epoch: 20 / 30\n",
            "train Loss: 0.6985 Acc: 0.7675\n",
            "valid Loss: 0.8137 Acc: 0.7279\n",
            "--------------------------------------------------\n",
            "epoch: 21 / 30\n",
            "train Loss: 0.6684 Acc: 0.7723\n",
            "valid Loss: 0.8156 Acc: 0.7346\n",
            "--------------------------------------------------\n",
            "epoch: 22 / 30\n",
            "train Loss: 0.6347 Acc: 0.7821\n",
            "valid Loss: 0.8521 Acc: 0.7099\n",
            "--------------------------------------------------\n",
            "epoch: 23 / 30\n",
            "train Loss: 0.6050 Acc: 0.7869\n",
            "valid Loss: 0.7609 Acc: 0.7301\n",
            "--------------------------------------------------\n",
            "epoch: 24 / 30\n",
            "train Loss: 0.5715 Acc: 0.7966\n",
            "valid Loss: 1.1194 Acc: 0.6432\n",
            "--------------------------------------------------\n",
            "epoch: 25 / 30\n",
            "train Loss: 0.5482 Acc: 0.8038\n",
            "valid Loss: 0.8873 Acc: 0.7211\n",
            "--------------------------------------------------\n",
            "epoch: 26 / 30\n",
            "train Loss: 0.5293 Acc: 0.8117\n",
            "valid Loss: 0.8076 Acc: 0.7211\n",
            "--------------------------------------------------\n",
            "epoch: 27 / 30\n",
            "train Loss: 0.5024 Acc: 0.8210\n",
            "valid Loss: 0.7253 Acc: 0.7511\n",
            "--------------------------------------------------\n",
            "epoch: 28 / 30\n",
            "train Loss: 0.4745 Acc: 0.8305\n",
            "valid Loss: 0.7313 Acc: 0.7496\n",
            "--------------------------------------------------\n",
            "epoch: 29 / 30\n",
            "train Loss: 0.4635 Acc: 0.8325\n",
            "valid Loss: 0.7453 Acc: 0.7466\n",
            "--------------------------------------------------\n",
            "epoch: 30 / 30\n",
            "train Loss: 0.4387 Acc: 0.8403\n",
            "valid Loss: 0.7463 Acc: 0.7474\n",
            "--------------------------------------------------\n"
          ]
        },
        {
          "data": {
            "image/png": "[encoded data removed]",
            "text/plain": [
              "<Figure size 864x360 with 2 Axes>"
            ]
          },
          "metadata": {
            "needs_background": "light"
          },
          "output_type": "display_data"
        }
      ],
      "source": [
        "class RNN(nn.Module):\n",
        "\tdef __init__(self, vocab_size, emb_size, padding_idx, hidden_size, output_size, num_layers=1, emb_weights=None):\n",
        "\t\tsuper().__init__()\n",
        "\t\tif emb_weights != None:\n",
        "\t\t\tself.emb = nn.Embedding.from_pretrained(emb_weights, padding_idx=padding_idx)\n",
        "\t\telse:\n",
        "\t\t\tself.emb = nn.Embedding(vocab_size, emb_size, padding_idx=padding_idx)\n",
        "\t\tself.rnn = nn.RNN(emb_size, hidden_size, batch_first=True)\n",
        "\t\tself.fc = nn.Linear(hidden_size, output_size)\n",
        "\n",
        "\tdef forward(self, x, h0=None):\n",
        "\t\tx = self.emb(x)\n",
        "\t\ty, h = self.rnn(x, h0)\n",
        "\t\ty = y[:, -1, :]\n",
        "\t\ty = self.fc(y)\n",
        "\t\treturn y\n",
        "\n",
        "# パラメータの設定\n",
        "VOCAB_SIZE = len(set(word2id.values())) + 2\n",
        "EMB_SIZE = 300\n",
        "PADDING_IDX = len(set(word2id.values())) + 1\n",
        "OUTPUT_SIZE = 4\n",
        "HIDDEN_SIZE = 50\n",
        "NUM_LAYERS = 1\n",
        "\n",
        "model = RNN(VOCAB_SIZE, EMB_SIZE, PADDING_IDX, HIDDEN_SIZE, OUTPUT_SIZE, NUM_LAYERS)\n",
        "\n",
        "loss = nn.CrossEntropyLoss(reduction=\"mean\")\n",
        "optimizer = optim.SGD(params=model.parameters(), lr=0.01)\n",
        "\n",
        "train_loss, train_acc, valid_loss, valid_acc = train_model(model, DL_dict, loss, optimizer, epoch=30)\n",
        "\n",
        "ax, fig = plt.subplots(1, 2, figsize=(12, 5))\n",
        "fig[0].plot(range(epoch), train_loss, label=\"train\")\n",
        "fig[0].plot(range(epoch), valid_loss, label=\"valid\")\n",
        "fig[0].legend()\n",
        "fig[0].set_title(\"loss\")\n",
        "fig[1].plot(range(epoch), train_acc, label=\"train\")\n",
        "fig[1].plot(range(epoch), valid_acc, label=\"valid\")\n",
        "fig[1].legend()\n",
        "fig[1].set_title(\"accuracy\")\n",
        "plt.show()"
      ]
    },
    {
      "cell_type": "markdown",
      "metadata": {},
      "source": [
        "## 85. 双方向RNN・多層化"
      ]
    },
    {
      "cell_type": "code",
      "execution_count": 47,
      "metadata": {},
      "outputs": [
        {
          "name": "stdout",
          "output_type": "stream",
          "text": [
            "NVIDIA GeForce RTX 2070\n",
            "使用デバイス: cuda:0\n",
            "epoch: 1 / 30\n",
            "train Loss: 1.2101 Acc: 0.4155\n",
            "valid Loss: 1.1697 Acc: 0.4363\n",
            "--------------------------------------------------\n",
            "epoch: 2 / 30\n",
            "train Loss: 1.1666 Acc: 0.4434\n",
            "valid Loss: 1.1669 Acc: 0.4430\n",
            "--------------------------------------------------\n",
            "epoch: 3 / 30\n",
            "train Loss: 1.1629 Acc: 0.4455\n",
            "valid Loss: 1.1649 Acc: 0.4453\n",
            "--------------------------------------------------\n",
            "epoch: 4 / 30\n",
            "train Loss: 1.1578 Acc: 0.4558\n",
            "valid Loss: 1.1637 Acc: 0.4520\n",
            "--------------------------------------------------\n",
            "epoch: 5 / 30\n",
            "train Loss: 1.1541 Acc: 0.4656\n",
            "valid Loss: 1.1624 Acc: 0.4468\n",
            "--------------------------------------------------\n",
            "epoch: 6 / 30\n",
            "train Loss: 1.1506 Acc: 0.4678\n",
            "valid Loss: 1.1621 Acc: 0.4528\n",
            "--------------------------------------------------\n",
            "epoch: 7 / 30\n",
            "train Loss: 1.1482 Acc: 0.4743\n",
            "valid Loss: 1.1603 Acc: 0.4453\n",
            "--------------------------------------------------\n",
            "epoch: 8 / 30\n",
            "train Loss: 1.1422 Acc: 0.4853\n",
            "valid Loss: 1.1578 Acc: 0.4513\n",
            "--------------------------------------------------\n",
            "epoch: 9 / 30\n",
            "train Loss: 1.1346 Acc: 0.4916\n",
            "valid Loss: 1.1529 Acc: 0.4723\n",
            "--------------------------------------------------\n",
            "epoch: 10 / 30\n",
            "train Loss: 1.1152 Acc: 0.5173\n",
            "valid Loss: 1.1311 Acc: 0.5127\n",
            "--------------------------------------------------\n",
            "epoch: 11 / 30\n",
            "train Loss: 1.0805 Acc: 0.5604\n",
            "valid Loss: 1.0975 Acc: 0.5645\n",
            "--------------------------------------------------\n",
            "epoch: 12 / 30\n",
            "train Loss: 1.0388 Acc: 0.5967\n",
            "valid Loss: 1.0703 Acc: 0.5900\n",
            "--------------------------------------------------\n",
            "epoch: 13 / 30\n",
            "train Loss: 0.9959 Acc: 0.6366\n",
            "valid Loss: 1.0209 Acc: 0.6297\n",
            "--------------------------------------------------\n",
            "epoch: 14 / 30\n",
            "train Loss: 0.9525 Acc: 0.6684\n",
            "valid Loss: 0.9803 Acc: 0.6559\n",
            "--------------------------------------------------\n",
            "epoch: 15 / 30\n",
            "train Loss: 0.9157 Acc: 0.6964\n",
            "valid Loss: 0.9566 Acc: 0.6837\n",
            "--------------------------------------------------\n",
            "epoch: 16 / 30\n",
            "train Loss: 0.8882 Acc: 0.7066\n",
            "valid Loss: 0.9389 Acc: 0.6852\n",
            "--------------------------------------------------\n",
            "epoch: 17 / 30\n",
            "train Loss: 0.9383 Acc: 0.6733\n",
            "valid Loss: 0.9448 Acc: 0.6957\n",
            "--------------------------------------------------\n",
            "epoch: 18 / 30\n",
            "train Loss: 0.8393 Acc: 0.7332\n",
            "valid Loss: 0.9116 Acc: 0.7009\n",
            "--------------------------------------------------\n",
            "epoch: 19 / 30\n",
            "train Loss: 0.8009 Acc: 0.7454\n",
            "valid Loss: 0.8841 Acc: 0.7129\n",
            "--------------------------------------------------\n",
            "epoch: 20 / 30\n",
            "train Loss: 0.7633 Acc: 0.7558\n",
            "valid Loss: 0.8399 Acc: 0.7204\n",
            "--------------------------------------------------\n",
            "epoch: 21 / 30\n",
            "train Loss: 0.7252 Acc: 0.7644\n",
            "valid Loss: 0.8712 Acc: 0.7084\n",
            "--------------------------------------------------\n",
            "epoch: 22 / 30\n",
            "train Loss: 0.6828 Acc: 0.7745\n",
            "valid Loss: 0.8152 Acc: 0.7346\n",
            "--------------------------------------------------\n",
            "epoch: 23 / 30\n",
            "train Loss: 0.6510 Acc: 0.7839\n",
            "valid Loss: 0.8008 Acc: 0.7384\n",
            "--------------------------------------------------\n",
            "epoch: 24 / 30\n",
            "train Loss: 0.6146 Acc: 0.7916\n",
            "valid Loss: 0.8147 Acc: 0.7369\n",
            "--------------------------------------------------\n",
            "epoch: 25 / 30\n",
            "train Loss: 0.5850 Acc: 0.7979\n",
            "valid Loss: 0.7612 Acc: 0.7339\n",
            "--------------------------------------------------\n",
            "epoch: 26 / 30\n",
            "train Loss: 0.5545 Acc: 0.8080\n",
            "valid Loss: 1.0228 Acc: 0.7069\n",
            "--------------------------------------------------\n",
            "epoch: 27 / 30\n",
            "train Loss: 0.5324 Acc: 0.8156\n",
            "valid Loss: 0.8142 Acc: 0.7241\n",
            "--------------------------------------------------\n",
            "epoch: 28 / 30\n",
            "train Loss: 0.5016 Acc: 0.8266\n",
            "valid Loss: 0.7523 Acc: 0.7481\n",
            "--------------------------------------------------\n",
            "epoch: 29 / 30\n",
            "train Loss: 0.4797 Acc: 0.8296\n",
            "valid Loss: 1.0406 Acc: 0.6724\n",
            "--------------------------------------------------\n",
            "epoch: 30 / 30\n",
            "train Loss: 0.4680 Acc: 0.8337\n",
            "valid Loss: 0.7440 Acc: 0.7526\n",
            "--------------------------------------------------\n"
          ]
        },
        {
          "data": {
            "image/png": "[encoded data removed]",
            "text/plain": [
              "<Figure size 864x360 with 2 Axes>"
            ]
          },
          "metadata": {
            "needs_background": "light"
          },
          "output_type": "display_data"
        }
      ],
      "source": [
        "class RNN(nn.Module):\n",
        "\tdef __init__(self, vocab_size, emb_size, padding_idx, hidden_size, output_size, num_layers=1, emb_weights=None):\n",
        "\t\tsuper().__init__()\n",
        "\t\tif emb_weights != None:\n",
        "\t\t\tself.emb = nn.Embedding.from_pretrained(emb_weights, padding_idx=padding_idx)\n",
        "\t\telse:\n",
        "\t\t\tself.emb = nn.Embedding(vocab_size, emb_size, padding_idx=padding_idx)\n",
        "\t\tself.rnn = nn.RNN(emb_size, hidden_size, batch_first=True, bidirectional=True)\n",
        "\t\tself.fc = nn.Linear(hidden_size * 2, output_size)\n",
        "\n",
        "\tdef forward(self, x, h0=None):\n",
        "\t\tx = self.emb(x)\n",
        "\t\ty, h = self.rnn(x, h0)\n",
        "\t\ty = y[:, -1, :]\n",
        "\t\ty = self.fc(y)\n",
        "\t\treturn y\n",
        "\n",
        "# パラメータの設定\n",
        "VOCAB_SIZE = len(set(word2id.values())) + 2\n",
        "EMB_SIZE = 300\n",
        "PADDING_IDX = len(set(word2id.values())) + 1\n",
        "OUTPUT_SIZE = 4\n",
        "HIDDEN_SIZE = 50\n",
        "NUM_LAYERS = 3\n",
        "\n",
        "model = RNN(VOCAB_SIZE, EMB_SIZE, PADDING_IDX, HIDDEN_SIZE, OUTPUT_SIZE, NUM_LAYERS)\n",
        "\n",
        "loss = nn.CrossEntropyLoss(reduction=\"mean\")\n",
        "optimizer = optim.SGD(params=model.parameters(), lr=0.01)\n",
        "\n",
        "train_loss, train_acc, valid_loss, valid_acc = train_model(model, DL_dict, loss, optimizer, epoch=30)\n",
        "\n",
        "ax, fig = plt.subplots(1, 2, figsize=(12, 5))\n",
        "fig[0].plot(range(epoch), train_loss, label=\"train\")\n",
        "fig[0].plot(range(epoch), valid_loss, label=\"valid\")\n",
        "fig[0].legend()\n",
        "fig[0].set_title(\"loss\")\n",
        "fig[1].plot(range(epoch), train_acc, label=\"train\")\n",
        "fig[1].plot(range(epoch), valid_acc, label=\"valid\")\n",
        "fig[1].legend()\n",
        "fig[1].set_title(\"accuracy\")\n",
        "plt.show()"
      ]
    },
    {
      "cell_type": "markdown",
      "metadata": {},
      "source": [
        "## 86. 畳み込みニューラルネットワーク (CNN)"
      ]
    },
    {
      "cell_type": "code",
      "execution_count": 19,
      "metadata": {},
      "outputs": [],
      "source": [
        "class CNN(nn.Module):\n",
        "    def __init__(self, vocab_size, emb_size, padding_idx, output_size, out_channels, kernel_heights, stride, padding, emb_weights=None):\n",
        "        super().__init__()\n",
        "        if emb_weights != None:\n",
        "            self.emb = nn.Embedding.from_pretrained(emb_weights, padding_idx=padding_idx)\n",
        "        else:\n",
        "            self.emb = nn.Embedding(vocab_size, emb_size, padding_idx=padding_idx)\n",
        "        self.conv = nn.Conv2d(1, out_channels, (kernel_heights, emb_size), stride, (padding, 0))\n",
        "        self.drop = nn.Dropout(0.4)\n",
        "        self.fc = nn.Linear(out_channels, output_size)\n",
        "\n",
        "    def forward(self, x):\n",
        "        emb = self.emb(x).unsqueeze(1)\n",
        "        conv = self.conv(emb)\n",
        "        act = F.relu(conv.squeeze(3))\n",
        "        max_pool = F.max_pool1d(act, act.size()[2])\n",
        "        logits = self.fc(self.drop(max_pool.squeeze(2)))\n",
        "        return logits\n",
        "\n",
        "# パラメータの設定\n",
        "VOCAB_SIZE = len(set(word2id.values())) + 2\n",
        "EMB_SIZE = 300\n",
        "PADDING_IDX = len(set(word2id.values())) + 1\n",
        "OUTPUT_SIZE = 4\n",
        "OUT_CHANNELS = 100\n",
        "KERNEL_HEIGHTS = 3\n",
        "STRIDE = 1\n",
        "PADDING = 1\n",
        "\n",
        "model = CNN(VOCAB_SIZE, EMB_SIZE, PADDING_IDX, OUTPUT_SIZE, OUT_CHANNELS, KERNEL_HEIGHTS, STRIDE, PADDING, emb_weights=weights)"
      ]
    },
    {
      "cell_type": "markdown",
      "metadata": {},
      "source": [
        "## 87. 確率的勾配降下法によるCNNの学習"
      ]
    },
    {
      "cell_type": "code",
      "execution_count": 20,
      "metadata": {},
      "outputs": [
        {
          "name": "stdout",
          "output_type": "stream",
          "text": [
            "NVIDIA GeForce RTX 2070\n",
            "使用デバイス: cuda:0\n",
            "epoch: 1 / 30\n",
            "train Loss: 1.1963 Acc: 0.4214\n",
            "valid Loss: 1.1627 Acc: 0.4580\n",
            "--------------------------------------------------\n",
            "epoch: 2 / 30\n",
            "train Loss: 1.1517 Acc: 0.4768\n",
            "valid Loss: 1.1442 Acc: 0.5112\n",
            "--------------------------------------------------\n",
            "epoch: 3 / 30\n",
            "train Loss: 1.1368 Acc: 0.5107\n",
            "valid Loss: 1.1350 Acc: 0.4910\n",
            "--------------------------------------------------\n",
            "epoch: 4 / 30\n",
            "train Loss: 1.1207 Acc: 0.5344\n",
            "valid Loss: 1.1119 Acc: 0.5645\n",
            "--------------------------------------------------\n",
            "epoch: 5 / 30\n",
            "train Loss: 1.0966 Acc: 0.5690\n",
            "valid Loss: 1.0903 Acc: 0.5795\n",
            "--------------------------------------------------\n",
            "epoch: 6 / 30\n",
            "train Loss: 1.0694 Acc: 0.5911\n",
            "valid Loss: 1.0681 Acc: 0.5832\n",
            "--------------------------------------------------\n",
            "epoch: 7 / 30\n",
            "train Loss: 1.0376 Acc: 0.6157\n",
            "valid Loss: 1.0293 Acc: 0.6237\n",
            "--------------------------------------------------\n",
            "epoch: 8 / 30\n",
            "train Loss: 1.0045 Acc: 0.6368\n",
            "valid Loss: 1.0004 Acc: 0.6379\n",
            "--------------------------------------------------\n",
            "epoch: 9 / 30\n",
            "train Loss: 0.9695 Acc: 0.6579\n",
            "valid Loss: 0.9709 Acc: 0.6507\n",
            "--------------------------------------------------\n",
            "epoch: 10 / 30\n",
            "train Loss: 0.9354 Acc: 0.6716\n",
            "valid Loss: 0.9405 Acc: 0.6679\n",
            "--------------------------------------------------\n",
            "epoch: 11 / 30\n",
            "train Loss: 0.9036 Acc: 0.6832\n",
            "valid Loss: 0.9169 Acc: 0.6799\n",
            "--------------------------------------------------\n",
            "epoch: 12 / 30\n",
            "train Loss: 0.8747 Acc: 0.6965\n",
            "valid Loss: 0.8965 Acc: 0.6649\n",
            "--------------------------------------------------\n",
            "epoch: 13 / 30\n",
            "train Loss: 0.8449 Acc: 0.7107\n",
            "valid Loss: 0.8745 Acc: 0.6874\n",
            "--------------------------------------------------\n",
            "epoch: 14 / 30\n",
            "train Loss: 0.8190 Acc: 0.7204\n",
            "valid Loss: 0.8566 Acc: 0.6904\n",
            "--------------------------------------------------\n",
            "epoch: 15 / 30\n",
            "train Loss: 0.7971 Acc: 0.7252\n",
            "valid Loss: 0.8336 Acc: 0.7001\n",
            "--------------------------------------------------\n",
            "epoch: 16 / 30\n",
            "train Loss: 0.7710 Acc: 0.7341\n",
            "valid Loss: 0.8251 Acc: 0.7024\n",
            "--------------------------------------------------\n",
            "epoch: 17 / 30\n",
            "train Loss: 0.7481 Acc: 0.7408\n",
            "valid Loss: 0.8058 Acc: 0.7121\n",
            "--------------------------------------------------\n",
            "epoch: 18 / 30\n",
            "train Loss: 0.7273 Acc: 0.7527\n",
            "valid Loss: 0.7942 Acc: 0.7226\n",
            "--------------------------------------------------\n",
            "epoch: 19 / 30\n",
            "train Loss: 0.7104 Acc: 0.7536\n",
            "valid Loss: 0.7766 Acc: 0.7219\n",
            "--------------------------------------------------\n",
            "epoch: 20 / 30\n",
            "train Loss: 0.6883 Acc: 0.7616\n",
            "valid Loss: 0.7624 Acc: 0.7219\n",
            "--------------------------------------------------\n",
            "epoch: 21 / 30\n",
            "train Loss: 0.6727 Acc: 0.7627\n",
            "valid Loss: 0.7470 Acc: 0.7256\n",
            "--------------------------------------------------\n",
            "epoch: 22 / 30\n",
            "train Loss: 0.6533 Acc: 0.7709\n",
            "valid Loss: 0.7385 Acc: 0.7444\n",
            "--------------------------------------------------\n",
            "epoch: 23 / 30\n",
            "train Loss: 0.6371 Acc: 0.7781\n",
            "valid Loss: 0.7282 Acc: 0.7391\n",
            "--------------------------------------------------\n",
            "epoch: 24 / 30\n",
            "train Loss: 0.6217 Acc: 0.7814\n",
            "valid Loss: 0.7186 Acc: 0.7361\n",
            "--------------------------------------------------\n",
            "epoch: 25 / 30\n",
            "train Loss: 0.6068 Acc: 0.7864\n",
            "valid Loss: 0.7082 Acc: 0.7474\n",
            "--------------------------------------------------\n",
            "epoch: 26 / 30\n",
            "train Loss: 0.5893 Acc: 0.7935\n",
            "valid Loss: 0.7028 Acc: 0.7474\n",
            "--------------------------------------------------\n",
            "epoch: 27 / 30\n",
            "train Loss: 0.5727 Acc: 0.7981\n",
            "valid Loss: 0.6837 Acc: 0.7526\n",
            "--------------------------------------------------\n",
            "epoch: 28 / 30\n",
            "train Loss: 0.5584 Acc: 0.8046\n",
            "valid Loss: 0.6748 Acc: 0.7556\n",
            "--------------------------------------------------\n",
            "epoch: 29 / 30\n",
            "train Loss: 0.5507 Acc: 0.8060\n",
            "valid Loss: 0.6727 Acc: 0.7519\n",
            "--------------------------------------------------\n",
            "epoch: 30 / 30\n",
            "train Loss: 0.5328 Acc: 0.8145\n",
            "valid Loss: 0.6680 Acc: 0.7556\n",
            "--------------------------------------------------\n"
          ]
        },
        {
          "data": {
            "image/png": "[encoded data removed]",
            "text/plain": [
              "<Figure size 864x360 with 2 Axes>"
            ]
          },
          "metadata": {
            "needs_background": "light"
          },
          "output_type": "display_data"
        }
      ],
      "source": [
        "model = CNN(VOCAB_SIZE, EMB_SIZE, PADDING_IDX, OUTPUT_SIZE, OUT_CHANNELS, KERNEL_HEIGHTS, STRIDE, PADDING, emb_weights=weights)\n",
        "\n",
        "loss = nn.CrossEntropyLoss(reduction=\"mean\")\n",
        "optimizer = optim.SGD(params=model.parameters(), lr=0.01)\n",
        "\n",
        "epoch = 30\n",
        "train_loss, train_acc, valid_loss, valid_acc = train_model(model, DL_dict, loss, optimizer, epoch)\n",
        "\n",
        "ax, fig = plt.subplots(1, 2, figsize=(12, 5))\n",
        "fig[0].plot(range(epoch), train_loss, label=\"train\")\n",
        "fig[0].plot(range(epoch), valid_loss, label=\"valid\")\n",
        "fig[0].legend()\n",
        "fig[0].set_title(\"loss\")\n",
        "fig[1].plot(range(epoch), train_acc, label=\"train\")\n",
        "fig[1].plot(range(epoch), valid_acc, label=\"valid\")\n",
        "fig[1].legend()\n",
        "fig[1].set_title(\"accuracy\")\n",
        "plt.show()"
      ]
    },
    {
      "cell_type": "markdown",
      "metadata": {},
      "source": [
        "## 88. パラメータチューニング"
      ]
    },
    {
      "cell_type": "code",
      "execution_count": 22,
      "metadata": {},
      "outputs": [
        {
          "name": "stdout",
          "output_type": "stream",
          "text": [
            "NVIDIA GeForce RTX 2070\n",
            "使用デバイス: cuda:0\n",
            "epoch: 1 / 30\n",
            "train Loss: 0.8923 Acc: 0.6537\n",
            "valid Loss: 0.7342 Acc: 0.7256\n",
            "--------------------------------------------------\n",
            "epoch: 2 / 30\n",
            "train Loss: 0.6093 Acc: 0.7786\n",
            "valid Loss: 0.6955 Acc: 0.7496\n",
            "--------------------------------------------------\n",
            "epoch: 3 / 30\n",
            "train Loss: 0.4827 Acc: 0.8276\n",
            "valid Loss: 0.6659 Acc: 0.7684\n",
            "--------------------------------------------------\n",
            "epoch: 4 / 30\n",
            "train Loss: 0.3967 Acc: 0.8549\n",
            "valid Loss: 0.6930 Acc: 0.7691\n",
            "--------------------------------------------------\n",
            "epoch: 5 / 30\n",
            "train Loss: 0.3447 Acc: 0.8737\n",
            "valid Loss: 0.7150 Acc: 0.7751\n",
            "--------------------------------------------------\n",
            "epoch: 6 / 30\n",
            "train Loss: 0.3161 Acc: 0.8884\n",
            "valid Loss: 0.6832 Acc: 0.7841\n",
            "--------------------------------------------------\n",
            "epoch: 7 / 30\n",
            "train Loss: 0.2919 Acc: 0.8961\n",
            "valid Loss: 0.6859 Acc: 0.7894\n",
            "--------------------------------------------------\n",
            "epoch: 8 / 30\n",
            "train Loss: 0.2672 Acc: 0.9056\n",
            "valid Loss: 0.6861 Acc: 0.8081\n",
            "--------------------------------------------------\n",
            "epoch: 9 / 30\n",
            "train Loss: 0.2537 Acc: 0.9107\n",
            "valid Loss: 0.8471 Acc: 0.7624\n",
            "--------------------------------------------------\n",
            "epoch: 10 / 30\n",
            "train Loss: 0.2525 Acc: 0.9131\n",
            "valid Loss: 0.7208 Acc: 0.8028\n",
            "--------------------------------------------------\n",
            "epoch: 11 / 30\n",
            "train Loss: 0.2245 Acc: 0.9228\n",
            "valid Loss: 0.7707 Acc: 0.7811\n",
            "--------------------------------------------------\n",
            "epoch: 12 / 30\n",
            "train Loss: 0.2294 Acc: 0.9203\n",
            "valid Loss: 0.7945 Acc: 0.7781\n",
            "--------------------------------------------------\n",
            "epoch: 13 / 30\n",
            "train Loss: 0.2138 Acc: 0.9259\n",
            "valid Loss: 0.7632 Acc: 0.7916\n",
            "--------------------------------------------------\n",
            "epoch: 14 / 30\n",
            "train Loss: 0.2052 Acc: 0.9285\n",
            "valid Loss: 0.8098 Acc: 0.7894\n",
            "--------------------------------------------------\n",
            "epoch: 15 / 30\n",
            "train Loss: 0.2068 Acc: 0.9296\n",
            "valid Loss: 0.8594 Acc: 0.7969\n",
            "--------------------------------------------------\n",
            "epoch: 16 / 30\n",
            "train Loss: 0.2024 Acc: 0.9292\n",
            "valid Loss: 0.8180 Acc: 0.7849\n",
            "--------------------------------------------------\n",
            "epoch: 17 / 30\n",
            "train Loss: 0.2043 Acc: 0.9298\n",
            "valid Loss: 0.7868 Acc: 0.7946\n",
            "--------------------------------------------------\n",
            "epoch: 18 / 30\n",
            "train Loss: 0.1892 Acc: 0.9344\n",
            "valid Loss: 0.8036 Acc: 0.7991\n",
            "--------------------------------------------------\n",
            "epoch: 19 / 30\n",
            "train Loss: 0.1841 Acc: 0.9366\n",
            "valid Loss: 0.8551 Acc: 0.8073\n",
            "--------------------------------------------------\n",
            "epoch: 20 / 30\n",
            "train Loss: 0.2022 Acc: 0.9313\n",
            "valid Loss: 0.7988 Acc: 0.7961\n",
            "--------------------------------------------------\n",
            "epoch: 21 / 30\n",
            "train Loss: 0.1823 Acc: 0.9371\n",
            "valid Loss: 0.8622 Acc: 0.7706\n",
            "--------------------------------------------------\n",
            "epoch: 22 / 30\n",
            "train Loss: 0.1874 Acc: 0.9361\n",
            "valid Loss: 0.8025 Acc: 0.7864\n",
            "--------------------------------------------------\n",
            "epoch: 23 / 30\n",
            "train Loss: 0.1727 Acc: 0.9402\n",
            "valid Loss: 0.9168 Acc: 0.7901\n",
            "--------------------------------------------------\n",
            "epoch: 24 / 30\n",
            "train Loss: 0.1716 Acc: 0.9404\n",
            "valid Loss: 0.7794 Acc: 0.8096\n",
            "--------------------------------------------------\n",
            "epoch: 25 / 30\n",
            "train Loss: 0.1679 Acc: 0.9433\n",
            "valid Loss: 0.8612 Acc: 0.7894\n",
            "--------------------------------------------------\n",
            "epoch: 26 / 30\n",
            "train Loss: 0.1660 Acc: 0.9448\n",
            "valid Loss: 0.9028 Acc: 0.7721\n",
            "--------------------------------------------------\n",
            "epoch: 27 / 30\n",
            "train Loss: 0.1849 Acc: 0.9379\n",
            "valid Loss: 0.8408 Acc: 0.7991\n",
            "--------------------------------------------------\n",
            "epoch: 28 / 30\n",
            "train Loss: 0.1678 Acc: 0.9443\n",
            "valid Loss: 0.8763 Acc: 0.7879\n",
            "--------------------------------------------------\n",
            "epoch: 29 / 30\n",
            "train Loss: 0.1726 Acc: 0.9427\n",
            "valid Loss: 0.8212 Acc: 0.8043\n",
            "--------------------------------------------------\n",
            "epoch: 30 / 30\n",
            "train Loss: 0.1637 Acc: 0.9452\n",
            "valid Loss: 0.8591 Acc: 0.7894\n",
            "--------------------------------------------------\n"
          ]
        },
        {
          "data": {
            "image/png": "[encoded data removed]",
            "text/plain": [
              "<Figure size 864x360 with 2 Axes>"
            ]
          },
          "metadata": {
            "needs_background": "light"
          },
          "output_type": "display_data"
        }
      ],
      "source": [
        "# パラメータの設定\n",
        "VOCAB_SIZE = len(set(word2id.values())) + 2\n",
        "EMB_SIZE = 300\n",
        "PADDING_IDX = len(set(word2id.values())) + 1\n",
        "OUTPUT_SIZE = 4\n",
        "OUT_CHANNELS = 100\n",
        "KERNEL_HEIGHTS = 3\n",
        "STRIDE = 1\n",
        "PADDING = 1\n",
        "\n",
        "model = CNN(VOCAB_SIZE, EMB_SIZE, PADDING_IDX, OUTPUT_SIZE, OUT_CHANNELS, KERNEL_HEIGHTS, STRIDE, PADDING, emb_weights=weights)\n",
        "\n",
        "loss = nn.CrossEntropyLoss(reduction=\"mean\")\n",
        "optimizer = optim.AdamW(params=model.parameters(), lr=0.01)\n",
        "\n",
        "epoch = 30\n",
        "train_loss, train_acc, valid_loss, valid_acc = train_model(model, DL_dict, loss, optimizer, epoch)\n",
        "\n",
        "ax, fig = plt.subplots(1, 2, figsize=(12, 5))\n",
        "fig[0].plot(range(epoch), train_loss, label=\"train\")\n",
        "fig[0].plot(range(epoch), valid_loss, label=\"valid\")\n",
        "fig[0].legend()\n",
        "fig[0].set_title(\"loss\")\n",
        "fig[1].plot(range(epoch), train_acc, label=\"train\")\n",
        "fig[1].plot(range(epoch), valid_acc, label=\"valid\")\n",
        "fig[1].legend()\n",
        "fig[1].set_title(\"accuracy\")\n",
        "plt.show()"
      ]
    },
    {
      "cell_type": "markdown",
      "metadata": {},
      "source": [
        "## 89. 事前学習済み言語モデルからの転移学習"
      ]
    },
    {
      "cell_type": "code",
      "execution_count": 77,
      "metadata": {},
      "outputs": [],
      "source": [
        "def BERTData(data):\n",
        "\tdf = pd.read_table(f\"{PATH}/{data}.txt\")\n",
        "\n",
        "\tdf[\"CATEGORY\"] = df[\"CATEGORY\"].map(EncoderNN)\n",
        "\n",
        "\treturn BERTDataSet(df, df[\"CATEGORY\"])\n",
        "\n",
        "class BERTDataSet(Dataset):\n",
        "    \n",
        "    def __init__(self, X, y):\n",
        "        self.X = X['TITLE']\n",
        "        self.y = y\n",
        "        self.tokenizer = BertTokenizer.from_pretrained('bert-base-uncased')\n",
        "       \n",
        "    def __len__(self):\n",
        "        return len(self.y)\n",
        "    \n",
        "    def __getitem__(self,idx):\n",
        "        sentence = self.X[idx]\n",
        "        sentence = str(sentence)\n",
        "        sentence = \" \".join(sentence.split())\n",
        "        \n",
        "        bert_sens = self.tokenizer.encode_plus(\n",
        "                                sentence,\n",
        "                                add_special_tokens = True, # [CLS],[SEP]\n",
        "                                max_length = 20,\n",
        "\t\t\t\t\t\t\t\tpadding = 'max_length',\n",
        "                                truncation=True)\n",
        "\n",
        "        ids = torch.tensor(bert_sens['input_ids'], dtype=torch.long)\n",
        "        mask = torch.tensor(bert_sens['attention_mask'], dtype=torch.long)\n",
        "        labels = self.y[idx]\n",
        "     \n",
        "        return {'ids': ids, 'mask': mask, 'labels': labels}\n",
        "\n",
        "train_dataset = BERTData(\"train\")\n",
        "test_dataset = BERTData(\"test\")\n",
        "valid_dataset = BERTData(\"valid\")"
      ]
    },
    {
      "cell_type": "code",
      "execution_count": 78,
      "metadata": {},
      "outputs": [],
      "source": [
        "batch_size = 32\n",
        "DL_train = DataLoader(train_dataset, batch_size=batch_size, shuffle=True)\n",
        "DL_test = DataLoader(test_dataset, batch_size=batch_size, shuffle=False)\n",
        "DL_valid = DataLoader(valid_dataset, batch_size=batch_size, shuffle=False)\n",
        "DL_dict = {\"train\": DL_train, \"test\": DL_test, \"valid\": DL_valid}"
      ]
    },
    {
      "cell_type": "code",
      "execution_count": 79,
      "metadata": {},
      "outputs": [],
      "source": [
        "class BERTClass(torch.nn.Module):\n",
        "    def __init__(self, drop_rate, hidden_size, output_size):\n",
        "        super().__init__()\n",
        "        self.bert = BertModel.from_pretrained('bert-base-uncased')\n",
        "        self.drop = nn.Dropout(drop_rate)\n",
        "        self.fc = nn.Sequential(\n",
        "                                nn.Linear(768, hidden_size),\n",
        "                                nn.ReLU(),\n",
        "                                nn.BatchNorm1d(hidden_size),\n",
        "                                nn.Linear(hidden_size, output_size)\n",
        "                                )\n",
        "\n",
        "    def forward(self, ids, mask):\n",
        "        out = self.bert(ids, attention_mask=mask)[-1]\n",
        "        out = self.fc(self.drop(out))\n",
        "        return out"
      ]
    },
    {
      "cell_type": "code",
      "execution_count": 80,
      "metadata": {},
      "outputs": [],
      "source": [
        "def train_model(model, DL_dict, loss, optimizer, epoch):\n",
        "\n",
        "\tdevice = torch.device(\"cuda:0\" if torch.cuda.is_available() else \"cpu\")\n",
        "\tprint(torch.cuda.get_device_name())\n",
        "\tprint(\"使用デバイス:\", device)\n",
        "\n",
        "\tmodel.to(device)\n",
        "\n",
        "\ttrain_loss = []\n",
        "\ttrain_acc = []\n",
        "\tvalid_loss = []\n",
        "\tvalid_acc = []\n",
        "\n",
        "\tfor ep in range(epoch):\n",
        "\t\tprint(f\"epoch: {ep+1} / {epoch}\")\n",
        "\t\tfor phase in [\"train\", \"valid\"]:\n",
        "\t\t\tepoch_loss = 0.0\n",
        "\t\t\tepoch_corrects = 0\n",
        "\n",
        "\t\t\tfor data in DL_dict[phase]:\n",
        "\t\t\t\tids = data['ids'].to(device)\n",
        "\t\t\t\tmask = data['mask'].to(device)\n",
        "\t\t\t\tlabels = data['labels'].to(device)\n",
        "\t\t\t\toptimizer.zero_grad()\n",
        "\t\t\t\toutputs = model(ids, mask)\n",
        "\t\t\t\tCEloss = loss(outputs, labels)\n",
        "\t\t\t\t_, preds = torch.max(outputs, 1)\n",
        "\t\t\t\t\n",
        "\t\t\t\tif phase == \"train\":\n",
        "\t\t\t\t\tCEloss.backward()\n",
        "\t\t\t\t\toptimizer.step()\n",
        "\n",
        "\t\t\t\tepoch_loss += CEloss.item() * ids.size(0)\n",
        "\t\t\t\tepoch_corrects += torch.sum(preds == labels.data)\n",
        "\n",
        "\t\t\tepoch_loss = epoch_loss / len(DL_dict[phase].dataset)\n",
        "\t\t\tepoch_acc = epoch_corrects.double() / len(DL_dict[phase].dataset)\n",
        "\t\t\tif phase == 'train':\n",
        "\t\t\t\ttrain_loss.append(epoch_loss)\n",
        "\t\t\t\ttrain_acc.append(epoch_acc.cpu())\n",
        "\t\t\telse:\n",
        "\t\t\t\tvalid_loss.append(epoch_loss)\n",
        "\t\t\t\tvalid_acc.append(epoch_acc.cpu())\n",
        "\t\t\tprint(f\"{phase} Loss: {epoch_loss:.4f} Acc: {epoch_acc:.4f}\")\n",
        "\t\t\t\n",
        "\t\tprint(\"-\"*50)\n",
        "\n",
        "\treturn train_loss, train_acc, valid_loss, valid_acc"
      ]
    },
    {
      "cell_type": "code",
      "execution_count": 81,
      "metadata": {},
      "outputs": [
        {
          "name": "stdout",
          "output_type": "stream",
          "text": [
            "NVIDIA GeForce RTX 2070\n",
            "使用デバイス: cuda:0\n",
            "epoch: 1 / 8\n",
            "train Loss: 0.5497 Acc: 0.8067\n",
            "valid Loss: 0.3079 Acc: 0.9138\n",
            "--------------------------------------------------\n",
            "epoch: 2 / 8\n",
            "train Loss: 0.2061 Acc: 0.9419\n",
            "valid Loss: 0.2570 Acc: 0.9288\n",
            "--------------------------------------------------\n",
            "epoch: 3 / 8\n",
            "train Loss: 0.1102 Acc: 0.9714\n",
            "valid Loss: 0.2612 Acc: 0.9363\n",
            "--------------------------------------------------\n",
            "epoch: 4 / 8\n",
            "train Loss: 0.0619 Acc: 0.9882\n",
            "valid Loss: 0.2802 Acc: 0.9318\n",
            "--------------------------------------------------\n",
            "epoch: 5 / 8\n",
            "train Loss: 0.0411 Acc: 0.9933\n",
            "valid Loss: 0.3210 Acc: 0.9168\n",
            "--------------------------------------------------\n",
            "epoch: 6 / 8\n",
            "train Loss: 0.0318 Acc: 0.9950\n",
            "valid Loss: 0.3035 Acc: 0.9385\n",
            "--------------------------------------------------\n",
            "epoch: 7 / 8\n",
            "train Loss: 0.0217 Acc: 0.9966\n",
            "valid Loss: 0.2959 Acc: 0.9385\n",
            "--------------------------------------------------\n",
            "epoch: 8 / 8\n",
            "train Loss: 0.0169 Acc: 0.9974\n",
            "valid Loss: 0.3362 Acc: 0.9295\n",
            "--------------------------------------------------\n"
          ]
        },
        {
          "data": {
            "image/png": "[encoded data removed]",
            "text/plain": [
              "<Figure size 864x360 with 2 Axes>"
            ]
          },
          "metadata": {
            "needs_background": "light"
          },
          "output_type": "display_data"
        }
      ],
      "source": [
        "# パラメータの設定\n",
        "DROP_RATE = 0.2\n",
        "HIDDEN_SIZE = 256\n",
        "OUTPUT_SIZE = 4\n",
        "\n",
        "model = BERTClass(DROP_RATE, HIDDEN_SIZE, OUTPUT_SIZE)\n",
        "\n",
        "loss = nn.CrossEntropyLoss(reduction=\"mean\")\n",
        "optimizer = optim.AdamW(params=model.parameters(), lr=1e-5)\n",
        "\n",
        "epoch = 8\n",
        "train_loss, train_acc, valid_loss, valid_acc = train_model(model, DL_dict, loss, optimizer, epoch)\n",
        "\n",
        "ax, fig = plt.subplots(1, 2, figsize=(12, 5))\n",
        "fig[0].plot(range(epoch), train_loss, label=\"train\")\n",
        "fig[0].plot(range(epoch), valid_loss, label=\"valid\")\n",
        "fig[0].legend()\n",
        "fig[0].set_title(\"loss\")\n",
        "fig[1].plot(range(epoch), train_acc, label=\"train\")\n",
        "fig[1].plot(range(epoch), valid_acc, label=\"valid\")\n",
        "fig[1].legend()\n",
        "fig[1].set_title(\"accuracy\")\n",
        "plt.show()"
      ]
    }
  ],
  "metadata": {
    "colab": {
      "provenance": []
    },
    "kernelspec": {
      "display_name": "base",
      "language": "python",
      "name": "python3"
    },
    "language_info": {
      "codemirror_mode": {
        "name": "ipython",
        "version": 3
      },
      "file_extension": ".py",
      "mimetype": "text/x-python",
      "name": "python",
      "nbconvert_exporter": "python",
      "pygments_lexer": "ipython3",
      "version": "3.8.12"
    }
  },
  "nbformat": 4,
  "nbformat_minor": 0
}
