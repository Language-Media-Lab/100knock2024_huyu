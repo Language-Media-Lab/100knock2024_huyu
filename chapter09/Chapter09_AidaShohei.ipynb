{
  "cells": [
    {
      "cell_type": "markdown",
      "metadata": {
        "id": "4QjfFRhGldfy"
      },
      "source": [
        "# 第9章: RNN, CNN\n",
        "## 80. ID番号への変換\n",
        "\n",
        "問題51で構築した学習データ中の単語にユニークなID番号を付与したい．学習データ中で最も頻出する単語に1，2番目に頻出する単語に2，……といった方法で，学習データ中で2回以上出現する単語にID番号を付与せよ．そして，与えられた単語列に対して，ID番号の列を返す関数を実装せよ．ただし，出現頻度が2回未満の単語のID番号はすべて0とせよ．"
      ]
    },
    {
      "cell_type": "code",
      "execution_count": null,
      "metadata": {
        "id": "-SnOlMoCsq6c"
      },
      "outputs": [],
      "source": [
        "!wget https://archive.ics.uci.edu/ml/machine-learning-databases/00359/NewsAggregatorDataset.zip\n",
        "!unzip NewsAggregatorDataset.zip"
      ]
    },
    {
      "cell_type": "code",
      "execution_count": null,
      "metadata": {
        "id": "rsh4_9WustGL"
      },
      "outputs": [],
      "source": [
        "# 読込時のエラー回避のためダブルクォーテーションをシングルクォーテーションに置換\n",
        "!sed -e 's/\"/'\\''/g' ./newsCorpora.csv > ./newsCorpora_re.csv"
      ]
    },
    {
      "cell_type": "code",
      "execution_count": null,
      "metadata": {
        "colab": {
          "base_uri": "https://localhost:8080/"
        },
        "id": "w_Wzges5svXj",
        "outputId": "427c147e-5daa-439a-dfda-0fa5a5d9e779"
      },
      "outputs": [
        {
          "name": "stdout",
          "output_type": "stream",
          "text": [
            "【学習データ】\n",
            "b    4501\n",
            "e    4235\n",
            "t    1220\n",
            "m     728\n",
            "Name: CATEGORY, dtype: int64\n",
            "【検証データ】\n",
            "b    563\n",
            "e    529\n",
            "t    153\n",
            "m     91\n",
            "Name: CATEGORY, dtype: int64\n",
            "【評価データ】\n",
            "b    563\n",
            "e    530\n",
            "t    152\n",
            "m     91\n",
            "Name: CATEGORY, dtype: int64\n"
          ]
        }
      ],
      "source": [
        "import pandas as pd\n",
        "from sklearn.model_selection import train_test_split\n",
        "\n",
        "# データの読込\n",
        "df = pd.read_csv('./newsCorpora_re.csv', header=None, sep='\\t', names=['ID', 'TITLE', 'URL', 'PUBLISHER', 'CATEGORY', 'STORY', 'HOSTNAME', 'TIMESTAMP'])\n",
        "\n",
        "# データの抽出\n",
        "df = df.loc[df['PUBLISHER'].isin(['Reuters', 'Huffington Post', 'Businessweek', 'Contactmusic.com', 'Daily Mail']), ['TITLE', 'CATEGORY']]\n",
        "\n",
        "# データの分割\n",
        "train, valid_test = train_test_split(df, test_size=0.2, shuffle=True, random_state=123, stratify=df['CATEGORY'])\n",
        "valid, test = train_test_split(valid_test, test_size=0.5, shuffle=True, random_state=123, stratify=valid_test['CATEGORY'])\n",
        "\n",
        "# 事例数の確認\n",
        "print('【学習データ】')\n",
        "print(train['CATEGORY'].value_counts())\n",
        "print('【検証データ】')\n",
        "print(valid['CATEGORY'].value_counts())\n",
        "print('【評価データ】')\n",
        "print(test['CATEGORY'].value_counts())"
      ]
    },
    {
      "cell_type": "code",
      "execution_count": null,
      "metadata": {
        "colab": {
          "base_uri": "https://localhost:8080/",
          "height": 35
        },
        "id": "FyldihPk5WoT",
        "outputId": "6d08a6a6-70e3-415a-d80a-0374524a5e73"
      },
      "outputs": [
        {
          "data": {
            "application/vnd.google.colaboratory.intrinsic+json": {
              "type": "string"
            },
            "text/plain": [
              "'Amazon Plans to Fight FTC Over Mobile-App Purchases'"
            ]
          },
          "execution_count": 101,
          "metadata": {},
          "output_type": "execute_result"
        }
      ],
      "source": [
        "text = train.iloc[1, train.columns.get_loc('TITLE')]\n",
        "text"
      ]
    },
    {
      "cell_type": "code",
      "execution_count": null,
      "metadata": {
        "colab": {
          "base_uri": "https://localhost:8080/",
          "height": 35
        },
        "id": "l4UmuzgV9E33",
        "outputId": "15c508d9-081b-4b5a-ffeb-171979a3fadb"
      },
      "outputs": [
        {
          "data": {
            "application/vnd.google.colaboratory.intrinsic+json": {
              "type": "string"
            },
            "text/plain": [
              "'Amazon Plans to Fight FTC Over Mobile-App Purchases'"
            ]
          },
          "execution_count": 110,
          "metadata": {},
          "output_type": "execute_result"
        }
      ],
      "source": [
        "train['TITLE'].iloc[1]"
      ]
    },
    {
      "cell_type": "code",
      "execution_count": null,
      "metadata": {
        "colab": {
          "base_uri": "https://localhost:8080/"
        },
        "id": "Q90FpAxfsxZF",
        "outputId": "8a207de6-e414-41d8-9242-7df8d7ec7866"
      },
      "outputs": [
        {
          "name": "stdout",
          "output_type": "stream",
          "text": [
            "ID数: 9405\n",
            "\n",
            "頻度上位20語\n",
            "to: 1\n",
            "s: 2\n",
            "in: 3\n",
            "on: 4\n",
            "UPDATE: 5\n",
            "as: 6\n",
            "US: 7\n",
            "for: 8\n",
            "The: 9\n",
            "of: 10\n",
            "1: 11\n",
            "To: 12\n",
            "2: 13\n",
            "the: 14\n",
            "and: 15\n",
            "In: 16\n",
            "Of: 17\n",
            "a: 18\n",
            "at: 19\n",
            "A: 20\n"
          ]
        }
      ],
      "source": [
        "from collections import defaultdict\n",
        "import string\n",
        "\n",
        "# 単語の頻度集計\n",
        "d = defaultdict(int) #辞書初期化\n",
        "table = str.maketrans(string.punctuation, ' '*len(string.punctuation))  # 記号をスペースに置換するテーブル\n",
        "for text in train['TITLE']:\n",
        "  for word in text.translate(table).split():\n",
        "    d[word] += 1\n",
        "d = sorted(d.items(), key=lambda x:x[1], reverse=True)\n",
        "\n",
        "# 単語ID辞書の作成\n",
        "word2id = {word: i + 1 for i, (word, cnt) in enumerate(d) if cnt > 1}  # 出現頻度が2回以上の単語を登録\n",
        "\n",
        "print(f'ID数: {len(set(word2id.values()))}\\n')\n",
        "print('頻度上位20語')\n",
        "for key in list(word2id)[:20]:\n",
        "    print(f'{key}: {word2id[key]}')"
      ]
    },
    {
      "cell_type": "markdown",
      "metadata": {
        "id": "bVyvE3ctqrzX"
      },
      "source": [
        "get():辞書オブジェクトのget()メソッドを使うと、キーが存在しない場合にエラーを発生させずに任意の値（デフォルト値）を取得できる。元の辞書は変更されない。\n",
        "\n",
        "    print(d.get('key1'))\n",
        "    # val1\n",
        "\n",
        "    print(d.get('key5'))\n",
        "    # None\n",
        "\n",
        "    print(d.get('key5', 100))\n",
        "    # 100"
      ]
    },
    {
      "cell_type": "code",
      "execution_count": null,
      "metadata": {
        "id": "V8kg9L0ks2aS"
      },
      "outputs": [],
      "source": [
        "def tokenizer(text, word2id=word2id, unk=0):\n",
        "  \"\"\" 入力テキストをスペースで分割しID列に変換(辞書になければunkで指定した数字を設定)\"\"\"\n",
        "  table = str.maketrans(string.punctuation, ' '*len(string.punctuation))\n",
        "  return [word2id.get(word, unk) for word in text.translate(table).split()]"
      ]
    },
    {
      "cell_type": "code",
      "execution_count": null,
      "metadata": {
        "colab": {
          "base_uri": "https://localhost:8080/"
        },
        "id": "chBRp9N6s4Ty",
        "outputId": "c97413fb-4d2c-4cfa-e699-bcb995761d3e"
      },
      "outputs": [
        {
          "name": "stdout",
          "output_type": "stream",
          "text": [
            "テキスト: Amazon Plans to Fight FTC Over Mobile-App Purchases\n",
            "ID列: [169, 539, 1, 683, 1237, 82, 279, 1898, 4199]\n"
          ]
        }
      ],
      "source": [
        "# 確認\n",
        "text = train.iloc[1, train.columns.get_loc('TITLE')]\n",
        "print(f'テキスト: {text}')\n",
        "print(f'ID列: {tokenizer(text)}')"
      ]
    },
    {
      "cell_type": "markdown",
      "metadata": {
        "id": "3-DPvxnyXg6Y"
      },
      "source": [
        "## 81. RNNによる予測\n",
        "ID番号で表現された単語列$\\boldsymbol{x} = (x_1, x_2, \\dots, x_T)$がある．ただし，$T$は単語列の長さ，$x_t \\in \\mathbb{R}^{V}$は単語のID番号のone-hot表記である（$V$は単語の総数である）．再帰型ニューラルネットワーク（RNN: Recurrent Neural Network）を用い，単語列$\\boldsymbol{x}$からカテゴリ$y$を予測するモデルとして，次式を実装せよ．\n",
        "\n",
        "\n",
        "$$\n",
        "\\overrightarrow h_0 = 0,\\\\\n",
        "\\overrightarrow h_t = {\\rm \\overrightarrow{RNN}}(\\mathrm{emb}(x_t), \\overrightarrow h_{t-1}), \\\\\n",
        "y = {\\rm softmax}(W^{(yh)} \\overrightarrow h_T + b^{(y)})\n",
        "$$\n",
        "\n",
        "\n",
        "ただし，$\\mathrm{emb}(x) \\in \\mathbb{R}^{d_w}$は単語埋め込み（単語のone-hot表記から単語ベクトルに変換する関数），$\\overrightarrow h_t \\in \\mathbb{R}^{d_h}$は時刻$t$の隠れ状態ベクトル，${\\rm \\overrightarrow{RNN}}(x,h)$は入力$x$と前時刻の隠れ状態$h$から次状態を計算するRNNユニット，$W^{(yh)} \\in \\mathbb{R}^{L \\times d_h}$は隠れ状態ベクトルからカテゴリを予測するための行列，$b^{(y)} \\in \\mathbb{R}^{L}$はバイアス項である（$d_w, d_h, L$はそれぞれ，単語埋め込みの次元数，隠れ状態ベクトルの次元数，ラベル数である）．RNNユニット${\\rm \\overrightarrow{RNN}}(x,h)$には様々な構成が考えられるが，典型例として次式が挙げられる．\n",
        "\n",
        "$$\n",
        "{\\rm \\overrightarrow{RNN}}(x,h) = g(W^{(hx)} x + W^{(hh)}h + b^{(h)})\n",
        "$$\n",
        "\n",
        "ただし，$W^{(hx)} \\in \\mathbb{R}^{d_h \\times d_w}，W^{(hh)} \\in \\mathbb{R}^{d_h \\times d_h}, b^{(h)} \\in \\mathbb{R}^{d_h}$はRNNユニットのパラメータ，$g$は活性化関数（例えば$\\tanh$やReLUなど）である．\n",
        "\n",
        "なお，この問題ではパラメータの学習を行わず，ランダムに初期化されたパラメータで$y$を計算するだけでよい．次元数などのハイパーパラメータは，$d_w = 300, d_h=50$など，適当な値に設定せよ（以降の問題でも同様である）．"
      ]
    },
    {
      "cell_type": "markdown",
      "metadata": {
        "id": "SBMOnfzMt70i"
      },
      "source": [
        "RNNについて:\n",
        "https://onl.la/ns3rwFX \\\n",
        "pytorch:RNNの使い方:https://atmarkit.itmedia.co.jp/ait/articles/2006/19/news023_2.html \\\n",
        "https://atmarkit.itmedia.co.jp/ait/articles/2002/06/news025.html \\\n",
        "https://ex-ture.com/blog/2021/01/12/pytorch-rnn/ \\\n",
        "隠れ層:https://onl.la/7J6nYfF"
      ]
    },
    {
      "cell_type": "markdown",
      "metadata": {
        "id": "gCFtGyajiH_1"
      },
      "source": [
        "embedding:ある値に次元を埋め込むことが可能である。例えば1次元の0を5次元の[-0.5962, -1.2342,  1.1888, -1.1408, -0.3594]とすることができる。\\\n",
        "padding:Embeddingによる次元の変換を可能にするため足りないところにある値を補間する。padding_idxを用いると補間した値を無視してEmbeddingが可能である。\n",
        "\n",
        "https://gotutiyan.hatenablog.com/entry/2020/09/02/200144"
      ]
    },
    {
      "cell_type": "markdown",
      "metadata": {
        "id": "6YtcWoGFsj8x"
      },
      "source": [
        "RNN:pytorch:https://pytorch.org/docs/stable/generated/torch.nn.RNN.html "
      ]
    },
    {
      "cell_type": "markdown",
      "metadata": {
        "id": "E3wzZdNLlhH4"
      },
      "source": [
        "hidden:隠し層の状態\\\n",
        "hidden_size:隠し層のサイズ\\\n",
        "emb:Embedding後のtensor\\\n",
        "emb_size:Embedding調整のサイズ\\\n",
        "padding_idx:補間した値を無視してEmbedding\\\n",
        "nonlinerity:活性化関数\\\n",
        "batch_first:Trueの場合(batch, seq, feature)の形で出力\\\n",
        "fc:インスタンス変数\\\n",
        "Linerar:線形変換\\\n",
        "forward:\\\n",
        "out:\\\n",
        "\n"
      ]
    },
    {
      "cell_type": "code",
      "execution_count": null,
      "metadata": {
        "colab": {
          "base_uri": "https://localhost:8080/"
        },
        "id": "yLnTkwfXmTIc",
        "outputId": "bc1dba47-e917-4575-bf90-dcb0840884b0"
      },
      "outputs": [
        {
          "name": "stdout",
          "output_type": "stream",
          "text": [
            "tensor([[-1.0350,  0.3641, -1.4790,  1.5920, -0.2449],\n",
            "        [-0.5463,  1.9083,  1.4087, -1.7414,  0.0341],\n",
            "        [-0.7434, -0.8389,  0.4158, -0.0222, -0.3938],\n",
            "        [ 0.7494,  0.4145, -1.5547,  2.3219,  0.0695]],\n",
            "       grad_fn=<EmbeddingBackward0>)\n",
            "torch.Size([4]) -> torch.Size([4, 5])\n"
          ]
        }
      ],
      "source": [
        "import torch\n",
        "import torch.nn as nn\n",
        "\n",
        "vocab_size = 4\n",
        "emb_dim = 5\n",
        "embeddings = nn.Embedding(vocab_size, emb_dim)\n",
        "# 0番目の単語なので，[0]をTensorに変換\n",
        "word = torch.tensor([0,1,2,3])\n",
        "embed_word = embeddings(word)\n",
        "print(embed_word)\n",
        "print(word.shape, '->', embed_word.shape)"
      ]
    },
    {
      "cell_type": "code",
      "execution_count": null,
      "metadata": {
        "id": "9swNQ5ECs63y"
      },
      "outputs": [],
      "source": [
        "import torch\n",
        "from torch import nn\n",
        "\n",
        "class RNN(nn.Module):\n",
        "  def __init__(self, vocab_size, emb_size, padding_idx, output_size, hidden_size):\n",
        "    super().__init__()\n",
        "    self.hidden_size = hidden_size\n",
        "    self.emb = nn.Embedding(vocab_size, emb_size, padding_idx=padding_idx)\n",
        "    self.rnn = nn.RNN(emb_size, hidden_size, nonlinearity='tanh', batch_first=True)\n",
        "    self.fc = nn.Linear(hidden_size, output_size)\n",
        "    \n",
        "  def forward(self, x):\n",
        "    self.batch_size = x.size()[0]\n",
        "    hidden = self.init_hidden(x.device)  # h0のゼロベクトルを作成\n",
        "    emb = self.emb(x)\n",
        "    # emb.size() = (batch_size, seq_len, emb_size)\n",
        "    out, hidden = self.rnn(emb, hidden)\n",
        "    # out.size() = (batch_size, seq_len, hidden_size)\n",
        "    out = self.fc(out[:, -1, :])\n",
        "    # out.size() = (batch_size, output_size)\n",
        "    return out\n",
        "    \n",
        "  def init_hidden(self, device):\n",
        "    hidden = torch.zeros(1, self.batch_size, self.hidden_size, device=device)\n",
        "    return hidden"
      ]
    },
    {
      "cell_type": "code",
      "execution_count": null,
      "metadata": {
        "id": "T5U8P8kCtSJI"
      },
      "outputs": [],
      "source": [
        "from torch.utils.data import Dataset\n",
        "\n",
        "class CreateDataset(Dataset):\n",
        "  def __init__(self, X, y, tokenizer):\n",
        "    self.X = X\n",
        "    self.y = y\n",
        "    self.tokenizer = tokenizer\n",
        "\n",
        "  def __len__(self):  # len(Dataset)で返す値を指定\n",
        "    return len(self.y)\n",
        "\n",
        "  def __getitem__(self, index):  # Dataset[index]で返す値を指定\n",
        "    text = self.X.iloc[index]\n",
        "    inputs = self.tokenizer(text)\n",
        "\n",
        "    return ({'inputs': torch.tensor(inputs, dtype=torch.int64),'labels': torch.tensor(self.y[index], dtype=torch.int64)})"
      ]
    },
    {
      "cell_type": "code",
      "execution_count": null,
      "metadata": {
        "colab": {
          "base_uri": "https://localhost:8080/"
        },
        "id": "aLZk69N7tVxZ",
        "outputId": "db5a5fe6-43d4-4ac3-8e93-8a66eaf4f142"
      },
      "outputs": [
        {
          "name": "stdout",
          "output_type": "stream",
          "text": [
            "len(Dataset)の出力: 10684\n",
            "Dataset[index]の出力:\n",
            "  inputs: tensor([ 169,  539,    1,  683, 1237,   82,  279, 1898, 4199])\n",
            "  labels: 1\n"
          ]
        }
      ],
      "source": [
        "# ラベルベクトルの作成\n",
        "category_dict = {'b': 0, 't': 1, 'e':2, 'm':3}\n",
        "y_train = train['CATEGORY'].map(lambda x: category_dict[x]).values\n",
        "y_valid = valid['CATEGORY'].map(lambda x: category_dict[x]).values\n",
        "y_test = test['CATEGORY'].map(lambda x: category_dict[x]).values\n",
        "\n",
        "# Datasetの作成\n",
        "dataset_train = CreateDataset(train['TITLE'], y_train, tokenizer)\n",
        "dataset_valid = CreateDataset(valid['TITLE'], y_valid, tokenizer)\n",
        "dataset_test = CreateDataset(test['TITLE'], y_test, tokenizer)\n",
        "\n",
        "print(f'len(Dataset)の出力: {len(dataset_train)}')\n",
        "print('Dataset[index]の出力:')\n",
        "for var in dataset_train[1]:\n",
        "  print(f'  {var}: {dataset_train[1][var]}')"
      ]
    },
    {
      "cell_type": "markdown",
      "metadata": {
        "id": "eVaTvtTfm75_"
      },
      "source": [
        "unsqueeze():指定した位置にサイズ1の次元を挿入する。\n",
        "\n",
        "    print(torch.unsqueeze(x, dim=0).size())\n",
        "    # torch.Size([1, 2, 3, 4, 5, 6])"
      ]
    },
    {
      "cell_type": "code",
      "execution_count": null,
      "metadata": {
        "colab": {
          "base_uri": "https://localhost:8080/"
        },
        "id": "Gz9iRk2t9zKd",
        "outputId": "2054f373-9596-490f-ea89-0e8e98359b21"
      },
      "outputs": [
        {
          "name": "stdout",
          "output_type": "stream",
          "text": [
            "torch.Size([2, 3, 4, 5, 6])\n",
            "torch.Size([2, 1, 3, 4, 5, 6])\n",
            "torch.Size([2, 3, 4, 5, 6])\n",
            "torch.Size([2, 3])\n"
          ]
        }
      ],
      "source": [
        "import torch\n",
        "x = torch.zeros(2, 3, 4, 5, 6)\n",
        "print(x.size())\n",
        "print(x.unsqueeze(1).size())\n",
        "print(x.size())\n",
        "print(x.size()[0:2])"
      ]
    },
    {
      "cell_type": "code",
      "execution_count": null,
      "metadata": {
        "colab": {
          "base_uri": "https://localhost:8080/"
        },
        "id": "Mxg6Yy9-pT-v",
        "outputId": "ab687ee7-9624-46ef-9caa-628568a84e9f"
      },
      "outputs": [
        {
          "name": "stdout",
          "output_type": "stream",
          "text": [
            "tensor([[-1.2756,  1.1102,  0.3623],\n",
            "        [-0.6928, -0.7604, -0.1724]])\n",
            "\n",
            "\n",
            "tensor([[0.0588, 0.6388, 0.3024],\n",
            "        [0.2764, 0.2584, 0.4652]])\n"
          ]
        }
      ],
      "source": [
        "m = nn.Softmax(dim=1)\n",
        "input = torch.randn(2, 3)\n",
        "output = m(input)\n",
        "print(input)\n",
        "print(\"\\n\")\n",
        "print(output)\n"
      ]
    },
    {
      "cell_type": "code",
      "execution_count": null,
      "metadata": {
        "colab": {
          "base_uri": "https://localhost:8080/"
        },
        "id": "yq1AAjH7wjnl",
        "outputId": "c25b7e82-2d1d-424c-f6b1-76eb5d8b6f8c"
      },
      "outputs": [
        {
          "name": "stdout",
          "output_type": "stream",
          "text": [
            "tensor([[0.2040, 0.2470, 0.3436, 0.2054]], grad_fn=<SoftmaxBackward0>)\n",
            "tensor([[0.3152, 0.2518, 0.1500, 0.2830]], grad_fn=<SoftmaxBackward0>)\n",
            "tensor([[0.2240, 0.3424, 0.1843, 0.2492]], grad_fn=<SoftmaxBackward0>)\n",
            "tensor([[0.3202, 0.2748, 0.1530, 0.2520]], grad_fn=<SoftmaxBackward0>)\n",
            "tensor([[0.4397, 0.2270, 0.1202, 0.2130]], grad_fn=<SoftmaxBackward0>)\n",
            "tensor([[0.5668, 0.2127, 0.0888, 0.1317]], grad_fn=<SoftmaxBackward0>)\n",
            "tensor([[0.0943, 0.1986, 0.2588, 0.4484]], grad_fn=<SoftmaxBackward0>)\n",
            "tensor([[0.2593, 0.3562, 0.1385, 0.2460]], grad_fn=<SoftmaxBackward0>)\n",
            "tensor([[0.4930, 0.1676, 0.1418, 0.1975]], grad_fn=<SoftmaxBackward0>)\n",
            "tensor([[0.4422, 0.3530, 0.1083, 0.0965]], grad_fn=<SoftmaxBackward0>)\n"
          ]
        }
      ],
      "source": [
        "# パラメータの設定\n",
        "VOCAB_SIZE = len(set(word2id.values())) + 1  # 辞書のID数 + パディングID\n",
        "EMB_SIZE = 300\n",
        "PADDING_IDX = len(set(word2id.values()))\n",
        "OUTPUT_SIZE = 4\n",
        "HIDDEN_SIZE = 50\n",
        "\n",
        "# モデルの定義\n",
        "model = RNN(VOCAB_SIZE, EMB_SIZE, PADDING_IDX, OUTPUT_SIZE, HIDDEN_SIZE)\n",
        "\n",
        "# 先頭10件の予測値取得\n",
        "for i in range(10):\n",
        "  X = dataset_train[i]['inputs'] #titleのID表記したtensor\n",
        "  print(torch.softmax(model(X.unsqueeze(0)), dim=-1)) #unsqueezeでバッチの大きさ1を追加"
      ]
    },
    {
      "cell_type": "markdown",
      "metadata": {
        "id": "-Nk8aEnGnNWw"
      },
      "source": [
        "## 82. 確率的勾配降下法による学習\n",
        "\n",
        "確率的勾配降下法（SGD: Stochastic Gradient Descent）を用いて，問題81で構築したモデルを学習せよ．訓練データ上の損失と正解率，評価データ上の損失と正解率を表示しながらモデルを学習し，適当な基準（例えば10エポックなど）で終了させよ．\n",
        "\n"
      ]
    },
    {
      "cell_type": "markdown",
      "metadata": {
        "id": "MuTXoTO_ml5E"
      },
      "source": [
        "DataLoader:DatasetCombines a dataset and a sampler, and provides an iterable over the given dataset.\\\n",
        "criterion():出力と訓練データの正解との誤差を求める\\\n",
        "torch.argmax:maxの値を出力\\\n",
        "scheduler:エポックに応じて学習率を変更する。\\\n",
        "scheduler説明:https://katsura-jp.hatenablog.com/entry/2019/01/30/183501#CosineAnnealingLR"
      ]
    },
    {
      "cell_type": "code",
      "execution_count": null,
      "metadata": {
        "colab": {
          "base_uri": "https://localhost:8080/"
        },
        "id": "_qMrRk2Uxfsn",
        "outputId": "5b30823a-bc7c-463f-95ee-a799826955db"
      },
      "outputs": [
        {
          "name": "stdout",
          "output_type": "stream",
          "text": [
            "tensor([[-1.0412,  0.1025, -0.4503,  0.2110],\n",
            "        [ 0.9185, -1.1171, -1.1053,  1.3381],\n",
            "        [-0.2869, -1.5071, -0.2458, -2.2950],\n",
            "        [ 1.2381, -1.3140, -1.9545,  0.7902]])\n",
            "\n",
            "\n",
            "tensor(7)\n"
          ]
        }
      ],
      "source": [
        "a = torch.randn(4, 4)\n",
        "print(a)\n",
        "print(\"\\n\")\n",
        "print(torch.argmax(a))"
      ]
    },
    {
      "cell_type": "code",
      "execution_count": null,
      "metadata": {
        "id": "k8GMdXon98hS"
      },
      "outputs": [],
      "source": [
        "from torch.utils.data import DataLoader\n",
        "import time\n",
        "from torch import optim\n",
        "\n",
        "def calculate_loss_and_accuracy(model, dataset, device=None, criterion=None):\n",
        "  \"\"\"損失・正解率を計算\"\"\"\n",
        "  dataloader = DataLoader(dataset, batch_size=1, shuffle=False)\n",
        "  loss = 0.0\n",
        "  total = 0\n",
        "  correct = 0\n",
        "  with torch.no_grad():\n",
        "    for data in dataloader: #バッチごとに取り出して処理\n",
        "      # デバイスの指定\n",
        "      inputs = data['inputs'].to(device)\n",
        "      labels = data['labels'].to(device)\n",
        "\n",
        "      # 順伝播\n",
        "      outputs = model(inputs)\n",
        "\n",
        "      # 損失計算\n",
        "      if criterion != None:\n",
        "        loss += criterion(outputs, labels).item()\n",
        "\n",
        "      # 正解率計算\n",
        "      pred = torch.argmax(outputs, dim=-1)\n",
        "      total += len(inputs)\n",
        "      correct += (pred == labels).sum().item()\n",
        "      \n",
        "  return loss / len(dataset), correct / total\n",
        "  \n",
        "\n",
        "def train_model(dataset_train, dataset_valid, batch_size, model, criterion, optimizer, num_epochs, collate_fn=None, device=None):\n",
        "  \"\"\"モデルの学習を実行し、損失・正解率のログを返す\"\"\"\n",
        "  # デバイスの指定\n",
        "  model.to(device)\n",
        "\n",
        "  # dataloaderの作成\n",
        "  dataloader_train = DataLoader(dataset_train, batch_size=batch_size, shuffle=True, collate_fn=collate_fn)\n",
        "  dataloader_valid = DataLoader(dataset_valid, batch_size=1, shuffle=False)\n",
        "\n",
        "  # スケジューラの設定\n",
        "  scheduler = optim.lr_scheduler.CosineAnnealingLR(optimizer, num_epochs, eta_min=1e-5, last_epoch=-1)\n",
        "\n",
        "  # 学習\n",
        "  log_train = []\n",
        "  log_valid = []\n",
        "  for epoch in range(num_epochs):\n",
        "    # 開始時刻の記録\n",
        "    s_time = time.time()\n",
        "\n",
        "    # 訓練モードに設定\n",
        "    model.train()\n",
        "    for data in dataloader_train:\n",
        "      # 勾配をゼロで初期化\n",
        "      optimizer.zero_grad()\n",
        "\n",
        "      # 順伝播 + 誤差逆伝播 + 重み更新\n",
        "      inputs = data['inputs'].to(device)\n",
        "      labels = data['labels'].to(device)\n",
        "      outputs = model(inputs)\n",
        "      loss = criterion(outputs, labels)\n",
        "      loss.backward()\n",
        "      optimizer.step()\n",
        "    \n",
        "    # 評価モードに設定\n",
        "    model.eval()\n",
        "\n",
        "    # 損失と正解率の算出\n",
        "    loss_train, acc_train = calculate_loss_and_accuracy(model, dataset_train, device, criterion=criterion)\n",
        "    loss_valid, acc_valid = calculate_loss_and_accuracy(model, dataset_valid, device, criterion=criterion)\n",
        "    log_train.append([loss_train, acc_train])\n",
        "    log_valid.append([loss_valid, acc_valid])\n",
        "\n",
        "    # チェックポイントの保存\n",
        "    torch.save({'epoch': epoch, 'model_state_dict': model.state_dict(), 'optimizer_state_dict': optimizer.state_dict()}, f'checkpoint{epoch + 1}.pt')\n",
        "\n",
        "    # 終了時刻の記録\n",
        "    e_time = time.time()\n",
        "\n",
        "    # ログを出力\n",
        "    print(f'epoch: {epoch + 1}, loss_train: {loss_train:.4f}, accuracy_train: {acc_train:.4f}, loss_valid: {loss_valid:.4f}, accuracy_valid: {acc_valid:.4f}, {(e_time - s_time):.4f}sec') \n",
        "\n",
        "    # 検証データの損失が3エポック連続で低下しなかった場合は学習終了\n",
        "    if epoch > 2 and log_valid[epoch - 3][0] <= log_valid[epoch - 2][0] <= log_valid[epoch - 1][0] <= log_valid[epoch][0]:\n",
        "      break\n",
        "      \n",
        "    # スケジューラを1ステップ進める\n",
        "    scheduler.step()\n",
        "\n",
        "  return {'train': log_train, 'valid': log_valid}"
      ]
    },
    {
      "cell_type": "code",
      "execution_count": null,
      "metadata": {
        "id": "WMlO_J__-A0y"
      },
      "outputs": [],
      "source": [
        "import numpy as np\n",
        "from matplotlib import pyplot as plt\n",
        "\n",
        "def visualize_logs(log):\n",
        "  fig, ax = plt.subplots(1, 2, figsize=(15, 5))\n",
        "  ax[0].plot(np.array(log['train']).T[0], label='train')\n",
        "  ax[0].plot(np.array(log['valid']).T[0], label='valid')\n",
        "  ax[0].set_xlabel('epoch')\n",
        "  ax[0].set_ylabel('loss')\n",
        "  ax[0].legend()\n",
        "  ax[1].plot(np.array(log['train']).T[1], label='train')\n",
        "  ax[1].plot(np.array(log['valid']).T[1], label='valid')\n",
        "  ax[1].set_xlabel('epoch')\n",
        "  ax[1].set_ylabel('accuracy')\n",
        "  ax[1].legend()\n",
        "  plt.show()"
      ]
    },
    {
      "cell_type": "markdown",
      "metadata": {
        "id": "8CWidX6vu5Wc"
      },
      "source": [
        "CrossEntropyLoss():https://qiita.com/ground0state/items/8933f9ef54d6cd005a69 \\\n",
        "torch.optim.SGD:https://pytorch.org/docs/stable/generated/torch.optim.SGD.html?highlight=optim+sgd#torch.optim.SGD\n"
      ]
    },
    {
      "cell_type": "code",
      "execution_count": null,
      "metadata": {
        "colab": {
          "base_uri": "https://localhost:8080/"
        },
        "id": "IMgGPuGo-DSq",
        "outputId": "e91fc6ab-a61e-4b5c-9ea1-9fbdeb37e623"
      },
      "outputs": [
        {
          "name": "stdout",
          "output_type": "stream",
          "text": [
            "epoch: 1, loss_train: 1.1098, accuracy_train: 0.5063, loss_valid: 1.1387, accuracy_valid: 0.4835, 63.3455sec\n",
            "epoch: 2, loss_train: 1.0367, accuracy_train: 0.5662, loss_valid: 1.0943, accuracy_valid: 0.5165, 63.3129sec\n",
            "epoch: 3, loss_train: 0.9402, accuracy_train: 0.6333, loss_valid: 1.0272, accuracy_valid: 0.5778, 63.1782sec\n",
            "epoch: 4, loss_train: 0.7990, accuracy_train: 0.7076, loss_valid: 0.9074, accuracy_valid: 0.6662, 63.3203sec\n",
            "epoch: 5, loss_train: 0.6832, accuracy_train: 0.7555, loss_valid: 0.8038, accuracy_valid: 0.7141, 66.0389sec\n",
            "epoch: 6, loss_train: 0.5993, accuracy_train: 0.7887, loss_valid: 0.7605, accuracy_valid: 0.7305, 65.2525sec\n",
            "epoch: 7, loss_train: 0.5408, accuracy_train: 0.8057, loss_valid: 0.7196, accuracy_valid: 0.7493, 69.8644sec\n",
            "epoch: 8, loss_train: 0.5083, accuracy_train: 0.8162, loss_valid: 0.7047, accuracy_valid: 0.7485, 72.3185sec\n",
            "epoch: 9, loss_train: 0.4851, accuracy_train: 0.8240, loss_valid: 0.6839, accuracy_valid: 0.7575, 70.3681sec\n",
            "epoch: 10, loss_train: 0.4794, accuracy_train: 0.8258, loss_valid: 0.6836, accuracy_valid: 0.7582, 66.3651sec\n"
          ]
        }
      ],
      "source": [
        "# パラメータの設定\n",
        "VOCAB_SIZE = len(set(word2id.values())) + 1 \n",
        "EMB_SIZE = 300\n",
        "PADDING_IDX = len(set(word2id.values()))\n",
        "OUTPUT_SIZE = 4\n",
        "HIDDEN_SIZE = 50\n",
        "LEARNING_RATE = 1e-3\n",
        "BATCH_SIZE = 1\n",
        "NUM_EPOCHS = 10\n",
        "\n",
        "# モデルの定義\n",
        "model = RNN(VOCAB_SIZE, EMB_SIZE, PADDING_IDX, OUTPUT_SIZE, HIDDEN_SIZE)\n",
        "\n",
        "# 損失関数の定義\n",
        "criterion = nn.CrossEntropyLoss()\n",
        "\n",
        "# オプティマイザの定義\n",
        "optimizer = torch.optim.SGD(model.parameters(), lr=LEARNING_RATE)\n",
        "\n",
        "# モデルの学習\n",
        "log = train_model(dataset_train, dataset_valid, BATCH_SIZE, model, criterion, optimizer, NUM_EPOCHS)"
      ]
    },
    {
      "cell_type": "code",
      "execution_count": null,
      "metadata": {
        "colab": {
          "base_uri": "https://localhost:8080/",
          "height": 369
        },
        "id": "-k7Oj33V-GLr",
        "outputId": "b824f321-b815-4136-b8fb-31aca87a02eb"
      },
      "outputs": [
        {
          "data": {
            "image/png": "[encoded data removed]",
            "text/plain": [
              "<Figure size 1080x360 with 2 Axes>"
            ]
          },
          "metadata": {},
          "output_type": "display_data"
        },
        {
          "name": "stdout",
          "output_type": "stream",
          "text": [
            "正解率（学習データ）：0.826\n",
            "正解率（評価データ）：0.764\n"
          ]
        }
      ],
      "source": [
        "# ログの可視化\n",
        "visualize_logs(log)\n",
        "\n",
        "# 正解率の算出\n",
        "_, acc_train = calculate_loss_and_accuracy(model, dataset_train)\n",
        "_, acc_test = calculate_loss_and_accuracy(model, dataset_test)\n",
        "print(f'正解率（学習データ）：{acc_train:.3f}')\n",
        "print(f'正解率（評価データ）：{acc_test:.3f}')"
      ]
    },
    {
      "cell_type": "markdown",
      "metadata": {
        "id": "nupeZdZ979gD"
      },
      "source": [
        "## 83. ミニバッチ化・GPU上での学習\n",
        "\n",
        "問題82のコードを改変し，B事例ごとに損失・勾配を計算して学習を行えるようにせよ（Bの値は適当に選べ）．また，GPU上で学習を実行せよ．\n",
        "\n"
      ]
    },
    {
      "cell_type": "code",
      "execution_count": null,
      "metadata": {
        "colab": {
          "base_uri": "https://localhost:8080/"
        },
        "id": "iBZfiny52g4p",
        "outputId": "b0e6400c-27ab-4bdc-ab5c-83a9203c65dd"
      },
      "outputs": [
        {
          "name": "stdout",
          "output_type": "stream",
          "text": [
            "5\n"
          ]
        }
      ],
      "source": [
        "import numpy as np\n",
        "a = np.array([1,2,3,4,5]) \n",
        "print(a.shape[0])"
      ]
    },
    {
      "cell_type": "code",
      "execution_count": null,
      "metadata": {
        "colab": {
          "base_uri": "https://localhost:8080/"
        },
        "id": "CsGn0E0M4NyF",
        "outputId": "c3cb15c7-1bca-4a15-c7d5-085b6100e444"
      },
      "outputs": [
        {
          "name": "stdout",
          "output_type": "stream",
          "text": [
            "tensor([[2, 1],\n",
            "        [2, 3]])\n",
            "torch.int64\n"
          ]
        }
      ],
      "source": [
        "a = torch.LongTensor([[2,1], [2, 3]])\n",
        "print(a)\n",
        "print(a.dtype)"
      ]
    },
    {
      "cell_type": "code",
      "execution_count": null,
      "metadata": {
        "id": "MTq8puBC_GKk"
      },
      "outputs": [],
      "source": [
        "class Padsequence():\n",
        "  \"\"\"Dataloaderからミニバッチを取り出すごとに最大系列長でパディング\"\"\"\n",
        "  def __init__(self, padding_idx):\n",
        "    self.padding_idx = padding_idx\n",
        "\n",
        "  def __call__(self, batch):\n",
        "    sorted_batch = sorted(batch, key=lambda x: x['inputs'].shape[0], reverse=True)\n",
        "    sequences = [x['inputs'] for x in sorted_batch]\n",
        "    sequences_padded = torch.nn.utils.rnn.pad_sequence(sequences, batch_first=True, padding_value=self.padding_idx) #最大系列長でpadding\n",
        "    labels = torch.LongTensor([x['labels'] for x in sorted_batch])\n",
        "\n",
        "    return {'inputs': sequences_padded, 'labels': labels}"
      ]
    },
    {
      "cell_type": "code",
      "execution_count": null,
      "metadata": {
        "colab": {
          "base_uri": "https://localhost:8080/"
        },
        "id": "c7DEUIPv_Gvk",
        "outputId": "55f0b4cf-c99f-4177-ae70-e19bce76b035"
      },
      "outputs": [
        {
          "name": "stdout",
          "output_type": "stream",
          "text": [
            "epoch: 1, loss_train: 1.2564, accuracy_train: 0.4232, loss_valid: 1.2729, accuracy_valid: 0.4154, 8.9224sec\n",
            "epoch: 2, loss_train: 1.1659, accuracy_train: 0.5100, loss_valid: 1.1963, accuracy_valid: 0.4925, 7.9504sec\n",
            "epoch: 3, loss_train: 1.1480, accuracy_train: 0.5372, loss_valid: 1.1899, accuracy_valid: 0.5135, 7.9226sec\n",
            "epoch: 4, loss_train: 1.0853, accuracy_train: 0.5910, loss_valid: 1.1159, accuracy_valid: 0.5734, 8.0195sec\n",
            "epoch: 5, loss_train: 1.1886, accuracy_train: 0.4843, loss_valid: 1.2068, accuracy_valid: 0.4790, 8.0314sec\n",
            "epoch: 6, loss_train: 1.1364, accuracy_train: 0.5364, loss_valid: 1.1711, accuracy_valid: 0.5165, 8.0353sec\n",
            "epoch: 7, loss_train: 1.0432, accuracy_train: 0.6062, loss_valid: 1.0758, accuracy_valid: 0.5966, 8.0330sec\n",
            "epoch: 8, loss_train: 1.0047, accuracy_train: 0.6330, loss_valid: 1.0345, accuracy_valid: 0.6213, 7.8277sec\n",
            "epoch: 9, loss_train: 1.0458, accuracy_train: 0.6012, loss_valid: 1.0634, accuracy_valid: 0.5966, 8.0905sec\n",
            "epoch: 10, loss_train: 1.0281, accuracy_train: 0.6145, loss_valid: 1.0507, accuracy_valid: 0.6145, 8.0454sec\n"
          ]
        }
      ],
      "source": [
        "# パラメータの設定\n",
        "VOCAB_SIZE = len(set(word2id.values())) + 1\n",
        "EMB_SIZE = 300\n",
        "PADDING_IDX = len(set(word2id.values()))\n",
        "OUTPUT_SIZE = 4\n",
        "HIDDEN_SIZE = 50\n",
        "LEARNING_RATE = 5e-2\n",
        "BATCH_SIZE = 32\n",
        "NUM_EPOCHS = 10\n",
        "\n",
        "# モデルの定義\n",
        "model = RNN(VOCAB_SIZE, EMB_SIZE, PADDING_IDX, OUTPUT_SIZE, HIDDEN_SIZE)\n",
        "\n",
        "# 損失関数の定義\n",
        "criterion = nn.CrossEntropyLoss()\n",
        "\n",
        "# オプティマイザの定義\n",
        "optimizer = torch.optim.SGD(model.parameters(), lr=LEARNING_RATE)\n",
        "\n",
        "# デバイスの指定\n",
        "device = torch.device('cuda')\n",
        "\n",
        "# モデルの学習\n",
        "log = train_model(dataset_train, dataset_valid, BATCH_SIZE, model, criterion, optimizer, NUM_EPOCHS, collate_fn=Padsequence(PADDING_IDX), device=device)"
      ]
    },
    {
      "cell_type": "code",
      "execution_count": null,
      "metadata": {
        "colab": {
          "base_uri": "https://localhost:8080/",
          "height": 369
        },
        "id": "KTudxMRW_KRh",
        "outputId": "ac3ece09-0ef5-4c90-9611-91912f2dc3ec"
      },
      "outputs": [
        {
          "data": {
            "image/png": "[encoded data removed]",
            "text/plain": [
              "<Figure size 1080x360 with 2 Axes>"
            ]
          },
          "metadata": {},
          "output_type": "display_data"
        },
        {
          "name": "stdout",
          "output_type": "stream",
          "text": [
            "正解率（学習データ）：0.614\n",
            "正解率（評価データ）：0.602\n"
          ]
        }
      ],
      "source": [
        "# ログの可視化\n",
        "visualize_logs(log)\n",
        "\n",
        "# 正解率の算出\n",
        "_, acc_train = calculate_loss_and_accuracy(model, dataset_train, device)\n",
        "_, acc_test = calculate_loss_and_accuracy(model, dataset_test, device)\n",
        "print(f'正解率（学習データ）：{acc_train:.3f}')\n",
        "print(f'正解率（評価データ）：{acc_test:.3f}')"
      ]
    },
    {
      "cell_type": "markdown",
      "metadata": {
        "id": "VLDNPNAbVmcZ"
      },
      "source": [
        "## 84. 単語ベクトルの導入\n",
        "事前学習済みの単語ベクトル（例えば，Google Newsデータセット（約1,000億単語）での学習済み単語ベクトル）で単語埋め込み$emb(x)$を初期化し，学習せよ．\n"
      ]
    },
    {
      "cell_type": "code",
      "execution_count": null,
      "metadata": {
        "colab": {
          "base_uri": "https://localhost:8080/"
        },
        "id": "7Zs-3pD0_h2R",
        "outputId": "c896ac67-52cf-4fe6-a8a6-1ac9f6f2e8d8"
      },
      "outputs": [
        {
          "name": "stdout",
          "output_type": "stream",
          "text": [
            "Mounted at /content/drive\n"
          ]
        }
      ],
      "source": [
        "from google.colab import drive\n",
        "drive.mount('/content/drive')"
      ]
    },
    {
      "cell_type": "code",
      "execution_count": null,
      "metadata": {
        "colab": {
          "base_uri": "https://localhost:8080/"
        },
        "id": "5Yfz19Sk_lHX",
        "outputId": "49871e66-f1b4-41e3-f41c-e9ba10d93ac9"
      },
      "outputs": [
        {
          "name": "stdout",
          "output_type": "stream",
          "text": [
            "学習済みベクトル利用単語数: 9174 / 9406\n",
            "torch.Size([9406, 300])\n"
          ]
        }
      ],
      "source": [
        "from gensim.models import KeyedVectors\n",
        "model = KeyedVectors.load_word2vec_format('drive/MyDrive/100本ノック/GoogleNews-vectors-negative300.bin.gz', binary=True)\n",
        "\n",
        "# 学習済み単語ベクトルの取得\n",
        "VOCAB_SIZE = len(set(word2id.values())) + 1\n",
        "EMB_SIZE = 300\n",
        "weights = np.zeros((VOCAB_SIZE, EMB_SIZE))\n",
        "words_in_pretrained = 0\n",
        "for i, word in enumerate(word2id.keys()):\n",
        "  try:\n",
        "    weights[i] = model[word]\n",
        "    words_in_pretrained += 1\n",
        "  except KeyError:\n",
        "    weights[i] = np.random.normal(scale=0.4, size=(EMB_SIZE,))\n",
        "weights = torch.from_numpy(weights.astype((np.float32)))\n",
        "\n",
        "print(f'学習済みベクトル利用単語数: {words_in_pretrained} / {VOCAB_SIZE}')\n",
        "print(weights.size())"
      ]
    },
    {
      "cell_type": "code",
      "execution_count": null,
      "metadata": {
        "id": "zud-UcBi_spX"
      },
      "outputs": [],
      "source": [
        "class RNN(nn.Module):\n",
        "  def __init__(self, vocab_size, emb_size, padding_idx, output_size, hidden_size, num_layers, emb_weights=None, bidirectional=False):\n",
        "    super().__init__()\n",
        "    self.hidden_size = hidden_size\n",
        "    self.num_layers = num_layers\n",
        "    self.num_directions = bidirectional + 1  # 単方向：1、双方向：2 bool型 False == 0 True == 1\n",
        "    if emb_weights != None:  # 指定があれば埋め込み層の重みをemb_weightsで初期化\n",
        "      self.emb = nn.Embedding.from_pretrained(emb_weights, padding_idx=padding_idx)\n",
        "    else:\n",
        "      self.emb = nn.Embedding(vocab_size, emb_size, padding_idx=padding_idx)\n",
        "    self.rnn = nn.RNN(emb_size, hidden_size, num_layers, nonlinearity='tanh', bidirectional=bidirectional, batch_first=True)\n",
        "    self.fc = nn.Linear(hidden_size * self.num_directions, output_size)\n",
        "    \n",
        "  def forward(self, x):\n",
        "    self.batch_size = x.size()[0]\n",
        "    hidden = self.init_hidden(x.device)  # h0のゼロベクトルを作成\n",
        "    emb = self.emb(x)\n",
        "    # emb.size() = (batch_size, seq_len, emb_size)\n",
        "    out, hidden = self.rnn(emb, hidden)\n",
        "    # out.size() = (batch_size, seq_len, hidden_size * num_directions)\n",
        "    out = self.fc(out[:, -1, :])\n",
        "    # out.size() = (batch_size, output_size)\n",
        "    return out\n",
        "    \n",
        "  def init_hidden(self, device):\n",
        "    hidden = torch.zeros(self.num_layers * self.num_directions, self.batch_size, self.hidden_size, device=device)\n",
        "    return hidden"
      ]
    },
    {
      "cell_type": "code",
      "execution_count": null,
      "metadata": {
        "colab": {
          "base_uri": "https://localhost:8080/"
        },
        "id": "4n20CUsW_3JH",
        "outputId": "7fecd732-825d-4cc3-a81f-25cbbdd6945a"
      },
      "outputs": [
        {
          "name": "stdout",
          "output_type": "stream",
          "text": [
            "epoch: 1, loss_train: 1.2252, accuracy_train: 0.4037, loss_valid: 1.2505, accuracy_valid: 0.4004, 8.4856sec\n",
            "epoch: 2, loss_train: 1.0711, accuracy_train: 0.5910, loss_valid: 1.0814, accuracy_valid: 0.5808, 8.1161sec\n",
            "epoch: 3, loss_train: 1.0932, accuracy_train: 0.5642, loss_valid: 1.1012, accuracy_valid: 0.5576, 8.0356sec\n",
            "epoch: 4, loss_train: 0.9720, accuracy_train: 0.6543, loss_valid: 0.9798, accuracy_valid: 0.6460, 7.9969sec\n",
            "epoch: 5, loss_train: 0.9567, accuracy_train: 0.6599, loss_valid: 0.9693, accuracy_valid: 0.6557, 8.1259sec\n",
            "epoch: 6, loss_train: 0.9436, accuracy_train: 0.6641, loss_valid: 0.9499, accuracy_valid: 0.6662, 8.1434sec\n",
            "epoch: 7, loss_train: 0.9940, accuracy_train: 0.6338, loss_valid: 1.0150, accuracy_valid: 0.6287, 8.0896sec\n",
            "epoch: 8, loss_train: 0.9544, accuracy_train: 0.6551, loss_valid: 0.9775, accuracy_valid: 0.6527, 8.1410sec\n",
            "epoch: 9, loss_train: 0.9721, accuracy_train: 0.6432, loss_valid: 1.0019, accuracy_valid: 0.6362, 8.1234sec\n",
            "epoch: 10, loss_train: 0.9495, accuracy_train: 0.6577, loss_valid: 0.9821, accuracy_valid: 0.6452, 8.1086sec\n"
          ]
        }
      ],
      "source": [
        "# パラメータの設定\n",
        "VOCAB_SIZE = len(set(word2id.values())) + 1\n",
        "EMB_SIZE = 300\n",
        "PADDING_IDX = len(set(word2id.values()))\n",
        "OUTPUT_SIZE = 4\n",
        "HIDDEN_SIZE = 50\n",
        "NUM_LAYERS = 1\n",
        "LEARNING_RATE = 5e-2\n",
        "BATCH_SIZE = 32\n",
        "NUM_EPOCHS = 10\n",
        "\n",
        "# モデルの定義\n",
        "model = RNN(VOCAB_SIZE, EMB_SIZE, PADDING_IDX, OUTPUT_SIZE, HIDDEN_SIZE, NUM_LAYERS, emb_weights=weights)\n",
        "\n",
        "# 損失関数の定義\n",
        "criterion = nn.CrossEntropyLoss()\n",
        "\n",
        "# オプティマイザの定義\n",
        "optimizer = torch.optim.SGD(model.parameters(), lr=LEARNING_RATE)\n",
        "\n",
        "# デバイスの指定\n",
        "device = torch.device('cuda')\n",
        "\n",
        "# モデルの学習\n",
        "log = train_model(dataset_train, dataset_valid, BATCH_SIZE, model, criterion, optimizer, NUM_EPOCHS, collate_fn=Padsequence(PADDING_IDX), device=device)"
      ]
    },
    {
      "cell_type": "code",
      "execution_count": null,
      "metadata": {
        "colab": {
          "base_uri": "https://localhost:8080/",
          "height": 369
        },
        "id": "q6hO4OTn_6Ym",
        "outputId": "636fa403-fd9c-4c5c-a762-24a9640fdaa9"
      },
      "outputs": [
        {
          "data": {
            "image/png": "[encoded data removed]",
            "text/plain": [
              "<Figure size 1080x360 with 2 Axes>"
            ]
          },
          "metadata": {},
          "output_type": "display_data"
        },
        {
          "name": "stdout",
          "output_type": "stream",
          "text": [
            "正解率（学習データ）：0.658\n",
            "正解率（評価データ）：0.647\n"
          ]
        }
      ],
      "source": [
        "# ログの可視化\n",
        "visualize_logs(log)\n",
        "\n",
        "# 正解率の算出\n",
        "_, acc_train = calculate_loss_and_accuracy(model, dataset_train, device)\n",
        "_, acc_test = calculate_loss_and_accuracy(model, dataset_test, device)\n",
        "print(f'正解率（学習データ）：{acc_train:.3f}')\n",
        "print(f'正解率（評価データ）：{acc_test:.3f}')"
      ]
    },
    {
      "cell_type": "markdown",
      "metadata": {
        "id": "Ucr7k-26ITRG"
      },
      "source": [
        "## 85. 双方向RNN・多層化\n",
        "順方向と逆方向のRNNの両方を用いて入力テキストをエンコードし，モデルを学習せよ．\n",
        "\n",
        "$$\n",
        "\\overleftarrow h_{T+1} = 0, \\\\\n",
        "\\overleftarrow h_t = {\\rm \\overleftarrow{RNN}}(\\mathrm{emb}(x_t), \\overleftarrow h_{t+1}), \\\\\n",
        "y = {\\rm softmax}(W^{(yh)} [\\overrightarrow h_T; \\overleftarrow h_1] + b^{(y)})\n",
        "$$\n",
        "\n",
        "ただし，$\\overrightarrow h_t \\in \\mathbb{R}^{d_h}, \\overleftarrow h_t \\in \\mathbb{R}^{d_h}$はそれぞれ，順方向および逆方向のRNNで求めた時刻$t$の隠れ状態ベクトル，${\\rm \\overleftarrow{RNN}}(x,h)$は入力$x$と次時刻の隠れ状態$h$から前状態を計算するRNNユニット，$W^{(yh)} \\in \\mathbb{R}^{L \\times 2d_h}$は隠れ状態ベクトルからカテゴリを予測するための行列，$b^{(y)} \\in \\mathbb{R}^{L}$はバイアス項である．また，$[a; b]$はベクトル$a$と$b$の連結を表す。\n",
        "\n",
        "さらに，双方向RNNを多層化して実験せよ．\n"
      ]
    },
    {
      "cell_type": "code",
      "execution_count": null,
      "metadata": {
        "colab": {
          "base_uri": "https://localhost:8080/"
        },
        "id": "FoOEx4yR_9aO",
        "outputId": "21b9543b-0f8d-4702-b563-0e001ef873d1"
      },
      "outputs": [
        {
          "name": "stdout",
          "output_type": "stream",
          "text": [
            "epoch: 1, loss_train: 1.1900, accuracy_train: 0.4001, loss_valid: 1.2047, accuracy_valid: 0.4049, 9.8304sec\n",
            "epoch: 2, loss_train: 1.0873, accuracy_train: 0.5556, loss_valid: 1.0997, accuracy_valid: 0.5464, 8.7730sec\n",
            "epoch: 3, loss_train: 1.0318, accuracy_train: 0.6093, loss_valid: 1.0483, accuracy_valid: 0.6010, 8.9473sec\n",
            "epoch: 4, loss_train: 1.0862, accuracy_train: 0.5706, loss_valid: 1.1248, accuracy_valid: 0.5419, 8.8706sec\n",
            "epoch: 5, loss_train: 0.9881, accuracy_train: 0.6314, loss_valid: 1.0264, accuracy_valid: 0.6220, 8.8646sec\n",
            "epoch: 6, loss_train: 0.9657, accuracy_train: 0.6494, loss_valid: 1.0107, accuracy_valid: 0.6332, 8.7944sec\n",
            "epoch: 7, loss_train: 1.0165, accuracy_train: 0.6048, loss_valid: 1.0716, accuracy_valid: 0.5778, 8.8207sec\n",
            "epoch: 8, loss_train: 0.9379, accuracy_train: 0.6505, loss_valid: 0.9808, accuracy_valid: 0.6422, 8.8478sec\n",
            "epoch: 9, loss_train: 0.9573, accuracy_train: 0.6471, loss_valid: 1.0052, accuracy_valid: 0.6265, 8.8522sec\n",
            "epoch: 10, loss_train: 0.9660, accuracy_train: 0.6396, loss_valid: 1.0100, accuracy_valid: 0.6213, 8.8241sec\n"
          ]
        }
      ],
      "source": [
        "# パラメータの設定\n",
        "VOCAB_SIZE = len(set(word2id.values())) + 1\n",
        "EMB_SIZE = 300\n",
        "PADDING_IDX = len(set(word2id.values()))\n",
        "OUTPUT_SIZE = 4\n",
        "HIDDEN_SIZE = 50\n",
        "NUM_LAYERS = 2\n",
        "LEARNING_RATE = 5e-2\n",
        "BATCH_SIZE = 32\n",
        "NUM_EPOCHS = 10\n",
        "\n",
        "# モデルの定義\n",
        "model = RNN(VOCAB_SIZE, EMB_SIZE, PADDING_IDX, OUTPUT_SIZE, HIDDEN_SIZE, NUM_LAYERS, emb_weights=weights, bidirectional=True) #双方向\n",
        "\n",
        "# 損失関数の定義\n",
        "criterion = nn.CrossEntropyLoss()\n",
        "\n",
        "# オプティマイザの定義\n",
        "optimizer = torch.optim.SGD(model.parameters(), lr=LEARNING_RATE)\n",
        "\n",
        "# デバイスの指定\n",
        "device = torch.device('cuda')\n",
        "\n",
        "# モデルの学習\n",
        "log = train_model(dataset_train, dataset_valid, BATCH_SIZE, model, criterion, optimizer, NUM_EPOCHS, collate_fn=Padsequence(PADDING_IDX), device=device)"
      ]
    },
    {
      "cell_type": "code",
      "execution_count": null,
      "metadata": {
        "colab": {
          "base_uri": "https://localhost:8080/",
          "height": 369
        },
        "id": "Ql_1bG-A_-jm",
        "outputId": "276d5c3a-0d61-426a-84c0-cf3482784d2b"
      },
      "outputs": [
        {
          "data": {
            "image/png": "[encoded data removed]",
            "text/plain": [
              "<Figure size 1080x360 with 2 Axes>"
            ]
          },
          "metadata": {},
          "output_type": "display_data"
        },
        {
          "name": "stdout",
          "output_type": "stream",
          "text": [
            "正解率（学習データ）：0.640\n",
            "正解率（評価データ）：0.631\n"
          ]
        }
      ],
      "source": [
        "# ログの可視化\n",
        "visualize_logs(log)\n",
        "\n",
        "# 正解率の算出\n",
        "_, acc_train = calculate_loss_and_accuracy(model, dataset_train, device)\n",
        "_, acc_test = calculate_loss_and_accuracy(model, dataset_test, device)\n",
        "print(f'正解率（学習データ）：{acc_train:.3f}')\n",
        "print(f'正解率（評価データ）：{acc_test:.3f}')"
      ]
    },
    {
      "cell_type": "markdown",
      "metadata": {
        "id": "TIcy8hdzP8S3"
      },
      "source": [
        "## 86. 畳み込みニューラルネットワーク (CNN)\n",
        "ID番号で表現された単語列$\\boldsymbol x = (x_1, x_2, \\dots, x_T)$がある．ただし，$T$は単語列の長さ，$x_t \\in \\mathbb{R}^{V}$は単語のID番号のone-hot表記である（$V$は単語の総数である）．畳み込みニューラルネットワーク（CNN: Convolutional Neural Network）を用い，単語列$\\boldsymbol x$からカテゴリ$y$を予測するモデルを実装せよ．\n",
        "\n",
        "ただし，畳み込みニューラルネットワークの構成は以下の通りとする．\n",
        "\n",
        "+ 単語埋め込みの次元数: $d_w$\n",
        "+ 畳み込みのフィルターのサイズ: 3 トークン\n",
        "+ 畳み込みのストライド: 1 トークン\n",
        "+ 畳み込みのパディング: あり\n",
        "+ 畳み込み演算後の各時刻のベクトルの次元数: $d_h$\n",
        "+ 畳み込み演算後に最大値プーリング（max pooling）を適用し，入力文を$d_h$次元の隠れベクトルで表現\n",
        " すなわち，時刻$t$の特徴ベクトル$p_t \\in \\mathbb{R}^{d_h}$は次式で表される．\n",
        "\n",
        "$$\n",
        "p_t = g(W^{(px)} [\\mathrm{emb}(x_{t-1}); \\mathrm{emb}(x_t); \\mathrm{emb}(x_{t+1})] + b^{(p)})\n",
        "]\n",
        "$$\n",
        "\n",
        "ただし，$W^{(px)} \\in \\mathbb{R}^{d_h \\times 3d_w}, b^{(p)} \\in \\mathbb{R}^{d_h}$はCNNのパラメータ，$g$は活性化関数（例えば$\\tanh$やReLUなど），$[a; b; c]$はベクトル$a, b, c$の連結である．なお，行列$W^{(px)}$の列数が$3d_w$になるのは，3個のトークンの単語埋め込みを連結したものに対して，線形変換を行うためである．\n",
        "最大値プーリングでは，特徴ベクトルの次元毎に全時刻における最大値を取り，入力文書の特徴ベクトル$c \\in \\mathbb{R}^{d_h}$を求める．$c[i]$でベクトル$c$の$i$番目の次元の値を表すことにすると，最大値プーリングは次式で表される．\n",
        "\n",
        "$$\n",
        "c[i] = \\max_{1 \\leq t \\leq T} p_t[i]\n",
        "$$\n",
        "\n",
        "最後に，入力文書の特徴ベクトル$c$に行列$W^{(yc)} \\in \\mathbb{R}^{L \\times d_h}$とバイアス項$b^{(y)} \\in \\mathbb{R}^{L}$による線形変換とソフトマックス関数を適用し，カテゴリ$y$を予測する．\n",
        "\n",
        "$$\n",
        "y = {\\rm softmax}(W^{(yc)} c + b^{(y)})\n",
        "$$\n",
        "\n",
        "なお，この問題ではモデルの学習を行わず，ランダムに初期化された重み行列で$y$を計算するだけでよい．"
      ]
    },
    {
      "cell_type": "markdown",
      "metadata": {
        "id": "qeTPhtQtYD_b"
      },
      "source": [
        "CNN:https://qiita.com/mathlive/items/8e1f9a8467fff8dfd03c"
      ]
    },
    {
      "cell_type": "markdown",
      "metadata": {
        "id": "BQJXnQzPer2V"
      },
      "source": [
        "Conv2d:torch.nn.Conv2d(in_channels, out_channels, kernel_size, stride=1, padding=0, dilation=1, groups=1, bias=True, padding_mode='zeros', device=None, dtype=None) \\\n",
        "https://pytorch.org/docs/stable/generated/torch.nn.Conv2d.html?highlight=conv2#torch.nn.Conv2d"
      ]
    },
    {
      "cell_type": "markdown",
      "metadata": {
        "id": "M6vjR2USa7QP"
      },
      "source": [
        "Dropout:過学習を抑制する。\\\n",
        "https://pytorch.org/docs/stable/generated/torch.nn.Dropout.html"
      ]
    },
    {
      "cell_type": "code",
      "execution_count": null,
      "metadata": {
        "colab": {
          "base_uri": "https://localhost:8080/"
        },
        "id": "IJBI01i-aZVq",
        "outputId": "7e7d135e-4bb1-4c01-f9dd-a862b172a41f"
      },
      "outputs": [
        {
          "name": "stdout",
          "output_type": "stream",
          "text": [
            "tensor([[-2.3903,  1.5001,  1.3220,  2.3042,  1.3999,  0.0000,  0.0000,  0.5348,\n",
            "          0.0000, -2.0119],\n",
            "        [-0.3971, -1.4828,  0.2493, -0.4843, -0.0000,  0.0000, -0.6700,  0.1379,\n",
            "          2.6792,  0.0000]])\n"
          ]
        }
      ],
      "source": [
        "m = nn.Dropout(0.3)\n",
        "input = torch.randn(2, 10)\n",
        "output = m(input)\n",
        "\n",
        "print(output)"
      ]
    },
    {
      "cell_type": "code",
      "execution_count": null,
      "metadata": {
        "id": "n9x62sNmAAvm"
      },
      "outputs": [],
      "source": [
        "from torch.nn import functional as F\n",
        "\n",
        "class CNN(nn.Module):\n",
        "  def __init__(self, vocab_size, emb_size, padding_idx, output_size, out_channels, kernel_heights, stride, padding, emb_weights=None):\n",
        "    super().__init__()\n",
        "    if emb_weights != None:  # 指定があれば埋め込み層の重みをemb_weightsで初期化\n",
        "      self.emb = nn.Embedding.from_pretrained(emb_weights, padding_idx=padding_idx)\n",
        "    else:\n",
        "      self.emb = nn.Embedding(vocab_size, emb_size, padding_idx=padding_idx)\n",
        "    self.conv = nn.Conv2d(1, out_channels, (kernel_heights, emb_size), stride, (padding, 0))\n",
        "    self.drop = nn.Dropout(0.3)\n",
        "    self.fc = nn.Linear(out_channels, output_size)\n",
        "    \n",
        "  def forward(self, x):\n",
        "    # x.size() = (batch_size, seq_len)\n",
        "    emb = self.emb(x).unsqueeze(1)\n",
        "    # emb.size() = (batch_size, 1, seq_len, emb_size)\n",
        "    conv = self.conv(emb)\n",
        "    # conv.size() = (batch_size, out_channels, seq_len, 1)\n",
        "    act = F.relu(conv.squeeze(3))\n",
        "    # act.size() = (batch_size, out_channels, seq_len)\n",
        "    max_pool = F.max_pool1d(act, act.size()[2])\n",
        "    # max_pool.size() = (batch_size, out_channels, 1) -> seq_len方向に最大値を取得\n",
        "    out = self.fc(self.drop(max_pool.squeeze(2)))\n",
        "    # out.size() = (batch_size, output_size)\n",
        "    return out"
      ]
    },
    {
      "cell_type": "code",
      "execution_count": null,
      "metadata": {
        "colab": {
          "base_uri": "https://localhost:8080/"
        },
        "id": "YWGvOeZ0ABVX",
        "outputId": "aab41bfd-ee31-4424-f990-2eac68cfadc6"
      },
      "outputs": [
        {
          "name": "stdout",
          "output_type": "stream",
          "text": [
            "tensor([[0.2852, 0.2494, 0.2366, 0.2288]], grad_fn=<SoftmaxBackward0>)\n",
            "tensor([[0.3135, 0.2080, 0.2512, 0.2273]], grad_fn=<SoftmaxBackward0>)\n",
            "tensor([[0.2787, 0.2453, 0.2554, 0.2206]], grad_fn=<SoftmaxBackward0>)\n",
            "tensor([[0.2638, 0.2348, 0.2862, 0.2152]], grad_fn=<SoftmaxBackward0>)\n",
            "tensor([[0.3521, 0.2263, 0.2151, 0.2064]], grad_fn=<SoftmaxBackward0>)\n",
            "tensor([[0.3342, 0.2203, 0.2189, 0.2266]], grad_fn=<SoftmaxBackward0>)\n",
            "tensor([[0.3126, 0.2682, 0.1992, 0.2199]], grad_fn=<SoftmaxBackward0>)\n",
            "tensor([[0.3228, 0.2059, 0.2844, 0.1870]], grad_fn=<SoftmaxBackward0>)\n",
            "tensor([[0.2846, 0.2504, 0.2651, 0.1999]], grad_fn=<SoftmaxBackward0>)\n",
            "tensor([[0.3090, 0.2125, 0.2449, 0.2336]], grad_fn=<SoftmaxBackward0>)\n"
          ]
        }
      ],
      "source": [
        "# パラメータの設定\n",
        "VOCAB_SIZE = len(set(word2id.values())) + 1\n",
        "EMB_SIZE = 300\n",
        "PADDING_IDX = len(set(word2id.values()))\n",
        "OUTPUT_SIZE = 4\n",
        "OUT_CHANNELS = 100\n",
        "KERNEL_HEIGHTS = 3\n",
        "STRIDE = 1\n",
        "PADDING = 1\n",
        "\n",
        "# モデルの定義\n",
        "model = CNN(VOCAB_SIZE, EMB_SIZE, PADDING_IDX, OUTPUT_SIZE, OUT_CHANNELS, KERNEL_HEIGHTS, STRIDE, PADDING, emb_weights=weights)\n",
        "\n",
        "# 先頭10件の予測値取得\n",
        "for i in range(10):\n",
        "  X = dataset_train[i]['inputs']\n",
        "  print(torch.softmax(model(X.unsqueeze(0)), dim=-1)) #unsqueezeでbatch_sizeを1として追加"
      ]
    },
    {
      "cell_type": "markdown",
      "metadata": {
        "id": "4lHrJE0yQs3u"
      },
      "source": [
        "## 87. 確率的勾配降下法によるCNNの学習\n",
        "確率的勾配降下法（SGD: Stochastic Gradient Descent）を用いて，問題86で構築したモデルを学習せよ．訓練データ上の損失と正解率，評価データ上の損失と正解率を表示しながらモデルを学習し，適当な基準（例えば10エポックなど）で終了させよ"
      ]
    },
    {
      "cell_type": "code",
      "execution_count": null,
      "metadata": {
        "colab": {
          "base_uri": "https://localhost:8080/"
        },
        "id": "c4uUEBqbAH14",
        "outputId": "fbd0c072-d970-4e54-c22d-515e21a8081c"
      },
      "outputs": [
        {
          "name": "stdout",
          "output_type": "stream",
          "text": [
            "epoch: 1, loss_train: 1.0620, accuracy_train: 0.5707, loss_valid: 1.0733, accuracy_valid: 0.5808, 11.4366sec\n",
            "epoch: 2, loss_train: 0.9854, accuracy_train: 0.6274, loss_valid: 1.0075, accuracy_valid: 0.6400, 8.0139sec\n",
            "epoch: 3, loss_train: 0.9107, accuracy_train: 0.6890, loss_valid: 0.9483, accuracy_valid: 0.6639, 8.9474sec\n",
            "epoch: 4, loss_train: 0.8503, accuracy_train: 0.7094, loss_valid: 0.8980, accuracy_valid: 0.6909, 8.0490sec\n",
            "epoch: 5, loss_train: 0.8056, accuracy_train: 0.7242, loss_valid: 0.8616, accuracy_valid: 0.7036, 7.9765sec\n",
            "epoch: 6, loss_train: 0.7750, accuracy_train: 0.7338, loss_valid: 0.8431, accuracy_valid: 0.7118, 7.9016sec\n",
            "epoch: 7, loss_train: 0.7542, accuracy_train: 0.7387, loss_valid: 0.8293, accuracy_valid: 0.7163, 7.8996sec\n",
            "epoch: 8, loss_train: 0.7422, accuracy_train: 0.7419, loss_valid: 0.8190, accuracy_valid: 0.7178, 7.9680sec\n",
            "epoch: 9, loss_train: 0.7368, accuracy_train: 0.7444, loss_valid: 0.8160, accuracy_valid: 0.7171, 7.9936sec\n",
            "epoch: 10, loss_train: 0.7353, accuracy_train: 0.7444, loss_valid: 0.8149, accuracy_valid: 0.7201, 7.9736sec\n"
          ]
        }
      ],
      "source": [
        "# パラメータの設定\n",
        "VOCAB_SIZE = len(set(word2id.values())) + 1\n",
        "EMB_SIZE = 300\n",
        "PADDING_IDX = len(set(word2id.values()))\n",
        "OUTPUT_SIZE = 4\n",
        "OUT_CHANNELS = 100\n",
        "KERNEL_HEIGHTS = 3\n",
        "STRIDE = 1\n",
        "PADDING = 1\n",
        "LEARNING_RATE = 5e-2\n",
        "BATCH_SIZE = 64\n",
        "NUM_EPOCHS = 10\n",
        "\n",
        "# モデルの定義\n",
        "model = CNN(VOCAB_SIZE, EMB_SIZE, PADDING_IDX, OUTPUT_SIZE, OUT_CHANNELS, KERNEL_HEIGHTS, STRIDE, PADDING, emb_weights=weights)\n",
        "\n",
        "# 損失関数の定義\n",
        "criterion = nn.CrossEntropyLoss()\n",
        "\n",
        "# オプティマイザの定義\n",
        "optimizer = torch.optim.SGD(model.parameters(), lr=LEARNING_RATE)\n",
        "\n",
        "# デバイスの指定\n",
        "device = torch.device('cuda')\n",
        "\n",
        "# モデルの学習\n",
        "log = train_model(dataset_train, dataset_valid, BATCH_SIZE, model, criterion, optimizer, NUM_EPOCHS, collate_fn=Padsequence(PADDING_IDX), device=device)"
      ]
    },
    {
      "cell_type": "code",
      "execution_count": null,
      "metadata": {
        "colab": {
          "base_uri": "https://localhost:8080/",
          "height": 369
        },
        "id": "A0qr9EVpAIev",
        "outputId": "03d4554d-a919-4548-8690-56677b16d753"
      },
      "outputs": [
        {
          "data": {
            "image/png": "[encoded data removed]",
            "text/plain": [
              "<Figure size 1080x360 with 2 Axes>"
            ]
          },
          "metadata": {},
          "output_type": "display_data"
        },
        {
          "name": "stdout",
          "output_type": "stream",
          "text": [
            "正解率（学習データ）：0.744\n",
            "正解率（評価データ）：0.718\n"
          ]
        }
      ],
      "source": [
        "# ログの可視化\n",
        "visualize_logs(log)\n",
        "\n",
        "# 正解率の算出\n",
        "_, acc_train = calculate_loss_and_accuracy(model, dataset_train, device)\n",
        "_, acc_test = calculate_loss_and_accuracy(model, dataset_test, device)\n",
        "print(f'正解率（学習データ）：{acc_train:.3f}')\n",
        "print(f'正解率（評価データ）：{acc_test:.3f}')"
      ]
    },
    {
      "cell_type": "markdown",
      "metadata": {
        "id": "wFpytluk_yrP"
      },
      "source": [
        "## 88. パラメータチューニング\n",
        "\n",
        "問題85や問題87のコードを改変し，ニューラルネットワークの形状やハイパーパラメータを調整しながら，高性能なカテゴリ分類器を構築せよ．"
      ]
    },
    {
      "cell_type": "code",
      "execution_count": null,
      "metadata": {
        "id": "ebRZNrPaPraY"
      },
      "outputs": [],
      "source": [
        "from torch.nn import functional as F\n",
        "\n",
        "class textCNN(nn.Module):\n",
        "  def __init__(self, vocab_size, emb_size, padding_idx, output_size, out_channels, conv_params, drop_rate, emb_weights=None):\n",
        "    super().__init__()\n",
        "    if emb_weights != None:  # 指定があれば埋め込み層の重みをemb_weightsで初期化\n",
        "      self.emb = nn.Embedding.from_pretrained(emb_weights, padding_idx=padding_idx)\n",
        "    else:\n",
        "      self.emb = nn.Embedding(vocab_size, emb_size, padding_idx=padding_idx)\n",
        "    self.convs = nn.ModuleList([nn.Conv2d(1, out_channels, (kernel_height, emb_size), padding=(padding, 0)) for kernel_height, padding in conv_params])\n",
        "    self.drop = nn.Dropout(drop_rate)\n",
        "    self.fc = nn.Linear(len(conv_params) * out_channels, output_size)\n",
        "    \n",
        "  def forward(self, x):\n",
        "    # x.size() = (batch_size, seq_len)\n",
        "    emb = self.emb(x).unsqueeze(1)\n",
        "    # emb.size() = (batch_size, 1, seq_len, emb_size)\n",
        "    conv = [F.relu(conv(emb).squeeze(3)) for conv in (self.convs)]\n",
        "    # conv[i].size() = (batch_size, out_channels, seq_len + padding * 2 - kernel_height + 1)\n",
        "    max_pool = [F.max_pool1d(i, i.size()[2]) for i in conv]\n",
        "    # max_pool[i].size() = (batch_size, out_channels, 1) -> seq_len方向に最大値を取得\n",
        "    max_pool_cat = torch.cat(max_pool, 1)\n",
        "    # max_pool_cat.size() = (batch_size, len(conv_params) * out_channels, 1)  -> フィルター別の結果を結合\n",
        "    out = self.fc(self.drop(max_pool_cat.squeeze(2)))\n",
        "    # out.size() = (batch_size, output_size)\n",
        "    return out"
      ]
    },
    {
      "cell_type": "code",
      "execution_count": null,
      "metadata": {
        "id": "cfSh6b2rAMuF"
      },
      "outputs": [],
      "source": [
        "!pip install optuna"
      ]
    },
    {
      "cell_type": "code",
      "execution_count": null,
      "metadata": {
        "id": "fzVjvEKtARRN"
      },
      "outputs": [],
      "source": [
        "import optuna\n",
        "\n",
        "def objective(trial):\n",
        "  # チューニング対象パラメータのセット\n",
        "  emb_size = int(trial.suggest_discrete_uniform('emb_size', 100, 400, 100))\n",
        "  out_channels = int(trial.suggest_discrete_uniform('out_channels', 50, 200, 50))\n",
        "  drop_rate = trial.suggest_discrete_uniform('drop_rate', 0.0, 0.5, 0.1)\n",
        "  learning_rate = trial.suggest_loguniform('learning_rate', 5e-4, 5e-2)\n",
        "  momentum = trial.suggest_discrete_uniform('momentum', 0.5, 0.9, 0.1)\n",
        "  batch_size = int(trial.suggest_discrete_uniform('batch_size', 16, 128, 16))\n",
        "\n",
        "  # 固定パラメータの設定\n",
        "  VOCAB_SIZE = len(set(word2id.values())) + 1\n",
        "  PADDING_IDX = len(set(word2id.values()))\n",
        "  OUTPUT_SIZE = 4\n",
        "  CONV_PARAMS = [[2, 0], [3, 1], [4, 2]]\n",
        "  NUM_EPOCHS = 30\n",
        "\n",
        "  # モデルの定義\n",
        "  model = textCNN(VOCAB_SIZE, emb_size, PADDING_IDX, OUTPUT_SIZE, out_channels, CONV_PARAMS, drop_rate, emb_weights=weights)\n",
        "\n",
        "  # 損失関数の定義\n",
        "  criterion = nn.CrossEntropyLoss()\n",
        "\n",
        "  # オプティマイザの定義\n",
        "  optimizer = torch.optim.SGD(model.parameters(), lr=learning_rate, momentum=momentum)\n",
        "\n",
        "  # デバイスの指定\n",
        "  device = torch.cuda.set_device(0)\n",
        "\n",
        "  # モデルの学習\n",
        "  log = train_model(dataset_train, dataset_valid, batch_size, model, criterion, optimizer, NUM_EPOCHS, collate_fn=Padsequence(PADDING_IDX), device=device)\n",
        "\n",
        "  # 損失の算出\n",
        "  loss_valid, _ = calculate_loss_and_accuracy(model, dataset_valid, device, criterion=criterion) \n",
        "\n",
        "  return loss_valid "
      ]
    },
    {
      "cell_type": "code",
      "execution_count": null,
      "metadata": {
        "colab": {
          "base_uri": "https://localhost:8080/",
          "height": 995
        },
        "id": "_hB63upDARx3",
        "outputId": "d3319df1-95f7-435c-babb-2192177a7b2e"
      },
      "outputs": [
        {
          "output_type": "stream",
          "name": "stderr",
          "text": [
            "\u001b[32m[I 2023-01-25 07:20:26,965]\u001b[0m A new study created in memory with name: no-name-56986140-49c3-472c-b0b5-f6c74e34d919\u001b[0m\n",
            "<ipython-input-68-462da3657e08>:5: FutureWarning: suggest_discrete_uniform has been deprecated in v3.0.0. This feature will be removed in v6.0.0. See https://github.com/optuna/optuna/releases/tag/v3.0.0. Use :func:`~optuna.trial.Trial.suggest_float` instead.\n",
            "  emb_size = int(trial.suggest_discrete_uniform('emb_size', 100, 400, 100))\n",
            "<ipython-input-68-462da3657e08>:6: FutureWarning: suggest_discrete_uniform has been deprecated in v3.0.0. This feature will be removed in v6.0.0. See https://github.com/optuna/optuna/releases/tag/v3.0.0. Use :func:`~optuna.trial.Trial.suggest_float` instead.\n",
            "  out_channels = int(trial.suggest_discrete_uniform('out_channels', 50, 200, 50))\n",
            "<ipython-input-68-462da3657e08>:7: FutureWarning: suggest_discrete_uniform has been deprecated in v3.0.0. This feature will be removed in v6.0.0. See https://github.com/optuna/optuna/releases/tag/v3.0.0. Use :func:`~optuna.trial.Trial.suggest_float` instead.\n",
            "  drop_rate = trial.suggest_discrete_uniform('drop_rate', 0.0, 0.5, 0.1)\n",
            "<ipython-input-68-462da3657e08>:8: FutureWarning: suggest_loguniform has been deprecated in v3.0.0. This feature will be removed in v6.0.0. See https://github.com/optuna/optuna/releases/tag/v3.0.0. Use :func:`~optuna.trial.Trial.suggest_float` instead.\n",
            "  learning_rate = trial.suggest_loguniform('learning_rate', 5e-4, 5e-2)\n",
            "<ipython-input-68-462da3657e08>:9: FutureWarning: suggest_discrete_uniform has been deprecated in v3.0.0. This feature will be removed in v6.0.0. See https://github.com/optuna/optuna/releases/tag/v3.0.0. Use :func:`~optuna.trial.Trial.suggest_float` instead.\n",
            "  momentum = trial.suggest_discrete_uniform('momentum', 0.5, 0.9, 0.1)\n",
            "<ipython-input-68-462da3657e08>:10: FutureWarning: suggest_discrete_uniform has been deprecated in v3.0.0. This feature will be removed in v6.0.0. See https://github.com/optuna/optuna/releases/tag/v3.0.0. Use :func:`~optuna.trial.Trial.suggest_float` instead.\n",
            "  batch_size = int(trial.suggest_discrete_uniform('batch_size', 16, 128, 16))\n",
            "\u001b[33m[W 2023-01-25 07:20:28,616]\u001b[0m Trial 0 failed with parameters: {'emb_size': 100.0, 'out_channels': 150.0, 'drop_rate': 0.1, 'learning_rate': 0.009907547166057466, 'momentum': 0.9, 'batch_size': 112.0} because of the following error: RuntimeError('max_pool1d: Expected 2D or 3D (batch mode) tensor with optional 0 dim batch size for input, but got:[112, 150, 17, 201]').\u001b[0m\n",
            "Traceback (most recent call last):\n",
            "  File \"/usr/local/lib/python3.8/dist-packages/optuna/study/_optimize.py\", line 200, in _run_trial\n",
            "    value_or_values = func(trial)\n",
            "  File \"<ipython-input-68-462da3657e08>\", line 32, in objective\n",
            "    log = train_model(dataset_train, dataset_valid, batch_size, model, criterion, optimizer, NUM_EPOCHS, collate_fn=Padsequence(PADDING_IDX), device=device)\n",
            "  File \"<ipython-input-28-951285b775a9>\", line 60, in train_model\n",
            "    outputs = model(inputs)\n",
            "  File \"/usr/local/lib/python3.8/dist-packages/torch/nn/modules/module.py\", line 1194, in _call_impl\n",
            "    return forward_call(*input, **kwargs)\n",
            "  File \"<ipython-input-76-c705bc695589>\", line 20, in forward\n",
            "    max_pool = [F.max_pool1d(i, i.size()[2]) for i in conv]\n",
            "  File \"<ipython-input-76-c705bc695589>\", line 20, in <listcomp>\n",
            "    max_pool = [F.max_pool1d(i, i.size()[2]) for i in conv]\n",
            "  File \"/usr/local/lib/python3.8/dist-packages/torch/_jit_internal.py\", line 485, in fn\n",
            "    return if_false(*args, **kwargs)\n",
            "  File \"/usr/local/lib/python3.8/dist-packages/torch/nn/functional.py\", line 696, in _max_pool1d\n",
            "    return torch.max_pool1d(input, kernel_size, stride, padding, dilation, ceil_mode)\n",
            "RuntimeError: max_pool1d: Expected 2D or 3D (batch mode) tensor with optional 0 dim batch size for input, but got:[112, 150, 17, 201]\n",
            "\u001b[33m[W 2023-01-25 07:20:28,618]\u001b[0m Trial 0 failed with value None.\u001b[0m\n"
          ]
        },
        {
          "output_type": "error",
          "ename": "RuntimeError",
          "evalue": "ignored",
          "traceback": [
            "\u001b[0;31m---------------------------------------------------------------------------\u001b[0m",
            "\u001b[0;31mRuntimeError\u001b[0m                              Traceback (most recent call last)",
            "\u001b[0;32m<ipython-input-77-c1a0fe8a3f8c>\u001b[0m in \u001b[0;36m<module>\u001b[0;34m\u001b[0m\n\u001b[1;32m      1\u001b[0m \u001b[0;31m# 最適化\u001b[0m\u001b[0;34m\u001b[0m\u001b[0;34m\u001b[0m\u001b[0;34m\u001b[0m\u001b[0m\n\u001b[1;32m      2\u001b[0m \u001b[0mstudy\u001b[0m \u001b[0;34m=\u001b[0m \u001b[0moptuna\u001b[0m\u001b[0;34m.\u001b[0m\u001b[0mcreate_study\u001b[0m\u001b[0;34m(\u001b[0m\u001b[0;34m)\u001b[0m\u001b[0;34m\u001b[0m\u001b[0;34m\u001b[0m\u001b[0m\n\u001b[0;32m----> 3\u001b[0;31m \u001b[0mstudy\u001b[0m\u001b[0;34m.\u001b[0m\u001b[0moptimize\u001b[0m\u001b[0;34m(\u001b[0m\u001b[0mobjective\u001b[0m\u001b[0;34m,\u001b[0m \u001b[0mtimeout\u001b[0m\u001b[0;34m=\u001b[0m\u001b[0;36m7200\u001b[0m\u001b[0;34m)\u001b[0m\u001b[0;34m\u001b[0m\u001b[0;34m\u001b[0m\u001b[0m\n\u001b[0m\u001b[1;32m      4\u001b[0m \u001b[0;34m\u001b[0m\u001b[0m\n",
            "\u001b[0;32m/usr/local/lib/python3.8/dist-packages/optuna/study/study.py\u001b[0m in \u001b[0;36moptimize\u001b[0;34m(self, func, n_trials, timeout, n_jobs, catch, callbacks, gc_after_trial, show_progress_bar)\u001b[0m\n\u001b[1;32m    423\u001b[0m         \"\"\"\n\u001b[1;32m    424\u001b[0m \u001b[0;34m\u001b[0m\u001b[0m\n\u001b[0;32m--> 425\u001b[0;31m         _optimize(\n\u001b[0m\u001b[1;32m    426\u001b[0m             \u001b[0mstudy\u001b[0m\u001b[0;34m=\u001b[0m\u001b[0mself\u001b[0m\u001b[0;34m,\u001b[0m\u001b[0;34m\u001b[0m\u001b[0;34m\u001b[0m\u001b[0m\n\u001b[1;32m    427\u001b[0m             \u001b[0mfunc\u001b[0m\u001b[0;34m=\u001b[0m\u001b[0mfunc\u001b[0m\u001b[0;34m,\u001b[0m\u001b[0;34m\u001b[0m\u001b[0;34m\u001b[0m\u001b[0m\n",
            "\u001b[0;32m/usr/local/lib/python3.8/dist-packages/optuna/study/_optimize.py\u001b[0m in \u001b[0;36m_optimize\u001b[0;34m(study, func, n_trials, timeout, n_jobs, catch, callbacks, gc_after_trial, show_progress_bar)\u001b[0m\n\u001b[1;32m     64\u001b[0m     \u001b[0;32mtry\u001b[0m\u001b[0;34m:\u001b[0m\u001b[0;34m\u001b[0m\u001b[0;34m\u001b[0m\u001b[0m\n\u001b[1;32m     65\u001b[0m         \u001b[0;32mif\u001b[0m \u001b[0mn_jobs\u001b[0m \u001b[0;34m==\u001b[0m \u001b[0;36m1\u001b[0m\u001b[0;34m:\u001b[0m\u001b[0;34m\u001b[0m\u001b[0;34m\u001b[0m\u001b[0m\n\u001b[0;32m---> 66\u001b[0;31m             _optimize_sequential(\n\u001b[0m\u001b[1;32m     67\u001b[0m                 \u001b[0mstudy\u001b[0m\u001b[0;34m,\u001b[0m\u001b[0;34m\u001b[0m\u001b[0;34m\u001b[0m\u001b[0m\n\u001b[1;32m     68\u001b[0m                 \u001b[0mfunc\u001b[0m\u001b[0;34m,\u001b[0m\u001b[0;34m\u001b[0m\u001b[0;34m\u001b[0m\u001b[0m\n",
            "\u001b[0;32m/usr/local/lib/python3.8/dist-packages/optuna/study/_optimize.py\u001b[0m in \u001b[0;36m_optimize_sequential\u001b[0;34m(study, func, n_trials, timeout, catch, callbacks, gc_after_trial, reseed_sampler_rng, time_start, progress_bar)\u001b[0m\n\u001b[1;32m    161\u001b[0m \u001b[0;34m\u001b[0m\u001b[0m\n\u001b[1;32m    162\u001b[0m         \u001b[0;32mtry\u001b[0m\u001b[0;34m:\u001b[0m\u001b[0;34m\u001b[0m\u001b[0;34m\u001b[0m\u001b[0m\n\u001b[0;32m--> 163\u001b[0;31m             \u001b[0mfrozen_trial\u001b[0m \u001b[0;34m=\u001b[0m \u001b[0m_run_trial\u001b[0m\u001b[0;34m(\u001b[0m\u001b[0mstudy\u001b[0m\u001b[0;34m,\u001b[0m \u001b[0mfunc\u001b[0m\u001b[0;34m,\u001b[0m \u001b[0mcatch\u001b[0m\u001b[0;34m)\u001b[0m\u001b[0;34m\u001b[0m\u001b[0;34m\u001b[0m\u001b[0m\n\u001b[0m\u001b[1;32m    164\u001b[0m         \u001b[0;32mfinally\u001b[0m\u001b[0;34m:\u001b[0m\u001b[0;34m\u001b[0m\u001b[0;34m\u001b[0m\u001b[0m\n\u001b[1;32m    165\u001b[0m             \u001b[0;31m# The following line mitigates memory problems that can be occurred in some\u001b[0m\u001b[0;34m\u001b[0m\u001b[0;34m\u001b[0m\u001b[0;34m\u001b[0m\u001b[0m\n",
            "\u001b[0;32m/usr/local/lib/python3.8/dist-packages/optuna/study/_optimize.py\u001b[0m in \u001b[0;36m_run_trial\u001b[0;34m(study, func, catch)\u001b[0m\n\u001b[1;32m    249\u001b[0m         \u001b[0;32mand\u001b[0m \u001b[0;32mnot\u001b[0m \u001b[0misinstance\u001b[0m\u001b[0;34m(\u001b[0m\u001b[0mfunc_err\u001b[0m\u001b[0;34m,\u001b[0m \u001b[0mcatch\u001b[0m\u001b[0;34m)\u001b[0m\u001b[0;34m\u001b[0m\u001b[0;34m\u001b[0m\u001b[0m\n\u001b[1;32m    250\u001b[0m     ):\n\u001b[0;32m--> 251\u001b[0;31m         \u001b[0;32mraise\u001b[0m \u001b[0mfunc_err\u001b[0m\u001b[0;34m\u001b[0m\u001b[0;34m\u001b[0m\u001b[0m\n\u001b[0m\u001b[1;32m    252\u001b[0m     \u001b[0;32mreturn\u001b[0m \u001b[0mfrozen_trial\u001b[0m\u001b[0;34m\u001b[0m\u001b[0;34m\u001b[0m\u001b[0m\n\u001b[1;32m    253\u001b[0m \u001b[0;34m\u001b[0m\u001b[0m\n",
            "\u001b[0;32m/usr/local/lib/python3.8/dist-packages/optuna/study/_optimize.py\u001b[0m in \u001b[0;36m_run_trial\u001b[0;34m(study, func, catch)\u001b[0m\n\u001b[1;32m    198\u001b[0m     \u001b[0;32mwith\u001b[0m \u001b[0mget_heartbeat_thread\u001b[0m\u001b[0;34m(\u001b[0m\u001b[0mtrial\u001b[0m\u001b[0;34m.\u001b[0m\u001b[0m_trial_id\u001b[0m\u001b[0;34m,\u001b[0m \u001b[0mstudy\u001b[0m\u001b[0;34m.\u001b[0m\u001b[0m_storage\u001b[0m\u001b[0;34m)\u001b[0m\u001b[0;34m:\u001b[0m\u001b[0;34m\u001b[0m\u001b[0;34m\u001b[0m\u001b[0m\n\u001b[1;32m    199\u001b[0m         \u001b[0;32mtry\u001b[0m\u001b[0;34m:\u001b[0m\u001b[0;34m\u001b[0m\u001b[0;34m\u001b[0m\u001b[0m\n\u001b[0;32m--> 200\u001b[0;31m             \u001b[0mvalue_or_values\u001b[0m \u001b[0;34m=\u001b[0m \u001b[0mfunc\u001b[0m\u001b[0;34m(\u001b[0m\u001b[0mtrial\u001b[0m\u001b[0;34m)\u001b[0m\u001b[0;34m\u001b[0m\u001b[0;34m\u001b[0m\u001b[0m\n\u001b[0m\u001b[1;32m    201\u001b[0m         \u001b[0;32mexcept\u001b[0m \u001b[0mexceptions\u001b[0m\u001b[0;34m.\u001b[0m\u001b[0mTrialPruned\u001b[0m \u001b[0;32mas\u001b[0m \u001b[0me\u001b[0m\u001b[0;34m:\u001b[0m\u001b[0;34m\u001b[0m\u001b[0;34m\u001b[0m\u001b[0m\n\u001b[1;32m    202\u001b[0m             \u001b[0;31m# TODO(mamu): Handle multi-objective cases.\u001b[0m\u001b[0;34m\u001b[0m\u001b[0;34m\u001b[0m\u001b[0;34m\u001b[0m\u001b[0m\n",
            "\u001b[0;32m<ipython-input-68-462da3657e08>\u001b[0m in \u001b[0;36mobjective\u001b[0;34m(trial)\u001b[0m\n\u001b[1;32m     30\u001b[0m \u001b[0;34m\u001b[0m\u001b[0m\n\u001b[1;32m     31\u001b[0m   \u001b[0;31m# モデルの学習\u001b[0m\u001b[0;34m\u001b[0m\u001b[0;34m\u001b[0m\u001b[0;34m\u001b[0m\u001b[0m\n\u001b[0;32m---> 32\u001b[0;31m   \u001b[0mlog\u001b[0m \u001b[0;34m=\u001b[0m \u001b[0mtrain_model\u001b[0m\u001b[0;34m(\u001b[0m\u001b[0mdataset_train\u001b[0m\u001b[0;34m,\u001b[0m \u001b[0mdataset_valid\u001b[0m\u001b[0;34m,\u001b[0m \u001b[0mbatch_size\u001b[0m\u001b[0;34m,\u001b[0m \u001b[0mmodel\u001b[0m\u001b[0;34m,\u001b[0m \u001b[0mcriterion\u001b[0m\u001b[0;34m,\u001b[0m \u001b[0moptimizer\u001b[0m\u001b[0;34m,\u001b[0m \u001b[0mNUM_EPOCHS\u001b[0m\u001b[0;34m,\u001b[0m \u001b[0mcollate_fn\u001b[0m\u001b[0;34m=\u001b[0m\u001b[0mPadsequence\u001b[0m\u001b[0;34m(\u001b[0m\u001b[0mPADDING_IDX\u001b[0m\u001b[0;34m)\u001b[0m\u001b[0;34m,\u001b[0m \u001b[0mdevice\u001b[0m\u001b[0;34m=\u001b[0m\u001b[0mdevice\u001b[0m\u001b[0;34m)\u001b[0m\u001b[0;34m\u001b[0m\u001b[0;34m\u001b[0m\u001b[0m\n\u001b[0m\u001b[1;32m     33\u001b[0m \u001b[0;34m\u001b[0m\u001b[0m\n\u001b[1;32m     34\u001b[0m   \u001b[0;31m# 損失の算出\u001b[0m\u001b[0;34m\u001b[0m\u001b[0;34m\u001b[0m\u001b[0;34m\u001b[0m\u001b[0m\n",
            "\u001b[0;32m<ipython-input-28-951285b775a9>\u001b[0m in \u001b[0;36mtrain_model\u001b[0;34m(dataset_train, dataset_valid, batch_size, model, criterion, optimizer, num_epochs, collate_fn, device)\u001b[0m\n\u001b[1;32m     58\u001b[0m       \u001b[0minputs\u001b[0m \u001b[0;34m=\u001b[0m \u001b[0mdata\u001b[0m\u001b[0;34m[\u001b[0m\u001b[0;34m'inputs'\u001b[0m\u001b[0;34m]\u001b[0m\u001b[0;34m.\u001b[0m\u001b[0mto\u001b[0m\u001b[0;34m(\u001b[0m\u001b[0mdevice\u001b[0m\u001b[0;34m)\u001b[0m\u001b[0;34m\u001b[0m\u001b[0;34m\u001b[0m\u001b[0m\n\u001b[1;32m     59\u001b[0m       \u001b[0mlabels\u001b[0m \u001b[0;34m=\u001b[0m \u001b[0mdata\u001b[0m\u001b[0;34m[\u001b[0m\u001b[0;34m'labels'\u001b[0m\u001b[0;34m]\u001b[0m\u001b[0;34m.\u001b[0m\u001b[0mto\u001b[0m\u001b[0;34m(\u001b[0m\u001b[0mdevice\u001b[0m\u001b[0;34m)\u001b[0m\u001b[0;34m\u001b[0m\u001b[0;34m\u001b[0m\u001b[0m\n\u001b[0;32m---> 60\u001b[0;31m       \u001b[0moutputs\u001b[0m \u001b[0;34m=\u001b[0m \u001b[0mmodel\u001b[0m\u001b[0;34m(\u001b[0m\u001b[0minputs\u001b[0m\u001b[0;34m)\u001b[0m\u001b[0;34m\u001b[0m\u001b[0;34m\u001b[0m\u001b[0m\n\u001b[0m\u001b[1;32m     61\u001b[0m       \u001b[0mloss\u001b[0m \u001b[0;34m=\u001b[0m \u001b[0mcriterion\u001b[0m\u001b[0;34m(\u001b[0m\u001b[0moutputs\u001b[0m\u001b[0;34m,\u001b[0m \u001b[0mlabels\u001b[0m\u001b[0;34m)\u001b[0m\u001b[0;34m\u001b[0m\u001b[0;34m\u001b[0m\u001b[0m\n\u001b[1;32m     62\u001b[0m       \u001b[0mloss\u001b[0m\u001b[0;34m.\u001b[0m\u001b[0mbackward\u001b[0m\u001b[0;34m(\u001b[0m\u001b[0;34m)\u001b[0m\u001b[0;34m\u001b[0m\u001b[0;34m\u001b[0m\u001b[0m\n",
            "\u001b[0;32m/usr/local/lib/python3.8/dist-packages/torch/nn/modules/module.py\u001b[0m in \u001b[0;36m_call_impl\u001b[0;34m(self, *input, **kwargs)\u001b[0m\n\u001b[1;32m   1192\u001b[0m         if not (self._backward_hooks or self._forward_hooks or self._forward_pre_hooks or _global_backward_hooks\n\u001b[1;32m   1193\u001b[0m                 or _global_forward_hooks or _global_forward_pre_hooks):\n\u001b[0;32m-> 1194\u001b[0;31m             \u001b[0;32mreturn\u001b[0m \u001b[0mforward_call\u001b[0m\u001b[0;34m(\u001b[0m\u001b[0;34m*\u001b[0m\u001b[0minput\u001b[0m\u001b[0;34m,\u001b[0m \u001b[0;34m**\u001b[0m\u001b[0mkwargs\u001b[0m\u001b[0;34m)\u001b[0m\u001b[0;34m\u001b[0m\u001b[0;34m\u001b[0m\u001b[0m\n\u001b[0m\u001b[1;32m   1195\u001b[0m         \u001b[0;31m# Do not call functions when jit is used\u001b[0m\u001b[0;34m\u001b[0m\u001b[0;34m\u001b[0m\u001b[0;34m\u001b[0m\u001b[0m\n\u001b[1;32m   1196\u001b[0m         \u001b[0mfull_backward_hooks\u001b[0m\u001b[0;34m,\u001b[0m \u001b[0mnon_full_backward_hooks\u001b[0m \u001b[0;34m=\u001b[0m \u001b[0;34m[\u001b[0m\u001b[0;34m]\u001b[0m\u001b[0;34m,\u001b[0m \u001b[0;34m[\u001b[0m\u001b[0;34m]\u001b[0m\u001b[0;34m\u001b[0m\u001b[0;34m\u001b[0m\u001b[0m\n",
            "\u001b[0;32m<ipython-input-76-c705bc695589>\u001b[0m in \u001b[0;36mforward\u001b[0;34m(self, x)\u001b[0m\n\u001b[1;32m     18\u001b[0m     \u001b[0mconv\u001b[0m \u001b[0;34m=\u001b[0m \u001b[0;34m[\u001b[0m\u001b[0mF\u001b[0m\u001b[0;34m.\u001b[0m\u001b[0mrelu\u001b[0m\u001b[0;34m(\u001b[0m\u001b[0mconv\u001b[0m\u001b[0;34m(\u001b[0m\u001b[0memb\u001b[0m\u001b[0;34m)\u001b[0m\u001b[0;34m)\u001b[0m\u001b[0;34m.\u001b[0m\u001b[0msqueeze\u001b[0m\u001b[0;34m(\u001b[0m\u001b[0;36m3\u001b[0m\u001b[0;34m)\u001b[0m \u001b[0;32mfor\u001b[0m \u001b[0mconv\u001b[0m \u001b[0;32min\u001b[0m \u001b[0;34m(\u001b[0m\u001b[0mself\u001b[0m\u001b[0;34m.\u001b[0m\u001b[0mconvs\u001b[0m\u001b[0;34m)\u001b[0m\u001b[0;34m]\u001b[0m\u001b[0;34m\u001b[0m\u001b[0;34m\u001b[0m\u001b[0m\n\u001b[1;32m     19\u001b[0m     \u001b[0;31m# conv[i].size() = (batch_size, out_channels, seq_len + padding * 2 - kernel_height + 1)\u001b[0m\u001b[0;34m\u001b[0m\u001b[0;34m\u001b[0m\u001b[0;34m\u001b[0m\u001b[0m\n\u001b[0;32m---> 20\u001b[0;31m     \u001b[0mmax_pool\u001b[0m \u001b[0;34m=\u001b[0m \u001b[0;34m[\u001b[0m\u001b[0mF\u001b[0m\u001b[0;34m.\u001b[0m\u001b[0mmax_pool1d\u001b[0m\u001b[0;34m(\u001b[0m\u001b[0mi\u001b[0m\u001b[0;34m,\u001b[0m \u001b[0mi\u001b[0m\u001b[0;34m.\u001b[0m\u001b[0msize\u001b[0m\u001b[0;34m(\u001b[0m\u001b[0;34m)\u001b[0m\u001b[0;34m[\u001b[0m\u001b[0;36m2\u001b[0m\u001b[0;34m]\u001b[0m\u001b[0;34m)\u001b[0m \u001b[0;32mfor\u001b[0m \u001b[0mi\u001b[0m \u001b[0;32min\u001b[0m \u001b[0mconv\u001b[0m\u001b[0;34m]\u001b[0m\u001b[0;34m\u001b[0m\u001b[0;34m\u001b[0m\u001b[0m\n\u001b[0m\u001b[1;32m     21\u001b[0m     \u001b[0;31m# max_pool[i].size() = (batch_size, out_channels, 1) -> seq_len方向に最大値を取得\u001b[0m\u001b[0;34m\u001b[0m\u001b[0;34m\u001b[0m\u001b[0;34m\u001b[0m\u001b[0m\n\u001b[1;32m     22\u001b[0m     \u001b[0mmax_pool_cat\u001b[0m \u001b[0;34m=\u001b[0m \u001b[0mtorch\u001b[0m\u001b[0;34m.\u001b[0m\u001b[0mcat\u001b[0m\u001b[0;34m(\u001b[0m\u001b[0mmax_pool\u001b[0m\u001b[0;34m,\u001b[0m \u001b[0;36m1\u001b[0m\u001b[0;34m)\u001b[0m\u001b[0;34m\u001b[0m\u001b[0;34m\u001b[0m\u001b[0m\n",
            "\u001b[0;32m<ipython-input-76-c705bc695589>\u001b[0m in \u001b[0;36m<listcomp>\u001b[0;34m(.0)\u001b[0m\n\u001b[1;32m     18\u001b[0m     \u001b[0mconv\u001b[0m \u001b[0;34m=\u001b[0m \u001b[0;34m[\u001b[0m\u001b[0mF\u001b[0m\u001b[0;34m.\u001b[0m\u001b[0mrelu\u001b[0m\u001b[0;34m(\u001b[0m\u001b[0mconv\u001b[0m\u001b[0;34m(\u001b[0m\u001b[0memb\u001b[0m\u001b[0;34m)\u001b[0m\u001b[0;34m)\u001b[0m\u001b[0;34m.\u001b[0m\u001b[0msqueeze\u001b[0m\u001b[0;34m(\u001b[0m\u001b[0;36m3\u001b[0m\u001b[0;34m)\u001b[0m \u001b[0;32mfor\u001b[0m \u001b[0mconv\u001b[0m \u001b[0;32min\u001b[0m \u001b[0;34m(\u001b[0m\u001b[0mself\u001b[0m\u001b[0;34m.\u001b[0m\u001b[0mconvs\u001b[0m\u001b[0;34m)\u001b[0m\u001b[0;34m]\u001b[0m\u001b[0;34m\u001b[0m\u001b[0;34m\u001b[0m\u001b[0m\n\u001b[1;32m     19\u001b[0m     \u001b[0;31m# conv[i].size() = (batch_size, out_channels, seq_len + padding * 2 - kernel_height + 1)\u001b[0m\u001b[0;34m\u001b[0m\u001b[0;34m\u001b[0m\u001b[0;34m\u001b[0m\u001b[0m\n\u001b[0;32m---> 20\u001b[0;31m     \u001b[0mmax_pool\u001b[0m \u001b[0;34m=\u001b[0m \u001b[0;34m[\u001b[0m\u001b[0mF\u001b[0m\u001b[0;34m.\u001b[0m\u001b[0mmax_pool1d\u001b[0m\u001b[0;34m(\u001b[0m\u001b[0mi\u001b[0m\u001b[0;34m,\u001b[0m \u001b[0mi\u001b[0m\u001b[0;34m.\u001b[0m\u001b[0msize\u001b[0m\u001b[0;34m(\u001b[0m\u001b[0;34m)\u001b[0m\u001b[0;34m[\u001b[0m\u001b[0;36m2\u001b[0m\u001b[0;34m]\u001b[0m\u001b[0;34m)\u001b[0m \u001b[0;32mfor\u001b[0m \u001b[0mi\u001b[0m \u001b[0;32min\u001b[0m \u001b[0mconv\u001b[0m\u001b[0;34m]\u001b[0m\u001b[0;34m\u001b[0m\u001b[0;34m\u001b[0m\u001b[0m\n\u001b[0m\u001b[1;32m     21\u001b[0m     \u001b[0;31m# max_pool[i].size() = (batch_size, out_channels, 1) -> seq_len方向に最大値を取得\u001b[0m\u001b[0;34m\u001b[0m\u001b[0;34m\u001b[0m\u001b[0;34m\u001b[0m\u001b[0m\n\u001b[1;32m     22\u001b[0m     \u001b[0mmax_pool_cat\u001b[0m \u001b[0;34m=\u001b[0m \u001b[0mtorch\u001b[0m\u001b[0;34m.\u001b[0m\u001b[0mcat\u001b[0m\u001b[0;34m(\u001b[0m\u001b[0mmax_pool\u001b[0m\u001b[0;34m,\u001b[0m \u001b[0;36m1\u001b[0m\u001b[0;34m)\u001b[0m\u001b[0;34m\u001b[0m\u001b[0;34m\u001b[0m\u001b[0m\n",
            "\u001b[0;32m/usr/local/lib/python3.8/dist-packages/torch/_jit_internal.py\u001b[0m in \u001b[0;36mfn\u001b[0;34m(*args, **kwargs)\u001b[0m\n\u001b[1;32m    483\u001b[0m             \u001b[0;32mreturn\u001b[0m \u001b[0mif_true\u001b[0m\u001b[0;34m(\u001b[0m\u001b[0;34m*\u001b[0m\u001b[0margs\u001b[0m\u001b[0;34m,\u001b[0m \u001b[0;34m**\u001b[0m\u001b[0mkwargs\u001b[0m\u001b[0;34m)\u001b[0m\u001b[0;34m\u001b[0m\u001b[0;34m\u001b[0m\u001b[0m\n\u001b[1;32m    484\u001b[0m         \u001b[0;32melse\u001b[0m\u001b[0;34m:\u001b[0m\u001b[0;34m\u001b[0m\u001b[0;34m\u001b[0m\u001b[0m\n\u001b[0;32m--> 485\u001b[0;31m             \u001b[0;32mreturn\u001b[0m \u001b[0mif_false\u001b[0m\u001b[0;34m(\u001b[0m\u001b[0;34m*\u001b[0m\u001b[0margs\u001b[0m\u001b[0;34m,\u001b[0m \u001b[0;34m**\u001b[0m\u001b[0mkwargs\u001b[0m\u001b[0;34m)\u001b[0m\u001b[0;34m\u001b[0m\u001b[0;34m\u001b[0m\u001b[0m\n\u001b[0m\u001b[1;32m    486\u001b[0m \u001b[0;34m\u001b[0m\u001b[0m\n\u001b[1;32m    487\u001b[0m     \u001b[0;32mif\u001b[0m \u001b[0mif_true\u001b[0m\u001b[0;34m.\u001b[0m\u001b[0m__doc__\u001b[0m \u001b[0;32mis\u001b[0m \u001b[0;32mNone\u001b[0m \u001b[0;32mand\u001b[0m \u001b[0mif_false\u001b[0m\u001b[0;34m.\u001b[0m\u001b[0m__doc__\u001b[0m \u001b[0;32mis\u001b[0m \u001b[0;32mnot\u001b[0m \u001b[0;32mNone\u001b[0m\u001b[0;34m:\u001b[0m\u001b[0;34m\u001b[0m\u001b[0;34m\u001b[0m\u001b[0m\n",
            "\u001b[0;32m/usr/local/lib/python3.8/dist-packages/torch/nn/functional.py\u001b[0m in \u001b[0;36m_max_pool1d\u001b[0;34m(input, kernel_size, stride, padding, dilation, ceil_mode, return_indices)\u001b[0m\n\u001b[1;32m    694\u001b[0m     \u001b[0;32mif\u001b[0m \u001b[0mstride\u001b[0m \u001b[0;32mis\u001b[0m \u001b[0;32mNone\u001b[0m\u001b[0;34m:\u001b[0m\u001b[0;34m\u001b[0m\u001b[0;34m\u001b[0m\u001b[0m\n\u001b[1;32m    695\u001b[0m         \u001b[0mstride\u001b[0m \u001b[0;34m=\u001b[0m \u001b[0mtorch\u001b[0m\u001b[0;34m.\u001b[0m\u001b[0mjit\u001b[0m\u001b[0;34m.\u001b[0m\u001b[0mannotate\u001b[0m\u001b[0;34m(\u001b[0m\u001b[0mList\u001b[0m\u001b[0;34m[\u001b[0m\u001b[0mint\u001b[0m\u001b[0;34m]\u001b[0m\u001b[0;34m,\u001b[0m \u001b[0;34m[\u001b[0m\u001b[0;34m]\u001b[0m\u001b[0;34m)\u001b[0m\u001b[0;34m\u001b[0m\u001b[0;34m\u001b[0m\u001b[0m\n\u001b[0;32m--> 696\u001b[0;31m     \u001b[0;32mreturn\u001b[0m \u001b[0mtorch\u001b[0m\u001b[0;34m.\u001b[0m\u001b[0mmax_pool1d\u001b[0m\u001b[0;34m(\u001b[0m\u001b[0minput\u001b[0m\u001b[0;34m,\u001b[0m \u001b[0mkernel_size\u001b[0m\u001b[0;34m,\u001b[0m \u001b[0mstride\u001b[0m\u001b[0;34m,\u001b[0m \u001b[0mpadding\u001b[0m\u001b[0;34m,\u001b[0m \u001b[0mdilation\u001b[0m\u001b[0;34m,\u001b[0m \u001b[0mceil_mode\u001b[0m\u001b[0;34m)\u001b[0m\u001b[0;34m\u001b[0m\u001b[0;34m\u001b[0m\u001b[0m\n\u001b[0m\u001b[1;32m    697\u001b[0m \u001b[0;34m\u001b[0m\u001b[0m\n\u001b[1;32m    698\u001b[0m \u001b[0;34m\u001b[0m\u001b[0m\n",
            "\u001b[0;31mRuntimeError\u001b[0m: max_pool1d: Expected 2D or 3D (batch mode) tensor with optional 0 dim batch size for input, but got:[112, 150, 17, 201]"
          ]
        }
      ],
      "source": [
        "# 最適化\n",
        "study = optuna.create_study()\n",
        "study.optimize(objective, timeout=7200)\n",
        "\n"
      ]
    },
    {
      "cell_type": "code",
      "execution_count": null,
      "metadata": {
        "id": "RWN9xPes-HqH"
      },
      "outputs": [],
      "source": [
        "# 結果の表示\n",
        "print('Best trial:')\n",
        "trial = study.best_trial\n",
        "print('  Value: {:.3f}'.format(trial.value))\n",
        "print('  Params: ')\n",
        "for key, value in trial.params.items():\n",
        "  print('    {}: {}'.format(key, value))"
      ]
    },
    {
      "cell_type": "markdown",
      "metadata": {
        "id": "giZ2_z97DaDW"
      },
      "source": [
        "--- 出力 ---\\\n",
        "Best trial:\\\n",
        "  Value: 0.469\\\n",
        "  Params: \\\n",
        "  emb_size: 300.0\\\n",
        "    out_channels: 100.0\\\n",
        "    drop_rate: 0.4\\\n",
        "    learning_rate: 0.013345934577557608\\\n",
        "    momentum: 0.8\\\n",
        "    batch_size: 32.0"
      ]
    },
    {
      "cell_type": "code",
      "execution_count": null,
      "metadata": {
        "colab": {
          "base_uri": "https://localhost:8080/"
        },
        "id": "eY1vQ9yGAW3V",
        "outputId": "8eab6969-48b0-4f82-95f2-eb0c01c8565b"
      },
      "outputs": [
        {
          "name": "stdout",
          "output_type": "stream",
          "text": [
            "textCNN(\n",
            "  (emb): Embedding(9406, 300, padding_idx=9405)\n",
            "  (convs): ModuleList(\n",
            "    (0): Conv2d(1, 100, kernel_size=(2, 300), stride=(1, 1))\n",
            "    (1): Conv2d(1, 100, kernel_size=(3, 300), stride=(1, 1), padding=(1, 0))\n",
            "    (2): Conv2d(1, 100, kernel_size=(4, 300), stride=(1, 1), padding=(2, 0))\n",
            "  )\n",
            "  (drop): Dropout(p=0.4, inplace=False)\n",
            "  (fc): Linear(in_features=300, out_features=4, bias=True)\n",
            ")\n",
            "epoch: 1, loss_train: 0.7925, accuracy_train: 0.7250, loss_valid: 0.8531, accuracy_valid: 0.7058, 19.7327sec\n",
            "epoch: 2, loss_train: 0.5845, accuracy_train: 0.7926, loss_valid: 0.7302, accuracy_valid: 0.7388, 19.5008sec\n",
            "epoch: 3, loss_train: 0.4119, accuracy_train: 0.8692, loss_valid: 0.6199, accuracy_valid: 0.7882, 19.3895sec\n",
            "epoch: 4, loss_train: 0.2826, accuracy_train: 0.9341, loss_valid: 0.5609, accuracy_valid: 0.8099, 19.2153sec\n",
            "epoch: 5, loss_train: 0.1954, accuracy_train: 0.9533, loss_valid: 0.5183, accuracy_valid: 0.8241, 19.6699sec\n",
            "epoch: 6, loss_train: 0.1389, accuracy_train: 0.9668, loss_valid: 0.5047, accuracy_valid: 0.8226, 19.2724sec\n",
            "epoch: 7, loss_train: 0.1001, accuracy_train: 0.9885, loss_valid: 0.5041, accuracy_valid: 0.8249, 19.3247sec\n",
            "epoch: 8, loss_train: 0.0741, accuracy_train: 0.9936, loss_valid: 0.4978, accuracy_valid: 0.8323, 19.3371sec\n",
            "epoch: 9, loss_train: 0.0559, accuracy_train: 0.9947, loss_valid: 0.4820, accuracy_valid: 0.8316, 19.3195sec\n",
            "epoch: 10, loss_train: 0.0412, accuracy_train: 0.9972, loss_valid: 0.4798, accuracy_valid: 0.8391, 19.3490sec\n",
            "epoch: 11, loss_train: 0.0352, accuracy_train: 0.9980, loss_valid: 0.4872, accuracy_valid: 0.8316, 19.2949sec\n",
            "epoch: 12, loss_train: 0.0310, accuracy_train: 0.9986, loss_valid: 0.4970, accuracy_valid: 0.8301, 19.4577sec\n",
            "epoch: 13, loss_train: 0.0250, accuracy_train: 0.9979, loss_valid: 0.4908, accuracy_valid: 0.8338, 19.5368sec\n",
            "epoch: 14, loss_train: 0.0223, accuracy_train: 0.9988, loss_valid: 0.4895, accuracy_valid: 0.8323, 19.3353sec\n",
            "epoch: 15, loss_train: 0.0197, accuracy_train: 0.9990, loss_valid: 0.4942, accuracy_valid: 0.8368, 19.5411sec\n",
            "epoch: 16, loss_train: 0.0184, accuracy_train: 0.9990, loss_valid: 0.4977, accuracy_valid: 0.8391, 19.4809sec\n",
            "epoch: 17, loss_train: 0.0164, accuracy_train: 0.9991, loss_valid: 0.4943, accuracy_valid: 0.8376, 19.4156sec\n",
            "epoch: 18, loss_train: 0.0149, accuracy_train: 0.9992, loss_valid: 0.5075, accuracy_valid: 0.8383, 19.3534sec\n",
            "epoch: 19, loss_train: 0.0142, accuracy_train: 0.9993, loss_valid: 0.4973, accuracy_valid: 0.8406, 19.4388sec\n",
            "epoch: 20, loss_train: 0.0132, accuracy_train: 0.9992, loss_valid: 0.4962, accuracy_valid: 0.8406, 19.3186sec\n",
            "epoch: 21, loss_train: 0.0126, accuracy_train: 0.9993, loss_valid: 0.4993, accuracy_valid: 0.8376, 19.4313sec\n",
            "epoch: 22, loss_train: 0.0122, accuracy_train: 0.9992, loss_valid: 0.5026, accuracy_valid: 0.8413, 19.2969sec\n",
            "epoch: 23, loss_train: 0.0116, accuracy_train: 0.9993, loss_valid: 0.4971, accuracy_valid: 0.8443, 19.5654sec\n",
            "epoch: 24, loss_train: 0.0114, accuracy_train: 0.9992, loss_valid: 0.4959, accuracy_valid: 0.8436, 19.7575sec\n",
            "epoch: 25, loss_train: 0.0112, accuracy_train: 0.9992, loss_valid: 0.4984, accuracy_valid: 0.8413, 19.3981sec\n",
            "epoch: 26, loss_train: 0.0111, accuracy_train: 0.9993, loss_valid: 0.4981, accuracy_valid: 0.8421, 19.4234sec\n",
            "epoch: 27, loss_train: 0.0110, accuracy_train: 0.9993, loss_valid: 0.4991, accuracy_valid: 0.8421, 19.5133sec\n",
            "epoch: 28, loss_train: 0.0109, accuracy_train: 0.9993, loss_valid: 0.4987, accuracy_valid: 0.8421, 19.4145sec\n",
            "epoch: 29, loss_train: 0.0109, accuracy_train: 0.9993, loss_valid: 0.4984, accuracy_valid: 0.8421, 19.0460sec\n",
            "epoch: 30, loss_train: 0.0109, accuracy_train: 0.9993, loss_valid: 0.4984, accuracy_valid: 0.8421, 19.2029sec\n"
          ]
        }
      ],
      "source": [
        "# パラメータの設定\n",
        "VOCAB_SIZE = len(set(word2id.values())) + 1\n",
        "#EMB_SIZE = int(trial.params['emb_size'])\n",
        "EMB_SIZE = 300;\n",
        "PADDING_IDX = len(set(word2id.values()))\n",
        "OUTPUT_SIZE = 4\n",
        "#OUT_CHANNELS = int(trial.params['out_channels'])\n",
        "OUT_CHANNELS = 100\n",
        "CONV_PARAMS = [[2, 0], [3, 1], [4, 2]]\n",
        "#DROP_RATE = trial.params['drop_rate']\n",
        "DROP_RATE = 0.4\n",
        "#LEARNING_RATE = trial.params['learning_rate']\n",
        "LEARNING_RATE = 0.013345934577557608\n",
        "#BATCH_SIZE = int(trial.params['batch_size'])\n",
        "BATCH_SIZE = 32\n",
        "NUM_EPOCHS = 30\n",
        "\n",
        "# モデルの定義\n",
        "model = textCNN(VOCAB_SIZE, EMB_SIZE, PADDING_IDX, OUTPUT_SIZE, OUT_CHANNELS, CONV_PARAMS, DROP_RATE, emb_weights=weights)\n",
        "print(model)\n",
        "\n",
        "# 損失関数の定義\n",
        "criterion = nn.CrossEntropyLoss()\n",
        "\n",
        "# オプティマイザの定義\n",
        "optimizer = torch.optim.SGD(model.parameters(), lr=LEARNING_RATE, momentum=0.9)\n",
        "\n",
        "# デバイスの指定\n",
        "device = torch.cuda.set_device(0)\n",
        "\n",
        "# モデルの学習\n",
        "log = train_model(dataset_train, dataset_valid, BATCH_SIZE, model, criterion, optimizer, NUM_EPOCHS, collate_fn=Padsequence(PADDING_IDX), device=device)"
      ]
    },
    {
      "cell_type": "code",
      "execution_count": null,
      "metadata": {
        "colab": {
          "base_uri": "https://localhost:8080/",
          "height": 350
        },
        "id": "-XsJDUKgAYUF",
        "outputId": "b3fcd136-7f8f-44c6-ba93-70134a925278"
      },
      "outputs": [
        {
          "data": {
            "image/png": "[encoded data removed]",
            "text/plain": [
              "<Figure size 1080x360 with 2 Axes>"
            ]
          },
          "metadata": {},
          "output_type": "display_data"
        },
        {
          "name": "stdout",
          "output_type": "stream",
          "text": [
            "正解率（学習データ）：0.999\n",
            "正解率（評価データ）：0.865\n"
          ]
        }
      ],
      "source": [
        "# ログの可視化\n",
        "visualize_logs(log)\n",
        "\n",
        "# 正解率の算出\n",
        "_, acc_train = calculate_loss_and_accuracy(model, dataset_train, device)\n",
        "_, acc_test = calculate_loss_and_accuracy(model, dataset_test, device)\n",
        "print(f'正解率（学習データ）：{acc_train:.3f}')\n",
        "print(f'正解率（評価データ）：{acc_test:.3f}')"
      ]
    },
    {
      "cell_type": "markdown",
      "metadata": {
        "id": "xGnYHmatAaLO"
      },
      "source": [
        "#89. 事前学習済み言語モデルからの転移学習\n",
        "事前学習済み言語モデル（例えばBERTなど）を出発点として，ニュース記事見出しをカテゴリに分類するモデルを構築せよ．"
      ]
    },
    {
      "cell_type": "code",
      "execution_count": null,
      "metadata": {
        "colab": {
          "base_uri": "https://localhost:8080/"
        },
        "id": "1gwFgjEHAZiF",
        "outputId": "b014502d-23fb-4758-9add-4950f6952a77"
      },
      "outputs": [
        {
          "name": "stdout",
          "output_type": "stream",
          "text": [
            "Looking in indexes: https://pypi.org/simple, https://us-python.pkg.dev/colab-wheels/public/simple/\n",
            "Collecting transformers\n",
            "  Downloading transformers-4.25.1-py3-none-any.whl (5.8 MB)\n",
            "\u001b[2K     \u001b[90m━━━━━━━━━━━━━━━━━━━━━━━━━━━━━━━━━━━━━━━━\u001b[0m \u001b[32m5.8/5.8 MB\u001b[0m \u001b[31m87.0 MB/s\u001b[0m eta \u001b[36m0:00:00\u001b[0m\n",
            "\u001b[?25hCollecting huggingface-hub<1.0,>=0.10.0\n",
            "  Downloading huggingface_hub-0.11.1-py3-none-any.whl (182 kB)\n",
            "\u001b[2K     \u001b[90m━━━━━━━━━━━━━━━━━━━━━━━━━━━━━━━━━━━━━━\u001b[0m \u001b[32m182.4/182.4 KB\u001b[0m \u001b[31m23.0 MB/s\u001b[0m eta \u001b[36m0:00:00\u001b[0m\n",
            "\u001b[?25hRequirement already satisfied: regex!=2019.12.17 in /usr/local/lib/python3.8/dist-packages (from transformers) (2022.6.2)\n",
            "Requirement already satisfied: packaging>=20.0 in /usr/local/lib/python3.8/dist-packages (from transformers) (21.3)\n",
            "Requirement already satisfied: tqdm>=4.27 in /usr/local/lib/python3.8/dist-packages (from transformers) (4.64.1)\n",
            "Requirement already satisfied: pyyaml>=5.1 in /usr/local/lib/python3.8/dist-packages (from transformers) (6.0)\n",
            "Requirement already satisfied: numpy>=1.17 in /usr/local/lib/python3.8/dist-packages (from transformers) (1.21.6)\n",
            "Requirement already satisfied: requests in /usr/local/lib/python3.8/dist-packages (from transformers) (2.25.1)\n",
            "Requirement already satisfied: filelock in /usr/local/lib/python3.8/dist-packages (from transformers) (3.9.0)\n",
            "Collecting tokenizers!=0.11.3,<0.14,>=0.11.1\n",
            "  Downloading tokenizers-0.13.2-cp38-cp38-manylinux_2_17_x86_64.manylinux2014_x86_64.whl (7.6 MB)\n",
            "\u001b[2K     \u001b[90m━━━━━━━━━━━━━━━━━━━━━━━━━━━━━━━━━━━━━━━━\u001b[0m \u001b[32m7.6/7.6 MB\u001b[0m \u001b[31m105.3 MB/s\u001b[0m eta \u001b[36m0:00:00\u001b[0m\n",
            "\u001b[?25hRequirement already satisfied: typing-extensions>=3.7.4.3 in /usr/local/lib/python3.8/dist-packages (from huggingface-hub<1.0,>=0.10.0->transformers) (4.4.0)\n",
            "Requirement already satisfied: pyparsing!=3.0.5,>=2.0.2 in /usr/local/lib/python3.8/dist-packages (from packaging>=20.0->transformers) (3.0.9)\n",
            "Requirement already satisfied: urllib3<1.27,>=1.21.1 in /usr/local/lib/python3.8/dist-packages (from requests->transformers) (1.24.3)\n",
            "Requirement already satisfied: idna<3,>=2.5 in /usr/local/lib/python3.8/dist-packages (from requests->transformers) (2.10)\n",
            "Requirement already satisfied: certifi>=2017.4.17 in /usr/local/lib/python3.8/dist-packages (from requests->transformers) (2022.12.7)\n",
            "Requirement already satisfied: chardet<5,>=3.0.2 in /usr/local/lib/python3.8/dist-packages (from requests->transformers) (4.0.0)\n",
            "Installing collected packages: tokenizers, huggingface-hub, transformers\n",
            "Successfully installed huggingface-hub-0.11.1 tokenizers-0.13.2 transformers-4.25.1\n"
          ]
        }
      ],
      "source": [
        "!pip install transformers"
      ]
    },
    {
      "cell_type": "code",
      "execution_count": null,
      "metadata": {
        "id": "A-QSd2ijAnDV"
      },
      "outputs": [],
      "source": [
        "import numpy as np\n",
        "import transformers\n",
        "import torch\n",
        "from torch.utils.data import Dataset, DataLoader\n",
        "from transformers import BertTokenizer, BertModel\n",
        "from torch import optim\n",
        "from torch import cuda\n",
        "import time\n",
        "from matplotlib import pyplot as plt"
      ]
    },
    {
      "cell_type": "code",
      "execution_count": null,
      "metadata": {
        "id": "VBU_XOfTAtjk"
      },
      "outputs": [],
      "source": [
        "# Datasetの定義\n",
        "class NewsDataset(Dataset):\n",
        "  def __init__(self, X, y, tokenizer, max_len):\n",
        "    self.X = X\n",
        "    self.y = y\n",
        "    self.tokenizer = tokenizer\n",
        "    self.max_len = max_len\n",
        "\n",
        "  def __len__(self):  # len(Dataset)で返す値を指定\n",
        "    return len(self.y)\n",
        "\n",
        "  def __getitem__(self, index):  # Dataset[index]で返す値を指定\n",
        "    text = self.X.iloc[index]\n",
        "    inputs = self.tokenizer.encode_plus(\n",
        "      text,\n",
        "      add_special_tokens=True,\n",
        "      max_length=self.max_len,\n",
        "      pad_to_max_length=True\n",
        "    )\n",
        "    ids = inputs['input_ids']\n",
        "    mask = inputs['attention_mask']\n",
        "\n",
        "    return {\n",
        "      'ids': torch.LongTensor(ids),\n",
        "      'mask': torch.LongTensor(mask),\n",
        "      'labels': torch.Tensor(self.y[index])\n",
        "    }"
      ]
    },
    {
      "cell_type": "code",
      "execution_count": null,
      "metadata": {
        "colab": {
          "base_uri": "https://localhost:8080/"
        },
        "id": "GqgLkgZOAwbE",
        "outputId": "6c525418-96e2-4215-82ab-d4577c18f85b"
      },
      "outputs": [
        {
          "name": "stderr",
          "output_type": "stream",
          "text": [
            "Truncation was not explicitly activated but `max_length` is provided a specific value, please use `truncation=True` to explicitly truncate examples to max length. Defaulting to 'longest_first' truncation strategy. If you encode pairs of sequences (GLUE-style) with the tokenizer you can select this strategy more precisely by providing a specific strategy to `truncation`.\n"
          ]
        },
        {
          "name": "stdout",
          "output_type": "stream",
          "text": [
            "ids: tensor([  101, 25416,  9463,  1011, 10651,  1015,  1011,  2647,  2482,  4341,\n",
            "         2039,  2005,  4369,  3204,  2004, 18730,  8980,   102,     0,     0])\n",
            "mask: tensor([1, 1, 1, 1, 1, 1, 1, 1, 1, 1, 1, 1, 1, 1, 1, 1, 1, 1, 0, 0])\n",
            "labels: tensor([1., 0., 0., 0.])\n"
          ]
        },
        {
          "name": "stderr",
          "output_type": "stream",
          "text": [
            "/usr/local/lib/python3.8/dist-packages/transformers/tokenization_utils_base.py:2336: FutureWarning: The `pad_to_max_length` argument is deprecated and will be removed in a future version, use `padding=True` or `padding='longest'` to pad to the longest sequence in the batch, or use `padding='max_length'` to pad to a max length. In this case, you can give a specific length with `max_length` (e.g. `max_length=45`) or leave max_length to None to pad to the maximal input size of the model (e.g. 512 for Bert).\n",
            "  warnings.warn(\n"
          ]
        }
      ],
      "source": [
        "# 正解ラベルのone-hot化\n",
        "y_train = pd.get_dummies(train, columns=['CATEGORY'])[['CATEGORY_b', 'CATEGORY_e', 'CATEGORY_t', 'CATEGORY_m']].values\n",
        "y_valid = pd.get_dummies(valid, columns=['CATEGORY'])[['CATEGORY_b', 'CATEGORY_e', 'CATEGORY_t', 'CATEGORY_m']].values\n",
        "y_test = pd.get_dummies(test, columns=['CATEGORY'])[['CATEGORY_b', 'CATEGORY_e', 'CATEGORY_t', 'CATEGORY_m']].values\n",
        "\n",
        "# Datasetの作成\n",
        "max_len = 20\n",
        "tokenizer = BertTokenizer.from_pretrained('bert-base-uncased')\n",
        "dataset_train = NewsDataset(train['TITLE'], y_train, tokenizer, max_len)\n",
        "dataset_valid = NewsDataset(valid['TITLE'], y_valid, tokenizer, max_len)\n",
        "dataset_test = NewsDataset(test['TITLE'], y_test, tokenizer, max_len)\n",
        "\n",
        "for var in dataset_train[0]:\n",
        "  print(f'{var}: {dataset_train[0][var]}')"
      ]
    },
    {
      "cell_type": "code",
      "execution_count": null,
      "metadata": {
        "id": "CgEB1JdtA2Hj"
      },
      "outputs": [],
      "source": [
        "# BERT分類モデルの定義\n",
        "class BERTClass(torch.nn.Module):\n",
        "  def __init__(self, drop_rate, otuput_size):\n",
        "    super().__init__()\n",
        "    self.bert = BertModel.from_pretrained('bert-base-uncased')\n",
        "    self.drop = torch.nn.Dropout(drop_rate)\n",
        "    self.fc = torch.nn.Linear(768, otuput_size)  # BERTの出力に合わせて768次元を指定\n",
        "    \n",
        "  def forward(self, ids, mask):\n",
        "    _, out = self.bert(ids, attention_mask=mask, return_dict=False)\n",
        "    out = self.fc(self.drop(out))\n",
        "    return out"
      ]
    },
    {
      "cell_type": "code",
      "execution_count": null,
      "metadata": {
        "id": "OwpDcDtbA8Ub"
      },
      "outputs": [],
      "source": [
        "def calculate_loss_and_accuracy(model, criterion, loader, device):\n",
        "  \"\"\" 損失・正解率を計算\"\"\"\n",
        "  model.eval()\n",
        "  loss = 0.0\n",
        "  total = 0\n",
        "  correct = 0\n",
        "  with torch.no_grad():\n",
        "    for data in loader:\n",
        "      # デバイスの指定\n",
        "      ids = data['ids'].to(device)\n",
        "      mask = data['mask'].to(device)\n",
        "      labels = data['labels'].to(device)\n",
        "\n",
        "      # 順伝播\n",
        "      outputs = model(ids, mask)\n",
        "\n",
        "      # 損失計算\n",
        "      loss += criterion(outputs, labels).item()\n",
        "\n",
        "      # 正解率計算\n",
        "      pred = torch.argmax(outputs, dim=-1).cpu().numpy() # バッチサイズの長さの予測ラベル配列\n",
        "      labels = torch.argmax(labels, dim=-1).cpu().numpy()  # バッチサイズの長さの正解ラベル配列\n",
        "      total += len(labels)\n",
        "      correct += (pred == labels).sum().item()\n",
        "      \n",
        "  return loss / len(loader), correct / total\n",
        "  \n",
        "\n",
        "def train_model(dataset_train, dataset_valid, batch_size, model, criterion, optimizer, num_epochs, device=None):\n",
        "  \"\"\"モデルの学習を実行し、損失・正解率のログを返す\"\"\"\n",
        "  # デバイスの指定\n",
        "  model.to(device)\n",
        "\n",
        "  # dataloaderの作成\n",
        "  dataloader_train = DataLoader(dataset_train, batch_size=batch_size, shuffle=True)\n",
        "  dataloader_valid = DataLoader(dataset_valid, batch_size=len(dataset_valid), shuffle=False)\n",
        "\n",
        "  # 学習\n",
        "  log_train = []\n",
        "  log_valid = []\n",
        "  for epoch in range(num_epochs):\n",
        "    # 開始時刻の記録\n",
        "    s_time = time.time()\n",
        "\n",
        "    # 訓練モードに設定\n",
        "    model.train()\n",
        "    for data in dataloader_train:\n",
        "      # デバイスの指定\n",
        "      ids = data['ids'].to(device)\n",
        "      mask = data['mask'].to(device)\n",
        "      labels = data['labels'].to(device)\n",
        "\n",
        "      # 勾配をゼロで初期化\n",
        "      optimizer.zero_grad()\n",
        "\n",
        "      # 順伝播 + 誤差逆伝播 + 重み更新\n",
        "      outputs = model(ids, mask)\n",
        "      loss = criterion(outputs, labels)\n",
        "      loss.backward()\n",
        "      optimizer.step()\n",
        "      \n",
        "    # 損失と正解率の算出\n",
        "    loss_train, acc_train = calculate_loss_and_accuracy(model, criterion, dataloader_train, device)\n",
        "    loss_valid, acc_valid = calculate_loss_and_accuracy(model, criterion, dataloader_valid, device)\n",
        "    log_train.append([loss_train, acc_train])\n",
        "    log_valid.append([loss_valid, acc_valid])\n",
        "\n",
        "    # チェックポイントの保存\n",
        "    torch.save({'epoch': epoch, 'model_state_dict': model.state_dict(), 'optimizer_state_dict': optimizer.state_dict()}, f'checkpoint{epoch + 1}.pt')\n",
        "\n",
        "    # 終了時刻の記録\n",
        "    e_time = time.time()\n",
        "\n",
        "    # ログを出力\n",
        "    print(f'epoch: {epoch + 1}, loss_train: {loss_train:.4f}, accuracy_train: {acc_train:.4f}, loss_valid: {loss_valid:.4f}, accuracy_valid: {acc_valid:.4f}, {(e_time - s_time):.4f}sec') \n",
        "\n",
        "  return {'train': log_train, 'valid': log_valid}"
      ]
    },
    {
      "cell_type": "code",
      "execution_count": null,
      "metadata": {
        "colab": {
          "base_uri": "https://localhost:8080/",
          "height": 191,
          "referenced_widgets": [
            "a0b893040ca744299c6fe9d42e0fedf3",
            "6c5e734bdffb46c496a12236d939a8cd",
            "56b888015cf8456fa85346616c366da1",
            "fc584530fa00454980be6206986cef86",
            "256ec895f701474a8d07d5e5d56a5b2c",
            "76e57e2c8a224bf9a1540403c77bdce4",
            "9496717d34504f5cba3295d59a1eeee8",
            "0d8469dedc3b461bb406a0fd9e4e187e",
            "4b4f1bdf04c4465d83d2f27cd8982d0d",
            "bfb67e22c8e5401496c07dfca0f74c8b",
            "16e35699069142b88952fb0fe1996d83"
          ]
        },
        "id": "XPXVRvDRA-dS",
        "outputId": "04a2294a-8dd9-4942-f921-9919dd610373"
      },
      "outputs": [
        {
          "data": {
            "application/vnd.jupyter.widget-view+json": {
              "model_id": "a0b893040ca744299c6fe9d42e0fedf3",
              "version_major": 2,
              "version_minor": 0
            },
            "text/plain": [
              "Downloading:   0%|          | 0.00/440M [00:00<?, ?B/s]"
            ]
          },
          "metadata": {},
          "output_type": "display_data"
        },
        {
          "name": "stderr",
          "output_type": "stream",
          "text": [
            "Some weights of the model checkpoint at bert-base-uncased were not used when initializing BertModel: ['cls.predictions.decoder.weight', 'cls.predictions.transform.LayerNorm.weight', 'cls.predictions.bias', 'cls.seq_relationship.bias', 'cls.predictions.transform.dense.weight', 'cls.seq_relationship.weight', 'cls.predictions.transform.dense.bias', 'cls.predictions.transform.LayerNorm.bias']\n",
            "- This IS expected if you are initializing BertModel from the checkpoint of a model trained on another task or with another architecture (e.g. initializing a BertForSequenceClassification model from a BertForPreTraining model).\n",
            "- This IS NOT expected if you are initializing BertModel from the checkpoint of a model that you expect to be exactly identical (initializing a BertForSequenceClassification model from a BertForSequenceClassification model).\n"
          ]
        },
        {
          "name": "stdout",
          "output_type": "stream",
          "text": [
            "epoch: 1, loss_train: 0.0844, accuracy_train: 0.9533, loss_valid: 0.1174, accuracy_valid: 0.9169, 72.7822sec\n",
            "epoch: 2, loss_train: 0.0520, accuracy_train: 0.9713, loss_valid: 0.1152, accuracy_valid: 0.9259, 70.9729sec\n",
            "epoch: 3, loss_train: 0.0350, accuracy_train: 0.9821, loss_valid: 0.1152, accuracy_valid: 0.9304, 70.7489sec\n",
            "epoch: 4, loss_train: 0.0230, accuracy_train: 0.9879, loss_valid: 0.1212, accuracy_valid: 0.9237, 70.3053sec\n"
          ]
        }
      ],
      "source": [
        "# パラメータの設定\n",
        "DROP_RATE = 0.4\n",
        "OUTPUT_SIZE = 4\n",
        "BATCH_SIZE = 32\n",
        "NUM_EPOCHS = 4\n",
        "LEARNING_RATE = 2e-5\n",
        "\n",
        "# モデルの定義\n",
        "model = BERTClass(DROP_RATE, OUTPUT_SIZE)\n",
        "\n",
        "# 損失関数の定義\n",
        "criterion = torch.nn.BCEWithLogitsLoss()\n",
        "\n",
        "# オプティマイザの定義\n",
        "optimizer = torch.optim.AdamW(params=model.parameters(), lr=LEARNING_RATE)\n",
        "\n",
        "# デバイスの指定\n",
        "device = 'cuda' if cuda.is_available() else 'cpu'\n",
        "\n",
        "# モデルの学習\n",
        "log = train_model(dataset_train, dataset_valid, BATCH_SIZE, model, criterion, optimizer, NUM_EPOCHS, device=device)"
      ]
    },
    {
      "cell_type": "code",
      "execution_count": null,
      "metadata": {
        "colab": {
          "base_uri": "https://localhost:8080/",
          "height": 334
        },
        "id": "viCk4tcBBAKi",
        "outputId": "13c0e58a-e851-4495-8f47-18bedcbdfd26"
      },
      "outputs": [
        {
          "data": {
            "image/png": "[encoded data removed]",
            "text/plain": [
              "<Figure size 1080x360 with 2 Axes>"
            ]
          },
          "metadata": {},
          "output_type": "display_data"
        }
      ],
      "source": [
        "# ログの可視化\n",
        "x_axis = [x for x in range(1, len(log['train']) + 1)]\n",
        "fig, ax = plt.subplots(1, 2, figsize=(15, 5))\n",
        "ax[0].plot(x_axis, np.array(log['train']).T[0], label='train')\n",
        "ax[0].plot(x_axis, np.array(log['valid']).T[0], label='valid')\n",
        "ax[0].set_xlabel('epoch')\n",
        "ax[0].set_ylabel('loss')\n",
        "ax[0].legend()\n",
        "ax[1].plot(x_axis, np.array(log['train']).T[1], label='train')\n",
        "ax[1].plot(x_axis, np.array(log['valid']).T[1], label='valid')\n",
        "ax[1].set_xlabel('epoch')\n",
        "ax[1].set_ylabel('accuracy')\n",
        "ax[1].legend()\n",
        "plt.show()"
      ]
    },
    {
      "cell_type": "code",
      "execution_count": null,
      "metadata": {
        "colab": {
          "base_uri": "https://localhost:8080/"
        },
        "id": "A2UH9k7aBEMS",
        "outputId": "d16e73d2-60e0-4caa-c9f4-c483b71a9810"
      },
      "outputs": [
        {
          "name": "stderr",
          "output_type": "stream",
          "text": [
            "/usr/local/lib/python3.8/dist-packages/transformers/tokenization_utils_base.py:2336: FutureWarning: The `pad_to_max_length` argument is deprecated and will be removed in a future version, use `padding=True` or `padding='longest'` to pad to the longest sequence in the batch, or use `padding='max_length'` to pad to a max length. In this case, you can give a specific length with `max_length` (e.g. `max_length=45`) or leave max_length to None to pad to the maximal input size of the model (e.g. 512 for Bert).\n",
            "  warnings.warn(\n"
          ]
        },
        {
          "name": "stdout",
          "output_type": "stream",
          "text": [
            "正解率（学習データ）：0.988\n",
            "正解率（検証データ）：0.924\n",
            "正解率（評価データ）：0.942\n"
          ]
        }
      ],
      "source": [
        "# 正解率の算出\n",
        "def calculate_accuracy(model, dataset, device):\n",
        "  # Dataloaderの作成\n",
        "  loader = DataLoader(dataset, batch_size=len(dataset), shuffle=False)\n",
        "\n",
        "  model.eval()\n",
        "  total = 0\n",
        "  correct = 0\n",
        "  with torch.no_grad():\n",
        "    for data in loader:\n",
        "      # デバイスの指定\n",
        "      ids = data['ids'].to(device)\n",
        "      mask = data['mask'].to(device)\n",
        "      labels = data['labels'].to(device)\n",
        "\n",
        "      # 順伝播 + 予測値の取得 + 正解数のカウント\n",
        "      outputs = model.forward(ids, mask)\n",
        "      pred = torch.argmax(outputs, dim=-1).cpu().numpy()\n",
        "      labels = torch.argmax(labels, dim=-1).cpu().numpy()\n",
        "      total += len(labels)\n",
        "      correct += (pred == labels).sum().item()\n",
        "\n",
        "  return correct / total\n",
        "\n",
        "print(f'正解率（学習データ）：{calculate_accuracy(model, dataset_train, device):.3f}')\n",
        "print(f'正解率（検証データ）：{calculate_accuracy(model, dataset_valid, device):.3f}')\n",
        "print(f'正解率（評価データ）：{calculate_accuracy(model, dataset_test, device):.3f}')"
      ]
    }
  ],
  "metadata": {
    "accelerator": "GPU",
    "colab": {
      "provenance": []
    },
    "kernelspec": {
      "display_name": "Python 3",
      "name": "python3"
    },
    "widgets": {
      "application/vnd.jupyter.widget-state+json": {
        "0d8469dedc3b461bb406a0fd9e4e187e": {
          "model_module": "@jupyter-widgets/base",
          "model_module_version": "1.2.0",
          "model_name": "LayoutModel",
          "state": {
            "_model_module": "@jupyter-widgets/base",
            "_model_module_version": "1.2.0",
            "_model_name": "LayoutModel",
            "_view_count": null,
            "_view_module": "@jupyter-widgets/base",
            "_view_module_version": "1.2.0",
            "_view_name": "LayoutView",
            "align_content": null,
            "align_items": null,
            "align_self": null,
            "border": null,
            "bottom": null,
            "display": null,
            "flex": null,
            "flex_flow": null,
            "grid_area": null,
            "grid_auto_columns": null,
            "grid_auto_flow": null,
            "grid_auto_rows": null,
            "grid_column": null,
            "grid_gap": null,
            "grid_row": null,
            "grid_template_areas": null,
            "grid_template_columns": null,
            "grid_template_rows": null,
            "height": null,
            "justify_content": null,
            "justify_items": null,
            "left": null,
            "margin": null,
            "max_height": null,
            "max_width": null,
            "min_height": null,
            "min_width": null,
            "object_fit": null,
            "object_position": null,
            "order": null,
            "overflow": null,
            "overflow_x": null,
            "overflow_y": null,
            "padding": null,
            "right": null,
            "top": null,
            "visibility": null,
            "width": null
          }
        },
        "16e35699069142b88952fb0fe1996d83": {
          "model_module": "@jupyter-widgets/controls",
          "model_module_version": "1.5.0",
          "model_name": "DescriptionStyleModel",
          "state": {
            "_model_module": "@jupyter-widgets/controls",
            "_model_module_version": "1.5.0",
            "_model_name": "DescriptionStyleModel",
            "_view_count": null,
            "_view_module": "@jupyter-widgets/base",
            "_view_module_version": "1.2.0",
            "_view_name": "StyleView",
            "description_width": ""
          }
        },
        "256ec895f701474a8d07d5e5d56a5b2c": {
          "model_module": "@jupyter-widgets/base",
          "model_module_version": "1.2.0",
          "model_name": "LayoutModel",
          "state": {
            "_model_module": "@jupyter-widgets/base",
            "_model_module_version": "1.2.0",
            "_model_name": "LayoutModel",
            "_view_count": null,
            "_view_module": "@jupyter-widgets/base",
            "_view_module_version": "1.2.0",
            "_view_name": "LayoutView",
            "align_content": null,
            "align_items": null,
            "align_self": null,
            "border": null,
            "bottom": null,
            "display": null,
            "flex": null,
            "flex_flow": null,
            "grid_area": null,
            "grid_auto_columns": null,
            "grid_auto_flow": null,
            "grid_auto_rows": null,
            "grid_column": null,
            "grid_gap": null,
            "grid_row": null,
            "grid_template_areas": null,
            "grid_template_columns": null,
            "grid_template_rows": null,
            "height": null,
            "justify_content": null,
            "justify_items": null,
            "left": null,
            "margin": null,
            "max_height": null,
            "max_width": null,
            "min_height": null,
            "min_width": null,
            "object_fit": null,
            "object_position": null,
            "order": null,
            "overflow": null,
            "overflow_x": null,
            "overflow_y": null,
            "padding": null,
            "right": null,
            "top": null,
            "visibility": null,
            "width": null
          }
        },
        "4b4f1bdf04c4465d83d2f27cd8982d0d": {
          "model_module": "@jupyter-widgets/controls",
          "model_module_version": "1.5.0",
          "model_name": "ProgressStyleModel",
          "state": {
            "_model_module": "@jupyter-widgets/controls",
            "_model_module_version": "1.5.0",
            "_model_name": "ProgressStyleModel",
            "_view_count": null,
            "_view_module": "@jupyter-widgets/base",
            "_view_module_version": "1.2.0",
            "_view_name": "StyleView",
            "bar_color": null,
            "description_width": ""
          }
        },
        "56b888015cf8456fa85346616c366da1": {
          "model_module": "@jupyter-widgets/controls",
          "model_module_version": "1.5.0",
          "model_name": "FloatProgressModel",
          "state": {
            "_dom_classes": [],
            "_model_module": "@jupyter-widgets/controls",
            "_model_module_version": "1.5.0",
            "_model_name": "FloatProgressModel",
            "_view_count": null,
            "_view_module": "@jupyter-widgets/controls",
            "_view_module_version": "1.5.0",
            "_view_name": "ProgressView",
            "bar_style": "success",
            "description": "",
            "description_tooltip": null,
            "layout": "IPY_MODEL_0d8469dedc3b461bb406a0fd9e4e187e",
            "max": 440473133,
            "min": 0,
            "orientation": "horizontal",
            "style": "IPY_MODEL_4b4f1bdf04c4465d83d2f27cd8982d0d",
            "value": 440473133
          }
        },
        "6c5e734bdffb46c496a12236d939a8cd": {
          "model_module": "@jupyter-widgets/controls",
          "model_module_version": "1.5.0",
          "model_name": "HTMLModel",
          "state": {
            "_dom_classes": [],
            "_model_module": "@jupyter-widgets/controls",
            "_model_module_version": "1.5.0",
            "_model_name": "HTMLModel",
            "_view_count": null,
            "_view_module": "@jupyter-widgets/controls",
            "_view_module_version": "1.5.0",
            "_view_name": "HTMLView",
            "description": "",
            "description_tooltip": null,
            "layout": "IPY_MODEL_76e57e2c8a224bf9a1540403c77bdce4",
            "placeholder": "​",
            "style": "IPY_MODEL_9496717d34504f5cba3295d59a1eeee8",
            "value": "Downloading: 100%"
          }
        },
        "76e57e2c8a224bf9a1540403c77bdce4": {
          "model_module": "@jupyter-widgets/base",
          "model_module_version": "1.2.0",
          "model_name": "LayoutModel",
          "state": {
            "_model_module": "@jupyter-widgets/base",
            "_model_module_version": "1.2.0",
            "_model_name": "LayoutModel",
            "_view_count": null,
            "_view_module": "@jupyter-widgets/base",
            "_view_module_version": "1.2.0",
            "_view_name": "LayoutView",
            "align_content": null,
            "align_items": null,
            "align_self": null,
            "border": null,
            "bottom": null,
            "display": null,
            "flex": null,
            "flex_flow": null,
            "grid_area": null,
            "grid_auto_columns": null,
            "grid_auto_flow": null,
            "grid_auto_rows": null,
            "grid_column": null,
            "grid_gap": null,
            "grid_row": null,
            "grid_template_areas": null,
            "grid_template_columns": null,
            "grid_template_rows": null,
            "height": null,
            "justify_content": null,
            "justify_items": null,
            "left": null,
            "margin": null,
            "max_height": null,
            "max_width": null,
            "min_height": null,
            "min_width": null,
            "object_fit": null,
            "object_position": null,
            "order": null,
            "overflow": null,
            "overflow_x": null,
            "overflow_y": null,
            "padding": null,
            "right": null,
            "top": null,
            "visibility": null,
            "width": null
          }
        },
        "9496717d34504f5cba3295d59a1eeee8": {
          "model_module": "@jupyter-widgets/controls",
          "model_module_version": "1.5.0",
          "model_name": "DescriptionStyleModel",
          "state": {
            "_model_module": "@jupyter-widgets/controls",
            "_model_module_version": "1.5.0",
            "_model_name": "DescriptionStyleModel",
            "_view_count": null,
            "_view_module": "@jupyter-widgets/base",
            "_view_module_version": "1.2.0",
            "_view_name": "StyleView",
            "description_width": ""
          }
        },
        "a0b893040ca744299c6fe9d42e0fedf3": {
          "model_module": "@jupyter-widgets/controls",
          "model_module_version": "1.5.0",
          "model_name": "HBoxModel",
          "state": {
            "_dom_classes": [],
            "_model_module": "@jupyter-widgets/controls",
            "_model_module_version": "1.5.0",
            "_model_name": "HBoxModel",
            "_view_count": null,
            "_view_module": "@jupyter-widgets/controls",
            "_view_module_version": "1.5.0",
            "_view_name": "HBoxView",
            "box_style": "",
            "children": [
              "IPY_MODEL_6c5e734bdffb46c496a12236d939a8cd",
              "IPY_MODEL_56b888015cf8456fa85346616c366da1",
              "IPY_MODEL_fc584530fa00454980be6206986cef86"
            ],
            "layout": "IPY_MODEL_256ec895f701474a8d07d5e5d56a5b2c"
          }
        },
        "bfb67e22c8e5401496c07dfca0f74c8b": {
          "model_module": "@jupyter-widgets/base",
          "model_module_version": "1.2.0",
          "model_name": "LayoutModel",
          "state": {
            "_model_module": "@jupyter-widgets/base",
            "_model_module_version": "1.2.0",
            "_model_name": "LayoutModel",
            "_view_count": null,
            "_view_module": "@jupyter-widgets/base",
            "_view_module_version": "1.2.0",
            "_view_name": "LayoutView",
            "align_content": null,
            "align_items": null,
            "align_self": null,
            "border": null,
            "bottom": null,
            "display": null,
            "flex": null,
            "flex_flow": null,
            "grid_area": null,
            "grid_auto_columns": null,
            "grid_auto_flow": null,
            "grid_auto_rows": null,
            "grid_column": null,
            "grid_gap": null,
            "grid_row": null,
            "grid_template_areas": null,
            "grid_template_columns": null,
            "grid_template_rows": null,
            "height": null,
            "justify_content": null,
            "justify_items": null,
            "left": null,
            "margin": null,
            "max_height": null,
            "max_width": null,
            "min_height": null,
            "min_width": null,
            "object_fit": null,
            "object_position": null,
            "order": null,
            "overflow": null,
            "overflow_x": null,
            "overflow_y": null,
            "padding": null,
            "right": null,
            "top": null,
            "visibility": null,
            "width": null
          }
        },
        "fc584530fa00454980be6206986cef86": {
          "model_module": "@jupyter-widgets/controls",
          "model_module_version": "1.5.0",
          "model_name": "HTMLModel",
          "state": {
            "_dom_classes": [],
            "_model_module": "@jupyter-widgets/controls",
            "_model_module_version": "1.5.0",
            "_model_name": "HTMLModel",
            "_view_count": null,
            "_view_module": "@jupyter-widgets/controls",
            "_view_module_version": "1.5.0",
            "_view_name": "HTMLView",
            "description": "",
            "description_tooltip": null,
            "layout": "IPY_MODEL_bfb67e22c8e5401496c07dfca0f74c8b",
            "placeholder": "​",
            "style": "IPY_MODEL_16e35699069142b88952fb0fe1996d83",
            "value": " 440M/440M [00:05&lt;00:00, 76.7MB/s]"
          }
        }
      }
    }
  },
  "nbformat": 4,
  "nbformat_minor": 0
}