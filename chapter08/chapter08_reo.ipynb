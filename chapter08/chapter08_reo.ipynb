{
 "cells": [
  {
   "cell_type": "markdown",
   "metadata": {},
   "source": [
    "## 第8章: ニューラルネット"
   ]
  },
  {
   "cell_type": "markdown",
   "metadata": {},
   "source": [
    "### 70. 単語ベクトルの和による特徴量"
   ]
  },
  {
   "cell_type": "code",
   "execution_count": 1,
   "metadata": {},
   "outputs": [
    {
     "name": "stderr",
     "output_type": "stream",
     "text": [
      "/tmp/ipykernel_3544/1913923098.py:34: UserWarning: Creating a tensor from a list of numpy.ndarrays is extremely slow. Please consider converting the list to a single numpy.ndarray with numpy.array() before converting to a tensor. (Triggered internally at ../torch/csrc/utils/tensor_new.cpp:278.)\n",
      "  X_torch = torch.tensor(df[\"TITLE\"].apply(Text2Vec))\n"
     ]
    }
   ],
   "source": [
    "from gensim.models import KeyedVectors\n",
    "import pandas as pd\n",
    "import numpy as np\n",
    "import re\n",
    "import torch\n",
    "\n",
    "def EncoderNN(sign):\n",
    "    category_dict = {'b': 0, 't': 1, 'e':2, 'm':3}\n",
    "    try:\n",
    "        code = category_dict[sign]\n",
    "        return code\n",
    "    except:\n",
    "        raise ValueError(\"Invalid sign: {}\".format(sign))\n",
    "\n",
    "def Text2Vec(text):\n",
    "    lines = text.split(\" \")\n",
    "    vec_sum = 0\n",
    "    length = 0\n",
    "    for line in lines:\n",
    "        try:\n",
    "            tmp = model.get_vector(line)\n",
    "            vec_sum += tmp\n",
    "            length += 1\n",
    "        except:\n",
    "            pass # 単語がモデルにない場合は無視\n",
    "    return vec_sum / length\n",
    "\n",
    "def TorchData(data):\n",
    "    df = pd.read_table(\"data/{}.txt\".format(data))\n",
    "    sign_regrex = re.compile('[!\"#$%&\\'()*+,-./:;<=>?@[\\\\]^_`|＄＃＠£â€™]')\n",
    "    f_regrex = lambda x:sign_regrex.sub(\"\", x)\n",
    "    \n",
    "    df[\"TITLE\"] = df[\"TITLE\"].map(f_regrex)\n",
    "    X_torch = torch.tensor(df[\"TITLE\"].apply(Text2Vec))\n",
    "    torch.save(X_torch, \"data/X_{}.pt\".format(data))\n",
    "\n",
    "    df[\"CATEGORY\"] = df[\"CATEGORY\"].map(EncoderNN)\n",
    "    Y_torch = torch.tensor(df[\"CATEGORY\"])\n",
    "    torch.save(Y_torch, \"data/Y_{}.pt\".format(data))\n",
    "\n",
    "model = KeyedVectors.load_word2vec_format(\"../ch07/GoogleNews-vectors-negative300.bin.gz\", binary=True)\n",
    "TorchData(\"train\")\n",
    "TorchData(\"test\")\n",
    "TorchData(\"valid\")"
   ]
  },
  {
   "cell_type": "markdown",
   "metadata": {},
   "source": [
    "### 71. 単層ニューラルネットワークによる予測"
   ]
  },
  {
   "cell_type": "code",
   "execution_count": 2,
   "metadata": {},
   "outputs": [
    {
     "data": {
      "text/plain": [
       "tensor([[0.2546, 0.2259, 0.2597, 0.2598],\n",
       "        [0.2892, 0.2115, 0.2449, 0.2544],\n",
       "        [0.2483, 0.2474, 0.2852, 0.2190],\n",
       "        ...,\n",
       "        [0.2621, 0.2592, 0.2526, 0.2260],\n",
       "        [0.2812, 0.2402, 0.2337, 0.2449],\n",
       "        [0.2487, 0.2542, 0.2441, 0.2529]], grad_fn=<SoftmaxBackward0>)"
      ]
     },
     "execution_count": 2,
     "metadata": {},
     "output_type": "execute_result"
    }
   ],
   "source": [
    "import torch.nn as nn\n",
    "\n",
    "class NetWork(nn.Module):\n",
    "    def __init__(self, input_feature, output):\n",
    "        super().__init__()\n",
    "        self.fc1 = nn.Linear(input_feature, output, bias=False)\n",
    "        nn.init.xavier_normal_(self.fc1.weight)\n",
    "        self.fc2 = nn.Softmax(dim=1)\n",
    "\n",
    "    def forward(self, x):\n",
    "        x = self.fc1(x)\n",
    "        x = self.fc2(x)\n",
    "        return x\n",
    "\n",
    "X_train = torch.load(\"data/X_train.pt\", weights_only=True)\n",
    "model = NetWork(300, 4)\n",
    "model(X_train)"
   ]
  },
  {
   "cell_type": "markdown",
   "metadata": {},
   "source": [
    "### 72. 損失と勾配の計算"
   ]
  },
  {
   "cell_type": "code",
   "execution_count": 3,
   "metadata": {},
   "outputs": [
    {
     "name": "stdout",
     "output_type": "stream",
     "text": [
      "クロスエントロピー損失 1.3821297883987427\n",
      "勾配 tensor([[ 0.0005, -0.0013,  0.0009,  ..., -0.0021, -0.0032,  0.0034],\n",
      "        [ 0.0007,  0.0009, -0.0017,  ..., -0.0002,  0.0022, -0.0006],\n",
      "        [-0.0027, -0.0010,  0.0029,  ...,  0.0031, -0.0009, -0.0013],\n",
      "        [ 0.0015,  0.0013, -0.0021,  ..., -0.0007,  0.0018, -0.0015]])\n"
     ]
    }
   ],
   "source": [
    "loss = nn.CrossEntropyLoss(reduction=\"mean\")\n",
    "Y_train = torch.load(\"data/Y_train.pt\", weights_only=True)\n",
    "Y_pred = model(X_train)\n",
    "CEloss = loss(Y_pred, Y_train)\n",
    "\n",
    "model.zero_grad()\n",
    "CEloss.backward()\n",
    "print(\"クロスエントロピー損失\", CEloss.item())\n",
    "print(\"勾配\", model.fc1.weight.grad)"
   ]
  },
  {
   "cell_type": "markdown",
   "metadata": {},
   "source": [
    "### 73. 確率的勾配降下法による学習"
   ]
  },
  {
   "cell_type": "code",
   "execution_count": 4,
   "metadata": {},
   "outputs": [],
   "source": [
    "from torch.utils.data import TensorDataset, DataLoader\n",
    "import torch.optim as optim\n",
    "\n",
    "loss = nn.CrossEntropyLoss(reduction=\"mean\")\n",
    "Y_train = torch.load(\"data/Y_train.pt\", weights_only=True)\n",
    "\n",
    "ds = TensorDataset(X_train, Y_train)\n",
    "DL = DataLoader(ds, batch_size=1, shuffle=True)\n",
    "optimizer = optim.SGD(params=model.parameters(), lr=0.01)\n",
    "\n",
    "epoch = 100\n",
    "for ep in range(epoch):\n",
    "    for X, Y in DL:\n",
    "        Y_pred = model(X)\n",
    "        CEloss = loss(Y_pred, Y)\n",
    "        optimizer.zero_grad()\n",
    "        CEloss.backward()\n",
    "        optimizer.step()\n",
    "\n",
    "torch.save(model.state_dict(), \"data/SingleLayer.pth\")"
   ]
  },
  {
   "cell_type": "markdown",
   "metadata": {},
   "source": [
    "### 74. 正解率の計測"
   ]
  },
  {
   "cell_type": "code",
   "execution_count": 4,
   "metadata": {},
   "outputs": [
    {
     "name": "stdout",
     "output_type": "stream",
     "text": [
      "学習データ： 0.9041416791604198\n",
      "検証データ： 0.8883058470764618\n"
     ]
    }
   ],
   "source": [
    "import torch\n",
    "import torch.nn as nn\n",
    "\n",
    "class NetWork(nn.Module):\n",
    "    def __init__(self, input_feature, output):\n",
    "        super().__init__()\n",
    "        self.fc1 = nn.Linear(input_feature, output, bias=False)\n",
    "        nn.init.xavier_normal_(self.fc1.weight)\n",
    "        self.fc2 = nn.Softmax(dim=1)\n",
    "\n",
    "    def forward(self, x):\n",
    "        x = self.fc1(x)\n",
    "        x = self.fc2(x)\n",
    "        return x\n",
    "\n",
    "model = NetWork(300, 4)\n",
    "\n",
    "model.load_state_dict(torch.load(\"data/SingleLayer.pth\", weights_only=True))\n",
    "X_train = torch.load(\"data/X_train.pt\", weights_only=True)\n",
    "Y_train = torch.load(\"data/Y_train.pt\", weights_only=True)\n",
    "X_test = torch.load(\"data/X_test.pt\", weights_only=True)\n",
    "Y_test = torch.load(\"data/Y_test.pt\", weights_only=True)\n",
    "X_valid = torch.load(\"data/X_valid.pt\", weights_only=True)\n",
    "Y_valid = torch.load(\"data/Y_valid.pt\", weights_only=True)\n",
    "\n",
    "# Y_pred = model(X_test)\n",
    "# result = torch.max(Y_pred.data, dim=1).indices\n",
    "# print(\"テストデータ：\", result.eq(Y_test).sum().numpy()/len(Y_pred))\n",
    "Y_pred = model(X_train)\n",
    "result = torch.max(Y_pred.data, dim=1).indices\n",
    "print(\"学習データ：\", result.eq(Y_train).sum().numpy()/len(Y_pred))\n",
    "Y_pred = model(X_valid)\n",
    "result = torch.max(Y_pred.data, dim=1).indices\n",
    "print(\"評価データ：\", result.eq(Y_valid).sum().numpy()/len(Y_pred))"
   ]
  },
  {
   "cell_type": "markdown",
   "metadata": {},
   "source": [
    "### 75. 損失と正解率のプロット"
   ]
  },
  {
   "cell_type": "code",
   "execution_count": 7,
   "metadata": {},
   "outputs": [
    {
     "name": "stdout",
     "output_type": "stream",
     "text": [
      "epoch: 0/100 train_loss: 1.0289251804351807 train_acc: 0.7804535232383808 valid_loss: 1.0315699577331543 valid_acc: 0.7728635682158921\n",
      "epoch: 10/100 train_loss: 0.9612086415290833 train_acc: 0.7897301349325337 valid_loss: 0.9639726877212524 valid_acc: 0.787856071964018\n",
      "epoch: 20/100 train_loss: 0.9540923833847046 train_acc: 0.7921664167916042 valid_loss: 0.9572051167488098 valid_acc: 0.7901049475262368\n",
      "epoch: 30/100 train_loss: 0.9292297959327698 train_acc: 0.8248688155922039 valid_loss: 0.9320820569992065 valid_acc: 0.8215892053973014\n",
      "epoch: 40/100 train_loss: 0.8937636613845825 train_acc: 0.8778110944527736 valid_loss: 0.8984178900718689 valid_acc: 0.8650674662668666\n",
      "epoch: 50/100 train_loss: 0.8792718052864075 train_acc: 0.8878373313343328 valid_loss: 0.8854377269744873 valid_acc: 0.8748125937031485\n",
      "epoch: 60/100 train_loss: 0.8709526658058167 train_acc: 0.8925224887556222 valid_loss: 0.8780094981193542 valid_acc: 0.8800599700149925\n",
      "epoch: 70/100 train_loss: 0.8653187155723572 train_acc: 0.8968328335832084 valid_loss: 0.8728475570678711 valid_acc: 0.8868065967016492\n",
      "epoch: 80/100 train_loss: 0.8611621260643005 train_acc: 0.9000187406296851 valid_loss: 0.8691631555557251 valid_acc: 0.8913043478260869\n",
      "epoch: 90/100 train_loss: 0.8579204082489014 train_acc: 0.9021739130434783 valid_loss: 0.866337239742279 valid_acc: 0.8898050974512743\n"
     ]
    },
    {
     "data": {
      "image/png": "[encoded data removed]",
      "text/plain": [
       "<Figure size 1200x500 with 2 Axes>"
      ]
     },
     "metadata": {},
     "output_type": "display_data"
    }
   ],
   "source": [
    "import matplotlib.pyplot as plt\n",
    "\n",
    "train_loss = []\n",
    "train_acc = []\n",
    "valid_loss = []\n",
    "valid_acc = []\n",
    "\n",
    "model = NetWork(300, 4)\n",
    "\n",
    "X_train = torch.load(\"data/X_train.pt\", weights_only=True)\n",
    "Y_train = torch.load(\"data/Y_train.pt\", weights_only=True)\n",
    "X_valid = torch.load(\"data/X_valid.pt\", weights_only=True)\n",
    "Y_valid = torch.load(\"data/Y_valid.pt\", weights_only=True)\n",
    "\n",
    "loss = nn.CrossEntropyLoss(reduction=\"mean\")\n",
    "ds = TensorDataset(X_train, Y_train)\n",
    "DL = DataLoader(ds, batch_size=1, shuffle=True)\n",
    "optimizer = optim.SGD(params=model.parameters(), lr=0.01)\n",
    "\n",
    "epoch = 100\n",
    "for ep in range(epoch):\n",
    "    for X, Y in DL:\n",
    "        Y_pred = model(X)\n",
    "        CEloss = loss(Y_pred, Y)\n",
    "        optimizer.zero_grad()\n",
    "        CEloss.backward()\n",
    "        optimizer.step()\n",
    "    Y_pred_train = model(X_train)\n",
    "    Y_pred_valid = model(X_valid)\n",
    "    train_loss.append(loss(Y_pred_train, Y_train).item())\n",
    "    valid_loss.append(loss(Y_pred_valid, Y_valid).item())\n",
    "    train_acc.append(torch.max(Y_pred_train.data, dim=1).indices.eq(Y_train).sum().numpy()/len(Y_pred_train))\n",
    "    valid_acc.append(torch.max(Y_pred_valid.data, dim=1).indices.eq(Y_valid).sum().numpy()/len(Y_pred_valid))\n",
    "    if ep % 10 == 0:\n",
    "        print(f\"epoch: {ep}/{epoch} train_loss: {train_loss[-1]} train_acc: {train_acc[-1]} valid_loss: {valid_loss[-1]} valid_acc: {valid_acc[-1]}\")\n",
    "\n",
    "\n",
    "ax, fig = plt.subplots(1, 2, figsize=(12, 5))\n",
    "fig[0].plot(range(epoch), train_loss, label=\"train\")\n",
    "fig[0].plot(range(epoch), valid_loss, label=\"valid\")\n",
    "fig[0].legend()\n",
    "fig[0].set_title(\"loss\")\n",
    "fig[1].plot(range(epoch), train_acc, label=\"train\")\n",
    "fig[1].plot(range(epoch), valid_acc, label=\"valid\")\n",
    "fig[1].legend()\n",
    "fig[1].set_title(\"accuracy\")\n",
    "plt.show()\n",
    "    "
   ]
  },
  {
   "cell_type": "markdown",
   "metadata": {},
   "source": [
    "### 76. チェックポイント"
   ]
  },
  {
   "cell_type": "code",
   "execution_count": null,
   "metadata": {},
   "outputs": [],
   "source": [
    "X_train = torch.load(\"data/X_train.pt\", weights_only=True)\n",
    "Y_train = torch.load(\"data/Y_train.pt\", weights_only=True)\n",
    "\n",
    "loss = nn.CrossEntropyLoss(reduction=\"mean\")\n",
    "ds = TensorDataset(X_train, Y_train)\n",
    "DL = DataLoader(ds, batch_size=1, shuffle=True)\n",
    "optimizer = optim.SGD(params=model.parameters(), lr=0.01)\n",
    "\n",
    "epoch = 10\n",
    "for ep in range(epoch):\n",
    "    for X, Y in DL:\n",
    "        Y_pred = model(X)\n",
    "        CEloss = loss(Y_pred, Y)\n",
    "        optimizer.zero_grad()\n",
    "        CEloss.backward()\n",
    "        optimizer.step()\n",
    "    torch.save(model.state_dict(), f\"models/CheckPoint_{ep}.pth\")\n",
    "        "
   ]
  },
  {
   "cell_type": "markdown",
   "metadata": {},
   "source": [
    "### 77. ミニバッチ化"
   ]
  },
  {
   "cell_type": "code",
   "execution_count": 15,
   "metadata": {},
   "outputs": [
    {
     "name": "stdout",
     "output_type": "stream",
     "text": [
      "Batch Size: 1\n",
      "Time: 2.945663595199585\n",
      "--------------------------------------------------\n",
      "Batch Size: 2\n",
      "Time: 1.804023027420044\n",
      "--------------------------------------------------\n",
      "Batch Size: 4\n",
      "Time: 0.9437390565872192\n",
      "--------------------------------------------------\n",
      "Batch Size: 8\n",
      "Time: 0.5144207000732421\n",
      "--------------------------------------------------\n",
      "Batch Size: 16\n",
      "Time: 0.29583852291107177\n",
      "--------------------------------------------------\n",
      "Batch Size: 32\n",
      "Time: 0.18226947784423828\n",
      "--------------------------------------------------\n",
      "Batch Size: 64\n",
      "Time: 0.1293801784515381\n",
      "--------------------------------------------------\n",
      "Batch Size: 128\n",
      "Time: 0.10205602645874023\n",
      "--------------------------------------------------\n",
      "Batch Size: 256\n",
      "Time: 0.08488681316375732\n",
      "--------------------------------------------------\n",
      "Batch Size: 512\n",
      "Time: 0.08210186958312989\n",
      "--------------------------------------------------\n",
      "Batch Size: 1024\n",
      "Time: 0.06484184265136719\n",
      "--------------------------------------------------\n",
      "Batch Size: 2048\n",
      "Time: 0.08241186141967774\n",
      "--------------------------------------------------\n",
      "Batch Size: 4096\n",
      "Time: 0.08265938758850097\n",
      "--------------------------------------------------\n",
      "Batch Size: 8192\n",
      "Time: 0.09494302272796631\n",
      "--------------------------------------------------\n",
      "Batch Size: 16384\n",
      "Time: 0.09823658466339111\n",
      "--------------------------------------------------\n"
     ]
    }
   ],
   "source": [
    "import time\n",
    "\n",
    "X_train = torch.load(\"data/X_train.pt\", weights_only=True)\n",
    "Y_train = torch.load(\"data/Y_train.pt\", weights_only=True)\n",
    "\n",
    "loss = nn.CrossEntropyLoss(reduction=\"mean\")\n",
    "\n",
    "ds = TensorDataset(X_train, Y_train)\n",
    "bs_list = [2**i for i in range(15)]\n",
    "for bs in bs_list:\n",
    "\tDL = DataLoader(ds, batch_size=bs, shuffle=True)\n",
    "\toptimizer = optim.SGD(params=model.parameters(), lr=0.01)\n",
    "\tmodel = NetWork(300, 4)\n",
    "\tepoch = 10\n",
    "\tt1 = time.time()\n",
    "\tfor ep in range(epoch):\n",
    "\t\tfor X, Y in DL:\n",
    "\t\t\tY_pred = model(X)\n",
    "\t\t\tCEloss = loss(Y_pred, Y)\n",
    "\t\t\toptimizer.zero_grad()\n",
    "\t\t\tCEloss.backward()\n",
    "\t\t\toptimizer.step()\n",
    "\tt2 = time.time()\n",
    "\tlength = (t2 - t1) / epoch\n",
    "\tprint(\"Batch Size:\", bs)\n",
    "\tprint(\"Time:\", length)\n",
    "\tprint(\"-\" * 50)"
   ]
  },
  {
   "cell_type": "markdown",
   "metadata": {},
   "source": [
    "### 78. GPU上での学習"
   ]
  },
  {
   "cell_type": "code",
   "execution_count": 1,
   "metadata": {},
   "outputs": [
    {
     "data": {
      "text/plain": [
       "False"
      ]
     },
     "execution_count": 1,
     "metadata": {},
     "output_type": "execute_result"
    }
   ],
   "source": [
    "import torch\n",
    "torch.cuda.is_available()"
   ]
  },
  {
   "cell_type": "markdown",
   "metadata": {},
   "source": [
    "### 79. 多層ニューラルネットワーク"
   ]
  },
  {
   "cell_type": "code",
   "execution_count": 6,
   "metadata": {},
   "outputs": [
    {
     "ename": "KeyboardInterrupt",
     "evalue": "",
     "output_type": "error",
     "traceback": [
      "\u001b[0;31m---------------------------------------------------------------------------\u001b[0m",
      "\u001b[0;31mKeyboardInterrupt\u001b[0m                         Traceback (most recent call last)",
      "Cell \u001b[0;32mIn[6], line 43\u001b[0m\n\u001b[1;32m     41\u001b[0m     optimizer\u001b[38;5;241m.\u001b[39mzero_grad()\n\u001b[1;32m     42\u001b[0m     CEloss\u001b[38;5;241m.\u001b[39mbackward()\n\u001b[0;32m---> 43\u001b[0m     \u001b[43moptimizer\u001b[49m\u001b[38;5;241;43m.\u001b[39;49m\u001b[43mstep\u001b[49m\u001b[43m(\u001b[49m\u001b[43m)\u001b[49m\n\u001b[1;32m     44\u001b[0m \u001b[38;5;28;01mif\u001b[39;00m lowest_loss \u001b[38;5;241m>\u001b[39m CEloss:\n\u001b[1;32m     45\u001b[0m     torch\u001b[38;5;241m.\u001b[39msave(model\u001b[38;5;241m.\u001b[39mstate_dict(), \u001b[38;5;124m\"\u001b[39m\u001b[38;5;124mdata/MultiLayer.pth\u001b[39m\u001b[38;5;124m\"\u001b[39m)\n",
      "File \u001b[0;32m~/.local/share/virtualenvs/app-4PlAip0Q/lib/python3.11/site-packages/torch/optim/optimizer.py:487\u001b[0m, in \u001b[0;36mOptimizer.profile_hook_step.<locals>.wrapper\u001b[0;34m(*args, **kwargs)\u001b[0m\n\u001b[1;32m    482\u001b[0m         \u001b[38;5;28;01melse\u001b[39;00m:\n\u001b[1;32m    483\u001b[0m             \u001b[38;5;28;01mraise\u001b[39;00m \u001b[38;5;167;01mRuntimeError\u001b[39;00m(\n\u001b[1;32m    484\u001b[0m                 \u001b[38;5;124mf\u001b[39m\u001b[38;5;124m\"\u001b[39m\u001b[38;5;132;01m{\u001b[39;00mfunc\u001b[38;5;132;01m}\u001b[39;00m\u001b[38;5;124m must return None or a tuple of (new_args, new_kwargs), but got \u001b[39m\u001b[38;5;132;01m{\u001b[39;00mresult\u001b[38;5;132;01m}\u001b[39;00m\u001b[38;5;124m.\u001b[39m\u001b[38;5;124m\"\u001b[39m\n\u001b[1;32m    485\u001b[0m             )\n\u001b[0;32m--> 487\u001b[0m out \u001b[38;5;241m=\u001b[39m \u001b[43mfunc\u001b[49m\u001b[43m(\u001b[49m\u001b[38;5;241;43m*\u001b[39;49m\u001b[43margs\u001b[49m\u001b[43m,\u001b[49m\u001b[43m \u001b[49m\u001b[38;5;241;43m*\u001b[39;49m\u001b[38;5;241;43m*\u001b[39;49m\u001b[43mkwargs\u001b[49m\u001b[43m)\u001b[49m\n\u001b[1;32m    488\u001b[0m \u001b[38;5;28mself\u001b[39m\u001b[38;5;241m.\u001b[39m_optimizer_step_code()\n\u001b[1;32m    490\u001b[0m \u001b[38;5;66;03m# call optimizer step post hooks\u001b[39;00m\n",
      "File \u001b[0;32m~/.local/share/virtualenvs/app-4PlAip0Q/lib/python3.11/site-packages/torch/optim/optimizer.py:91\u001b[0m, in \u001b[0;36m_use_grad_for_differentiable.<locals>._use_grad\u001b[0;34m(self, *args, **kwargs)\u001b[0m\n\u001b[1;32m     89\u001b[0m     torch\u001b[38;5;241m.\u001b[39mset_grad_enabled(\u001b[38;5;28mself\u001b[39m\u001b[38;5;241m.\u001b[39mdefaults[\u001b[38;5;124m\"\u001b[39m\u001b[38;5;124mdifferentiable\u001b[39m\u001b[38;5;124m\"\u001b[39m])\n\u001b[1;32m     90\u001b[0m     torch\u001b[38;5;241m.\u001b[39m_dynamo\u001b[38;5;241m.\u001b[39mgraph_break()\n\u001b[0;32m---> 91\u001b[0m     ret \u001b[38;5;241m=\u001b[39m \u001b[43mfunc\u001b[49m\u001b[43m(\u001b[49m\u001b[38;5;28;43mself\u001b[39;49m\u001b[43m,\u001b[49m\u001b[43m \u001b[49m\u001b[38;5;241;43m*\u001b[39;49m\u001b[43margs\u001b[49m\u001b[43m,\u001b[49m\u001b[43m \u001b[49m\u001b[38;5;241;43m*\u001b[39;49m\u001b[38;5;241;43m*\u001b[39;49m\u001b[43mkwargs\u001b[49m\u001b[43m)\u001b[49m\n\u001b[1;32m     92\u001b[0m \u001b[38;5;28;01mfinally\u001b[39;00m:\n\u001b[1;32m     93\u001b[0m     torch\u001b[38;5;241m.\u001b[39m_dynamo\u001b[38;5;241m.\u001b[39mgraph_break()\n",
      "File \u001b[0;32m~/.local/share/virtualenvs/app-4PlAip0Q/lib/python3.11/site-packages/torch/optim/sgd.py:123\u001b[0m, in \u001b[0;36mSGD.step\u001b[0;34m(self, closure)\u001b[0m\n\u001b[1;32m    117\u001b[0m momentum_buffer_list: List[Optional[Tensor]] \u001b[38;5;241m=\u001b[39m []\n\u001b[1;32m    119\u001b[0m has_sparse_grad \u001b[38;5;241m=\u001b[39m \u001b[38;5;28mself\u001b[39m\u001b[38;5;241m.\u001b[39m_init_group(\n\u001b[1;32m    120\u001b[0m     group, params, grads, momentum_buffer_list\n\u001b[1;32m    121\u001b[0m )\n\u001b[0;32m--> 123\u001b[0m \u001b[43msgd\u001b[49m\u001b[43m(\u001b[49m\n\u001b[1;32m    124\u001b[0m \u001b[43m    \u001b[49m\u001b[43mparams\u001b[49m\u001b[43m,\u001b[49m\n\u001b[1;32m    125\u001b[0m \u001b[43m    \u001b[49m\u001b[43mgrads\u001b[49m\u001b[43m,\u001b[49m\n\u001b[1;32m    126\u001b[0m \u001b[43m    \u001b[49m\u001b[43mmomentum_buffer_list\u001b[49m\u001b[43m,\u001b[49m\n\u001b[1;32m    127\u001b[0m \u001b[43m    \u001b[49m\u001b[43mweight_decay\u001b[49m\u001b[38;5;241;43m=\u001b[39;49m\u001b[43mgroup\u001b[49m\u001b[43m[\u001b[49m\u001b[38;5;124;43m\"\u001b[39;49m\u001b[38;5;124;43mweight_decay\u001b[39;49m\u001b[38;5;124;43m\"\u001b[39;49m\u001b[43m]\u001b[49m\u001b[43m,\u001b[49m\n\u001b[1;32m    128\u001b[0m \u001b[43m    \u001b[49m\u001b[43mmomentum\u001b[49m\u001b[38;5;241;43m=\u001b[39;49m\u001b[43mgroup\u001b[49m\u001b[43m[\u001b[49m\u001b[38;5;124;43m\"\u001b[39;49m\u001b[38;5;124;43mmomentum\u001b[39;49m\u001b[38;5;124;43m\"\u001b[39;49m\u001b[43m]\u001b[49m\u001b[43m,\u001b[49m\n\u001b[1;32m    129\u001b[0m \u001b[43m    \u001b[49m\u001b[43mlr\u001b[49m\u001b[38;5;241;43m=\u001b[39;49m\u001b[43mgroup\u001b[49m\u001b[43m[\u001b[49m\u001b[38;5;124;43m\"\u001b[39;49m\u001b[38;5;124;43mlr\u001b[39;49m\u001b[38;5;124;43m\"\u001b[39;49m\u001b[43m]\u001b[49m\u001b[43m,\u001b[49m\n\u001b[1;32m    130\u001b[0m \u001b[43m    \u001b[49m\u001b[43mdampening\u001b[49m\u001b[38;5;241;43m=\u001b[39;49m\u001b[43mgroup\u001b[49m\u001b[43m[\u001b[49m\u001b[38;5;124;43m\"\u001b[39;49m\u001b[38;5;124;43mdampening\u001b[39;49m\u001b[38;5;124;43m\"\u001b[39;49m\u001b[43m]\u001b[49m\u001b[43m,\u001b[49m\n\u001b[1;32m    131\u001b[0m \u001b[43m    \u001b[49m\u001b[43mnesterov\u001b[49m\u001b[38;5;241;43m=\u001b[39;49m\u001b[43mgroup\u001b[49m\u001b[43m[\u001b[49m\u001b[38;5;124;43m\"\u001b[39;49m\u001b[38;5;124;43mnesterov\u001b[39;49m\u001b[38;5;124;43m\"\u001b[39;49m\u001b[43m]\u001b[49m\u001b[43m,\u001b[49m\n\u001b[1;32m    132\u001b[0m \u001b[43m    \u001b[49m\u001b[43mmaximize\u001b[49m\u001b[38;5;241;43m=\u001b[39;49m\u001b[43mgroup\u001b[49m\u001b[43m[\u001b[49m\u001b[38;5;124;43m\"\u001b[39;49m\u001b[38;5;124;43mmaximize\u001b[39;49m\u001b[38;5;124;43m\"\u001b[39;49m\u001b[43m]\u001b[49m\u001b[43m,\u001b[49m\n\u001b[1;32m    133\u001b[0m \u001b[43m    \u001b[49m\u001b[43mhas_sparse_grad\u001b[49m\u001b[38;5;241;43m=\u001b[39;49m\u001b[43mhas_sparse_grad\u001b[49m\u001b[43m,\u001b[49m\n\u001b[1;32m    134\u001b[0m \u001b[43m    \u001b[49m\u001b[43mforeach\u001b[49m\u001b[38;5;241;43m=\u001b[39;49m\u001b[43mgroup\u001b[49m\u001b[43m[\u001b[49m\u001b[38;5;124;43m\"\u001b[39;49m\u001b[38;5;124;43mforeach\u001b[39;49m\u001b[38;5;124;43m\"\u001b[39;49m\u001b[43m]\u001b[49m\u001b[43m,\u001b[49m\n\u001b[1;32m    135\u001b[0m \u001b[43m    \u001b[49m\u001b[43mfused\u001b[49m\u001b[38;5;241;43m=\u001b[39;49m\u001b[43mgroup\u001b[49m\u001b[43m[\u001b[49m\u001b[38;5;124;43m\"\u001b[39;49m\u001b[38;5;124;43mfused\u001b[39;49m\u001b[38;5;124;43m\"\u001b[39;49m\u001b[43m]\u001b[49m\u001b[43m,\u001b[49m\n\u001b[1;32m    136\u001b[0m \u001b[43m    \u001b[49m\u001b[43mgrad_scale\u001b[49m\u001b[38;5;241;43m=\u001b[39;49m\u001b[38;5;28;43mgetattr\u001b[39;49m\u001b[43m(\u001b[49m\u001b[38;5;28;43mself\u001b[39;49m\u001b[43m,\u001b[49m\u001b[43m \u001b[49m\u001b[38;5;124;43m\"\u001b[39;49m\u001b[38;5;124;43mgrad_scale\u001b[39;49m\u001b[38;5;124;43m\"\u001b[39;49m\u001b[43m,\u001b[49m\u001b[43m \u001b[49m\u001b[38;5;28;43;01mNone\u001b[39;49;00m\u001b[43m)\u001b[49m\u001b[43m,\u001b[49m\n\u001b[1;32m    137\u001b[0m \u001b[43m    \u001b[49m\u001b[43mfound_inf\u001b[49m\u001b[38;5;241;43m=\u001b[39;49m\u001b[38;5;28;43mgetattr\u001b[39;49m\u001b[43m(\u001b[49m\u001b[38;5;28;43mself\u001b[39;49m\u001b[43m,\u001b[49m\u001b[43m \u001b[49m\u001b[38;5;124;43m\"\u001b[39;49m\u001b[38;5;124;43mfound_inf\u001b[39;49m\u001b[38;5;124;43m\"\u001b[39;49m\u001b[43m,\u001b[49m\u001b[43m \u001b[49m\u001b[38;5;28;43;01mNone\u001b[39;49;00m\u001b[43m)\u001b[49m\u001b[43m,\u001b[49m\n\u001b[1;32m    138\u001b[0m \u001b[43m\u001b[49m\u001b[43m)\u001b[49m\n\u001b[1;32m    140\u001b[0m \u001b[38;5;28;01mif\u001b[39;00m group[\u001b[38;5;124m\"\u001b[39m\u001b[38;5;124mmomentum\u001b[39m\u001b[38;5;124m\"\u001b[39m] \u001b[38;5;241m!=\u001b[39m \u001b[38;5;241m0\u001b[39m:\n\u001b[1;32m    141\u001b[0m     \u001b[38;5;66;03m# update momentum_buffers in state\u001b[39;00m\n\u001b[1;32m    142\u001b[0m     \u001b[38;5;28;01mfor\u001b[39;00m p, momentum_buffer \u001b[38;5;129;01min\u001b[39;00m \u001b[38;5;28mzip\u001b[39m(params, momentum_buffer_list):\n",
      "File \u001b[0;32m~/.local/share/virtualenvs/app-4PlAip0Q/lib/python3.11/site-packages/torch/optim/sgd.py:298\u001b[0m, in \u001b[0;36msgd\u001b[0;34m(params, d_p_list, momentum_buffer_list, has_sparse_grad, foreach, fused, grad_scale, found_inf, weight_decay, momentum, lr, dampening, nesterov, maximize)\u001b[0m\n\u001b[1;32m    295\u001b[0m \u001b[38;5;28;01melse\u001b[39;00m:\n\u001b[1;32m    296\u001b[0m     func \u001b[38;5;241m=\u001b[39m _single_tensor_sgd\n\u001b[0;32m--> 298\u001b[0m \u001b[43mfunc\u001b[49m\u001b[43m(\u001b[49m\n\u001b[1;32m    299\u001b[0m \u001b[43m    \u001b[49m\u001b[43mparams\u001b[49m\u001b[43m,\u001b[49m\n\u001b[1;32m    300\u001b[0m \u001b[43m    \u001b[49m\u001b[43md_p_list\u001b[49m\u001b[43m,\u001b[49m\n\u001b[1;32m    301\u001b[0m \u001b[43m    \u001b[49m\u001b[43mmomentum_buffer_list\u001b[49m\u001b[43m,\u001b[49m\n\u001b[1;32m    302\u001b[0m \u001b[43m    \u001b[49m\u001b[43mweight_decay\u001b[49m\u001b[38;5;241;43m=\u001b[39;49m\u001b[43mweight_decay\u001b[49m\u001b[43m,\u001b[49m\n\u001b[1;32m    303\u001b[0m \u001b[43m    \u001b[49m\u001b[43mmomentum\u001b[49m\u001b[38;5;241;43m=\u001b[39;49m\u001b[43mmomentum\u001b[49m\u001b[43m,\u001b[49m\n\u001b[1;32m    304\u001b[0m \u001b[43m    \u001b[49m\u001b[43mlr\u001b[49m\u001b[38;5;241;43m=\u001b[39;49m\u001b[43mlr\u001b[49m\u001b[43m,\u001b[49m\n\u001b[1;32m    305\u001b[0m \u001b[43m    \u001b[49m\u001b[43mdampening\u001b[49m\u001b[38;5;241;43m=\u001b[39;49m\u001b[43mdampening\u001b[49m\u001b[43m,\u001b[49m\n\u001b[1;32m    306\u001b[0m \u001b[43m    \u001b[49m\u001b[43mnesterov\u001b[49m\u001b[38;5;241;43m=\u001b[39;49m\u001b[43mnesterov\u001b[49m\u001b[43m,\u001b[49m\n\u001b[1;32m    307\u001b[0m \u001b[43m    \u001b[49m\u001b[43mhas_sparse_grad\u001b[49m\u001b[38;5;241;43m=\u001b[39;49m\u001b[43mhas_sparse_grad\u001b[49m\u001b[43m,\u001b[49m\n\u001b[1;32m    308\u001b[0m \u001b[43m    \u001b[49m\u001b[43mmaximize\u001b[49m\u001b[38;5;241;43m=\u001b[39;49m\u001b[43mmaximize\u001b[49m\u001b[43m,\u001b[49m\n\u001b[1;32m    309\u001b[0m \u001b[43m    \u001b[49m\u001b[43mgrad_scale\u001b[49m\u001b[38;5;241;43m=\u001b[39;49m\u001b[43mgrad_scale\u001b[49m\u001b[43m,\u001b[49m\n\u001b[1;32m    310\u001b[0m \u001b[43m    \u001b[49m\u001b[43mfound_inf\u001b[49m\u001b[38;5;241;43m=\u001b[39;49m\u001b[43mfound_inf\u001b[49m\u001b[43m,\u001b[49m\n\u001b[1;32m    311\u001b[0m \u001b[43m\u001b[49m\u001b[43m)\u001b[49m\n",
      "File \u001b[0;32m~/.local/share/virtualenvs/app-4PlAip0Q/lib/python3.11/site-packages/torch/optim/sgd.py:351\u001b[0m, in \u001b[0;36m_single_tensor_sgd\u001b[0;34m(params, grads, momentum_buffer_list, grad_scale, found_inf, weight_decay, momentum, lr, dampening, nesterov, maximize, has_sparse_grad)\u001b[0m\n\u001b[1;32m    348\u001b[0m     \u001b[38;5;28;01melse\u001b[39;00m:\n\u001b[1;32m    349\u001b[0m         grad \u001b[38;5;241m=\u001b[39m buf\n\u001b[0;32m--> 351\u001b[0m \u001b[43mparam\u001b[49m\u001b[38;5;241;43m.\u001b[39;49m\u001b[43madd_\u001b[49m\u001b[43m(\u001b[49m\u001b[43mgrad\u001b[49m\u001b[43m,\u001b[49m\u001b[43m \u001b[49m\u001b[43malpha\u001b[49m\u001b[38;5;241;43m=\u001b[39;49m\u001b[38;5;241;43m-\u001b[39;49m\u001b[43mlr\u001b[49m\u001b[43m)\u001b[49m\n",
      "\u001b[0;31mKeyboardInterrupt\u001b[0m: "
     ]
    }
   ],
   "source": [
    "from torch.utils.data import TensorDataset, DataLoader\n",
    "import torch\n",
    "import torch.nn as nn\n",
    "import torch.optim as optim\n",
    "import torch.nn.functional as F\n",
    "\n",
    "class MultiNetWork(nn.Module):\n",
    "    def __init__(self, input_feature, output):\n",
    "        super().__init__()\n",
    "        self.fc1 = nn.Linear(input_feature, 300, bias=True)\n",
    "        self.fc2 = nn.Linear(300, output, bias=True)\n",
    "        # self.fc3 = nn.Softmax(dim=1)\n",
    "        nn.init.xavier_normal_(self.fc1.weight)\n",
    "        nn.init.xavier_normal_(self.fc2.weight)\n",
    "    def forward(self, x):\n",
    "        x = self.fc1(x)\n",
    "        x = F.relu(x)\n",
    "        x = self.fc2(x)\n",
    "        # x = self.fc3(x)\n",
    "        return x\n",
    "\n",
    "X_train = torch.load(\"data/X_train.pt\", weights_only=True)\n",
    "Y_train = torch.load(\"data/Y_train.pt\", weights_only=True)\n",
    "X_test = torch.load(\"data/X_test.pt\", weights_only=True)\n",
    "Y_test = torch.load(\"data/Y_test.pt\", weights_only=True)\n",
    "X_valid = torch.load(\"data/X_valid.pt\", weights_only=True)\n",
    "Y_valid = torch.load(\"data/Y_valid.pt\", weights_only=True)\n",
    "\n",
    "loss = nn.CrossEntropyLoss(reduction=\"mean\")\n",
    "model = MultiNetWork(300, 4)\n",
    "ds = TensorDataset(X_train, Y_train)\n",
    "DL = DataLoader(ds, batch_size=1, shuffle=True)\n",
    "optimizer = optim.SGD(params=model.parameters(), lr=0.001)\n",
    "\n",
    "epoch = 100\n",
    "lowest_loss = 1e6\n",
    "for ep in range(epoch):\n",
    "    for X, Y in DL:\n",
    "        Y_pred = model(X)\n",
    "        CEloss = loss(Y_pred, Y)\n",
    "        optimizer.zero_grad()\n",
    "        CEloss.backward()\n",
    "        optimizer.step()\n",
    "    if lowest_loss > CEloss:\n",
    "        torch.save(model.state_dict(), \"data/MultiLayer.pth\")\n",
    "        lowest_loss = CEloss\n",
    "\n",
    "model.load_state_dict(torch.load(\"data/MultiLayer.pth\", weights_only=True))\n",
    "\n",
    "Y_pred = model(X_train)\n",
    "result = torch.max(Y_pred.data, dim=1).indices\n",
    "print(\"学習データ：\", result.eq(Y_train).sum().numpy()/len(Y_pred))\n",
    "Y_pred = model(X_valid)\n",
    "result = torch.max(Y_pred.data, dim=1).indices\n",
    "print(\"評価データ：\", result.eq(Y_valid).sum().numpy()/len(Y_pred))"
   ]
  }
 ],
 "metadata": {
  "kernelspec": {
   "display_name": "app-4PlAip0Q",
   "language": "python",
   "name": "python3"
  },
  "language_info": {
   "codemirror_mode": {
    "name": "ipython",
    "version": 3
   },
   "file_extension": ".py",
   "mimetype": "text/x-python",
   "name": "python",
   "nbconvert_exporter": "python",
   "pygments_lexer": "ipython3",
   "version": "3.11.11"
  }
 },
 "nbformat": 4,
 "nbformat_minor": 2
}
