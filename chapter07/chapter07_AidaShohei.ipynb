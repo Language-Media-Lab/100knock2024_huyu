{
  "nbformat": 4,
  "nbformat_minor": 0,
  "metadata": {
    "colab": {
      "provenance": []
    },
    "kernelspec": {
      "name": "python3",
      "display_name": "Python 3"
    },
    "language_info": {
      "name": "python"
    },
    "gpuClass": "standard",
    "accelerator": "GPU"
  },
  "cells": [
    {
      "cell_type": "markdown",
      "source": [
        "#第7章: 単語ベクトル\n",
        "単語の意味を実ベクトルで表現する単語ベクトル（単語埋め込み）に関して，以下の処理を行うプログラムを作成せよ．"
      ],
      "metadata": {
        "id": "E5KqCkb99oZ6"
      }
    },
    {
      "cell_type": "markdown",
      "source": [
        "##60. 単語ベクトルの読み込みと表示\n",
        "Google Newsデータセット（約1,000億単語）での学習済み単語ベクトル（300万単語・フレーズ，300次元）をダウンロードし，”United States”の単語ベクトルを表示せよ．ただし，”United States”は内部的には”United_States”と表現されていることに注意せよ．"
      ],
      "metadata": {
        "id": "vLJQqC2s9p2d"
      }
    },
    {
      "cell_type": "markdown",
      "source": [
        "単語ベクトル：Cbow及びSkip-gram？\\\n",
        "https://deepage.net/bigdata/machine_learning/2016/09/02/word2vec_power_of_word_vector.html"
      ],
      "metadata": {
        "id": "E2shbRQGwqQY"
      }
    },
    {
      "cell_type": "code",
      "source": [
        "from google.colab import drive\n",
        "drive.mount('/content/drive')"
      ],
      "metadata": {
        "id": "-TMAsVTAv7J9"
      },
      "execution_count": null,
      "outputs": []
    },
    {
      "cell_type": "code",
      "source": [
        "from gensim.models import KeyedVectors\n",
        "\n",
        "\n",
        "if __name__ == \"__main__\":\n",
        "    # ref. https://radimrehurek.com/gensim/models/word2vec.html#usage-examples\n",
        "    model = KeyedVectors.load_word2vec_format('drive/MyDrive/100本ノック/GoogleNews-vectors-negative300.bin.gz', binary=True)\n",
        "    print(model['United_States'])"
      ],
      "metadata": {
        "id": "32Zh0j16rHjm"
      },
      "execution_count": null,
      "outputs": []
    },
    {
      "cell_type": "markdown",
      "source": [
        "##61. 単語の類似度\n",
        "“United States”と”U.S.”のコサイン類似度を計算せよ．"
      ],
      "metadata": {
        "id": "LPVBWx-w9p5P"
      }
    },
    {
      "cell_type": "markdown",
      "source": [
        "コサイン類似度：2つのベクトルの類似度を示す値。\\\n",
        "cosθ = a・b /|a||b|\\\n",
        "-1 <= cosθ <= 1\\\n",
        "1で完全一致。"
      ],
      "metadata": {
        "id": "XX55UowxuBp3"
      }
    },
    {
      "cell_type": "code",
      "source": [
        "from gensim.models import KeyedVectors\n",
        "\n",
        "\n",
        "if __name__ == \"__main__\":\n",
        "    print(model.similarity('United_States', 'U.S.'))"
      ],
      "metadata": {
        "id": "HV3N8WtnuD-h"
      },
      "execution_count": null,
      "outputs": []
    },
    {
      "cell_type": "markdown",
      "source": [
        "##62. 類似度の高い単語10件\n",
        "“United States”とコサイン類似度が高い10語と，その類似度を出力せよ．"
      ],
      "metadata": {
        "id": "8Nf9EZbX9p7z"
      }
    },
    {
      "cell_type": "code",
      "source": [
        "from gensim.models import KeyedVectors\n",
        "\n",
        "\n",
        "if __name__ == \"__main__\":\n",
        "    print(model.most_similar('United_States', topn=10))"
      ],
      "metadata": {
        "id": "Jgdp3llcyMNZ"
      },
      "execution_count": null,
      "outputs": []
    },
    {
      "cell_type": "markdown",
      "source": [
        "##63. 加法構成性によるアナロジー\n",
        "“Spain”の単語ベクトルから”Madrid”のベクトルを引き，”Athens”のベクトルを足したベクトルを計算し，そのベクトルと類似度の高い10語とその類似度を出力せよ．"
      ],
      "metadata": {
        "id": "EUI8mAs59p-k"
      }
    },
    {
      "cell_type": "code",
      "source": [
        "from gensim.models import KeyedVectors\n",
        "\n",
        "\n",
        "if __name__ == \"__main__\":\n",
        "    print(model.most_similar(positive=['Spain', 'Athens'], negative=['Madrid'], topn=10))"
      ],
      "metadata": {
        "id": "xFRLPZnxyqGf"
      },
      "execution_count": null,
      "outputs": []
    },
    {
      "cell_type": "code",
      "source": [
        "vec = model['Spain'] - model['Madrid'] + model['Athens'] \n",
        "print(model.most_similar([vec], topn=10))"
      ],
      "metadata": {
        "id": "KFqwfUmDz49J"
      },
      "execution_count": null,
      "outputs": []
    },
    {
      "cell_type": "markdown",
      "source": [
        "##64. アナロジーデータでの実験\n",
        "単語アナロジーの評価データをダウンロードし，vec(2列目の単語) - vec(1列目の単語) + vec(3列目の単語)を計算し，そのベクトルと類似度が最も高い単語と，その類似度を求めよ．求めた単語と類似度は，各事例の末尾に追記せよ．"
      ],
      "metadata": {
        "id": "KOnj-LoK9qBa"
      }
    },
    {
      "cell_type": "code",
      "source": [
        "!wget http://download.tensorflow.org/data/questions-words.txt"
      ],
      "metadata": {
        "id": "NwL1j5LN0R48"
      },
      "execution_count": null,
      "outputs": []
    },
    {
      "cell_type": "code",
      "source": [
        "!head -10 questions-words.txt"
      ],
      "metadata": {
        "id": "EpD_Wclt2xhF"
      },
      "execution_count": null,
      "outputs": []
    },
    {
      "cell_type": "code",
      "source": [
        "with open('./questions-words.txt', 'r') as f1, open('./questions-words-add.txt', 'w') as f2:\n",
        "  for line in f1:  # f1から1行ずつ読込み、求めた単語と類似度を追加してf2に書込む\n",
        "    line = line.split()\n",
        "    if line[0] == ':':\n",
        "      category = line[1]\n",
        "    else:\n",
        "      word, cos = model.most_similar(positive=[line[1], line[2]], negative=[line[0]], topn=1)[0]\n",
        "      f2.write(' '.join([category] + line + [word, str(cos) + '\\n']))"
      ],
      "metadata": {
        "id": "TiGSp0dQ2TCl"
      },
      "execution_count": null,
      "outputs": []
    },
    {
      "cell_type": "code",
      "source": [
        "!head -10 questions-words-add.txt"
      ],
      "metadata": {
        "id": "iZLi7CHp4Gl5",
        "colab": {
          "base_uri": "https://localhost:8080/"
        },
        "outputId": "b29d4ca2-abbd-46af-f562-1cf3e09e57f6"
      },
      "execution_count": null,
      "outputs": [
        {
          "output_type": "stream",
          "name": "stdout",
          "text": [
            "capital-common-countries Athens Greece Baghdad Iraq Iraqi 0.6351870894432068\n",
            "capital-common-countries Athens Greece Bangkok Thailand Thailand 0.7137669324874878\n",
            "capital-common-countries Athens Greece Beijing China China 0.7235777974128723\n",
            "capital-common-countries Athens Greece Berlin Germany Germany 0.6734622120857239\n",
            "capital-common-countries Athens Greece Bern Switzerland Switzerland 0.4919748306274414\n",
            "capital-common-countries Athens Greece Cairo Egypt Egypt 0.7527809739112854\n",
            "capital-common-countries Athens Greece Canberra Australia Australia 0.583732545375824\n",
            "capital-common-countries Athens Greece Hanoi Vietnam Viet_Nam 0.6276341676712036\n",
            "capital-common-countries Athens Greece Havana Cuba Cuba 0.6460992097854614\n",
            "capital-common-countries Athens Greece Helsinki Finland Finland 0.6899983882904053\n"
          ]
        }
      ]
    },
    {
      "cell_type": "markdown",
      "source": [
        "##65. アナロジータスクでの正解率\n",
        "64の実行結果を用い，意味的アナロジー（semantic analogy）と文法的アナロジー（syntactic analogy）の正解率を測定せよ．"
      ],
      "metadata": {
        "id": "q_BRpWUv9qEO"
      }
    },
    {
      "cell_type": "code",
      "source": [
        "with open('./questions-words-add.txt', 'r') as f:\n",
        "  sem_cnt = 0\n",
        "  sem_cor = 0\n",
        "  syn_cnt = 0\n",
        "  syn_cor = 0\n",
        "  for line in f:\n",
        "    line = line.split()\n",
        "    if not line[0].startswith('gram'):\n",
        "      sem_cnt += 1\n",
        "      if line[4] == line[5]:\n",
        "        sem_cor += 1\n",
        "    else:\n",
        "      syn_cnt += 1\n",
        "      if line[4] == line[5]:\n",
        "        syn_cor += 1\n",
        "\n",
        "  print(f'意味的アナロジー正解率: {sem_cor/sem_cnt:.3f}')\n",
        "  print(f'文法的アナロジー正解率: {syn_cor/syn_cnt:.3f}')"
      ],
      "metadata": {
        "id": "PvSI_qxI6Px5",
        "colab": {
          "base_uri": "https://localhost:8080/"
        },
        "outputId": "c8abfe99-adb3-4669-a62d-67b45af7fc5c"
      },
      "execution_count": null,
      "outputs": [
        {
          "output_type": "stream",
          "name": "stdout",
          "text": [
            "意味的アナロジー正解率: 0.731\n",
            "文法的アナロジー正解率: 0.740\n"
          ]
        }
      ]
    },
    {
      "cell_type": "markdown",
      "source": [
        "##66. WordSimilarity-353での評価\n",
        "The WordSimilarity-353 Test Collectionの評価データをダウンロードし，単語ベクトルにより計算される類似度のランキングと，人間の類似度判定のランキングの間のスピアマン相関係数を計算せよ．"
      ],
      "metadata": {
        "id": "FpVsvMjX9ol0"
      }
    },
    {
      "cell_type": "markdown",
      "source": [
        "スピアマン相関係数：-1から1の値を取ります． 値の絶対値が大きいほど2つの変数の相関が強いことを表します． 統計学的に相関係数に対する基準はありませんが，目安としては以下のようになります． 一般的には絶対値が0.3以上ある場合に，2つの変数に相関関係があると判定します"
      ],
      "metadata": {
        "id": "BFnPUHCs_Cq7"
      }
    },
    {
      "cell_type": "code",
      "source": [
        "!wget http://www.gabrilovich.com/resources/data/wordsim353/wordsim353.zip\n",
        "!unzip wordsim353.zip"
      ],
      "metadata": {
        "id": "WITe4AkC_H2t",
        "colab": {
          "base_uri": "https://localhost:8080/"
        },
        "outputId": "485893d0-69bd-4fe6-b973-6d6a79276415"
      },
      "execution_count": null,
      "outputs": [
        {
          "output_type": "stream",
          "name": "stdout",
          "text": [
            "--2023-01-04 11:00:46--  http://www.gabrilovich.com/resources/data/wordsim353/wordsim353.zip\n",
            "Resolving www.gabrilovich.com (www.gabrilovich.com)... 208.97.177.37\n",
            "Connecting to www.gabrilovich.com (www.gabrilovich.com)|208.97.177.37|:80... connected.\n",
            "HTTP request sent, awaiting response... 301 Moved Permanently\n",
            "Location: https://gabrilovich.com/resources/data/wordsim353/wordsim353.zip [following]\n",
            "--2023-01-04 11:00:47--  https://gabrilovich.com/resources/data/wordsim353/wordsim353.zip\n",
            "Resolving gabrilovich.com (gabrilovich.com)... 208.97.177.37\n",
            "Connecting to gabrilovich.com (gabrilovich.com)|208.97.177.37|:443... connected.\n",
            "HTTP request sent, awaiting response... 200 OK\n",
            "Length: 23257 (23K) [application/zip]\n",
            "Saving to: ‘wordsim353.zip’\n",
            "\n",
            "wordsim353.zip      100%[===================>]  22.71K   101KB/s    in 0.2s    \n",
            "\n",
            "2023-01-04 11:00:49 (101 KB/s) - ‘wordsim353.zip’ saved [23257/23257]\n",
            "\n",
            "Archive:  wordsim353.zip\n",
            "  inflating: combined.csv            \n",
            "  inflating: set1.csv                \n",
            "  inflating: set2.csv                \n",
            "  inflating: combined.tab            \n",
            "  inflating: set1.tab                \n",
            "  inflating: set2.tab                \n",
            "  inflating: instructions.txt        \n"
          ]
        }
      ]
    },
    {
      "cell_type": "code",
      "source": [
        "!head -10 './combined.csv'"
      ],
      "metadata": {
        "id": "D7jVmT6TBZgT",
        "colab": {
          "base_uri": "https://localhost:8080/"
        },
        "outputId": "506ed1b8-1663-480f-b75a-5d18ebb44364"
      },
      "execution_count": null,
      "outputs": [
        {
          "output_type": "stream",
          "name": "stdout",
          "text": [
            "Word 1,Word 2,Human (mean)\r\n",
            "love,sex,6.77\r\n",
            "tiger,cat,7.35\r\n",
            "tiger,tiger,10.00\r\n",
            "book,paper,7.46\r\n",
            "computer,keyboard,7.62\r\n",
            "computer,internet,7.58\r\n",
            "plane,car,5.77\r\n",
            "train,car,6.31\r\n",
            "telephone,communication,7.50\r\n"
          ]
        }
      ]
    },
    {
      "cell_type": "code",
      "source": [
        "ws353 = []\n",
        "with open('./combined.csv', 'r') as f:\n",
        "  next(f)\n",
        "  for line in f:  # 1行ずつ読込み、単語ベクトルと類似度を計算\n",
        "    line = [s.strip() for s in line.split(',')]\n",
        "    line.append(model.similarity(line[0], line[1]))\n",
        "    ws353.append(line)\n",
        "\n",
        "# 確認\n",
        "for i in range(5):\n",
        "  print(ws353[i])"
      ],
      "metadata": {
        "id": "OWaqYvjnBdVR",
        "colab": {
          "base_uri": "https://localhost:8080/"
        },
        "outputId": "6b636dd7-c88e-4684-8a46-edd54aa8fbd0"
      },
      "execution_count": null,
      "outputs": [
        {
          "output_type": "stream",
          "name": "stdout",
          "text": [
            "['love', 'sex', '6.77', 0.26393774]\n",
            "['tiger', 'cat', '7.35', 0.5172962]\n",
            "['tiger', 'tiger', '10.00', 0.99999994]\n",
            "['book', 'paper', '7.46', 0.3634626]\n",
            "['computer', 'keyboard', '7.62', 0.39639163]\n"
          ]
        }
      ]
    },
    {
      "cell_type": "code",
      "source": [
        "import numpy as np\n",
        "from scipy.stats import spearmanr\n",
        "\n",
        "# スピアマン相関係数の計算\n",
        "human = np.array(ws353).T[2]\n",
        "w2v = np.array(ws353).T[3]\n",
        "correlation, pvalue = spearmanr(human, w2v)\n",
        "\n",
        "print(f'スピアマン相関係数: {correlation:.3f}')"
      ],
      "metadata": {
        "id": "1siz7VZcBtfL",
        "colab": {
          "base_uri": "https://localhost:8080/"
        },
        "outputId": "d5cc8d3e-b2f9-4e04-8623-0bab4966bfd8"
      },
      "execution_count": null,
      "outputs": [
        {
          "output_type": "stream",
          "name": "stdout",
          "text": [
            "スピアマン相関係数: 0.685\n"
          ]
        }
      ]
    },
    {
      "cell_type": "markdown",
      "source": [
        "##67. k-meansクラスタリング\n",
        "国名に関する単語ベクトルを抽出し，k-meansクラスタリングをクラスタ数k=5として実行せよ．"
      ],
      "metadata": {
        "id": "hEAkYuQw9or2"
      }
    },
    {
      "cell_type": "markdown",
      "source": [
        "k平均化法：まずデータを適当なクラスタに分けた後、クラスタの平均を用いてうまい具合にデータがわかれるように調整させていくアルゴリズムです。\\\n",
        "https://qiita.com/g-k/items/0d5d22a12a4507ecbf11"
      ],
      "metadata": {
        "id": "f5MGMxrnEyE6"
      }
    },
    {
      "cell_type": "code",
      "source": [
        "import numpy as np\n",
        "import pandas as pd\n",
        "from gensim.models import KeyedVectors\n",
        "from sklearn.cluster import KMeans\n",
        "from tqdm import tqdm\n",
        "tqdm.pandas()\n",
        "\n",
        "\n",
        "\n",
        "\n",
        "countries_df = pd.read_csv('./countries.tsv', sep='\\t', names = ('cry', 'Country'))\n",
        "\n",
        "\n",
        "# モデルに含まれる国だけを抽出\n",
        "conclusion_model_countries = [country for country in countries_df['Country'].tolist() if country in model]\n",
        "countries_df = countries_df[countries_df['Country'].isin(conclusion_model_countries)].reset_index(drop=True)\n",
        "\n",
        "# 国ベクトルの取得\n",
        "countries_vec = [model[country] for country in countries_df['Country'].tolist()]\n",
        "\n",
        "# k-meansクラスタリング\n",
        "n = 5\n",
        "kmeans = KMeans(n_clusters=n, random_state=42)\n",
        "kmeans.fit(countries_vec)\n",
        "for i in range(n):\n",
        "  cluster = np.where(kmeans.labels_ == i)[0]\n",
        "  print(f'cluster: {i}')\n",
        "  print(countries_df.iloc[cluster][\"Country\"].tolist())"
      ],
      "metadata": {
        "colab": {
          "base_uri": "https://localhost:8080/"
        },
        "id": "5dzkSgVAGPt3",
        "outputId": "33cb0316-0a53-4cd0-afee-7cf1fb410827"
      },
      "execution_count": null,
      "outputs": [
        {
          "output_type": "stream",
          "name": "stdout",
          "text": [
            "cluster: 0\n",
            "['Angola', 'Burundi', 'Benin', 'Botswana', 'Cameroon', 'Comoros', 'Djibouti', 'Algeria', 'Egypt', 'Eritrea', 'Ethiopia', 'Gabon', 'Ghana', 'Guinea', 'Gambia', 'Kenya', 'Lebanon', 'Liberia', 'Libya', 'Lesotho', 'Morocco', 'Madagascar', 'Mali', 'Mozambique', 'Mauritania', 'Malawi', 'Namibia', 'Niger', 'Nigeria', 'Rwanda', 'Sudan', 'Senegal', 'Somalia', 'Seychelles', 'Chad', 'Togo', 'Tunisia', 'Uganda', 'Yemen', 'Zambia', 'Zimbabwe']\n",
            "cluster: 1\n",
            "['Afghanistan', 'Australia', 'Bangladesh', 'Bahrain', 'Bhutan', 'China', 'Indonesia', 'India', 'Iraq', 'Japan', 'Kazakhstan', 'Kyrgyzstan', 'Cambodia', 'Kuwait', 'Macao', 'Myanmar', 'Mongolia', 'Malaysia', 'Nepal', 'Oman', 'Pakistan', 'Philippines', 'Qatar', 'Singapore', 'Thailand', 'Tajikistan', 'Turkmenistan', 'Taiwan', 'Uzbekistan']\n",
            "cluster: 2\n",
            "['Fiji', 'Guam', 'Kiribati', 'Maldives', 'Mayotte', 'Niue', 'Nauru', 'Pitcairn', 'Palau', 'Tokelau', 'Tonga', 'Tuvalu', 'Vanuatu', 'Samoa']\n",
            "cluster: 3\n",
            "['Aruba', 'Anguilla', 'Argentina', 'Antarctica', 'Bahamas', 'Belize', 'Bermuda', 'Brazil', 'Barbados', 'Canada', 'Chile', 'Colombia', 'Cuba', 'Curaçao', 'Dominica', 'Ecuador', 'Spain', 'Guernsey', 'Gibraltar', 'Guadeloupe', 'Grenada', 'Guatemala', 'Guyana', 'Honduras', 'Haiti', 'Jamaica', 'Jersey', 'Jordan', 'Monaco', 'Mexico', 'Montserrat', 'Martinique', 'Mauritius', 'Nicaragua', 'Panama', 'Peru', 'Paraguay', 'Réunion', 'Suriname', 'Uruguay']\n",
            "cluster: 4\n",
            "['Albania', 'Andorra', 'Armenia', 'Austria', 'Azerbaijan', 'Belgium', 'Bulgaria', 'Belarus', 'Switzerland', 'Cyprus', 'Czechia', 'Germany', 'Denmark', 'Estonia', 'Finland', 'France', 'Georgia', 'Greece', 'Greenland', 'Croatia', 'Hungary', 'Ireland', 'Iceland', 'Israel', 'Italy', 'Liechtenstein', 'Lithuania', 'Luxembourg', 'Latvia', 'Malta', 'Montenegro', 'Netherlands', 'Norway', 'Poland', 'Portugal', 'Romania', 'Serbia', 'Slovakia', 'Slovenia', 'Sweden', 'Turkey', 'Ukraine']\n"
          ]
        }
      ]
    },
    {
      "cell_type": "markdown",
      "source": [
        "##68. Ward法によるクラスタリング\n",
        "国名に関する単語ベクトルに対し，Ward法による階層型クラスタリングを実行せよ．さらに，クラスタリング結果をデンドログラムとして可視化せよ．"
      ],
      "metadata": {
        "id": "E3BZj2-t9pIQ"
      }
    },
    {
      "cell_type": "markdown",
      "source": [
        "Ward：最も似ている組み合わせから順番にまとまり（クラスター）にしていく方法で、途中過程が階層のように表せ、最終的に図10のような樹形図（デンドログラム）ができます。結合後の代表点は二点の重心である。\\\n",
        "https://www.albert2005.co.jp/knowledge/data_mining/cluster/hierarchical_clustering"
      ],
      "metadata": {
        "id": "Zga7s_tNKhGb"
      }
    },
    {
      "cell_type": "code",
      "source": [
        "import numpy as np\n",
        "import pandas as pd\n",
        "from gensim.models import KeyedVectors\n",
        "from sklearn.cluster import KMeans\n",
        "from matplotlib import pyplot as plt\n",
        "from scipy.cluster.hierarchy import dendrogram, linkage\n",
        "\n",
        "\n",
        "# Ward法によるクラスタリング\n",
        "plt.figure(figsize=(15, 5))\n",
        "Z = linkage(countries_vec, method='ward')\n",
        "dendrogram(Z, labels=countries_df['Country'].tolist())\n",
        "\n",
        "\n",
        "plt.show()"
      ],
      "metadata": {
        "colab": {
          "base_uri": "https://localhost:8080/",
          "height": 306
        },
        "id": "SrJRlYawK6eH",
        "outputId": "20f12bf2-4164-4c54-8192-b56a54676d93"
      },
      "execution_count": null,
      "outputs": [
        {
          "output_type": "display_data",
          "data": {
            "text/plain": [
              "<Figure size 432x288 with 1 Axes>"
            ],
            "image/png": "[encoded data removed]"
          },
          "metadata": {
            "needs_background": "light"
          }
        },
        {
          "output_type": "display_data",
          "data": {
            "text/plain": [
              "<Figure size 1080x360 with 0 Axes>"
            ]
          },
          "metadata": {}
        }
      ]
    },
    {
      "cell_type": "markdown",
      "source": [
        "##69. t-SNEによる可視化\n",
        "ベクトル空間上の国名に関する単語ベクトルをt-SNEで可視化せよ．"
      ],
      "metadata": {
        "id": "1Up5mbx8-Bsm"
      }
    },
    {
      "cell_type": "markdown",
      "source": [
        "t-sne：高次元データを2次元又は3次元に変換して可視化するための次元削減アルゴリズム\\\n",
        "https://qiita.com/g-k/items/120f1cf85ff2ceae4aba"
      ],
      "metadata": {
        "id": "ZUXytkMfDSTy"
      }
    },
    {
      "cell_type": "code",
      "source": [
        "!pip install bhtsne"
      ],
      "metadata": {
        "id": "MjZUW5Zi-BPH"
      },
      "execution_count": null,
      "outputs": []
    },
    {
      "cell_type": "code",
      "source": [
        "import bhtsne\n",
        "\n",
        "embedded = bhtsne.tsne(np.array(countries_vec).astype(np.float64), dimensions=2, rand_seed=123)\n",
        "plt.figure(figsize=(10, 10))\n",
        "plt.scatter(np.array(embedded).T[0], np.array(embedded).T[1])\n",
        "for (x, y), name in zip(embedded, countries):\n",
        "    plt.annotate(name, (x, y))\n",
        "plt.show()"
      ],
      "metadata": {
        "id": "1Fr9wtABDD3w"
      },
      "execution_count": null,
      "outputs": []
    },
    {
      "cell_type": "markdown",
      "source": [
        "参考文献：https://www.takapy.work/entry/2021/06/20/191606"
      ],
      "metadata": {
        "id": "qzuxsEQZCaYW"
      }
    }
  ]
}