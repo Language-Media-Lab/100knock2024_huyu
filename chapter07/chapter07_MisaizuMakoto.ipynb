{
 "cells": [
  {
   "cell_type": "code",
   "execution_count": 57,
   "metadata": {
    "_cell_guid": "b1076dfc-b9ad-4769-8c92-a6c4dae69d19",
    "_uuid": "8f2839f25d086af736a60e9eeb907d3b93b6e0e5",
    "execution": {
     "iopub.execute_input": "2024-11-14T04:55:21.142362Z",
     "iopub.status.busy": "2024-11-14T04:55:21.141905Z",
     "iopub.status.idle": "2024-11-14T04:55:30.059091Z",
     "shell.execute_reply": "2024-11-14T04:55:30.058015Z",
     "shell.execute_reply.started": "2024-11-14T04:55:21.142312Z"
    },
    "trusted": true
   },
   "outputs": [],
   "source": [
    "from pathlib import Path\n",
    "\n",
    "import numpy as np\n",
    "import polars as pl\n",
    "import matplotlib.pyplot as plt\n",
    "import matplotlib_fontja\n",
    "from scipy.stats import spearmanr\n",
    "from scipy.cluster.hierarchy import linkage, dendrogram\n",
    "from gensim.models import KeyedVectors\n",
    "from gensim.models.keyedvectors import KeyedVectors as Vectors\n",
    "from tqdm import tqdm\n",
    "from sklearn.cluster import KMeans\n",
    "from sklearn.manifold import TSNE\n",
    "\n",
    "BASE_PATH = Path('./')\n"
   ]
  },
  {
   "cell_type": "markdown",
   "metadata": {},
   "source": [
    "## 60"
   ]
  },
  {
   "cell_type": "code",
   "execution_count": 7,
   "metadata": {
    "execution": {
     "iopub.execute_input": "2024-11-14T04:55:30.061405Z",
     "iopub.status.busy": "2024-11-14T04:55:30.060846Z",
     "iopub.status.idle": "2024-11-14T04:56:24.287856Z",
     "shell.execute_reply": "2024-11-14T04:56:24.286889Z",
     "shell.execute_reply.started": "2024-11-14T04:55:30.061367Z"
    },
    "trusted": true
   },
   "outputs": [
    {
     "data": {
      "text/plain": [
       "array([-3.61328125e-02, -4.83398438e-02,  2.35351562e-01,  1.74804688e-01,\n",
       "       -1.46484375e-01, -7.42187500e-02, -1.01562500e-01, -7.71484375e-02,\n",
       "        1.09375000e-01, -5.71289062e-02, -1.48437500e-01, -6.00585938e-02,\n",
       "        1.74804688e-01, -7.71484375e-02,  2.58789062e-02, -7.66601562e-02,\n",
       "       -3.80859375e-02,  1.35742188e-01,  3.75976562e-02, -4.19921875e-02,\n",
       "       -3.56445312e-02,  5.34667969e-02,  3.68118286e-04, -1.66992188e-01,\n",
       "       -1.17187500e-01,  1.41601562e-01, -1.69921875e-01, -6.49414062e-02,\n",
       "       -1.66992188e-01,  1.00585938e-01,  1.15722656e-01, -2.18750000e-01,\n",
       "       -9.86328125e-02, -2.56347656e-02,  1.23046875e-01, -3.54003906e-02,\n",
       "       -1.58203125e-01, -1.60156250e-01,  2.94189453e-02,  8.15429688e-02,\n",
       "        6.88476562e-02,  1.87500000e-01,  6.49414062e-02,  1.15234375e-01,\n",
       "       -2.27050781e-02,  3.32031250e-01, -3.27148438e-02,  1.77734375e-01,\n",
       "       -2.08007812e-01,  4.54101562e-02, -1.23901367e-02,  1.19628906e-01,\n",
       "        7.44628906e-03, -9.03320312e-03,  1.14257812e-01,  1.69921875e-01,\n",
       "       -2.38281250e-01, -2.79541016e-02, -1.21093750e-01,  2.47802734e-02,\n",
       "        7.71484375e-02, -2.81982422e-02, -4.71191406e-02,  1.78222656e-02,\n",
       "       -1.23046875e-01, -5.32226562e-02,  2.68554688e-02, -3.11279297e-02,\n",
       "       -5.59082031e-02, -5.00488281e-02, -3.73535156e-02,  1.25976562e-01,\n",
       "        5.61523438e-02,  1.51367188e-01,  4.29687500e-02, -2.08007812e-01,\n",
       "       -4.78515625e-02,  2.78320312e-02,  1.81640625e-01,  2.20703125e-01,\n",
       "       -3.61328125e-02, -8.39843750e-02, -3.69548798e-05, -9.52148438e-02,\n",
       "       -1.25000000e-01, -1.95312500e-01, -1.50390625e-01, -4.15039062e-02,\n",
       "        1.31835938e-01,  1.17675781e-01,  1.91650391e-02,  5.51757812e-02,\n",
       "       -9.42382812e-02, -1.08886719e-01,  7.32421875e-02, -1.15234375e-01,\n",
       "        8.93554688e-02, -1.40625000e-01,  1.45507812e-01,  4.49218750e-02,\n",
       "       -1.10473633e-02, -1.62353516e-02,  4.05883789e-03,  3.75976562e-02,\n",
       "       -6.98242188e-02, -5.46875000e-02,  2.17285156e-02, -9.47265625e-02,\n",
       "        4.24804688e-02,  1.81884766e-02, -1.73339844e-02,  4.63867188e-02,\n",
       "       -1.42578125e-01,  1.99218750e-01,  1.10839844e-01,  2.58789062e-02,\n",
       "       -7.08007812e-02, -5.54199219e-02,  3.45703125e-01,  1.61132812e-01,\n",
       "       -2.44140625e-01, -2.59765625e-01, -9.71679688e-02,  8.00781250e-02,\n",
       "       -8.78906250e-02, -7.22656250e-02,  1.42578125e-01, -8.54492188e-02,\n",
       "       -3.18359375e-01,  8.30078125e-02,  6.34765625e-02,  1.64062500e-01,\n",
       "       -1.92382812e-01, -1.17675781e-01, -5.41992188e-02, -1.56250000e-01,\n",
       "       -1.21582031e-01, -4.95605469e-02,  1.20117188e-01, -3.83300781e-02,\n",
       "        5.51757812e-02, -8.97216797e-03,  4.32128906e-02,  6.93359375e-02,\n",
       "        8.93554688e-02,  2.53906250e-01,  1.65039062e-01,  1.64062500e-01,\n",
       "       -1.41601562e-01,  4.58984375e-02,  1.97265625e-01, -8.98437500e-02,\n",
       "        3.90625000e-02, -1.51367188e-01, -8.60595703e-03, -1.17675781e-01,\n",
       "       -1.97265625e-01, -1.12792969e-01,  1.29882812e-01,  1.96289062e-01,\n",
       "        1.56402588e-03,  3.93066406e-02,  2.17773438e-01, -1.43554688e-01,\n",
       "        6.03027344e-02, -1.35742188e-01,  1.16210938e-01, -1.59912109e-02,\n",
       "        2.79296875e-01,  1.46484375e-01, -1.19628906e-01,  1.76757812e-01,\n",
       "        1.28906250e-01, -1.49414062e-01,  6.93359375e-02, -1.72851562e-01,\n",
       "        9.22851562e-02,  1.33056641e-02, -2.00195312e-01, -9.76562500e-02,\n",
       "       -1.65039062e-01, -2.46093750e-01, -2.35595703e-02, -2.11914062e-01,\n",
       "        1.84570312e-01, -1.85546875e-02,  2.16796875e-01,  5.05371094e-02,\n",
       "        2.02636719e-02,  4.25781250e-01,  1.28906250e-01, -2.77099609e-02,\n",
       "        1.29882812e-01, -1.15722656e-01, -2.05078125e-02,  1.49414062e-01,\n",
       "        7.81250000e-03, -2.05078125e-01, -8.05664062e-02, -2.67578125e-01,\n",
       "       -2.29492188e-02, -8.20312500e-02,  8.64257812e-02,  7.61718750e-02,\n",
       "       -3.66210938e-02,  5.22460938e-02, -1.22070312e-01, -1.44042969e-02,\n",
       "       -2.69531250e-01,  8.44726562e-02, -2.52685547e-02, -2.96630859e-02,\n",
       "       -1.68945312e-01,  1.93359375e-01, -1.08398438e-01,  1.94091797e-02,\n",
       "       -1.80664062e-01,  1.93359375e-01, -7.08007812e-02,  5.85937500e-02,\n",
       "       -1.01562500e-01, -1.31835938e-01,  7.51953125e-02, -7.66601562e-02,\n",
       "        3.37219238e-03, -8.59375000e-02,  1.25000000e-01,  2.92968750e-02,\n",
       "        1.70898438e-01, -9.37500000e-02, -1.09375000e-01, -2.50244141e-02,\n",
       "        2.11914062e-01, -4.44335938e-02,  6.12792969e-02,  2.62451172e-02,\n",
       "       -1.77734375e-01,  1.23046875e-01, -7.42187500e-02, -1.67968750e-01,\n",
       "       -1.08886719e-01, -9.04083252e-04, -7.37304688e-02,  5.49316406e-02,\n",
       "        6.03027344e-02,  8.39843750e-02,  9.17968750e-02, -1.32812500e-01,\n",
       "        1.22070312e-01, -8.78906250e-03,  1.19140625e-01, -1.94335938e-01,\n",
       "       -6.64062500e-02, -2.07031250e-01,  7.37304688e-02,  8.93554688e-02,\n",
       "        1.81884766e-02, -1.20605469e-01, -2.61230469e-02,  2.67333984e-02,\n",
       "        7.76367188e-02, -8.30078125e-02,  6.78710938e-02, -3.54003906e-02,\n",
       "        3.10546875e-01, -2.42919922e-02, -1.41601562e-01, -2.08007812e-01,\n",
       "       -4.57763672e-03, -6.54296875e-02, -4.95605469e-02,  2.22656250e-01,\n",
       "        1.53320312e-01, -1.38671875e-01, -5.24902344e-02,  4.24804688e-02,\n",
       "       -2.38281250e-01,  1.56250000e-01,  5.83648682e-04, -1.20605469e-01,\n",
       "       -9.22851562e-02, -4.44335938e-02,  3.61328125e-02, -1.86767578e-02,\n",
       "       -8.25195312e-02, -8.25195312e-02, -4.05273438e-02,  1.19018555e-02,\n",
       "        1.69921875e-01, -2.80761719e-02,  3.03649902e-03,  9.32617188e-02,\n",
       "       -8.49609375e-02,  1.57470703e-02,  7.03125000e-02,  1.62353516e-02,\n",
       "       -2.27050781e-02,  3.51562500e-02,  2.47070312e-01, -2.67333984e-02],\n",
       "      dtype=float32)"
      ]
     },
     "execution_count": 7,
     "metadata": {},
     "output_type": "execute_result"
    }
   ],
   "source": [
    "model: Vectors = KeyedVectors.load_word2vec_format(BASE_PATH / 'GoogleNews-vectors-negative300.bin', binary=True)\n",
    "model.get_vector('United_States')\n"
   ]
  },
  {
   "cell_type": "markdown",
   "metadata": {},
   "source": [
    "## 61"
   ]
  },
  {
   "cell_type": "code",
   "execution_count": 8,
   "metadata": {
    "execution": {
     "iopub.execute_input": "2024-11-14T04:56:24.289539Z",
     "iopub.status.busy": "2024-11-14T04:56:24.289164Z",
     "iopub.status.idle": "2024-11-14T04:56:24.297299Z",
     "shell.execute_reply": "2024-11-14T04:56:24.296130Z",
     "shell.execute_reply.started": "2024-11-14T04:56:24.289505Z"
    },
    "trusted": true
   },
   "outputs": [
    {
     "data": {
      "text/plain": [
       "0.73107743"
      ]
     },
     "execution_count": 8,
     "metadata": {},
     "output_type": "execute_result"
    }
   ],
   "source": [
    "model.similarity('United_States', 'U.S.')\n"
   ]
  },
  {
   "cell_type": "markdown",
   "metadata": {},
   "source": [
    "## 62"
   ]
  },
  {
   "cell_type": "code",
   "execution_count": 9,
   "metadata": {
    "execution": {
     "iopub.execute_input": "2024-11-14T04:56:24.299907Z",
     "iopub.status.busy": "2024-11-14T04:56:24.299563Z",
     "iopub.status.idle": "2024-11-14T04:56:26.784686Z",
     "shell.execute_reply": "2024-11-14T04:56:26.783491Z",
     "shell.execute_reply.started": "2024-11-14T04:56:24.299873Z"
    },
    "trusted": true
   },
   "outputs": [
    {
     "data": {
      "text/plain": [
       "[('Unites_States', 0.7877248525619507),\n",
       " ('Untied_States', 0.7541370987892151),\n",
       " ('United_Sates', 0.7400724291801453),\n",
       " ('U.S.', 0.7310774326324463),\n",
       " ('theUnited_States', 0.6404393911361694),\n",
       " ('America', 0.6178410053253174),\n",
       " ('UnitedStates', 0.6167312264442444),\n",
       " ('Europe', 0.6132988929748535),\n",
       " ('countries', 0.6044804453849792),\n",
       " ('Canada', 0.601906955242157)]"
      ]
     },
     "execution_count": 9,
     "metadata": {},
     "output_type": "execute_result"
    }
   ],
   "source": [
    "model.similar_by_key('United_States')\n"
   ]
  },
  {
   "cell_type": "markdown",
   "metadata": {},
   "source": [
    "## 63"
   ]
  },
  {
   "cell_type": "code",
   "execution_count": 10,
   "metadata": {
    "execution": {
     "iopub.execute_input": "2024-11-14T04:56:26.788816Z",
     "iopub.status.busy": "2024-11-14T04:56:26.788151Z",
     "iopub.status.idle": "2024-11-14T04:56:27.035827Z",
     "shell.execute_reply": "2024-11-14T04:56:27.034702Z",
     "shell.execute_reply.started": "2024-11-14T04:56:26.788728Z"
    },
    "trusted": true
   },
   "outputs": [
    {
     "data": {
      "text/plain": [
       "[('Athens', 0.7528455853462219),\n",
       " ('Greece', 0.6685472130775452),\n",
       " ('Aristeidis_Grigoriadis', 0.5495778322219849),\n",
       " ('Ioannis_Drymonakos', 0.5361457467079163),\n",
       " ('Greeks', 0.5351786017417908),\n",
       " ('Ioannis_Christou', 0.5330225825309753),\n",
       " ('Hrysopiyi_Devetzi', 0.5088489055633545),\n",
       " ('Iraklion', 0.5059264302253723),\n",
       " ('Greek', 0.5040615797042847),\n",
       " ('Athens_Greece', 0.5034108757972717)]"
      ]
     },
     "execution_count": 10,
     "metadata": {},
     "output_type": "execute_result"
    }
   ],
   "source": [
    "spain = model.get_vector('Spain')\n",
    "madrid = model.get_vector('Madrid')\n",
    "athens = model.get_vector('Athens')\n",
    "\n",
    "res = spain - madrid + athens\n",
    "model.similar_by_key(res)\n"
   ]
  },
  {
   "cell_type": "markdown",
   "metadata": {},
   "source": [
    "## 64"
   ]
  },
  {
   "cell_type": "code",
   "execution_count": 33,
   "metadata": {
    "execution": {
     "iopub.execute_input": "2024-11-14T04:56:27.038521Z",
     "iopub.status.busy": "2024-11-14T04:56:27.037698Z",
     "iopub.status.idle": "2024-11-14T06:02:59.387948Z",
     "shell.execute_reply": "2024-11-14T06:02:59.384057Z",
     "shell.execute_reply.started": "2024-11-14T04:56:27.038469Z"
    },
    "trusted": true
   },
   "outputs": [
    {
     "name": "stderr",
     "output_type": "stream",
     "text": [
      "  0%|          | 0/19558 [00:00<?, ?it/s]"
     ]
    },
    {
     "name": "stderr",
     "output_type": "stream",
     "text": [
      "100%|██████████| 19558/19558 [41:45<00:00,  7.81it/s]\n"
     ]
    }
   ],
   "source": [
    "with open(BASE_PATH / 'questions-words.txt') as f:\n",
    "    data = [i.rstrip().split() for i in f.readlines()]\n",
    "\n",
    "category = ''\n",
    "categories = []\n",
    "word1 = []\n",
    "word2 = []\n",
    "word3 = []\n",
    "word4 = []\n",
    "pred = []\n",
    "similarity = []\n",
    "for d in tqdm(data):\n",
    "    if len(d) == 2:\n",
    "        category = d[1]\n",
    "    else:\n",
    "        w1, w2, w3, w4 = d\n",
    "        word1.append(w1)\n",
    "        word2.append(w2)\n",
    "        word3.append(w3)\n",
    "        word4.append(w4)\n",
    "        categories.append(category)\n",
    "\n",
    "        p = model.most_similar(positive=[w2, w3], negative=[w1], topn=1)[0]\n",
    "        pred.append(p[0])\n",
    "        similarity.append(p[1])\n"
   ]
  },
  {
   "cell_type": "code",
   "execution_count": 34,
   "metadata": {
    "execution": {
     "iopub.execute_input": "2024-11-14T06:02:59.393564Z",
     "iopub.status.busy": "2024-11-14T06:02:59.392376Z",
     "iopub.status.idle": "2024-11-14T06:02:59.504623Z",
     "shell.execute_reply": "2024-11-14T06:02:59.503517Z",
     "shell.execute_reply.started": "2024-11-14T06:02:59.393495Z"
    },
    "trusted": true
   },
   "outputs": [
    {
     "data": {
      "text/html": [
       "<div><style>\n",
       ".dataframe > thead > tr,\n",
       ".dataframe > tbody > tr {\n",
       "  text-align: right;\n",
       "  white-space: pre-wrap;\n",
       "}\n",
       "</style>\n",
       "<small>shape: (5, 7)</small><table border=\"1\" class=\"dataframe\"><thead><tr><th>1st word</th><th>2nd word</th><th>3rd word</th><th>y_true</th><th>category</th><th>y_pred</th><th>similarity</th></tr><tr><td>str</td><td>str</td><td>str</td><td>str</td><td>str</td><td>str</td><td>f64</td></tr></thead><tbody><tr><td>&quot;Athens&quot;</td><td>&quot;Greece&quot;</td><td>&quot;Baghdad&quot;</td><td>&quot;Iraq&quot;</td><td>&quot;capital-common-countries&quot;</td><td>&quot;Iraqi&quot;</td><td>0.635187</td></tr><tr><td>&quot;Athens&quot;</td><td>&quot;Greece&quot;</td><td>&quot;Bangkok&quot;</td><td>&quot;Thailand&quot;</td><td>&quot;capital-common-countries&quot;</td><td>&quot;Thailand&quot;</td><td>0.713767</td></tr><tr><td>&quot;Athens&quot;</td><td>&quot;Greece&quot;</td><td>&quot;Beijing&quot;</td><td>&quot;China&quot;</td><td>&quot;capital-common-countries&quot;</td><td>&quot;China&quot;</td><td>0.723578</td></tr><tr><td>&quot;Athens&quot;</td><td>&quot;Greece&quot;</td><td>&quot;Berlin&quot;</td><td>&quot;Germany&quot;</td><td>&quot;capital-common-countries&quot;</td><td>&quot;Germany&quot;</td><td>0.673462</td></tr><tr><td>&quot;Athens&quot;</td><td>&quot;Greece&quot;</td><td>&quot;Bern&quot;</td><td>&quot;Switzerland&quot;</td><td>&quot;capital-common-countries&quot;</td><td>&quot;Switzerland&quot;</td><td>0.491975</td></tr></tbody></table></div>"
      ],
      "text/plain": [
       "shape: (5, 7)\n",
       "┌──────────┬──────────┬──────────┬─────────────┬────────────────────────┬─────────────┬────────────┐\n",
       "│ 1st word ┆ 2nd word ┆ 3rd word ┆ y_true      ┆ category               ┆ y_pred      ┆ similarity │\n",
       "│ ---      ┆ ---      ┆ ---      ┆ ---         ┆ ---                    ┆ ---         ┆ ---        │\n",
       "│ str      ┆ str      ┆ str      ┆ str         ┆ str                    ┆ str         ┆ f64        │\n",
       "╞══════════╪══════════╪══════════╪═════════════╪════════════════════════╪═════════════╪════════════╡\n",
       "│ Athens   ┆ Greece   ┆ Baghdad  ┆ Iraq        ┆ capital-common-countri ┆ Iraqi       ┆ 0.635187   │\n",
       "│          ┆          ┆          ┆             ┆ es                     ┆             ┆            │\n",
       "│ Athens   ┆ Greece   ┆ Bangkok  ┆ Thailand    ┆ capital-common-countri ┆ Thailand    ┆ 0.713767   │\n",
       "│          ┆          ┆          ┆             ┆ es                     ┆             ┆            │\n",
       "│ Athens   ┆ Greece   ┆ Beijing  ┆ China       ┆ capital-common-countri ┆ China       ┆ 0.723578   │\n",
       "│          ┆          ┆          ┆             ┆ es                     ┆             ┆            │\n",
       "│ Athens   ┆ Greece   ┆ Berlin   ┆ Germany     ┆ capital-common-countri ┆ Germany     ┆ 0.673462   │\n",
       "│          ┆          ┆          ┆             ┆ es                     ┆             ┆            │\n",
       "│ Athens   ┆ Greece   ┆ Bern     ┆ Switzerland ┆ capital-common-countri ┆ Switzerland ┆ 0.491975   │\n",
       "│          ┆          ┆          ┆             ┆ es                     ┆             ┆            │\n",
       "└──────────┴──────────┴──────────┴─────────────┴────────────────────────┴─────────────┴────────────┘"
      ]
     },
     "metadata": {},
     "output_type": "display_data"
    }
   ],
   "source": [
    "df = pl.DataFrame({\n",
    "    '1st word': word1,\n",
    "    '2nd word': word2,\n",
    "    '3rd word': word3,\n",
    "    'y_true': word4,\n",
    "    'category': categories,\n",
    "    'y_pred': pred,\n",
    "    'similarity': similarity,\n",
    "})\n",
    "\n",
    "display(df.head())\n"
   ]
  },
  {
   "cell_type": "markdown",
   "metadata": {},
   "source": [
    "## 65"
   ]
  },
  {
   "cell_type": "code",
   "execution_count": 35,
   "metadata": {
    "execution": {
     "iopub.execute_input": "2024-11-14T06:23:54.339982Z",
     "iopub.status.busy": "2024-11-14T06:23:54.339482Z",
     "iopub.status.idle": "2024-11-14T06:23:54.350977Z",
     "shell.execute_reply": "2024-11-14T06:23:54.349890Z",
     "shell.execute_reply.started": "2024-11-14T06:23:54.339941Z"
    },
    "trusted": true
   },
   "outputs": [
    {
     "name": "stdout",
     "output_type": "stream",
     "text": [
      "0.7308602999210734\n",
      "0.7400468384074942\n"
     ]
    }
   ],
   "source": [
    "se_df = df.filter(~pl.col('category').str.contains('gram'))\n",
    "sy_df = df.filter(pl.col('category').str.contains('gram'))\n",
    "print(np.sum((se_df['y_true'] == se_df['y_pred']).to_numpy())/len(se_df))\n",
    "print(np.sum((sy_df['y_true'] == sy_df['y_pred']).to_numpy())/len(sy_df))\n"
   ]
  },
  {
   "cell_type": "markdown",
   "metadata": {},
   "source": [
    "## 66"
   ]
  },
  {
   "cell_type": "code",
   "execution_count": 39,
   "metadata": {},
   "outputs": [
    {
     "data": {
      "text/plain": [
       "SignificanceResult(statistic=0.7000166486272194, pvalue=2.86866666051422e-53)"
      ]
     },
     "execution_count": 39,
     "metadata": {},
     "output_type": "execute_result"
    }
   ],
   "source": [
    "combined_df = pl.read_csv('./wordsim353/combined.csv')\n",
    "\n",
    "word_1 = combined_df['Word 1']\n",
    "word_2 = combined_df['Word 2']\n",
    "gensim_pred = []\n",
    "for i in range(len(word_1)):\n",
    "  w1, w2 = word_1[i], word_2[i]\n",
    "  p = model.similarity(w1, w2)\n",
    "  gensim_pred.append(p)\n",
    "\n",
    "spearmanr(combined_df['Human (mean)'], gensim_pred)\n"
   ]
  },
  {
   "cell_type": "markdown",
   "metadata": {},
   "source": [
    "## 67"
   ]
  },
  {
   "cell_type": "code",
   "execution_count": null,
   "metadata": {},
   "outputs": [
    {
     "data": {
      "text/plain": [
       "[['Tunisia',\n",
       "  'Taiwan',\n",
       "  'Pakistan',\n",
       "  'Indonesia',\n",
       "  'Iraq',\n",
       "  'India',\n",
       "  'Oman',\n",
       "  'Cuba',\n",
       "  'Syria',\n",
       "  'Malaysia',\n",
       "  'Afghanistan',\n",
       "  'Libya',\n",
       "  'Lebanon',\n",
       "  'Jordan',\n",
       "  'Bangladesh',\n",
       "  'Sudan',\n",
       "  'Korea',\n",
       "  'Algeria',\n",
       "  'Somalia',\n",
       "  'Bhutan',\n",
       "  'Philippines',\n",
       "  'Nicaragua',\n",
       "  'Nepal',\n",
       "  'Egypt',\n",
       "  'China',\n",
       "  'Vietnam',\n",
       "  'Thailand',\n",
       "  'Eritrea',\n",
       "  'Iran',\n",
       "  'Qatar',\n",
       "  'Peru',\n",
       "  'Cambodia',\n",
       "  'Venezuela',\n",
       "  'Morocco',\n",
       "  'Bahrain',\n",
       "  'Laos'],\n",
       " ['Uzbekistan',\n",
       "  'Kyrgyzstan',\n",
       "  'Russia',\n",
       "  'Ukraine',\n",
       "  'Moldova',\n",
       "  'Armenia',\n",
       "  'Tajikistan',\n",
       "  'Belarus',\n",
       "  'Kazakhstan',\n",
       "  'Turkmenistan',\n",
       "  'Azerbaijan'],\n",
       " ['Rwanda',\n",
       "  'Burundi',\n",
       "  'Ecuador',\n",
       "  'Liberia',\n",
       "  'Suriname',\n",
       "  'Jamaica',\n",
       "  'Zambia',\n",
       "  'Angola',\n",
       "  'Honduras',\n",
       "  'Gambia',\n",
       "  'Bahamas',\n",
       "  'Niger',\n",
       "  'Samoa',\n",
       "  'Ghana',\n",
       "  'Belize',\n",
       "  'Guyana',\n",
       "  'Zimbabwe',\n",
       "  'Dominica',\n",
       "  'Senegal',\n",
       "  'Nigeria',\n",
       "  'Madagascar',\n",
       "  'Guinea',\n",
       "  'Namibia',\n",
       "  'Fiji',\n",
       "  'Uganda',\n",
       "  'Mali',\n",
       "  'Gabon',\n",
       "  'Mozambique',\n",
       "  'Malawi',\n",
       "  'Kenya',\n",
       "  'Botswana',\n",
       "  'Mauritania'],\n",
       " ['Mexico',\n",
       "  'Japan',\n",
       "  'Norway',\n",
       "  'Australia',\n",
       "  'Greenland',\n",
       "  'Denmark',\n",
       "  'Georgia',\n",
       "  'Argentina',\n",
       "  'Portugal',\n",
       "  'Canada',\n",
       "  'Uruguay',\n",
       "  'Tuvalu',\n",
       "  'Sweden',\n",
       "  'Spain',\n",
       "  'Switzerland',\n",
       "  'Chile',\n",
       "  'France',\n",
       "  'Europe',\n",
       "  'Germany',\n",
       "  'Belgium',\n",
       "  'England',\n",
       "  'Ireland',\n",
       "  'Italy',\n",
       "  'USA',\n",
       "  'Finland',\n",
       "  'Brazil'],\n",
       " ['Macedonia',\n",
       "  'Hungary',\n",
       "  'Malta',\n",
       "  'Estonia',\n",
       "  'Croatia',\n",
       "  'Romania',\n",
       "  'Lithuania',\n",
       "  'Bulgaria',\n",
       "  'Slovakia',\n",
       "  'Austria',\n",
       "  'Slovenia',\n",
       "  'Albania',\n",
       "  'Serbia',\n",
       "  'Cyprus',\n",
       "  'Montenegro',\n",
       "  'Liechtenstein',\n",
       "  'Turkey',\n",
       "  'Greece',\n",
       "  'Poland',\n",
       "  'Latvia']]"
      ]
     },
     "execution_count": 51,
     "metadata": {},
     "output_type": "execute_result"
    }
   ],
   "source": [
    "with open('questions-words.txt') as f:\n",
    "  data_ = [i.rstrip().split() for i in f.readlines()]\n",
    "\n",
    "countries = set()\n",
    "flag = 0\n",
    "for d in data_:\n",
    "  if len(d) == 2:\n",
    "    if d[1] == 'city-in-state':\n",
    "      break\n",
    "\n",
    "    if d[1].startswith('capital'):\n",
    "      flag = 1\n",
    "    else:\n",
    "      flag = 0\n",
    "  else:\n",
    "    if flag:\n",
    "      _, c1, _, c2 = d\n",
    "    else:\n",
    "      c1, _, c2, _ = d\n",
    "\n",
    "    countries.add(c2)\n",
    "    countries.add(c1)\n",
    "\n",
    "countries = list(countries)\n",
    "countries_vector = [model.get_vector(c) for c in countries]\n",
    "\n",
    "kmeans = KMeans(n_clusters=5)\n",
    "\n",
    "res =  kmeans.fit(countries_vector)\n",
    "kmeans_cluster = [[] for _ in range(5)]\n",
    "for i, label in enumerate(res.labels_):\n",
    "  kmeans_cluster[label].append(countries[i])\n",
    "\n",
    "kmeans_cluster\n"
   ]
  },
  {
   "cell_type": "markdown",
   "metadata": {},
   "source": [
    "## 68"
   ]
  },
  {
   "cell_type": "code",
   "execution_count": 56,
   "metadata": {},
   "outputs": [
    {
     "data": {
      "image/png": "[encoded data removed]",
      "text/plain": [
       "<Figure size 640x480 with 1 Axes>"
      ]
     },
     "metadata": {},
     "output_type": "display_data"
    }
   ],
   "source": [
    "link = linkage(countries_vector, method='ward')\n",
    "dendrogram(link, labels=countries)\n",
    "plt.show()\n"
   ]
  },
  {
   "cell_type": "markdown",
   "metadata": {},
   "source": [
    "## 69"
   ]
  },
  {
   "cell_type": "code",
   "execution_count": 62,
   "metadata": {},
   "outputs": [
    {
     "data": {
      "image/png": "[encoded data removed]",
      "text/plain": [
       "<Figure size 640x480 with 1 Axes>"
      ]
     },
     "metadata": {},
     "output_type": "display_data"
    }
   ],
   "source": [
    "tsne = TSNE(random_state=42)\n",
    "res_tsne = tsne.fit_transform(np.array(countries_vector))\n",
    "\n",
    "plt.scatter(res_tsne[:, 0], res_tsne[:, 1])\n",
    "plt.show()\n"
   ]
  }
 ],
 "metadata": {
  "kaggle": {
   "accelerator": "none",
   "dataSources": [
    {
     "datasetId": 6065752,
     "sourceId": 9879550,
     "sourceType": "datasetVersion"
    },
    {
     "datasetId": 6075735,
     "sourceId": 9892587,
     "sourceType": "datasetVersion"
    }
   ],
   "dockerImageVersionId": 30786,
   "isGpuEnabled": false,
   "isInternetEnabled": true,
   "language": "python",
   "sourceType": "notebook"
  },
  "kernelspec": {
   "display_name": ".venv",
   "language": "python",
   "name": "python3"
  },
  "language_info": {
   "codemirror_mode": {
    "name": "ipython",
    "version": 3
   },
   "file_extension": ".py",
   "mimetype": "text/x-python",
   "name": "python",
   "nbconvert_exporter": "python",
   "pygments_lexer": "ipython3",
   "version": "3.11.10"
  }
 },
 "nbformat": 4,
 "nbformat_minor": 4
}
